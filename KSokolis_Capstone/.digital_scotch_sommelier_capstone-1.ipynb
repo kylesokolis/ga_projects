{
 "cells": [
  {
   "cell_type": "markdown",
   "metadata": {
    "toc": true
   },
   "source": [
    "<h1>Table of Contents<span class=\"tocSkip\"></span></h1>\n",
    "<div class=\"toc\"><ul class=\"toc-item\"><li><span><a href=\"#Digital-Scotch-Sommelier-Capstone\" data-toc-modified-id=\"Digital-Scotch-Sommelier-Capstone-1\"><span class=\"toc-item-num\">1&nbsp;&nbsp;</span>Digital Scotch Sommelier Capstone</a></span></li><li><span><a href=\"#Raw-Input-Questions\" data-toc-modified-id=\"Raw-Input-Questions-2\"><span class=\"toc-item-num\">2&nbsp;&nbsp;</span>Raw Input Questions</a></span><ul class=\"toc-item\"><li><span><a href=\"#--What-is-your-price-range?\" data-toc-modified-id=\"--What-is-your-price-range?-2.1\"><span class=\"toc-item-num\">2.1&nbsp;&nbsp;</span>- What is your price range?</a></span></li><li><span><a href=\"#--What-category-would-you-prefer?\" data-toc-modified-id=\"--What-category-would-you-prefer?-2.2\"><span class=\"toc-item-num\">2.2&nbsp;&nbsp;</span>- What category would you prefer?</a></span></li><li><span><a href=\"#--What-ABV-level-would-you-prefer?\" data-toc-modified-id=\"--What-ABV-level-would-you-prefer?-2.3\"><span class=\"toc-item-num\">2.3&nbsp;&nbsp;</span>- What ABV level would you prefer?</a></span></li><li><span><a href=\"#--What-tasting-notes-do-you-prefer?\" data-toc-modified-id=\"--What-tasting-notes-do-you-prefer?-2.4\"><span class=\"toc-item-num\">2.4&nbsp;&nbsp;</span>- What tasting notes do you prefer?</a></span></li></ul></li><li><span><a href=\"#Preference-Selection\" data-toc-modified-id=\"Preference-Selection-3\"><span class=\"toc-item-num\">3&nbsp;&nbsp;</span>Preference Selection</a></span></li><li><span><a href=\"#Recommendations\" data-toc-modified-id=\"Recommendations-4\"><span class=\"toc-item-num\">4&nbsp;&nbsp;</span>Recommendations</a></span></li></ul></div>"
   ]
  },
  {
   "cell_type": "markdown",
   "metadata": {
    "heading_collapsed": true
   },
   "source": [
    "# Digital Scotch Sommelier Capstone"
   ]
  },
  {
   "cell_type": "code",
   "execution_count": 1,
   "metadata": {
    "code_folding": [],
    "hidden": true
   },
   "outputs": [],
   "source": [
    "# Imports\n",
    "from __future__ import print_function\n",
    "\n",
    "import pandas as pd\n",
    "import re\n",
    "import numpy as np\n",
    "import seaborn as sns\n",
    "import decimal\n",
    "import ipywidgets as widgets\n",
    "import matplotlib.pyplot as plt\n",
    "import nltk\n",
    "\n",
    "from sklearn.model_selection import train_test_split, KFold, cross_val_score\n",
    "from sklearn.linear_model import LinearRegression\n",
    "from sklearn.metrics import r2_score\n",
    "from sklearn.ensemble import RandomForestRegressor\n",
    "from sklearn.model_selection import GridSearchCV, RandomizedSearchCV\n",
    "from sklearn.feature_extraction.text import CountVectorizer\n",
    "\n",
    "from bs4 import BeautifulSoup\n",
    "\n",
    "from nltk.tokenize import word_tokenize, regexp_tokenize\n",
    "from nltk.corpus import stopwords\n",
    "\n",
    "from ipywidgets import interact, interactive, fixed, interact_manual\n",
    "from ipywidgets import widgets, interact, interact_manual, fixed\n",
    "from IPython.display import display, clear_output, HTML\n",
    "\n",
    "sns.set()\n",
    "pd.options.mode.chained_assignment = None\n",
    "pd.set_option('display.max_colwidth', -1)\n",
    "pd.set_option('display.max_rows', None)\n",
    "%matplotlib inline"
   ]
  },
  {
   "cell_type": "code",
   "execution_count": null,
   "metadata": {
    "hidden": true
   },
   "outputs": [],
   "source": []
  },
  {
   "cell_type": "markdown",
   "metadata": {
    "heading_collapsed": true
   },
   "source": [
    "# Raw Input Questions"
   ]
  },
  {
   "cell_type": "markdown",
   "metadata": {
    "hidden": true
   },
   "source": [
    "---\n",
    "## - What is your price range? \n",
    "\n",
    "\n",
    "| Below 50 | 50 to 100 | 150 to 200 | 200 to 500 | Above 500 |\n",
    "|:--------:|:---------:|:----------:|:----------:|:---------:|\n",
    "\n",
    "---"
   ]
  },
  {
   "cell_type": "code",
   "execution_count": 2,
   "metadata": {
    "hidden": true
   },
   "outputs": [],
   "source": [
    "def price_range_f(price_range):\n",
    "    return price_range"
   ]
  },
  {
   "cell_type": "code",
   "execution_count": 3,
   "metadata": {
    "hidden": true
   },
   "outputs": [],
   "source": [
    "price_range = interactive(\n",
    "    price_range_f,\n",
    "    price_range=[\n",
    "        'Below 50', '50 to 100', '150 to 200', '200 to 500', 'Above 500'\n",
    "    ])"
   ]
  },
  {
   "cell_type": "markdown",
   "metadata": {
    "hidden": true
   },
   "source": [
    "---\n",
    "## - What category would you prefer?\n",
    "\n",
    "\n",
    "| Blended Scotch Whisky | Single Malt Scotch | Blended Malt Scotch Whisky | Grain Scotch Whisky | Single Grain Whisky |\n",
    "|:-:|:-:|:-:|:-:|:-:|\n",
    "\n",
    "---"
   ]
  },
  {
   "cell_type": "code",
   "execution_count": 4,
   "metadata": {
    "hidden": true
   },
   "outputs": [],
   "source": [
    "def category_f(category_range):\n",
    "    return category_range"
   ]
  },
  {
   "cell_type": "code",
   "execution_count": 5,
   "metadata": {
    "hidden": true
   },
   "outputs": [],
   "source": [
    "category_range = interactive(\n",
    "    category_f,\n",
    "    category_range=[\n",
    "        'Blended Scotch Whisky', 'Single Malt Scotch',\n",
    "        'Blended Malt Scotch Whisky', 'Grain Scotch Whisky',\n",
    "        'Single Grain Whisky'\n",
    "    ])"
   ]
  },
  {
   "cell_type": "markdown",
   "metadata": {
    "hidden": true
   },
   "source": [
    "\n",
    "---\n",
    "## - What ABV level would you prefer?\n",
    "\n",
    "| Below 40% | 40% | Above 40% |\n",
    "|:--------:|:---------:|:----------:|\n",
    "\n",
    "---\n"
   ]
  },
  {
   "cell_type": "code",
   "execution_count": 6,
   "metadata": {
    "hidden": true
   },
   "outputs": [],
   "source": [
    "def abv_range_f(abv_range):\n",
    "    return abv_range"
   ]
  },
  {
   "cell_type": "code",
   "execution_count": 7,
   "metadata": {
    "hidden": true
   },
   "outputs": [],
   "source": [
    "abv_range = interactive(\n",
    "    abv_range_f, abv_range=['40%', 'Below 40%', 'Above 40%'])"
   ]
  },
  {
   "cell_type": "markdown",
   "metadata": {
    "hidden": true
   },
   "source": [
    "\n",
    "---\n",
    "## - What tasting notes do you prefer?\n",
    "\n",
    "| taste |  taste |  taste |   taste  |  taste  |  taste |\n",
    "|:------:|:-------:|:------:|:--------:|:------:|:-------:|\n",
    "| earth |  fruit |  honey |   cream  |  malt  |  herbal |\n",
    "|  wood |  floral |  nutty |  ginger  | citrus | vanilla |\n",
    "|  spicy |  peaty  |   dry  |  toffee  | pepper | caramel |\n",
    "|  malt |  silk  | syrup |   toast  |   oil  |         |\n",
    "|  wine | cereal |  salty | cinnamon |  sweet |         |\n",
    "\n",
    "---\n",
    "---"
   ]
  },
  {
   "cell_type": "code",
   "execution_count": 8,
   "metadata": {
    "hidden": true
   },
   "outputs": [],
   "source": [
    "def taste_notes1(first_taste):\n",
    "    return first_taste"
   ]
  },
  {
   "cell_type": "code",
   "execution_count": 9,
   "metadata": {
    "hidden": true
   },
   "outputs": [],
   "source": [
    "def taste_notes2(second_taste):\n",
    "    return second_taste"
   ]
  },
  {
   "cell_type": "code",
   "execution_count": 10,
   "metadata": {
    "hidden": true
   },
   "outputs": [],
   "source": [
    "def taste_notes3(third_taste):\n",
    "    return third_taste"
   ]
  },
  {
   "cell_type": "code",
   "execution_count": 69,
   "metadata": {
    "hidden": true
   },
   "outputs": [],
   "source": [
    "first_taste = interactive(\n",
    "    taste_notes1,\n",
    "    first_taste=[\n",
    "        '', 'earth', 'wood', 'spice', 'malt', 'wine', 'fruit', 'floral', 'peat',\n",
    "        'silk', 'cereal', 'honey', 'nut', 'dry', 'syrup', 'salt', 'cream',\n",
    "        'ginger', 'toffee', 'toast', 'cinnamon', 'malt', 'citrus', 'pepper',\n",
    "        'oil', 'sweet', 'herbal', 'vanilla', 'caramel', 'chocolate'\n",
    "    ])"
   ]
  },
  {
   "cell_type": "code",
   "execution_count": 70,
   "metadata": {
    "hidden": true
   },
   "outputs": [],
   "source": [
    "second_taste = interactive(\n",
    "    taste_notes2,\n",
    "    second_taste=[\n",
    "        '', 'earth', 'wood', 'spice', 'malt', 'wine', 'fruit', 'floral', 'peat',\n",
    "        'silk', 'cereal', 'honey', 'nut', 'dry', 'syrup', 'salt', 'cream',\n",
    "        'ginger', 'toffee', 'toast', 'cinnamon', 'malt', 'citrus', 'pepper',\n",
    "        'oil', 'sweet', 'herbal', 'vanilla', 'caramel', 'chocolate'\n",
    "    ])"
   ]
  },
  {
   "cell_type": "code",
   "execution_count": 71,
   "metadata": {
    "hidden": true
   },
   "outputs": [],
   "source": [
    "third_taste = interactive(\n",
    "    taste_notes3,\n",
    "    third_taste=[\n",
    "        '', 'earth', 'wood', 'spice', 'malt', 'wine', 'fruit', 'floral', 'peat',\n",
    "        'silk', 'cereal', 'honey', 'nut', 'dry', 'syrup', 'salt', 'cream',\n",
    "        'ginger', 'toffee', 'toast', 'cinnamon', 'malt', 'citrus', 'pepper',\n",
    "        'oil', 'sweet', 'herbal', 'vanilla', 'caramel', 'chocolate'\n",
    "    ])"
   ]
  },
  {
   "cell_type": "code",
   "execution_count": null,
   "metadata": {
    "hidden": true
   },
   "outputs": [],
   "source": []
  },
  {
   "cell_type": "code",
   "execution_count": 14,
   "metadata": {
    "hidden": true
   },
   "outputs": [],
   "source": [
    "# Reading in the scotch reviews data received from Kaggle\n",
    "scotch = pd.read_csv('./dataset/scotch_review.csv')"
   ]
  },
  {
   "cell_type": "code",
   "execution_count": 15,
   "metadata": {
    "hidden": true
   },
   "outputs": [],
   "source": [
    "# scotch.head()"
   ]
  },
  {
   "cell_type": "code",
   "execution_count": 16,
   "metadata": {
    "hidden": true
   },
   "outputs": [],
   "source": [
    "# scotch['price']"
   ]
  },
  {
   "cell_type": "code",
   "execution_count": null,
   "metadata": {
    "hidden": true
   },
   "outputs": [],
   "source": []
  },
  {
   "cell_type": "code",
   "execution_count": null,
   "metadata": {
    "hidden": true
   },
   "outputs": [],
   "source": []
  },
  {
   "cell_type": "code",
   "execution_count": null,
   "metadata": {
    "hidden": true
   },
   "outputs": [],
   "source": []
  },
  {
   "cell_type": "code",
   "execution_count": 17,
   "metadata": {
    "hidden": true
   },
   "outputs": [],
   "source": [
    "# Dropping Unnamed: 0 due to being unneeded\n",
    "# and currency due to all are in USD\n",
    "scotch.drop(['Unnamed: 0', 'currency'], axis=1, inplace=True)"
   ]
  },
  {
   "cell_type": "code",
   "execution_count": 18,
   "metadata": {
    "hidden": true
   },
   "outputs": [],
   "source": [
    "# Verify correct columns have dropped\n",
    "# scotch.head()"
   ]
  },
  {
   "cell_type": "code",
   "execution_count": 19,
   "metadata": {
    "hidden": true
   },
   "outputs": [],
   "source": [
    "# Renaming column for simplicity\n",
    "scotch.rename(index=str, columns={'review.point': 'points'}, inplace=True)"
   ]
  },
  {
   "cell_type": "code",
   "execution_count": 20,
   "metadata": {
    "hidden": true,
    "scrolled": true
   },
   "outputs": [],
   "source": [
    "# Seeing the dtypes of each column\n",
    "# scotch.info()"
   ]
  },
  {
   "cell_type": "code",
   "execution_count": 21,
   "metadata": {
    "hidden": true
   },
   "outputs": [],
   "source": [
    "# Sorting the price\n",
    "# sorted(scotch.price)"
   ]
  },
  {
   "cell_type": "code",
   "execution_count": 22,
   "metadata": {
    "hidden": true
   },
   "outputs": [],
   "source": [
    "# Extracting and just the numbers from the price\n",
    "scotch['price'] = scotch['price'].str.extract('(\\d\\d\\d*|\\d)')\n",
    "# scotch['price']"
   ]
  },
  {
   "cell_type": "code",
   "execution_count": 23,
   "metadata": {
    "hidden": true
   },
   "outputs": [],
   "source": [
    "# Changing all strings to floats\n",
    "scotch['price'] = scotch['price'].astype(str).astype(float)"
   ]
  },
  {
   "cell_type": "code",
   "execution_count": 24,
   "metadata": {
    "hidden": true
   },
   "outputs": [],
   "source": [
    "# scotch.dtypes"
   ]
  },
  {
   "cell_type": "code",
   "execution_count": 25,
   "metadata": {
    "hidden": true
   },
   "outputs": [],
   "source": [
    "# scotch.shape"
   ]
  },
  {
   "cell_type": "code",
   "execution_count": 26,
   "metadata": {
    "hidden": true
   },
   "outputs": [],
   "source": [
    "# Finding all the scotches that have an abv associated\n",
    "# and breaking them into a new column\n",
    "\n",
    "scotch['abv'] = scotch['name'].str.extract('(\\d\\d%|\\d\\d.\\d%)')\n",
    "\n",
    "# print('%.1f%% of the scotches have an abv associated with them.' %((1-(scotch['abv'].isnull().sum()/len(scotch['abv'])))*100))"
   ]
  },
  {
   "cell_type": "code",
   "execution_count": 27,
   "metadata": {
    "hidden": true
   },
   "outputs": [],
   "source": [
    "# Since there are so few nan I will just drop them\n",
    "scotch['abv'].dropna(inplace=True)"
   ]
  },
  {
   "cell_type": "code",
   "execution_count": 28,
   "metadata": {
    "hidden": true
   },
   "outputs": [],
   "source": [
    "# Because abv was with the name column before, it was a string\n",
    "# Converted it to a float\n",
    "scotch['abv'] = scotch['abv'].astype(str).str[:-1].astype(float)"
   ]
  },
  {
   "cell_type": "code",
   "execution_count": 29,
   "metadata": {
    "hidden": true
   },
   "outputs": [],
   "source": [
    "# Finding the nan\n",
    "# scotch['abv'].isnull().sum()"
   ]
  },
  {
   "cell_type": "code",
   "execution_count": 30,
   "metadata": {
    "hidden": true
   },
   "outputs": [],
   "source": [
    "# Dropping the nan\n",
    "scotch['abv'].dropna(inplace=True)"
   ]
  },
  {
   "cell_type": "code",
   "execution_count": 31,
   "metadata": {
    "hidden": true
   },
   "outputs": [],
   "source": [
    "# Verifying nan drop\n",
    "# scotch['abv'].isnull().sum()"
   ]
  },
  {
   "cell_type": "code",
   "execution_count": 32,
   "metadata": {
    "hidden": true
   },
   "outputs": [],
   "source": [
    "# Another verification for fun\n",
    "# print('%.1f%% of the scotches have an abv associated with them.' %((1-(scotch['abv'].isnull().sum()/len(scotch['abv'])))*100))"
   ]
  },
  {
   "cell_type": "code",
   "execution_count": 33,
   "metadata": {
    "hidden": true
   },
   "outputs": [],
   "source": [
    "# scotch.head()"
   ]
  },
  {
   "cell_type": "code",
   "execution_count": 34,
   "metadata": {
    "hidden": true
   },
   "outputs": [],
   "source": [
    "# Separating prices into 6 understandable bins\n",
    "bins_price = [0, 50, 100, 150, 200, 500, np.inf]\n",
    "price = [\n",
    "    'Below 50', '50 to 100', '100 to 150', '150 to 200', '200 to 500',\n",
    "    'Above 500'\n",
    "]\n",
    "\n",
    "scotch['price_categories'] = pd.cut(scotch['price'], bins_price, labels=price)"
   ]
  },
  {
   "cell_type": "code",
   "execution_count": 35,
   "metadata": {
    "hidden": true
   },
   "outputs": [],
   "source": [
    "# Separating abv into 3 understandable bins\n",
    "bins_abv = [0, 39, 40, np.inf]\n",
    "abv = ['Below 40%', '40%', 'Above 40%']\n",
    "\n",
    "scotch['abv_categories'] = pd.cut(scotch['abv'], bins_abv, labels=abv)"
   ]
  },
  {
   "cell_type": "code",
   "execution_count": 36,
   "metadata": {
    "hidden": true,
    "scrolled": true
   },
   "outputs": [],
   "source": [
    "# scotch.shape"
   ]
  },
  {
   "cell_type": "code",
   "execution_count": 37,
   "metadata": {
    "hidden": true
   },
   "outputs": [],
   "source": [
    "scotch.drop_duplicates(keep='first', inplace=True)"
   ]
  },
  {
   "cell_type": "markdown",
   "metadata": {},
   "source": [
    "# Preference Selection"
   ]
  },
  {
   "cell_type": "code",
   "execution_count": 76,
   "metadata": {},
   "outputs": [
    {
     "data": {
      "application/vnd.jupyter.widget-view+json": {
       "model_id": "87b150b33960420eacb315f1df76fab2",
       "version_major": 2,
       "version_minor": 0
      },
      "text/plain": [
       "interactive(children=(Dropdown(description='price_range', options=('Below 50', '50 to 100', '150 to 200', '200…"
      ]
     },
     "metadata": {},
     "output_type": "display_data"
    },
    {
     "data": {
      "application/vnd.jupyter.widget-view+json": {
       "model_id": "9c9d2b310d4d4aaab766dd59f51c70c5",
       "version_major": 2,
       "version_minor": 0
      },
      "text/plain": [
       "interactive(children=(Dropdown(description='category_range', options=('Blended Scotch Whisky', 'Single Malt Sc…"
      ]
     },
     "metadata": {},
     "output_type": "display_data"
    },
    {
     "data": {
      "application/vnd.jupyter.widget-view+json": {
       "model_id": "3fcd4c69639e408ca497e781d547db8c",
       "version_major": 2,
       "version_minor": 0
      },
      "text/plain": [
       "interactive(children=(Dropdown(description='abv_range', options=('40%', 'Below 40%', 'Above 40%'), value='40%'…"
      ]
     },
     "metadata": {},
     "output_type": "display_data"
    },
    {
     "data": {
      "application/vnd.jupyter.widget-view+json": {
       "model_id": "b13534ca415748e78f34156755d04752",
       "version_major": 2,
       "version_minor": 0
      },
      "text/plain": [
       "interactive(children=(Dropdown(description='first_taste', index=27, options=('', 'earth', 'wood', 'spice', 'ma…"
      ]
     },
     "metadata": {},
     "output_type": "display_data"
    },
    {
     "data": {
      "application/vnd.jupyter.widget-view+json": {
       "model_id": "8b15244b6b524152973c854545653e7a",
       "version_major": 2,
       "version_minor": 0
      },
      "text/plain": [
       "interactive(children=(Dropdown(description='second_taste', index=29, options=('', 'earth', 'wood', 'spice', 'm…"
      ]
     },
     "metadata": {},
     "output_type": "display_data"
    },
    {
     "data": {
      "application/vnd.jupyter.widget-view+json": {
       "model_id": "2ad244f576974bab8fb6818169d5bc76",
       "version_major": 2,
       "version_minor": 0
      },
      "text/plain": [
       "interactive(children=(Dropdown(description='third_taste', options=('', 'earth', 'wood', 'spice', 'malt', 'wine…"
      ]
     },
     "metadata": {},
     "output_type": "display_data"
    }
   ],
   "source": [
    "# Select each other categories\n",
    "display(price_range)\n",
    "display(category_range)\n",
    "display(abv_range)\n",
    "display(first_taste)\n",
    "display(second_taste)\n",
    "display(third_taste)\n",
    "\n",
    "price_range_drop = price_range.result\n",
    "category_range_drop = category_range.result\n",
    "abv_range_drop = abv_range.result\n",
    "first_taste_drop1 = first_taste.result\n",
    "second_taste_drop2 = second_taste.result\n",
    "third_taste_drop3 = third_taste.result\n",
    "\n",
    "# # Should change with every change of a drop down\n",
    "# print(price_range_drop)\n",
    "# print(category_range_drop)\n",
    "# print(abv_range_drop)\n",
    "# print(first_taste_drop1)\n",
    "# print(second_taste_drop2)\n",
    "# print(third_taste_drop3)\n",
    "\n",
    "# These should be the inputs your scotch preferances so they\n",
    "# can be made into a dataframe\n",
    "scotch_pref = pd.DataFrame({\n",
    "    'price_range_drop': [price_range_drop],\n",
    "    'category_range_drop': [category_range_drop],\n",
    "    'abv_range_drop': [abv_range_drop],\n",
    "    'first_taste_drop1': [first_taste_drop1],\n",
    "    'second_taste_drop2': [second_taste_drop2],\n",
    "    'third_taste_drop3': [third_taste_drop3]\n",
    "},\n",
    "                           index=[0]).T\n",
    "# scotch_pref\n",
    "\n",
    "price_pref = scotch.loc[scotch['price_categories'] == price_range_drop]\n",
    "\n",
    "category_pref = scotch.loc[scotch['category'] == category_range_drop]\n",
    "\n",
    "abv_pref = scotch.loc[scotch['abv_categories'] == abv_range_drop]\n",
    "\n",
    "# price_pref.head()\n",
    "\n",
    "# category_pref.head()\n",
    "\n",
    "# abv_pref.head()\n",
    "\n",
    "abv_price_pref = price_pref.merge(abv_pref, how='inner', on=['name'])\n",
    "\n",
    "abv_price_cat_pref = abv_price_pref.merge(\n",
    "    category_pref, how='inner', on=['name'])\n",
    "\n",
    "# abv_price_cat_pref.head()\n",
    "\n",
    "basic_pref = abv_price_cat_pref[[\n",
    "    'name', 'category', 'points', 'price', 'abv', 'description'\n",
    "]]\n",
    "\n",
    "# basic_pref.shape\n",
    "\n",
    "# len(basic_pref)"
   ]
  },
  {
   "cell_type": "markdown",
   "metadata": {},
   "source": [
    "# Recommendations"
   ]
  },
  {
   "cell_type": "code",
   "execution_count": 77,
   "metadata": {
    "scrolled": false
   },
   "outputs": [
    {
     "name": "stdout",
     "output_type": "stream",
     "text": [
      "Showing 5 recommendations!\n"
     ]
    },
    {
     "data": {
      "text/html": [
       "<div>\n",
       "<style scoped>\n",
       "    .dataframe tbody tr th:only-of-type {\n",
       "        vertical-align: middle;\n",
       "    }\n",
       "\n",
       "    .dataframe tbody tr th {\n",
       "        vertical-align: top;\n",
       "    }\n",
       "\n",
       "    .dataframe thead th {\n",
       "        text-align: right;\n",
       "    }\n",
       "</style>\n",
       "<table border=\"1\" class=\"dataframe\">\n",
       "  <thead>\n",
       "    <tr style=\"text-align: right;\">\n",
       "      <th></th>\n",
       "      <th>name</th>\n",
       "      <th>category</th>\n",
       "      <th>points</th>\n",
       "      <th>price</th>\n",
       "      <th>abv</th>\n",
       "      <th>description</th>\n",
       "    </tr>\n",
       "  </thead>\n",
       "  <tbody>\n",
       "    <tr>\n",
       "      <th>2</th>\n",
       "      <td>Johnnie Walker Blenders’ Batch Sherry Cask Finish 12 year old, 40%</td>\n",
       "      <td>Blended Scotch Whisky</td>\n",
       "      <td>89</td>\n",
       "      <td>44.0</td>\n",
       "      <td>40.0</td>\n",
       "      <td>Blender Aimée Gibson’s experimental batch 7 is designed as a sherry finished Black Label. Beautifully smoky, with dried fruits, charred oak, wood spices, vanilla, cocoa, and bonfire smoke. Toffee flavors, with thick smoke, red fruits, orange, raisin, oak spice, gingerbread, marshmallow, strawberry jam, and dark marmalade. Dry finish with bitter peels, dark chocolate, and some feisty spices. In comparison, regular Black Label is silkier, more integrated, and more peppery. (Global Travel Retail only)</td>\n",
       "    </tr>\n",
       "    <tr>\n",
       "      <th>15</th>\n",
       "      <td>Chivas Regal 12 year old, 40%</td>\n",
       "      <td>Blended Scotch Whisky</td>\n",
       "      <td>86</td>\n",
       "      <td>25.0</td>\n",
       "      <td>40.0</td>\n",
       "      <td>The assured Scotch whisky that became one of the classic blends. Dry and sweet, with a nose of vanilla sponge, fresh cut flowers, and marzipan over a malty base. Pleasingly oily, with flavors of burning butter, malty toffee, and cake mix, with gentle spices and hints of chocolate appearing the longer you hold off swallowing. The glossy mouthfeel makes this feel like an everyday luxury. A finish of spent spices, cocoa, hazelnut, and a waft of smoke brings it home.</td>\n",
       "    </tr>\n",
       "    <tr>\n",
       "      <th>23</th>\n",
       "      <td>Dewar’s White Label Scratched Cask, 40%</td>\n",
       "      <td>Blended Scotch Whisky</td>\n",
       "      <td>85</td>\n",
       "      <td>26.0</td>\n",
       "      <td>40.0</td>\n",
       "      <td>What lies beneath the surface of Dewar’s? Here, the blend is finished in virgin and first-fill bourbon casks especially charred, then scratched to enable deeper penetration. Thick wedge of vanilla and fudge with oaky accents, a dusty mouthfeel pulling in vanilla, light lemon, milk chocolate, and sweet toffee, ending on a cocoa powder note. Compared with regular White Label, this is less obviously sweet and creamy, adds complexity, and opens a bourbon connection. Certainly, this is up to scratch.</td>\n",
       "    </tr>\n",
       "    <tr>\n",
       "      <th>40</th>\n",
       "      <td>Jamie Stewart, 40%</td>\n",
       "      <td>Blended Scotch Whisky</td>\n",
       "      <td>84</td>\n",
       "      <td>16.0</td>\n",
       "      <td>40.0</td>\n",
       "      <td>With whiskies aged for 5 years in bourbon barrels, this has a pleasant nose of dark toffee, vanilla, toasted whole grain bread, and light spices. The mouthfeel is a bit flabby; chocolate and toasted spices, especially cinnamon and pepper, are quelled by malty caramel, baked orange, and touches of old leather. The finish is dry, malty, and slightly nutty, with a hollow core of spices. A bit dour overall.</td>\n",
       "    </tr>\n",
       "    <tr>\n",
       "      <th>61</th>\n",
       "      <td>Highland Queen, 40%</td>\n",
       "      <td>Blended Scotch Whisky</td>\n",
       "      <td>78</td>\n",
       "      <td>20.0</td>\n",
       "      <td>40.0</td>\n",
       "      <td>The range begins with this entry-level whisky, aged for 3 years. Aromas of pale toffee, vanilla, and scented, herbaceous notes can be found on the nose. It has a light, silky texture and comprises flavors of stewed fruits, with a slight bitterness behind them. Plum and coffee notes expand, though it remains tart through to the buzzy finish, which is lifted by hints of chocolate. A robust and pugnacious dram.</td>\n",
       "    </tr>\n",
       "  </tbody>\n",
       "</table>\n",
       "</div>"
      ],
      "text/plain": [
       "                                                                  name  \\\n",
       "2   Johnnie Walker Blenders’ Batch Sherry Cask Finish 12 year old, 40%   \n",
       "15  Chivas Regal 12 year old, 40%                                        \n",
       "23  Dewar’s White Label Scratched Cask, 40%                              \n",
       "40  Jamie Stewart, 40%                                                   \n",
       "61  Highland Queen, 40%                                                  \n",
       "\n",
       "                 category  points  price   abv  \\\n",
       "2   Blended Scotch Whisky  89      44.0   40.0   \n",
       "15  Blended Scotch Whisky  86      25.0   40.0   \n",
       "23  Blended Scotch Whisky  85      26.0   40.0   \n",
       "40  Blended Scotch Whisky  84      16.0   40.0   \n",
       "61  Blended Scotch Whisky  78      20.0   40.0   \n",
       "\n",
       "                                                                                                                                                                                                                                                                                                                                                                                                                                                                                                                description  \n",
       "2   Blender Aimée Gibson’s experimental batch 7 is designed as a sherry finished Black Label. Beautifully smoky, with dried fruits, charred oak, wood spices, vanilla, cocoa, and bonfire smoke. Toffee flavors, with thick smoke, red fruits, orange, raisin, oak spice, gingerbread, marshmallow, strawberry jam, and dark marmalade. Dry finish with bitter peels, dark chocolate, and some feisty spices. In comparison, regular Black Label is silkier, more integrated, and more peppery. (Global Travel Retail only)  \n",
       "15  The assured Scotch whisky that became one of the classic blends. Dry and sweet, with a nose of vanilla sponge, fresh cut flowers, and marzipan over a malty base. Pleasingly oily, with flavors of burning butter, malty toffee, and cake mix, with gentle spices and hints of chocolate appearing the longer you hold off swallowing. The glossy mouthfeel makes this feel like an everyday luxury. A finish of spent spices, cocoa, hazelnut, and a waft of smoke brings it home.                                      \n",
       "23  What lies beneath the surface of Dewar’s? Here, the blend is finished in virgin and first-fill bourbon casks especially charred, then scratched to enable deeper penetration. Thick wedge of vanilla and fudge with oaky accents, a dusty mouthfeel pulling in vanilla, light lemon, milk chocolate, and sweet toffee, ending on a cocoa powder note. Compared with regular White Label, this is less obviously sweet and creamy, adds complexity, and opens a bourbon connection. Certainly, this is up to scratch.     \n",
       "40  With whiskies aged for 5 years in bourbon barrels, this has a pleasant nose of dark toffee, vanilla, toasted whole grain bread, and light spices. The mouthfeel is a bit flabby; chocolate and toasted spices, especially cinnamon and pepper, are quelled by malty caramel, baked orange, and touches of old leather. The finish is dry, malty, and slightly nutty, with a hollow core of spices. A bit dour overall.                                                                                                   \n",
       "61  The range begins with this entry-level whisky, aged for 3 years. Aromas of pale toffee, vanilla, and scented, herbaceous notes can be found on the nose. It has a light, silky texture and comprises flavors of stewed fruits, with a slight bitterness behind them. Plum and coffee notes expand, though it remains tart through to the buzzy finish, which is lifted by hints of chocolate. A robust and pugnacious dram.                                                                                              "
      ]
     },
     "execution_count": 77,
     "metadata": {},
     "output_type": "execute_result"
    }
   ],
   "source": [
    "recommendation = []\n",
    "\n",
    "try:\n",
    "    for _ in range(0, len(basic_pref)):\n",
    "        result = {}\n",
    "        if first_taste_drop1 in basic_pref['description'][\n",
    "                _] and second_taste_drop2 in basic_pref['description'][\n",
    "                    _] and third_taste_drop3 in basic_pref['description'][_]:\n",
    "            result['final_rec'] = basic_pref.iloc[[_]]\n",
    "            pass\n",
    "            if first_taste_drop1 in basic_pref['description'][\n",
    "                    _] and second_taste_drop2 in basic_pref['description'][_]:\n",
    "                result['final_rec'] = basic_pref.iloc[[_]]\n",
    "                pass\n",
    "                if first_taste_drop1 in basic_pref['description'][\n",
    "                        _] and third_taste_drop3 in basic_pref['description'][\n",
    "                            _]:\n",
    "                    result['final_rec'] = basic_pref.iloc[[_]]\n",
    "                    pass\n",
    "                    if second_taste_drop2 in basic_pref['description'][\n",
    "                            _] and third_taste_drop3 in basic_pref[\n",
    "                                'description'][_]:\n",
    "                        result['final_rec'] = basic_pref.iloc[[_]]\n",
    "                        pass\n",
    "                        if first_taste_drop1 in basic_pref['description'][\n",
    "                                _] or second_taste_drop2 in basic_pref[\n",
    "                                    'description'][\n",
    "                                        _] or third_taste_drop3 in basic_pref[\n",
    "                                            'description'][_]:\n",
    "                            result['final_rec'] = basic_pref.iloc[[_]]\n",
    "                            recommendation.append(result['final_rec'])\n",
    "                            pass\n",
    "    recommendation = pd.concat(recommendation)\n",
    "\n",
    "except ValueError:\n",
    "    print('Sorry, there were no recommendations matching your preferences.')\n",
    "\n",
    "print('Showing {} recommendations!'.format(recommendation.shape[0]))\n",
    "\n",
    "recommendation\n"
   ]
  },
  {
   "cell_type": "code",
   "execution_count": null,
   "metadata": {},
   "outputs": [],
   "source": []
  },
  {
   "cell_type": "code",
   "execution_count": null,
   "metadata": {},
   "outputs": [],
   "source": []
  },
  {
   "cell_type": "code",
   "execution_count": null,
   "metadata": {},
   "outputs": [],
   "source": []
  },
  {
   "cell_type": "code",
   "execution_count": 75,
   "metadata": {},
   "outputs": [
    {
     "data": {
      "text/html": [
       "<script>\n",
       "code_show=true; \n",
       "function code_toggle() {\n",
       " if (code_show){\n",
       " $('div.input').hide();\n",
       " } else {\n",
       " $('div.input').show();\n",
       " }\n",
       " code_show = !code_show\n",
       "} \n",
       "$( document ).ready(code_toggle);\n",
       "</script><a href=\"javascript:code_toggle()\">Hide</a> code."
      ],
      "text/plain": [
       "<IPython.core.display.HTML object>"
      ]
     },
     "execution_count": 75,
     "metadata": {},
     "output_type": "execute_result"
    }
   ],
   "source": [
    "HTML('''<script>\n",
    "code_show=true; \n",
    "function code_toggle() {\n",
    " if (code_show){\n",
    " $('div.input').hide();\n",
    " } else {\n",
    " $('div.input').show();\n",
    " }\n",
    " code_show = !code_show\n",
    "} \n",
    "$( document ).ready(code_toggle);\n",
    "</script><a href=\"javascript:code_toggle()\">Hide</a> code.''')"
   ]
  },
  {
   "cell_type": "code",
   "execution_count": null,
   "metadata": {},
   "outputs": [],
   "source": []
  }
 ],
 "metadata": {
  "hide_input": false,
  "kernelspec": {
   "display_name": "Python 3",
   "language": "python",
   "name": "python3"
  },
  "language_info": {
   "codemirror_mode": {
    "name": "ipython",
    "version": 3
   },
   "file_extension": ".py",
   "mimetype": "text/x-python",
   "name": "python",
   "nbconvert_exporter": "python",
   "pygments_lexer": "ipython3",
   "version": "3.6.7"
  },
  "toc": {
   "base_numbering": 1,
   "nav_menu": {
    "height": "106px",
    "width": "326px"
   },
   "number_sections": true,
   "sideBar": true,
   "skip_h1_title": false,
   "title_cell": "Table of Contents",
   "title_sidebar": "Contents",
   "toc_cell": true,
   "toc_position": {
    "height": "560px",
    "left": "778.992px",
    "top": "135.977px",
    "width": "292.988px"
   },
   "toc_section_display": true,
   "toc_window_display": true
  },
  "varInspector": {
   "cols": {
    "lenName": 16,
    "lenType": 16,
    "lenVar": 40
   },
   "kernels_config": {
    "python": {
     "delete_cmd_postfix": "",
     "delete_cmd_prefix": "del ",
     "library": "var_list.py",
     "varRefreshCmd": "print(var_dic_list())"
    },
    "r": {
     "delete_cmd_postfix": ") ",
     "delete_cmd_prefix": "rm(",
     "library": "var_list.r",
     "varRefreshCmd": "cat(var_dic_list()) "
    }
   },
   "position": {
    "height": "360px",
    "left": "1069px",
    "right": "20px",
    "top": "120px",
    "width": "354px"
   },
   "types_to_exclude": [
    "module",
    "function",
    "builtin_function_or_method",
    "instance",
    "_Feature"
   ],
   "window_display": false
  }
 },
 "nbformat": 4,
 "nbformat_minor": 2
}
