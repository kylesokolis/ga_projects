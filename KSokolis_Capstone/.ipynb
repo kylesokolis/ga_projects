{
 "cells": [
  {
   "cell_type": "markdown",
   "metadata": {},
   "source": [
    "# Digital Scotch Sommelier Capstone"
   ]
  },
  {
   "cell_type": "code",
   "execution_count": null,
   "metadata": {},
   "outputs": [],
   "source": []
  },
  {
   "cell_type": "code",
   "execution_count": 1,
   "metadata": {},
   "outputs": [],
   "source": [
    "# Imports\n",
    "from __future__ import print_function\n",
    "\n",
    "import pandas as pd\n",
    "import re\n",
    "import numpy as np\n",
    "import seaborn as sns\n",
    "import decimal\n",
    "import ipywidgets as widgets\n",
    "import matplotlib.pyplot as plt\n",
    "import nltk\n",
    "\n",
    "from sklearn.model_selection import train_test_split, KFold,cross_val_score\n",
    "from sklearn.linear_model import LinearRegression\n",
    "from sklearn.metrics import r2_score\n",
    "from sklearn.ensemble import RandomForestRegressor\n",
    "from sklearn.model_selection import GridSearchCV, RandomizedSearchCV\n",
    "from sklearn.feature_extraction.text import CountVectorizer\n",
    "\n",
    "from bs4 import BeautifulSoup\n",
    "\n",
    "from nltk.tokenize import word_tokenize, regexp_tokenize\n",
    "from nltk.corpus import stopwords\n",
    "\n",
    "from ipywidgets import interact, interactive, fixed, interact_manual\n",
    "from ipywidgets import widgets, interact, interact_manual, fixed\n",
    "from IPython.display import display, clear_output, HTML\n",
    "\n",
    "sns.set()\n",
    "pd.options.mode.chained_assignment = None \n",
    "pd.set_option('display.max_colwidth', -1)\n",
    "%matplotlib inline"
   ]
  },
  {
   "cell_type": "code",
   "execution_count": null,
   "metadata": {},
   "outputs": [],
   "source": []
  },
  {
   "cell_type": "markdown",
   "metadata": {},
   "source": [
    "---\n",
    "---\n",
    "# ***Raw Input Questions***\n",
    "\n",
    "---\n",
    "## - What is your price range? \n",
    "\n",
    "\n",
    "| Below 50 | 50 to 100 | 150 to 200 | 200 to 500 | Above 500 |\n",
    "|:--------:|:---------:|:----------:|:----------:|:---------:|\n",
    "\n",
    "---"
   ]
  },
  {
   "cell_type": "code",
   "execution_count": 2,
   "metadata": {},
   "outputs": [],
   "source": [
    "def price_range_f(price_range):\n",
    "    return price_range"
   ]
  },
  {
   "cell_type": "code",
   "execution_count": 3,
   "metadata": {},
   "outputs": [],
   "source": [
    "price_range = interactive(price_range_f,\n",
    "         price_range = ['Below 50',\n",
    "                        '50 to 100',\n",
    "                        '150 to 200',\n",
    "                        '200 to 500',\n",
    "                        'Above 500'\n",
    "                        ]\n",
    "        );"
   ]
  },
  {
   "cell_type": "markdown",
   "metadata": {},
   "source": [
    "---\n",
    "## - What category would you prefer?\n",
    "\n",
    "\n",
    "| Blended Scotch Whisky | Single Malt Scotch | Blended Malt Scotch Whisky | Grain Scotch Whisky | Single Grain Whisky |\n",
    "|:-:|:-:|:-:|:-:|:-:|\n",
    "\n",
    "---"
   ]
  },
  {
   "cell_type": "code",
   "execution_count": 4,
   "metadata": {},
   "outputs": [],
   "source": [
    "def category_f(category_range):\n",
    "    return category_range"
   ]
  },
  {
   "cell_type": "code",
   "execution_count": 5,
   "metadata": {},
   "outputs": [],
   "source": [
    "category_range = interactive(category_f,\n",
    "         category_range = ['Blended Scotch Whisky', \n",
    "                           'Single Malt Scotch',\n",
    "                           'Blended Malt Scotch Whisky', \n",
    "                           'Grain Scotch Whisky',\n",
    "                           'Single Grain Whisky']\n",
    "        );"
   ]
  },
  {
   "cell_type": "markdown",
   "metadata": {},
   "source": [
    "\n",
    "---\n",
    "## - What ABV level would you prefer?\n",
    "\n",
    "| Below 40% | 40% | Above 40% |\n",
    "|:--------:|:---------:|:----------:|\n",
    "\n",
    "---\n"
   ]
  },
  {
   "cell_type": "code",
   "execution_count": 6,
   "metadata": {},
   "outputs": [],
   "source": [
    "def abv_range_f(abv_range):\n",
    "    return abv_range"
   ]
  },
  {
   "cell_type": "code",
   "execution_count": 7,
   "metadata": {},
   "outputs": [],
   "source": [
    "abv_range = interactive(abv_range_f,\n",
    "         abv_range = ['Below 40%',\n",
    "                      '40%',\n",
    "                      'Above 40%'\n",
    "                     ]\n",
    "        );"
   ]
  },
  {
   "cell_type": "markdown",
   "metadata": {},
   "source": [
    "\n",
    "---\n",
    "## - What tasting notes do you prefer?\n",
    "\n",
    "| taste |  taste |  taste |   taste  |  taste  |  taste |\n",
    "|:------:|:-------:|:------:|:--------:|:------:|:-------:|\n",
    "| earthy |  fruity |  honey |   cream  |  malt  |  herbal |\n",
    "|  woody |  floral |  nutty |  ginger  | citrus | vanilla |\n",
    "|  spicy |  peaty  |   dry  |  toffee  | pepper | caramel |\n",
    "|  malty |  silky  | syrupy |   toast  |   oil  |         |\n",
    "|  winey | cereals |  salty | cinnamon |  sweet |         |\n",
    "\n",
    "---\n",
    "---"
   ]
  },
  {
   "cell_type": "code",
   "execution_count": 8,
   "metadata": {},
   "outputs": [],
   "source": [
    "def taste_notes1(first_taste):\n",
    "    return first_taste"
   ]
  },
  {
   "cell_type": "code",
   "execution_count": 9,
   "metadata": {},
   "outputs": [],
   "source": [
    "def taste_notes2(second_taste):\n",
    "    return second_taste"
   ]
  },
  {
   "cell_type": "code",
   "execution_count": 10,
   "metadata": {},
   "outputs": [],
   "source": [
    "def taste_notes3(third_taste):\n",
    "    return third_taste"
   ]
  },
  {
   "cell_type": "code",
   "execution_count": 11,
   "metadata": {},
   "outputs": [],
   "source": [
    "first_taste = interactive(taste_notes1, \n",
    "         first_taste = ['earthy',\n",
    "                        'woody', \n",
    "                        'spicy', \n",
    "                        'malty', \n",
    "                        'winey', \n",
    "                        'fruity', \n",
    "                        'floral', \n",
    "                        'peaty', \n",
    "                        'silky', \n",
    "                        'cereals', \n",
    "                        'honey', \n",
    "                        'nutty', \n",
    "                        'dry', \n",
    "                        'syrupy', \n",
    "                        'salty', \n",
    "                        'cream', \n",
    "                        'ginger', \n",
    "                        'toffee', \n",
    "                        'toast', \n",
    "                        'cinnamon', \n",
    "                        'malt', \n",
    "                        'citrus', \n",
    "                        'pepper', \n",
    "                        'oil', \n",
    "                        'sweet', \n",
    "                        'herbal', \n",
    "                        'vanilla', \n",
    "                        'caramel']);"
   ]
  },
  {
   "cell_type": "code",
   "execution_count": 12,
   "metadata": {},
   "outputs": [],
   "source": [
    "second_taste = interactive(taste_notes2, \n",
    "        second_taste = ['earthy',\n",
    "                      'woody', \n",
    "                      'spicy', \n",
    "                      'malty', \n",
    "                      'winey', \n",
    "                      'fruity', \n",
    "                      'floral', \n",
    "                      'peaty', \n",
    "                      'silky', \n",
    "                      'cereals', \n",
    "                      'honey', \n",
    "                      'nutty', \n",
    "                      'dry', \n",
    "                      'syrupy', \n",
    "                      'salty', \n",
    "                      'cream', \n",
    "                      'ginger', \n",
    "                      'toffee', \n",
    "                      'toast', \n",
    "                      'cinnamon', \n",
    "                      'malt', \n",
    "                      'citrus', \n",
    "                      'pepper', \n",
    "                      'oil', \n",
    "                      'sweet', \n",
    "                      'herbal', \n",
    "                      'vanilla', \n",
    "                      'caramel']);"
   ]
  },
  {
   "cell_type": "code",
   "execution_count": 13,
   "metadata": {},
   "outputs": [],
   "source": [
    "third_taste = interactive(taste_notes3, \n",
    "         third_taste = ['earthy',\n",
    "                        'woody', \n",
    "                        'spicy', \n",
    "                        'malty', \n",
    "                        'winey', \n",
    "                        'fruity', \n",
    "                        'floral', \n",
    "                        'peaty', \n",
    "                        'silky', \n",
    "                        'cereals', \n",
    "                        'honey', \n",
    "                        'nutty', \n",
    "                        'dry', \n",
    "                        'syrupy', \n",
    "                        'salty', \n",
    "                        'cream', \n",
    "                        'ginger', \n",
    "                        'toffee', \n",
    "                        'toast', \n",
    "                        'cinnamon', \n",
    "                        'malt', \n",
    "                        'citrus', \n",
    "                        'pepper', \n",
    "                        'oil', \n",
    "                        'sweet', \n",
    "                        'herbal', \n",
    "                        'vanilla', \n",
    "                        'caramel']);"
   ]
  },
  {
   "cell_type": "code",
   "execution_count": null,
   "metadata": {},
   "outputs": [],
   "source": []
  },
  {
   "cell_type": "code",
   "execution_count": 14,
   "metadata": {},
   "outputs": [],
   "source": [
    "# Reading in the scotch reviews data received from Kaggle\n",
    "scotch = pd.read_csv('./dataset/scotch_review.csv')"
   ]
  },
  {
   "cell_type": "code",
   "execution_count": 15,
   "metadata": {},
   "outputs": [],
   "source": [
    "# scotch.head()"
   ]
  },
  {
   "cell_type": "code",
   "execution_count": 16,
   "metadata": {},
   "outputs": [],
   "source": [
    "# scotch['price']"
   ]
  },
  {
   "cell_type": "code",
   "execution_count": null,
   "metadata": {},
   "outputs": [],
   "source": []
  },
  {
   "cell_type": "code",
   "execution_count": null,
   "metadata": {},
   "outputs": [],
   "source": []
  },
  {
   "cell_type": "code",
   "execution_count": null,
   "metadata": {},
   "outputs": [],
   "source": []
  },
  {
   "cell_type": "code",
   "execution_count": 17,
   "metadata": {},
   "outputs": [],
   "source": [
    "# Dropping Unnamed: 0 due to being unneeded \n",
    "# and currency due to all are in USD\n",
    "scotch.drop(['Unnamed: 0', 'currency'], axis=1, inplace=True)"
   ]
  },
  {
   "cell_type": "code",
   "execution_count": 18,
   "metadata": {},
   "outputs": [],
   "source": [
    "# Verify correct columns have dropped\n",
    "# scotch.head()"
   ]
  },
  {
   "cell_type": "code",
   "execution_count": 19,
   "metadata": {},
   "outputs": [],
   "source": [
    "# Renaming column for simplicity\n",
    "scotch.rename(index=str, columns={'review.point': 'points'}, inplace=True)"
   ]
  },
  {
   "cell_type": "code",
   "execution_count": 20,
   "metadata": {
    "scrolled": true
   },
   "outputs": [],
   "source": [
    "# Seeing the dtypes of each column\n",
    "# scotch.info()"
   ]
  },
  {
   "cell_type": "code",
   "execution_count": 21,
   "metadata": {},
   "outputs": [],
   "source": [
    "# Sorting the price\n",
    "# sorted(scotch.price)"
   ]
  },
  {
   "cell_type": "code",
   "execution_count": 22,
   "metadata": {},
   "outputs": [],
   "source": [
    "# Extracting and just the numbers from the price\n",
    "scotch['price'] = scotch['price'].str.extract('(\\d\\d\\d*|\\d)')\n",
    "# scotch['price']"
   ]
  },
  {
   "cell_type": "code",
   "execution_count": 23,
   "metadata": {},
   "outputs": [],
   "source": [
    "# Changing all strings to floats\n",
    "scotch['price'] = scotch['price'].astype(str).astype(float)"
   ]
  },
  {
   "cell_type": "code",
   "execution_count": 24,
   "metadata": {},
   "outputs": [],
   "source": [
    "# scotch.dtypes"
   ]
  },
  {
   "cell_type": "code",
   "execution_count": 25,
   "metadata": {},
   "outputs": [],
   "source": [
    "# scotch.shape"
   ]
  },
  {
   "cell_type": "code",
   "execution_count": 26,
   "metadata": {},
   "outputs": [],
   "source": [
    "# Finding all the scotches that have an abv associated \n",
    "# and breaking them into a new column\n",
    "\n",
    "scotch['abv'] = scotch['name'].str.extract('(\\d\\d%|\\d\\d.\\d%)')\n",
    "\n",
    "# print('%.1f%% of the scotches have an abv associated with them.' %((1-(scotch['abv'].isnull().sum()/len(scotch['abv'])))*100))"
   ]
  },
  {
   "cell_type": "code",
   "execution_count": 27,
   "metadata": {},
   "outputs": [],
   "source": [
    "# Since there are so few nan I will just drop them\n",
    "scotch['abv'].dropna(inplace=True)"
   ]
  },
  {
   "cell_type": "code",
   "execution_count": 28,
   "metadata": {},
   "outputs": [],
   "source": [
    "# Because abv was with the name column before, it was a string\n",
    "# Converted it to a float\n",
    "scotch['abv'] = scotch['abv'].astype(str).str[:-1].astype(float)"
   ]
  },
  {
   "cell_type": "code",
   "execution_count": 29,
   "metadata": {},
   "outputs": [],
   "source": [
    "# Finding the nan\n",
    "# scotch['abv'].isnull().sum()"
   ]
  },
  {
   "cell_type": "code",
   "execution_count": 30,
   "metadata": {},
   "outputs": [],
   "source": [
    "# Dropping the nan\n",
    "scotch['abv'].dropna(inplace=True)"
   ]
  },
  {
   "cell_type": "code",
   "execution_count": 31,
   "metadata": {},
   "outputs": [],
   "source": [
    "# Verifying nan drop\n",
    "# scotch['abv'].isnull().sum()"
   ]
  },
  {
   "cell_type": "code",
   "execution_count": 32,
   "metadata": {},
   "outputs": [],
   "source": [
    "# Another verification for fun\n",
    "# print('%.1f%% of the scotches have an abv associated with them.' %((1-(scotch['abv'].isnull().sum()/len(scotch['abv'])))*100))"
   ]
  },
  {
   "cell_type": "code",
   "execution_count": 33,
   "metadata": {},
   "outputs": [],
   "source": [
    "# scotch.head()"
   ]
  },
  {
   "cell_type": "code",
   "execution_count": null,
   "metadata": {},
   "outputs": [],
   "source": []
  },
  {
   "cell_type": "code",
   "execution_count": 34,
   "metadata": {},
   "outputs": [],
   "source": [
    "# Separating prices into 6 understandable bins\n",
    "bins_price = [0, 50, 100, 150, 200, 500, np.inf]\n",
    "price = ['Below 50', '50 to 100', '100 to 150', '150 to 200', '200 to 500', 'Above 500']\n",
    "\n",
    "scotch['price_categories'] = pd.cut(scotch['price'], bins_price, labels=price)"
   ]
  },
  {
   "cell_type": "code",
   "execution_count": 35,
   "metadata": {},
   "outputs": [],
   "source": [
    "# Separating abv into 3 understandable bins\n",
    "bins_abv = [0, 39, 40, np.inf]\n",
    "abv = ['Below 40%', '40%', 'Above 40%']\n",
    "\n",
    "scotch['abv_categories'] = pd.cut(scotch['abv'], bins_abv, labels=abv)"
   ]
  },
  {
   "cell_type": "code",
   "execution_count": 37,
   "metadata": {
    "scrolled": true
   },
   "outputs": [],
   "source": [
    "# scotch.shape"
   ]
  },
  {
   "cell_type": "code",
   "execution_count": null,
   "metadata": {},
   "outputs": [],
   "source": []
  },
  {
   "cell_type": "code",
   "execution_count": null,
   "metadata": {},
   "outputs": [],
   "source": []
  },
  {
   "cell_type": "code",
   "execution_count": 58,
   "metadata": {},
   "outputs": [
    {
     "data": {
      "application/vnd.jupyter.widget-view+json": {
       "model_id": "589b01c3f5db44a4bbb527791a2bbbd0",
       "version_major": 2,
       "version_minor": 0
      },
      "text/plain": [
       "interactive(children=(Dropdown(description='price_range', index=3, options=('Below 50', '50 to 100', '150 to 2…"
      ]
     },
     "metadata": {},
     "output_type": "display_data"
    },
    {
     "data": {
      "application/vnd.jupyter.widget-view+json": {
       "model_id": "92ec9311a873409b8044478e6514ca92",
       "version_major": 2,
       "version_minor": 0
      },
      "text/plain": [
       "interactive(children=(Dropdown(description='category_range', index=1, options=('Blended Scotch Whisky', 'Singl…"
      ]
     },
     "metadata": {},
     "output_type": "display_data"
    },
    {
     "data": {
      "application/vnd.jupyter.widget-view+json": {
       "model_id": "d0c4d78288694437bccdb3cad608f2ba",
       "version_major": 2,
       "version_minor": 0
      },
      "text/plain": [
       "interactive(children=(Dropdown(description='abv_range', index=2, options=('Below 40%', '40%', 'Above 40%'), va…"
      ]
     },
     "metadata": {},
     "output_type": "display_data"
    },
    {
     "data": {
      "application/vnd.jupyter.widget-view+json": {
       "model_id": "2b769c92050542829ee3a50bea997cdc",
       "version_major": 2,
       "version_minor": 0
      },
      "text/plain": [
       "interactive(children=(Dropdown(description='first_taste', index=26, options=('earthy', 'woody', 'spicy', 'malt…"
      ]
     },
     "metadata": {},
     "output_type": "display_data"
    },
    {
     "data": {
      "application/vnd.jupyter.widget-view+json": {
       "model_id": "cb6b9a1f0d18414cad77a6918a8cca25",
       "version_major": 2,
       "version_minor": 0
      },
      "text/plain": [
       "interactive(children=(Dropdown(description='second_taste', index=27, options=('earthy', 'woody', 'spicy', 'mal…"
      ]
     },
     "metadata": {},
     "output_type": "display_data"
    },
    {
     "data": {
      "application/vnd.jupyter.widget-view+json": {
       "model_id": "97585aa8bf49432f9aa1eff5d4141300",
       "version_major": 2,
       "version_minor": 0
      },
      "text/plain": [
       "interactive(children=(Dropdown(description='third_taste', index=2, options=('earthy', 'woody', 'spicy', 'malty…"
      ]
     },
     "metadata": {},
     "output_type": "display_data"
    }
   ],
   "source": [
    "# Select each other categories\n",
    "display(price_range)\n",
    "display(category_range)\n",
    "display(abv_range)\n",
    "display(first_taste)\n",
    "display(second_taste)\n",
    "display(third_taste)"
   ]
  },
  {
   "cell_type": "code",
   "execution_count": 59,
   "metadata": {},
   "outputs": [],
   "source": [
    "price_range_drop = price_range.result\n",
    "category_range_drop = category_range.result\n",
    "abv_range_drop = abv_range.result\n",
    "first_taste_drop1 = first_taste.result\n",
    "second_taste_drop2 = second_taste.result\n",
    "third_taste_drop3 = third_taste.result"
   ]
  },
  {
   "cell_type": "code",
   "execution_count": 60,
   "metadata": {},
   "outputs": [],
   "source": [
    "# # Should change with every change of a drop down\n",
    "# print(price_range_drop)\n",
    "# print(category_range_drop)\n",
    "# print(abv_range_drop)\n",
    "# print(first_taste_drop1)\n",
    "# print(second_taste_drop2)\n",
    "# print(third_taste_drop3)"
   ]
  },
  {
   "cell_type": "code",
   "execution_count": 61,
   "metadata": {},
   "outputs": [],
   "source": [
    "# These should be the inputs your scotch preferances so they\n",
    "# can be made into a dataframe\n",
    "scotch_pref = pd.DataFrame({'price_range_drop': [price_range_drop],\n",
    "                            'category_range_drop': [category_range_drop],\n",
    "                            'abv_range_drop': [abv_range_drop],\n",
    "                            'first_taste_drop1': [first_taste_drop1],\n",
    "                            'second_taste_drop2': [second_taste_drop2],\n",
    "                            'third_taste_drop3': [third_taste_drop3]},\n",
    "                            index=[0]).T\n",
    "# scotch_pref"
   ]
  },
  {
   "cell_type": "code",
   "execution_count": 62,
   "metadata": {},
   "outputs": [],
   "source": [
    "price_pref = scotch.loc[scotch['price_categories'] == price_range_drop]"
   ]
  },
  {
   "cell_type": "code",
   "execution_count": 63,
   "metadata": {},
   "outputs": [],
   "source": [
    "category_pref = scotch.loc[scotch['category'] == category_range_drop]"
   ]
  },
  {
   "cell_type": "code",
   "execution_count": 64,
   "metadata": {},
   "outputs": [],
   "source": [
    "abv_pref = scotch.loc[scotch['abv_categories'] == abv_range_drop]"
   ]
  },
  {
   "cell_type": "code",
   "execution_count": 65,
   "metadata": {
    "scrolled": false
   },
   "outputs": [],
   "source": [
    "# price_pref.head()"
   ]
  },
  {
   "cell_type": "code",
   "execution_count": 66,
   "metadata": {},
   "outputs": [],
   "source": [
    "# category_pref.head()"
   ]
  },
  {
   "cell_type": "code",
   "execution_count": 67,
   "metadata": {},
   "outputs": [],
   "source": [
    "# abv_pref.head()"
   ]
  },
  {
   "cell_type": "code",
   "execution_count": 68,
   "metadata": {},
   "outputs": [],
   "source": [
    "abv_price_pref = price_pref.merge(abv_pref, \n",
    "             how='inner', \n",
    "             on=['name'])"
   ]
  },
  {
   "cell_type": "code",
   "execution_count": 69,
   "metadata": {},
   "outputs": [],
   "source": [
    "abv_price_cat_pref = abv_price_pref.merge(category_pref, \n",
    "             how='inner', \n",
    "             on=['name'])"
   ]
  },
  {
   "cell_type": "code",
   "execution_count": 70,
   "metadata": {},
   "outputs": [],
   "source": [
    "# abv_price_cat_pref.head()"
   ]
  },
  {
   "cell_type": "code",
   "execution_count": null,
   "metadata": {},
   "outputs": [],
   "source": []
  },
  {
   "cell_type": "code",
   "execution_count": 71,
   "metadata": {},
   "outputs": [],
   "source": [
    "basic_pref = abv_price_cat_pref[['name', \n",
    "                                'category', \n",
    "                                'points', \n",
    "                                'price', \n",
    "                                'abv',\n",
    "                                'description'\n",
    "                               ]]"
   ]
  },
  {
   "cell_type": "code",
   "execution_count": 72,
   "metadata": {},
   "outputs": [],
   "source": [
    "# basic_pref.shape"
   ]
  },
  {
   "cell_type": "code",
   "execution_count": null,
   "metadata": {},
   "outputs": [],
   "source": []
  },
  {
   "cell_type": "code",
   "execution_count": 73,
   "metadata": {},
   "outputs": [],
   "source": [
    "# len(basic_pref)"
   ]
  },
  {
   "cell_type": "code",
   "execution_count": null,
   "metadata": {},
   "outputs": [],
   "source": []
  },
  {
   "cell_type": "code",
   "execution_count": 74,
   "metadata": {},
   "outputs": [],
   "source": [
    "# recommendation = []\n",
    "# for _ in range(0,len(basic_pref)):\n",
    "#     result = {}\n",
    "#     if first_taste_drop1 in basic_pref['description'][_]:\n",
    "#         if second_taste_drop2 in basic_pref['description'][_]:\n",
    "#             if third_taste_drop3 in basic_pref['description'][_]:\n",
    "#                 result['final_rec'] = basic_pref.iloc[[_]]\n",
    "\n",
    "#                 recommendation.append(result['final_rec'])\n",
    "# recommendation = pd.concat(recommendation)\n",
    "# recommendation"
   ]
  },
  {
   "cell_type": "code",
   "execution_count": null,
   "metadata": {},
   "outputs": [],
   "source": []
  },
  {
   "cell_type": "code",
   "execution_count": 75,
   "metadata": {
    "scrolled": false
   },
   "outputs": [
    {
     "data": {
      "text/html": [
       "<div>\n",
       "<style scoped>\n",
       "    .dataframe tbody tr th:only-of-type {\n",
       "        vertical-align: middle;\n",
       "    }\n",
       "\n",
       "    .dataframe tbody tr th {\n",
       "        vertical-align: top;\n",
       "    }\n",
       "\n",
       "    .dataframe thead th {\n",
       "        text-align: right;\n",
       "    }\n",
       "</style>\n",
       "<table border=\"1\" class=\"dataframe\">\n",
       "  <thead>\n",
       "    <tr style=\"text-align: right;\">\n",
       "      <th></th>\n",
       "      <th>name</th>\n",
       "      <th>category</th>\n",
       "      <th>points</th>\n",
       "      <th>price</th>\n",
       "      <th>abv</th>\n",
       "      <th>description</th>\n",
       "    </tr>\n",
       "  </thead>\n",
       "  <tbody>\n",
       "    <tr>\n",
       "      <th>1</th>\n",
       "      <td>Brora, 30 year old (2009 Release), 53.2%</td>\n",
       "      <td>Single Malt Scotch</td>\n",
       "      <td>95</td>\n",
       "      <td>400.0</td>\n",
       "      <td>53.2</td>\n",
       "      <td>This whisky has all the positive aspects of a very mature whisky (depth, complexity) without all the negative ones (excessive oak, one-dimensional). Very clean, but oily in texture, with honeyed vanilla, caramel, citrus (tangerine, orange, lemon), nectarine, olive brine, black pepper, ginger, cut grass, mustard seed, and just the hint of teasing smoke. Briny, spicy finish. Wonderful!</td>\n",
       "    </tr>\n",
       "    <tr>\n",
       "      <th>68</th>\n",
       "      <td>The Dalmore Distillery Exclusive 1991, 59%</td>\n",
       "      <td>Single Malt Scotch</td>\n",
       "      <td>91</td>\n",
       "      <td>236.0</td>\n",
       "      <td>59.0</td>\n",
       "      <td>Staff members at Dalmore selected this distillery-exclusive bottling, which has been drawn from American white oak cask number 446, and bottled at cask strength. The out-turn comprises 450 bottles. Refined, polished oak on the nose. Honey, marzipan, caramel, and vanilla. Fragrant, with old leather and over-ripe oranges when water is added. Warm leather, apricots, orange marmalade, cocoa powder, and developing spice on the palate. A long, spicy, citric finish. Finally, licorice. £150</td>\n",
       "    </tr>\n",
       "  </tbody>\n",
       "</table>\n",
       "</div>"
      ],
      "text/plain": [
       "                                          name            category  points  \\\n",
       "1   Brora, 30 year old (2009 Release), 53.2%    Single Malt Scotch  95       \n",
       "68  The Dalmore Distillery Exclusive 1991, 59%  Single Malt Scotch  91       \n",
       "\n",
       "    price   abv  \\\n",
       "1   400.0  53.2   \n",
       "68  236.0  59.0   \n",
       "\n",
       "                                                                                                                                                                                                                                                                                                                                                                                                                                                                                                description  \n",
       "1   This whisky has all the positive aspects of a very mature whisky (depth, complexity) without all the negative ones (excessive oak, one-dimensional). Very clean, but oily in texture, with honeyed vanilla, caramel, citrus (tangerine, orange, lemon), nectarine, olive brine, black pepper, ginger, cut grass, mustard seed, and just the hint of teasing smoke. Briny, spicy finish. Wonderful!                                                                                                       \n",
       "68  Staff members at Dalmore selected this distillery-exclusive bottling, which has been drawn from American white oak cask number 446, and bottled at cask strength. The out-turn comprises 450 bottles. Refined, polished oak on the nose. Honey, marzipan, caramel, and vanilla. Fragrant, with old leather and over-ripe oranges when water is added. Warm leather, apricots, orange marmalade, cocoa powder, and developing spice on the palate. A long, spicy, citric finish. Finally, licorice. £150  "
      ]
     },
     "execution_count": 75,
     "metadata": {},
     "output_type": "execute_result"
    }
   ],
   "source": [
    "recommendation = []\n",
    "for _ in range(0,len(basic_pref)):\n",
    "    result = {}\n",
    "    if first_taste_drop1 in basic_pref['description'][_] and second_taste_drop2 in basic_pref['description'][_] and third_taste_drop3 in basic_pref['description'][_]:\n",
    "        result['final_rec'] = basic_pref.iloc[[_]]\n",
    "        \n",
    "        if first_taste_drop1 in basic_pref['description'][_] and second_taste_drop2 in basic_pref['description'][_]:\n",
    "            result['final_rec'] = basic_pref.iloc[[_]]\n",
    "            \n",
    "            if first_taste_drop1 in basic_pref['description'][_] and third_taste_drop3 in basic_pref['description'][_]:\n",
    "                result['final_rec'] = basic_pref.iloc[[_]]\n",
    "                \n",
    "                if second_taste_drop2 in basic_pref['description'][_] and third_taste_drop3 in basic_pref['description'][_]:\n",
    "                    result['final_rec'] = basic_pref.iloc[[_]]\n",
    "                    \n",
    "                    if first_taste_drop1 in basic_pref['description'][_] or second_taste_drop2 in basic_pref['description'][_] or third_taste_drop3 in basic_pref['description'][_]:\n",
    "                        result['final_rec'] = basic_pref.iloc[[_]]\n",
    "\n",
    "                        recommendation.append(result['final_rec'])\n",
    "recommendation = pd.concat(recommendation)\n",
    "recommendation.head()"
   ]
  },
  {
   "cell_type": "code",
   "execution_count": null,
   "metadata": {},
   "outputs": [],
   "source": []
  },
  {
   "cell_type": "code",
   "execution_count": null,
   "metadata": {},
   "outputs": [],
   "source": []
  },
  {
   "cell_type": "code",
   "execution_count": null,
   "metadata": {},
   "outputs": [],
   "source": []
  },
  {
   "cell_type": "code",
   "execution_count": null,
   "metadata": {},
   "outputs": [],
   "source": []
  },
  {
   "cell_type": "code",
   "execution_count": null,
   "metadata": {},
   "outputs": [],
   "source": []
  },
  {
   "cell_type": "code",
   "execution_count": null,
   "metadata": {},
   "outputs": [],
   "source": []
  },
  {
   "cell_type": "code",
   "execution_count": 76,
   "metadata": {},
   "outputs": [
    {
     "data": {
      "text/html": [
       "<script>\n",
       "code_show=true; \n",
       "function code_toggle() {\n",
       " if (code_show){\n",
       " $('div.input').hide();\n",
       " } else {\n",
       " $('div.input').show();\n",
       " }\n",
       " code_show = !code_show\n",
       "} \n",
       "$( document ).ready(code_toggle);\n",
       "</script><a href=\"javascript:code_toggle()\">Hide</a> code."
      ],
      "text/plain": [
       "<IPython.core.display.HTML object>"
      ]
     },
     "execution_count": 76,
     "metadata": {},
     "output_type": "execute_result"
    }
   ],
   "source": [
    "HTML('''<script>\n",
    "code_show=true; \n",
    "function code_toggle() {\n",
    " if (code_show){\n",
    " $('div.input').hide();\n",
    " } else {\n",
    " $('div.input').show();\n",
    " }\n",
    " code_show = !code_show\n",
    "} \n",
    "$( document ).ready(code_toggle);\n",
    "</script><a href=\"javascript:code_toggle()\">Hide</a> code.''')"
   ]
  },
  {
   "cell_type": "code",
   "execution_count": null,
   "metadata": {},
   "outputs": [],
   "source": []
  },
  {
   "cell_type": "code",
   "execution_count": null,
   "metadata": {},
   "outputs": [],
   "source": []
  },
  {
   "cell_type": "code",
   "execution_count": null,
   "metadata": {},
   "outputs": [],
   "source": []
  },
  {
   "cell_type": "code",
   "execution_count": null,
   "metadata": {},
   "outputs": [],
   "source": []
  },
  {
   "cell_type": "code",
   "execution_count": null,
   "metadata": {},
   "outputs": [],
   "source": []
  },
  {
   "cell_type": "code",
   "execution_count": null,
   "metadata": {},
   "outputs": [],
   "source": [
    "    "
   ]
  }
 ],
 "metadata": {
  "kernelspec": {
   "display_name": "Python 3",
   "language": "python",
   "name": "python3"
  },
  "language_info": {
   "codemirror_mode": {
    "name": "ipython",
    "version": 3
   },
   "file_extension": ".py",
   "mimetype": "text/x-python",
   "name": "python",
   "nbconvert_exporter": "python",
   "pygments_lexer": "ipython3",
   "version": "3.6.7"
  }
 },
 "nbformat": 4,
 "nbformat_minor": 2
}
