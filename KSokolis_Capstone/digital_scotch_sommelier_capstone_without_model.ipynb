{
 "cells": [
  {
   "cell_type": "markdown",
   "metadata": {
    "heading_collapsed": true
   },
   "source": [
    "# Digital Scotch Sommelier Capstone"
   ]
  },
  {
   "cell_type": "code",
   "execution_count": 1,
   "metadata": {
    "code_folding": [],
    "hidden": true
   },
   "outputs": [],
   "source": [
    "# Imports\n",
    "from __future__ import print_function\n",
    "\n",
    "import pandas as pd\n",
    "import re\n",
    "import numpy as np\n",
    "import seaborn as sns\n",
    "import decimal\n",
    "import ipywidgets as widgets\n",
    "import matplotlib.pyplot as plt\n",
    "import nltk\n",
    "\n",
    "from sklearn.model_selection import train_test_split, KFold, cross_val_score\n",
    "from sklearn.linear_model import LinearRegression\n",
    "from sklearn.metrics import r2_score\n",
    "from sklearn.ensemble import RandomForestRegressor, RandomForestClassifier\n",
    "from sklearn.model_selection import GridSearchCV, RandomizedSearchCV\n",
    "from sklearn.feature_extraction.text import CountVectorizer, TfidfVectorizer\n",
    "\n",
    "from bs4 import BeautifulSoup\n",
    "\n",
    "from nltk.tokenize import word_tokenize, regexp_tokenize\n",
    "from nltk.corpus import stopwords\n",
    "\n",
    "from ipywidgets import interact, interactive, fixed, interact_manual\n",
    "from ipywidgets import widgets, interact, interact_manual, fixed\n",
    "from IPython.display import display, clear_output, HTML, Javascript\n",
    "\n",
    "sns.set()\n",
    "pd.options.mode.chained_assignment = None\n",
    "pd.set_option('display.max_colwidth', -1)\n",
    "pd.set_option('display.max_rows', None)\n",
    "%matplotlib inline"
   ]
  },
  {
   "cell_type": "code",
   "execution_count": null,
   "metadata": {
    "hidden": true
   },
   "outputs": [],
   "source": []
  },
  {
   "cell_type": "markdown",
   "metadata": {
    "heading_collapsed": true
   },
   "source": [
    "# Raw Input Questions"
   ]
  },
  {
   "cell_type": "markdown",
   "metadata": {
    "hidden": true
   },
   "source": [
    "---\n",
    "## - What is your price range? \n",
    "\n",
    "\n",
    "| Below 50 | 50 to 100 | 100 to 150 | 150 to 200 | 200 to 500 | Above 500 |\n",
    "|:--------:|:---------:|:----------:|:----------:|:----------:|:---------:|\n",
    "\n",
    "---"
   ]
  },
  {
   "cell_type": "code",
   "execution_count": 2,
   "metadata": {
    "hidden": true
   },
   "outputs": [],
   "source": [
    "def price_range_f(price_range):\n",
    "    return price_range"
   ]
  },
  {
   "cell_type": "code",
   "execution_count": 3,
   "metadata": {
    "hidden": true
   },
   "outputs": [],
   "source": [
    "price_range = interactive(\n",
    "    price_range_f,\n",
    "    price_range=[\n",
    "        'Below 50', '50 to 100', '100 to 150', '150 to 200', '200 to 500', 'Above 500'\n",
    "    ])"
   ]
  },
  {
   "cell_type": "markdown",
   "metadata": {
    "hidden": true
   },
   "source": [
    "---\n",
    "## - What category would you prefer?\n",
    "\n",
    "\n",
    "| Blended Scotch | Single Malt Scotch | Single Grain Scotch |\n",
    "|:--------------:|:------------------:|:-------------------:|\n",
    "\n",
    "---"
   ]
  },
  {
   "cell_type": "code",
   "execution_count": 4,
   "metadata": {
    "hidden": true
   },
   "outputs": [],
   "source": [
    "def category_f(type_range):\n",
    "    return type_range"
   ]
  },
  {
   "cell_type": "code",
   "execution_count": 5,
   "metadata": {
    "hidden": true
   },
   "outputs": [],
   "source": [
    "type_range = interactive(\n",
    "    category_f,\n",
    "    type_range=[\n",
    "        'Blended Scotch', 'Single Malt Scotch', 'Single Grain Scotch'\n",
    "    ])"
   ]
  },
  {
   "cell_type": "markdown",
   "metadata": {
    "hidden": true
   },
   "source": [
    "\n",
    "---\n",
    "## - What ABV level would you prefer?\n",
    "\n",
    "| Below 40% | 40% | Above 40% |\n",
    "|:---------:|:---:|:---------:|\n",
    "\n",
    "---\n"
   ]
  },
  {
   "cell_type": "code",
   "execution_count": 6,
   "metadata": {
    "hidden": true
   },
   "outputs": [],
   "source": [
    "def abv_range_f(abv_range):\n",
    "    return abv_range"
   ]
  },
  {
   "cell_type": "code",
   "execution_count": 7,
   "metadata": {
    "hidden": true
   },
   "outputs": [],
   "source": [
    "abv_range = interactive(\n",
    "    abv_range_f, abv_range=['40%', 'Below 40%', 'Above 40%'])"
   ]
  },
  {
   "cell_type": "markdown",
   "metadata": {
    "hidden": true
   },
   "source": [
    "\n",
    "---\n",
    "## - What tasting notes do you prefer?\n",
    "\n",
    "| taste | taste  | taste | taste    | taste  | taste     |\n",
    "|:-----:|:------:|:-----:|:--------:|:------:|:---------:|\n",
    "| earth | fruit  | honey | cream    | malt   | herbal    |\n",
    "| wood  | floral | nutty | ginger   | citrus | vanilla   |\n",
    "| spicy | peaty  | dry   | toffee   | pepper | caramel   |\n",
    "| malt  | silk   | syrup | toast    | oil    | chocolate |\n",
    "| wine  | cereal | salty | cinnamon | sweet  |           |\n",
    "\n",
    "---\n",
    "---"
   ]
  },
  {
   "cell_type": "code",
   "execution_count": 8,
   "metadata": {
    "hidden": true
   },
   "outputs": [],
   "source": [
    "def taste_notes1(flavor_1):\n",
    "    return flavor_1"
   ]
  },
  {
   "cell_type": "code",
   "execution_count": 9,
   "metadata": {
    "hidden": true
   },
   "outputs": [],
   "source": [
    "def taste_notes2(flavor_2):\n",
    "    return flavor_2"
   ]
  },
  {
   "cell_type": "code",
   "execution_count": 10,
   "metadata": {
    "hidden": true
   },
   "outputs": [],
   "source": [
    "def taste_notes3(flavor_3):\n",
    "    return flavor_3"
   ]
  },
  {
   "cell_type": "code",
   "execution_count": 11,
   "metadata": {
    "hidden": true
   },
   "outputs": [],
   "source": [
    "flavor_1 = interactive(\n",
    "    taste_notes1,\n",
    "    flavor_1=[\n",
    "        '', 'earth', 'wood', 'spice', 'malt', 'wine', 'fruit', 'floral', 'peat',\n",
    "        'silk', 'cereal', 'honey', 'nut', 'dry', 'syrup', 'salt', 'cream',\n",
    "        'ginger', 'toffee', 'toast', 'cinnamon', 'malt', 'citrus', 'pepper',\n",
    "        'oil', 'sweet', 'herbal', 'vanilla', 'caramel', 'chocolate'\n",
    "    ])"
   ]
  },
  {
   "cell_type": "code",
   "execution_count": 12,
   "metadata": {
    "hidden": true
   },
   "outputs": [],
   "source": [
    "flavor_2 = interactive(\n",
    "    taste_notes2,\n",
    "    flavor_2=[\n",
    "        '', 'earth', 'wood', 'spice', 'malt', 'wine', 'fruit', 'floral', 'peat',\n",
    "        'silk', 'cereal', 'honey', 'nut', 'dry', 'syrup', 'salt', 'cream',\n",
    "        'ginger', 'toffee', 'toast', 'cinnamon', 'malt', 'citrus', 'pepper',\n",
    "        'oil', 'sweet', 'herbal', 'vanilla', 'caramel', 'chocolate'\n",
    "    ])"
   ]
  },
  {
   "cell_type": "code",
   "execution_count": 13,
   "metadata": {
    "hidden": true
   },
   "outputs": [],
   "source": [
    "flavor_3 = interactive(\n",
    "    taste_notes3,\n",
    "    flavor_3=[\n",
    "        '', 'earth', 'wood', 'spice', 'malt', 'wine', 'fruit', 'floral', 'peat',\n",
    "        'silk', 'cereal', 'honey', 'nut', 'dry', 'syrup', 'salt', 'cream',\n",
    "        'ginger', 'toffee', 'toast', 'cinnamon', 'malt', 'citrus', 'pepper',\n",
    "        'oil', 'sweet', 'herbal', 'vanilla', 'caramel', 'chocolate'\n",
    "    ])"
   ]
  },
  {
   "cell_type": "code",
   "execution_count": null,
   "metadata": {
    "hidden": true
   },
   "outputs": [],
   "source": []
  },
  {
   "cell_type": "code",
   "execution_count": 14,
   "metadata": {
    "hidden": true
   },
   "outputs": [],
   "source": [
    "# Reading in the scotch reviews data received from Kaggle\n",
    "scotch = pd.read_csv('./dataset/scotch_review.csv')"
   ]
  },
  {
   "cell_type": "code",
   "execution_count": 15,
   "metadata": {
    "hidden": true
   },
   "outputs": [],
   "source": [
    "scotch['category'] = pd.DataFrame(scotch['category']).replace(\n",
    "    {\n",
    "        'Blended Malt Scotch Whisky': 'Blended Scotch',\n",
    "        'Blended Scotch Whisky': 'Blended Scotch',\n",
    "        'Grain Scotch Whisky': 'Single Grain Scotch',\n",
    "        'Single Grain Whisky': 'Single Grain Scotch'\n",
    "    })"
   ]
  },
  {
   "cell_type": "code",
   "execution_count": 16,
   "metadata": {
    "hidden": true
   },
   "outputs": [],
   "source": [
    "# scotch.shape"
   ]
  },
  {
   "cell_type": "code",
   "execution_count": 17,
   "metadata": {
    "hidden": true
   },
   "outputs": [],
   "source": [
    "# scotch['price']"
   ]
  },
  {
   "cell_type": "code",
   "execution_count": null,
   "metadata": {
    "hidden": true
   },
   "outputs": [],
   "source": []
  },
  {
   "cell_type": "code",
   "execution_count": 18,
   "metadata": {
    "hidden": true
   },
   "outputs": [],
   "source": [
    "scotch['price'] = scotch['price'].map(lambda x: ''.join(str(x).split(',')))"
   ]
  },
  {
   "cell_type": "code",
   "execution_count": null,
   "metadata": {
    "hidden": true
   },
   "outputs": [],
   "source": []
  },
  {
   "cell_type": "code",
   "execution_count": 19,
   "metadata": {
    "hidden": true
   },
   "outputs": [],
   "source": [
    "# Dropping Unnamed: 0 due to being unneeded\n",
    "# and currency due to all are in USD\n",
    "scotch.drop(['Unnamed: 0', 'currency'], axis=1, inplace=True)"
   ]
  },
  {
   "cell_type": "code",
   "execution_count": 20,
   "metadata": {
    "hidden": true
   },
   "outputs": [],
   "source": [
    "# Verify correct columns have dropped\n",
    "# scotch.head()"
   ]
  },
  {
   "cell_type": "code",
   "execution_count": 21,
   "metadata": {
    "hidden": true
   },
   "outputs": [],
   "source": [
    "# Renaming column for simplicity\n",
    "scotch.rename(index=str, columns={'review.point': 'points'}, inplace=True)"
   ]
  },
  {
   "cell_type": "code",
   "execution_count": 22,
   "metadata": {
    "hidden": true,
    "scrolled": true
   },
   "outputs": [],
   "source": [
    "# Seeing the dtypes of each column\n",
    "# scotch.info()"
   ]
  },
  {
   "cell_type": "code",
   "execution_count": 23,
   "metadata": {
    "hidden": true
   },
   "outputs": [],
   "source": [
    "# Sorting the price\n",
    "# sorted(scotch.price)"
   ]
  },
  {
   "cell_type": "code",
   "execution_count": 24,
   "metadata": {
    "hidden": true
   },
   "outputs": [],
   "source": [
    "# Extracting and just the numbers from the price\n",
    "scotch['price'] = scotch['price'].str.extract('(\\d\\d\\d*|\\d)')\n",
    "# scotch['price']"
   ]
  },
  {
   "cell_type": "code",
   "execution_count": 25,
   "metadata": {
    "hidden": true
   },
   "outputs": [],
   "source": [
    "# Changing all strings to floats\n",
    "scotch['price'] = scotch['price'].astype(str).astype(float)"
   ]
  },
  {
   "cell_type": "code",
   "execution_count": null,
   "metadata": {
    "hidden": true
   },
   "outputs": [],
   "source": []
  },
  {
   "cell_type": "code",
   "execution_count": 26,
   "metadata": {
    "hidden": true
   },
   "outputs": [],
   "source": [
    "# scotch.dtypes"
   ]
  },
  {
   "cell_type": "code",
   "execution_count": 27,
   "metadata": {
    "hidden": true
   },
   "outputs": [],
   "source": [
    "# scotch.shape"
   ]
  },
  {
   "cell_type": "code",
   "execution_count": 28,
   "metadata": {
    "hidden": true
   },
   "outputs": [],
   "source": [
    "# Finding all the scotches that have an abv associated\n",
    "# and breaking them into a new column\n",
    "\n",
    "scotch['abv'] = scotch['name'].str.extract('(\\d\\d%|\\d\\d.\\d%)')\n",
    "\n",
    "# print('%.1f%% of the scotches have an abv associated with them.' %((1-(scotch['abv'].isnull().sum()/len(scotch['abv'])))*100))"
   ]
  },
  {
   "cell_type": "code",
   "execution_count": 29,
   "metadata": {
    "hidden": true
   },
   "outputs": [],
   "source": [
    "# Since there are so few nan I will just drop them\n",
    "scotch['abv'].dropna(inplace=True)"
   ]
  },
  {
   "cell_type": "code",
   "execution_count": 30,
   "metadata": {
    "hidden": true
   },
   "outputs": [],
   "source": [
    "# Because abv was with the name column before, it was a string\n",
    "# Converted it to a float\n",
    "scotch['abv'] = scotch['abv'].astype(str).str[:-1].astype(float)"
   ]
  },
  {
   "cell_type": "code",
   "execution_count": 31,
   "metadata": {
    "hidden": true
   },
   "outputs": [],
   "source": [
    "# Finding the nan\n",
    "# scotch['abv'].isnull().sum()"
   ]
  },
  {
   "cell_type": "code",
   "execution_count": 32,
   "metadata": {
    "hidden": true
   },
   "outputs": [],
   "source": [
    "# Dropping the nan\n",
    "scotch['abv'].dropna(inplace=True)"
   ]
  },
  {
   "cell_type": "code",
   "execution_count": 33,
   "metadata": {
    "hidden": true
   },
   "outputs": [],
   "source": [
    "# Verifying nan drop\n",
    "# scotch['abv'].isnull().sum()"
   ]
  },
  {
   "cell_type": "code",
   "execution_count": 34,
   "metadata": {
    "hidden": true
   },
   "outputs": [],
   "source": [
    "# Another verification for fun\n",
    "# print('%.1f%% of the scotches have an abv associated with them.' %((1-(scotch['abv'].isnull().sum()/len(scotch['abv'])))*100))"
   ]
  },
  {
   "cell_type": "code",
   "execution_count": 35,
   "metadata": {
    "hidden": true
   },
   "outputs": [],
   "source": [
    "# scotch.head()"
   ]
  },
  {
   "cell_type": "code",
   "execution_count": 36,
   "metadata": {
    "hidden": true
   },
   "outputs": [],
   "source": [
    "# Separating prices into 6 understandable bins\n",
    "bins_price = [0, 50, 100, 150, 200, 500, np.inf]\n",
    "price = [\n",
    "    'Below 50', '50 to 100', '100 to 150', '150 to 200', '200 to 500',\n",
    "    'Above 500'\n",
    "]\n",
    "\n",
    "scotch['price_categories'] = pd.cut(scotch['price'], bins_price, labels=price)"
   ]
  },
  {
   "cell_type": "code",
   "execution_count": 37,
   "metadata": {
    "hidden": true
   },
   "outputs": [],
   "source": [
    "# Separating abv into 3 understandable bins\n",
    "bins_abv = [0, 39, 40, np.inf]\n",
    "abv = ['Below 40%', '40%', 'Above 40%']\n",
    "\n",
    "scotch['abv_categories'] = pd.cut(scotch['abv'], bins_abv, labels=abv)"
   ]
  },
  {
   "cell_type": "code",
   "execution_count": 38,
   "metadata": {
    "hidden": true,
    "scrolled": true
   },
   "outputs": [],
   "source": [
    "# scotch.shape"
   ]
  },
  {
   "cell_type": "code",
   "execution_count": 39,
   "metadata": {
    "hidden": true
   },
   "outputs": [],
   "source": [
    "scotch.drop_duplicates(keep='first', inplace=True)"
   ]
  },
  {
   "cell_type": "code",
   "execution_count": 40,
   "metadata": {
    "hidden": true
   },
   "outputs": [],
   "source": [
    "# Creating the corpus\n",
    "text_corpus = scotch['description']"
   ]
  },
  {
   "cell_type": "markdown",
   "metadata": {
    "hidden": true
   },
   "source": [
    "## CountVectorizer"
   ]
  },
  {
   "cell_type": "markdown",
   "metadata": {},
   "source": [
    "# Preference Selection"
   ]
  },
  {
   "cell_type": "code",
   "execution_count": 41,
   "metadata": {},
   "outputs": [
    {
     "data": {
      "application/vnd.jupyter.widget-view+json": {
       "model_id": "b5c5034ff54e4245ac940437c7c73932",
       "version_major": 2,
       "version_minor": 0
      },
      "text/plain": [
       "interactive(children=(Dropdown(description='price_range', options=('Below 50', '50 to 100', '100 to 150', '150…"
      ]
     },
     "metadata": {},
     "output_type": "display_data"
    },
    {
     "data": {
      "application/vnd.jupyter.widget-view+json": {
       "model_id": "73527ac4647b466e917a624489a590dd",
       "version_major": 2,
       "version_minor": 0
      },
      "text/plain": [
       "interactive(children=(Dropdown(description='type_range', options=('Blended Scotch', 'Single Malt Scotch', 'Sin…"
      ]
     },
     "metadata": {},
     "output_type": "display_data"
    },
    {
     "data": {
      "application/vnd.jupyter.widget-view+json": {
       "model_id": "63de0090ee9348b3b8a3c072b4d7da45",
       "version_major": 2,
       "version_minor": 0
      },
      "text/plain": [
       "interactive(children=(Dropdown(description='abv_range', options=('40%', 'Below 40%', 'Above 40%'), value='40%'…"
      ]
     },
     "metadata": {},
     "output_type": "display_data"
    },
    {
     "data": {
      "application/vnd.jupyter.widget-view+json": {
       "model_id": "046c2b213ea447b6834ac42571329dad",
       "version_major": 2,
       "version_minor": 0
      },
      "text/plain": [
       "interactive(children=(Dropdown(description='flavor_1', options=('', 'earth', 'wood', 'spice', 'malt', 'wine', …"
      ]
     },
     "metadata": {},
     "output_type": "display_data"
    },
    {
     "data": {
      "application/vnd.jupyter.widget-view+json": {
       "model_id": "4db69adbeda0417fb374de0d40d6b81c",
       "version_major": 2,
       "version_minor": 0
      },
      "text/plain": [
       "interactive(children=(Dropdown(description='flavor_2', options=('', 'earth', 'wood', 'spice', 'malt', 'wine', …"
      ]
     },
     "metadata": {},
     "output_type": "display_data"
    },
    {
     "data": {
      "application/vnd.jupyter.widget-view+json": {
       "model_id": "f15b472bc45f4ac7ad1aaeca9b80ee5c",
       "version_major": 2,
       "version_minor": 0
      },
      "text/plain": [
       "interactive(children=(Dropdown(description='flavor_3', options=('', 'earth', 'wood', 'spice', 'malt', 'wine', …"
      ]
     },
     "metadata": {},
     "output_type": "display_data"
    },
    {
     "data": {
      "application/vnd.jupyter.widget-view+json": {
       "model_id": "4c3e04221ba0489f9857cc0a6db21da8",
       "version_major": 2,
       "version_minor": 0
      },
      "text/plain": [
       "Button(description='Recommend', style=ButtonStyle())"
      ]
     },
     "metadata": {},
     "output_type": "display_data"
    }
   ],
   "source": [
    "# Select each other categories\n",
    "display(price_range)\n",
    "display(type_range)\n",
    "display(abv_range)\n",
    "display(flavor_1)\n",
    "display(flavor_2)\n",
    "display(flavor_3)\n",
    "\n",
    "price_range_drop = price_range.result\n",
    "category_range_drop = type_range.result\n",
    "abv_range_drop = abv_range.result\n",
    "first_taste_drop1 = flavor_1.result\n",
    "second_taste_drop2 = flavor_2.result\n",
    "third_taste_drop3 = flavor_3.result\n",
    "\n",
    "# # Should change with every change of a drop down\n",
    "# print(price_range_drop)\n",
    "# print(category_range_drop)\n",
    "# print(abv_range_drop)\n",
    "# print(first_taste_drop1)\n",
    "# print(second_taste_drop2)\n",
    "# print(third_taste_drop3)\n",
    "\n",
    "# These should be the inputs your scotch preferances so they\n",
    "# can be made into a dataframe\n",
    "scotch_pref = pd.DataFrame({\n",
    "    'price_range_drop': [price_range_drop],\n",
    "    'category_range_drop': [category_range_drop],\n",
    "    'abv_range_drop': [abv_range_drop],\n",
    "    'first_taste_drop1': [first_taste_drop1],\n",
    "    'second_taste_drop2': [second_taste_drop2],\n",
    "    'third_taste_drop3': [third_taste_drop3]\n",
    "},\n",
    "                           index=[0]).T\n",
    "# scotch_pref\n",
    "\n",
    "price_pref = scotch.loc[scotch['price_categories'] == price_range_drop]\n",
    "\n",
    "category_pref = scotch.loc[scotch['category'] == category_range_drop]\n",
    "\n",
    "abv_pref = scotch.loc[scotch['abv_categories'] == abv_range_drop]\n",
    "\n",
    "# price_pref.head()\n",
    "\n",
    "# category_pref.head()\n",
    "\n",
    "# abv_pref.head()\n",
    "\n",
    "abv_price_pref = price_pref.merge(abv_pref, how='inner', on=['name'])\n",
    "\n",
    "abv_price_cat_pref = abv_price_pref.merge(\n",
    "    category_pref, how='inner', on=['name'])\n",
    "\n",
    "# abv_price_cat_pref.head()\n",
    "\n",
    "basic_pref = abv_price_cat_pref[[\n",
    "    'name', 'category', 'points', 'price', 'abv', 'description'\n",
    "]]\n",
    "\n",
    "# basic_pref.shape\n",
    "\n",
    "# len(basic_pref)\n",
    "\n",
    "def run_all(ev):\n",
    "    display(Javascript('IPython.notebook.execute_cells_below()'))\n",
    "\n",
    "button = widgets.Button(description=\"Recommend\")\n",
    "button.on_click(run_all)\n",
    "display(button)"
   ]
  },
  {
   "cell_type": "markdown",
   "metadata": {},
   "source": [
    "# Recommendations"
   ]
  },
  {
   "cell_type": "code",
   "execution_count": 42,
   "metadata": {
    "scrolled": false
   },
   "outputs": [
    {
     "name": "stdout",
     "output_type": "stream",
     "text": [
      "Showing 79 recommendations!\n"
     ]
    },
    {
     "data": {
      "text/html": [
       "<div>\n",
       "<style scoped>\n",
       "    .dataframe tbody tr th:only-of-type {\n",
       "        vertical-align: middle;\n",
       "    }\n",
       "\n",
       "    .dataframe tbody tr th {\n",
       "        vertical-align: top;\n",
       "    }\n",
       "\n",
       "    .dataframe thead th {\n",
       "        text-align: right;\n",
       "    }\n",
       "</style>\n",
       "<table border=\"1\" class=\"dataframe\">\n",
       "  <thead>\n",
       "    <tr style=\"text-align: right;\">\n",
       "      <th></th>\n",
       "      <th>name</th>\n",
       "      <th>category</th>\n",
       "      <th>points</th>\n",
       "      <th>price</th>\n",
       "      <th>abv</th>\n",
       "      <th>description</th>\n",
       "    </tr>\n",
       "  </thead>\n",
       "  <tbody>\n",
       "    <tr>\n",
       "      <th>0</th>\n",
       "      <td>Johnnie Walker Double Black, 40%</td>\n",
       "      <td>Blended Scotch</td>\n",
       "      <td>90</td>\n",
       "      <td>40.0</td>\n",
       "      <td>40.0</td>\n",
       "      <td>So how brave can you be? Would you take one of the world's most iconic blends and risk messing with it? If you've got a whisky maker as good as Jim Beveridge, then why not? This picks up from the regular JW Black and its signature Caol Ila smoke and peat heart and then adds to it, doing exactly what it says on the tin. But the clever part of this is upping the apple, orange, and fruit content too. Great.</td>\n",
       "    </tr>\n",
       "    <tr>\n",
       "      <th>1</th>\n",
       "      <td>Dewar’s 15 year old The Monarch, 40%</td>\n",
       "      <td>Blended Scotch</td>\n",
       "      <td>90</td>\n",
       "      <td>50.0</td>\n",
       "      <td>40.0</td>\n",
       "      <td>The divine stone fruit aromas are the key to unlocking the nose on this one: apricot, honey, vanilla icing, malt bins, Quaker Oats Squares, and lofty floral top notes. Sweet mandarin, brown sugar, vanilla fudge, strands of finely shredded peel, and more spice than the 12 year old can muster. The sweet vanilla aftertaste is softer and more elegant than the younger expressions.</td>\n",
       "    </tr>\n",
       "    <tr>\n",
       "      <th>2</th>\n",
       "      <td>Shackleton, 40%</td>\n",
       "      <td>Blended Scotch</td>\n",
       "      <td>90</td>\n",
       "      <td>35.0</td>\n",
       "      <td>40.0</td>\n",
       "      <td>One hundred ten years after the Nimrod expedition, blender Richard Paterson’s adventurous marriage of over 20 Highland malts brings fresh green fruits, manuka honey, vanilla, banana muffin, cantaloupe, fresh herbs, spice, and a wisp of smoke. Refreshing palate of green melon, light honey, vanilla, cinnamon, cooked apple, and gooseberry, becoming sour. More complexity on the finish: spice, smoke, cooked fruits, and chalky Sweethearts candies. Pair with mature prosciutto.</td>\n",
       "    </tr>\n",
       "    <tr>\n",
       "      <th>3</th>\n",
       "      <td>Johnnie Walker Blenders’ Batch Sherry Cask Finish 12 year old, 40%</td>\n",
       "      <td>Blended Scotch</td>\n",
       "      <td>89</td>\n",
       "      <td>44.0</td>\n",
       "      <td>40.0</td>\n",
       "      <td>Blender Aimée Gibson’s experimental batch 7 is designed as a sherry finished Black Label. Beautifully smoky, with dried fruits, charred oak, wood spices, vanilla, cocoa, and bonfire smoke. Toffee flavors, with thick smoke, red fruits, orange, raisin, oak spice, gingerbread, marshmallow, strawberry jam, and dark marmalade. Dry finish with bitter peels, dark chocolate, and some feisty spices. In comparison, regular Black Label is silkier, more integrated, and more peppery. (Global Travel Retail only)</td>\n",
       "    </tr>\n",
       "    <tr>\n",
       "      <th>4</th>\n",
       "      <td>Dewar’s 12 year old The Ancestor, 40%</td>\n",
       "      <td>Blended Scotch</td>\n",
       "      <td>89</td>\n",
       "      <td>33.0</td>\n",
       "      <td>40.0</td>\n",
       "      <td>A straightforward proposition of honey, vanilla sponge cake, barley notes, hints of apple, fresh banana, melon, and bundles of dry straw. It’s a sweetheart: soft vanilla fudge, heather honey, banana-topped banoffee pie, fudge, vanilla sandwich cookies, barley sugar, and lemon peel, with hardly any spice in the early phase. The finish has a snag of pepper at the end, but this is gorgeously tasty, with smooth vanilla fudge all the way.</td>\n",
       "    </tr>\n",
       "    <tr>\n",
       "      <th>5</th>\n",
       "      <td>Cutty Sark Storm, 40%</td>\n",
       "      <td>Blended Scotch</td>\n",
       "      <td>89</td>\n",
       "      <td>31.0</td>\n",
       "      <td>40.0</td>\n",
       "      <td>Cutty Sark master blender Kirsteen Campbell has hit the ground running and is playing a leading role in the revival of this iconic blend. Storm is a very different whisky than Tam o' Shanter. The nose is nuanced and light, with orange jelly and citrus juice; the palate is sophisticated, fruity, perfectly balanced, rounded, and gentle, with a high-percentage malt content evident in the mix. The finish is quite short but very more-ish. An amazing whisky for the price. £20 VALUE PICK</td>\n",
       "    </tr>\n",
       "    <tr>\n",
       "      <th>6</th>\n",
       "      <td>The Naked Grouse, 40%</td>\n",
       "      <td>Blended Scotch</td>\n",
       "      <td>89</td>\n",
       "      <td>35.0</td>\n",
       "      <td>40.0</td>\n",
       "      <td>This is the latest spinoff from core blend The Famous Grouse, so there’s Macallan and Highland Park in here, and from the taste of it, in sizeable quantities. With smart but minimalist packaging and an environmental theme, this is a very ‘now’ whisky. It’s heavily sherried, very rich, and sweet, but there’s enough spice to stop it becoming cloying, and it’s as soft as a down feather blanket on the palate. You can easily drink it straight, too.</td>\n",
       "    </tr>\n",
       "    <tr>\n",
       "      <th>7</th>\n",
       "      <td>Johnnie Walker The Spice Road, 40%</td>\n",
       "      <td>Blended Scotch</td>\n",
       "      <td>88</td>\n",
       "      <td>43.0</td>\n",
       "      <td>40.0</td>\n",
       "      <td>Somebody at Diageo has been taking a lot of interest in the Johnnie Walker range of late, what with the revamp of the core range and now a regular stream of special releases. This is the first of a series for Travel Retail only, but it takes the Johnnie Walker themes — vanilla, spice, and honey, with wispy peat and smoke — and adds savory spice to the earthiness. But there are some very young notes in this.</td>\n",
       "    </tr>\n",
       "    <tr>\n",
       "      <th>8</th>\n",
       "      <td>Johnnie Walker Black Label 12 year old, 40%</td>\n",
       "      <td>Blended Scotch</td>\n",
       "      <td>88</td>\n",
       "      <td>30.0</td>\n",
       "      <td>40.0</td>\n",
       "      <td>Need you ask? An unmistakable classic and an exemplar of a blended Scotch whisky, famous around the world. Toffee, swirling caramel, whole almond, and mashed banana amid twisting white smoke. The palate has such poise, balance, and dexterity that it sets the standard for many less accomplished blends to aspire to. Conspicuously iconic, and the closest thing you will find to a complete whisky at this price.</td>\n",
       "    </tr>\n",
       "    <tr>\n",
       "      <th>9</th>\n",
       "      <td>Black Grouse Alpha Edition, 40%</td>\n",
       "      <td>Blended Scotch</td>\n",
       "      <td>88</td>\n",
       "      <td>41.0</td>\n",
       "      <td>40.0</td>\n",
       "      <td>Arguably the most successful of the Famous Grouse extensions (well, the competition includes Snow Grouse, for Pete's sake!), the Black Grouse brought ever-popular peat into the mix, a move that was followed by a peatier version of Johnnie Walker Black Label. The label says this is richer and peatier, and it is. But this scores most for a chicory/coffee and liquid licorice undercarpet that makes it very palatable indeed. Neat over ice. (Travel Retail exclusive)€33</td>\n",
       "    </tr>\n",
       "    <tr>\n",
       "      <th>10</th>\n",
       "      <td>Ballantine's Christmas Reserve 2011, 40%</td>\n",
       "      <td>Blended Scotch</td>\n",
       "      <td>88</td>\n",
       "      <td>37.0</td>\n",
       "      <td>40.0</td>\n",
       "      <td>Master blender Sandy Hyslop has deliberately attempted to capture Christmas in the glass, and so it should come as no surprise to find a rich, full, and flavorsome whisky with sherry trifle, red berries, orange fruit, and mince pie filling in the mix. It's put together with grace and style, mixes well, and is that rare beast — a blend that can be enjoyed on its own.</td>\n",
       "    </tr>\n",
       "    <tr>\n",
       "      <th>11</th>\n",
       "      <td>Te Bheag Blended Whisky, 40%</td>\n",
       "      <td>Blended Scotch</td>\n",
       "      <td>88</td>\n",
       "      <td>40.0</td>\n",
       "      <td>40.0</td>\n",
       "      <td>Pronounced “Te Veg,” this has its roots in the Isle of Skye, and as there’s only one distillery there it’s highly likely that the odd\\r\\ndrop of Talisker has found its way into the mix. Whether it has or not, this is stirring stuff, non-chill filtered so that the flavors burst forth. As you might expect, it’s rugged with brine and chili, giving it a distinctive spice edge. But the delivery is a caramel fudge delight, with luxury chocolate praline in there too.</td>\n",
       "    </tr>\n",
       "    <tr>\n",
       "      <th>12</th>\n",
       "      <td>Duncan Taylor 12 year old, 40%</td>\n",
       "      <td>Blended Scotch</td>\n",
       "      <td>88</td>\n",
       "      <td>25.0</td>\n",
       "      <td>40.0</td>\n",
       "      <td>When in doubt, the answer to any question is usually ‘more whisky.’ Here, peat smoke takes an upper hand over the sweet aromas of juicy orange and pear. The whisky begins icing-sugar sweet, settles to bubble gum, pear, apple, and malt, showing its impeccably balanced, finely textured character replete with strands of oak spices, gentle smoke, baked pastry, and vanilla custard. You can’t go wrong at this price.</td>\n",
       "    </tr>\n",
       "    <tr>\n",
       "      <th>13</th>\n",
       "      <td>J. Mossman Gold Crown 12 year old, 40%</td>\n",
       "      <td>Blended Scotch</td>\n",
       "      <td>88</td>\n",
       "      <td>43.0</td>\n",
       "      <td>40.0</td>\n",
       "      <td>Aromas of oloroso sherry, strawberry, almond paste, clove, licorice Allsorts, black treacle, and smoke from burning haystacks. Honeyed palate with citrus elements, light lemon, green melon, pear, redcurrant, and pineapple, brightened by some well-rounded spices and root ginger. It glides into a mouthful of chocolate-coated digestive biscuits with a little smoke, then a finish of citrus oils, fruit skins, and active spices. Brilliant and satisfying.</td>\n",
       "    </tr>\n",
       "    <tr>\n",
       "      <th>14</th>\n",
       "      <td>Johnnie Walker Blenders’ Batch Wine Cask, 40%,</td>\n",
       "      <td>Blended Scotch</td>\n",
       "      <td>87</td>\n",
       "      <td>30.0</td>\n",
       "      <td>40.0</td>\n",
       "      <td>Blender Aimée Gibson set out to make a sundowner scotch by incorporating whiskies matured in wine casks. The blueberry, blackcurrant, and fresh oak aromas continue on to the palate: fruit compote, raspberry, strawberry, and lingonberry with light spices. A late resurgence of dark toffee, chocolate, and cigar smoke blow into the finish. Sip away by all means, but this fruity sensation calls to be served up in long, cool drinks.</td>\n",
       "    </tr>\n",
       "    <tr>\n",
       "      <th>15</th>\n",
       "      <td>Anchor Bay, 40%</td>\n",
       "      <td>Blended Scotch</td>\n",
       "      <td>87</td>\n",
       "      <td>48.0</td>\n",
       "      <td>40.0</td>\n",
       "      <td>Lombard’s blend of Speyside malts pleases with an agreeable nose of orchard blossoms, flower honey, caramel, dry hay, and pears baked in brown granulated sugar. It’s homey and comforting, favoring its floral and fruity side. This is a light, sweet whisky that sweeps around the mouth, radiating maltiness, apple, grapefruit, dried mango strips, and mingling spices. A studiously long finish of sucked caramel candy and beeswax follows. A smart choice for the beginning of the evening. £30</td>\n",
       "    </tr>\n",
       "    <tr>\n",
       "      <th>16</th>\n",
       "      <td>Old Masters Freemason Whisky, 40%</td>\n",
       "      <td>Blended Scotch</td>\n",
       "      <td>87</td>\n",
       "      <td>30.0</td>\n",
       "      <td>40.0</td>\n",
       "      <td>Originally created by Lombard for the Freemasons, this has a flavorsome nose of dark chocolate chip cookies, light spices, coconut macaroons, malt, and bright, fresh bananas. The palate is light and unobtrusive, with honey and malt reinforced by the spices running underneath. A shift develops to some later cocoa and chocolate notes, and the mocha finish fades gracefully. A finely balanced concoction, and you will rarely find this quality and flavor for the price</td>\n",
       "    </tr>\n",
       "    <tr>\n",
       "      <th>17</th>\n",
       "      <td>Grand Macnish Black Edition, 40%</td>\n",
       "      <td>Blended Scotch</td>\n",
       "      <td>87</td>\n",
       "      <td>30.0</td>\n",
       "      <td>40.0</td>\n",
       "      <td>I am hopeful this blended whisky has benefited from the alligator char treatment to contribute to the deep, rich color and charred smoke notes on the nose. A thick, velvety mouthfeel, with butter toffee, toasted marshmallows going gooey on a stick, great spices, vanilla, whole nutmeg, chicory, and the crust of a well-fired fruit loaf leaving some sooty cinders on the finish. A mighty fireside companion and my favorite Grand Macnish to date.</td>\n",
       "    </tr>\n",
       "    <tr>\n",
       "      <th>18</th>\n",
       "      <td>Lord Elcho, 40%</td>\n",
       "      <td>Blended Scotch</td>\n",
       "      <td>87</td>\n",
       "      <td>43.0</td>\n",
       "      <td>40.0</td>\n",
       "      <td>Lord Elcho was an 18th century ancestor of William Wemyss, who fought on Bonnie Prince Charlie’s side at the Battle of Culloden in 1745. With a minimum of 40% malt, this fine blend has a rather perfumed nose of fresh mint, green apple, sliced melon, and tropical fruits. The soft candy sugar and butterscotch palate builds, with layers of malt, cherry laces, gingerbread, and pfeffernüsse leading to a ginger and spice finish of significant length. Highly accomplished. £26</td>\n",
       "    </tr>\n",
       "    <tr>\n",
       "      <th>19</th>\n",
       "      <td>The Famous Grouse Malt Whisky, 12 year old, 40%</td>\n",
       "      <td>Blended Scotch</td>\n",
       "      <td>86</td>\n",
       "      <td>35.0</td>\n",
       "      <td>40.0</td>\n",
       "      <td>Lovely balance on the nose and palate. Soft and gently textured, too. The sweetness of the whisky (honey, fruit gum drops, and malty vanilla), dovetail nicely with light, bright citrus and teasing dried spices. Heather/floral notes enhance the whisky’s complexity. Clean, delicately polished oak finish. A very versatile, inexpensive, easy-drinking whisky. \\r\\n</td>\n",
       "    </tr>\n",
       "    <tr>\n",
       "      <th>20</th>\n",
       "      <td>Chivas Regal 12 year old, 40%</td>\n",
       "      <td>Blended Scotch</td>\n",
       "      <td>86</td>\n",
       "      <td>25.0</td>\n",
       "      <td>40.0</td>\n",
       "      <td>The assured Scotch whisky that became one of the classic blends. Dry and sweet, with a nose of vanilla sponge, fresh cut flowers, and marzipan over a malty base. Pleasingly oily, with flavors of burning butter, malty toffee, and cake mix, with gentle spices and hints of chocolate appearing the longer you hold off swallowing. The glossy mouthfeel makes this feel like an everyday luxury. A finish of spent spices, cocoa, hazelnut, and a waft of smoke brings it home.</td>\n",
       "    </tr>\n",
       "    <tr>\n",
       "      <th>21</th>\n",
       "      <td>Islay Mist, 12 year old, 40%</td>\n",
       "      <td>Blended Scotch</td>\n",
       "      <td>86</td>\n",
       "      <td>50.0</td>\n",
       "      <td>40.0</td>\n",
       "      <td>More rounded, with greater depth when compared to the 8 year old offering. Not as medicinal and less sweet, more toffee and less honey, with more dried spice interwoven throughout. The herbs are still there, along with licorice root. Dry, burning-ember finish. Nicely balanced, which makes it my favorite of the three.\\r\\n</td>\n",
       "    </tr>\n",
       "    <tr>\n",
       "      <th>22</th>\n",
       "      <td>The Black Grouse, 40%</td>\n",
       "      <td>Blended Scotch</td>\n",
       "      <td>86</td>\n",
       "      <td>29.0</td>\n",
       "      <td>40.0</td>\n",
       "      <td>One might assume this to be just a smoky version of the standard Famous Grouse (with its honeyed malt, bright fruit, and floral demeanor). But, in addition to the enhanced smoke (which caringly adds a new dimension without smothering the other flavors), there also seems to be more malt body and oak spice in the mix, which I think takes Black Grouse to a higher level than Famous Grouse. The grain whisky contributes a “drinkability” component, making it a great introduction to smoky whiskies.</td>\n",
       "    </tr>\n",
       "    <tr>\n",
       "      <th>23</th>\n",
       "      <td>Ballantine’s 12 year old, 40%</td>\n",
       "      <td>Blended Scotch</td>\n",
       "      <td>86</td>\n",
       "      <td>38.0</td>\n",
       "      <td>40.0</td>\n",
       "      <td>Wow! A noticeable step up in quality than Ballantine’s Finest (see below) with a perceptibly higher malt content. After Eight mints, Rolo toffees, spring florals, clean and creamy, plus some wood combine to produce an appealing nose. One sip confirms that this is gorgeously honeyed, layered, thick, and creamy, with heather honey, sweet oak, and ripe fruits, especially orange and mango. The finish is short, drying, sweet, and the only weak spot in an otherwise decent composition.</td>\n",
       "    </tr>\n",
       "    <tr>\n",
       "      <th>24</th>\n",
       "      <td>Grand Macnish 12 year old, 40%</td>\n",
       "      <td>Blended Scotch</td>\n",
       "      <td>86</td>\n",
       "      <td>25.0</td>\n",
       "      <td>40.0</td>\n",
       "      <td>With a bottle shape that makes you want to go bowling, this blend has admirable balance between the fruit and the smoke on the nose. The bonfire smoke is matched with aromas of tarte tartin, pecan nut, red apple, and sultana. Smooth and molten in the mouth, it has more weight and body than its older brother. There is citrus, apples, and the late arrival of baked spices, cookie dough, and mint chocolate on the finish.</td>\n",
       "    </tr>\n",
       "    <tr>\n",
       "      <th>25</th>\n",
       "      <td>Label 5 Extra Premium 12 year old, 40%</td>\n",
       "      <td>Blended Scotch</td>\n",
       "      <td>86</td>\n",
       "      <td>25.0</td>\n",
       "      <td>40.0</td>\n",
       "      <td>This is bursting with barley, sweet oak, and all-butter shortbread. There are charcoal sticks too, which add a cool smoke note. The taste is like a warm hug on a cold morning; flavors of butter toffee, orange, poached pear, and ginger snaps, which combine to keep that deep smoke in balance. The harmony continues into the lengthy finish with flavors of citrus, melon, and ground ginger.</td>\n",
       "    </tr>\n",
       "    <tr>\n",
       "      <th>26</th>\n",
       "      <td>Copper Dog, 40%</td>\n",
       "      <td>Blended Scotch</td>\n",
       "      <td>86</td>\n",
       "      <td>32.0</td>\n",
       "      <td>40.0</td>\n",
       "      <td>Named after the warehouseman’s preferred piece of pilfering paraphernalia, the 125 year old Craigellachie Hotel’s Copper Dog bar now boasts its own whisky. It’s an appealing blend of eight Speyside malts, with honey, warm toast, pecan nut, apple turnover, fudge fingers, and orange peel. Vanilla, orange pith, wood spice, caramel, and fresh apple develop into creamy nougat. Takes a while to come into focus, then concludes with a spicy finish.</td>\n",
       "    </tr>\n",
       "    <tr>\n",
       "      <th>27</th>\n",
       "      <td>The Famous Grouse Malt Whisky, 10 year old, 40%</td>\n",
       "      <td>Blended Scotch</td>\n",
       "      <td>85</td>\n",
       "      <td>30.0</td>\n",
       "      <td>40.0</td>\n",
       "      <td>For the past few years, Famous Grouse vintage vatted malt has been produced but not sold here in the U.S. They were in the 10-12 year old age range. This version being introduced to the U.S. is a non-vintage expression, and I don’t think it really matters. What matters is its taste. Major components of The Famous Grouse blended whiskies have included The Macallan and Highland Park, and there’s no doubt these malts are providing some of the richness and flavor complexity in this new expression. The whisky is quite hefty, with notes of juicy fruit, toffee, almonds, heather, and a wisp of vanilla and smoke. It is also very well balanced and quite a bargain for $30. \\r\\n</td>\n",
       "    </tr>\n",
       "    <tr>\n",
       "      <th>28</th>\n",
       "      <td>Famous Grouse Mellow Gold, 40%</td>\n",
       "      <td>Blended Scotch</td>\n",
       "      <td>85</td>\n",
       "      <td>33.0</td>\n",
       "      <td>40.0</td>\n",
       "      <td>This has enticing flavors that will meet with the approval of the regular Grouse drinker: heady florals with fresh peach, light honey, pecan, and underlying caramel. The palate is soothing with vanilla and tangerine, hallmarks of Grouse, plus rosewater, almond, and whispering spices. Gently does it, that’s the key to this: kick back and relax. This showcases the Midas touch of Gordon Motion’s skills in liquid alchemy. A great value blend to boot. £22</td>\n",
       "    </tr>\n",
       "    <tr>\n",
       "      <th>29</th>\n",
       "      <td>Chivas Regal Extra, 40%,</td>\n",
       "      <td>Blended Scotch</td>\n",
       "      <td>85</td>\n",
       "      <td>40.0</td>\n",
       "      <td>40.0</td>\n",
       "      <td>A new oloroso-forward Chivas positioned to split between the 12 and 18 year olds? I got this. Refined and inviting nose of lemon pith, black fruits, and Kola Kubes. The velvety texture is wonderfully smooth, redolent of an apricot custard Danish, lime zest, raisin, currant, mixed peel, and walnut, with a growing bitter-lemon note. Quite unique finish, like sucking on lumpy Spanish lemons speckled with spices. (LA, NY, Miami, Chicago, Northern California, but will go national)</td>\n",
       "    </tr>\n",
       "    <tr>\n",
       "      <th>30</th>\n",
       "      <td>Dewar’s White Label Scratched Cask, 40%</td>\n",
       "      <td>Blended Scotch</td>\n",
       "      <td>85</td>\n",
       "      <td>26.0</td>\n",
       "      <td>40.0</td>\n",
       "      <td>What lies beneath the surface of Dewar’s? Here, the blend is finished in virgin and first-fill bourbon casks especially charred, then scratched to enable deeper penetration. Thick wedge of vanilla and fudge with oaky accents, a dusty mouthfeel pulling in vanilla, light lemon, milk chocolate, and sweet toffee, ending on a cocoa powder note. Compared with regular White Label, this is less obviously sweet and creamy, adds complexity, and opens a bourbon connection. Certainly, this is up to scratch.</td>\n",
       "    </tr>\n",
       "    <tr>\n",
       "      <th>31</th>\n",
       "      <td>Dewar’s White Label, 40%</td>\n",
       "      <td>Blended Scotch</td>\n",
       "      <td>85</td>\n",
       "      <td>25.0</td>\n",
       "      <td>40.0</td>\n",
       "      <td>Honey, fudge, a little melon and white grape, dry roasted spices, and peppercorn, but noticeably less fruit than the age-statement varieties. The palate has pulpy white melon, lemon, lime, and some grapefruit acidity, before sweetening with honey. Quite tart at times, some peppery spice collaborates before the vanilla cream and green fruits take charge. A clean, juicy finish of lemon zest and mild spices coats the throat.</td>\n",
       "    </tr>\n",
       "    <tr>\n",
       "      <th>32</th>\n",
       "      <td>Shieldaig 12 year old, 40%</td>\n",
       "      <td>Blended Scotch</td>\n",
       "      <td>85</td>\n",
       "      <td>31.0</td>\n",
       "      <td>40.0</td>\n",
       "      <td>This is a sharp dresser, with a firm, solid mouthfeel and an altogether finer and more focused taste than Shieldaig Classic (see\\r\\nbelow). It’s not coastal or earthy particularly, either. Instead the flavors are softer and built around mocha, smooth creamy toffee, and some soft fruit, including a touch of overripe banana and melon notes. The savoriness this time comes from a touch of pepper rather than salt.</td>\n",
       "    </tr>\n",
       "    <tr>\n",
       "      <th>33</th>\n",
       "      <td>James Brookes Blended Whisky, 40%</td>\n",
       "      <td>Blended Scotch</td>\n",
       "      <td>85</td>\n",
       "      <td>18.0</td>\n",
       "      <td>40.0</td>\n",
       "      <td>This is like listening to a quiet and understated musician and slowly starting to realize that there are all sorts of clever\\r\\nnuances just beneath the surface. This evolves from a floral and welcoming nose, through a saline note and on to pepper and a Highland earthiness, but wrapped up in a rich, honeyed body. A nice balance between the ruggedness and sweet softness. All rather pleasant.</td>\n",
       "    </tr>\n",
       "    <tr>\n",
       "      <th>34</th>\n",
       "      <td>Sir Edward’s Smoky, 40%</td>\n",
       "      <td>Blended Scotch</td>\n",
       "      <td>85</td>\n",
       "      <td>22.0</td>\n",
       "      <td>40.0</td>\n",
       "      <td>This blend delivers just enough peat turf to live up to the name, without alienating the peat phobics. A pleasant nose of chocolate hazelnut, pecan nut, dried tropical fruits, and gentle wood and peat smoke.  Orange, toffee, banoffee pie, Kola Kubes, and a little spiciness. Plenty of flavor even if the mouthfeel is a little thin. A short finish with a spicy flare and a few lingering smoky embers. (Total Wine exclusive) Price per 1.75 liter</td>\n",
       "    </tr>\n",
       "    <tr>\n",
       "      <th>35</th>\n",
       "      <td>Duncan Taylor Five Star, 40%</td>\n",
       "      <td>Blended Scotch</td>\n",
       "      <td>85</td>\n",
       "      <td>17.0</td>\n",
       "      <td>40.0</td>\n",
       "      <td>It begins innocently enough. Ripening strawberries, cotton candy, and fudge on the nose, but with an undertow of devil-may-care spiciness. Soft mandarin citrus, vanilla fudge, sponge cupcakes, and a decent wedge of malt form the core of the palate; the spice is disappointingly mild considering the potential of the first sniff. Sweet and syrupy finish. Still, solid enough to make your world better at the end of a hard day.</td>\n",
       "    </tr>\n",
       "    <tr>\n",
       "      <th>36</th>\n",
       "      <td>Buchanan’s Deluxe 12 year old, 40%</td>\n",
       "      <td>Blended Scotch</td>\n",
       "      <td>85</td>\n",
       "      <td>30.0</td>\n",
       "      <td>40.0</td>\n",
       "      <td>Overlook the fact that this bottle is saddled with one of the most impenetrable closures known to mankind. Unperturbed, this blend flaunts its big toffee aromas, whole almond, and floral top notes. With light fudge and gentle orange influences, it is smooth and rounded, top loaded with spice and hazelnut at the front of the mouth. More grain character and roasted spices show through on the finish.</td>\n",
       "    </tr>\n",
       "    <tr>\n",
       "      <th>37</th>\n",
       "      <td>Buchanan’s Master, 40%</td>\n",
       "      <td>Blended Scotch</td>\n",
       "      <td>85</td>\n",
       "      <td>45.0</td>\n",
       "      <td>40.0</td>\n",
       "      <td>This adheres to the rules laid down by blender Keith Law. The nose yields mint toffees, cereal notes, butterscotch, and whole peppercorn. Juicy orange, with elements of burnt orange, dark toffees, and a pleasant balance of sweetness form the palate, followed by a wave of peppery spices and late dashes of dates and sultana. The finish has more peppery spice and peppermint. Obey the Law.</td>\n",
       "    </tr>\n",
       "    <tr>\n",
       "      <th>38</th>\n",
       "      <td>J&amp;B Rare, 40%</td>\n",
       "      <td>Blended Scotch</td>\n",
       "      <td>85</td>\n",
       "      <td>23.0</td>\n",
       "      <td>40.0</td>\n",
       "      <td>Justerini &amp; Brooks sold scotch in the U.S. before Prohibition. This light, Speyside-style blend has grassy notes, with crystalized lemon slices, Bramley apple peel, woodsmoke, and almonds. Light and sweet on the tongue, it unpacks lemon peel, satsuma, juicy watermelon, pepper, and aniseed. Grain whisky and herbal notes creep in late and permeate the finish.</td>\n",
       "    </tr>\n",
       "    <tr>\n",
       "      <th>39</th>\n",
       "      <td>Johnnie Walker Red Label, 40%</td>\n",
       "      <td>Blended Scotch</td>\n",
       "      <td>84</td>\n",
       "      <td>25.0</td>\n",
       "      <td>40.0</td>\n",
       "      <td>How does this long-established blend shape up on its own without a ginger or soda mixer? Fresh apple juice, a twist of lemon, dried orange peel, peppercorn, cracker bread, and a vegetal spicy note. It gets into its stride with delicious apple, gentle fudge, and good-tempered spices, with cracked black pepper and a little sourness to finish. Mild, agreeably smooth, without any bombast or hullabaloo; it just blends in.</td>\n",
       "    </tr>\n",
       "    <tr>\n",
       "      <th>40</th>\n",
       "      <td>The Antiquary 12 year old, 40%</td>\n",
       "      <td>Blended Scotch</td>\n",
       "      <td>84</td>\n",
       "      <td>27.0</td>\n",
       "      <td>40.0</td>\n",
       "      <td>Thick, viscous golden syrup, digestive biscuits, and Almond Joy bars underpin some soft, peaty aromas. It’s rather an appealing combination. Satin smooth on the tongue, with lemon, lime, orange, and dried pineapple, but enough malt to keep things interesting. The finish riffs on a ripe lemon theme accompanied by spicy stardust. For the few extra bucks, the more mature component whiskies make for a richer, fuller, and more satisfying experience than The Antiquary’s red-labeled bottle.</td>\n",
       "    </tr>\n",
       "    <tr>\n",
       "      <th>41</th>\n",
       "      <td>Lombard Gold Label, 40%</td>\n",
       "      <td>Blended Scotch</td>\n",
       "      <td>84</td>\n",
       "      <td>17.0</td>\n",
       "      <td>40.0</td>\n",
       "      <td>Good weight to this blend. Creamy and mouth-coating on the palate, with a nice malty, honey-tinged backbone. Bright fruitabounds, with golden raisin, lemon meringue, peach, and a hint of pineapple. Notes of creamy vanilla and gently nutty, through to its soft finish. \\r\\n</td>\n",
       "    </tr>\n",
       "    <tr>\n",
       "      <th>42</th>\n",
       "      <td>Master of Malt Secret Bottlings Series 8 year old, 40%</td>\n",
       "      <td>Blended Scotch</td>\n",
       "      <td>84</td>\n",
       "      <td>35.0</td>\n",
       "      <td>40.0</td>\n",
       "      <td>Master of Malt has accumulated quite a trophy cabinet for their work on blends. The nose is inviting, with butter toffee, Bramley apples, fennel seeds, cut lawns, and chocolate-covered oat biscuits. It’s a pretty smooth proposition, serving up caramel maltiness, stewed apple, and orange and grapefruit pith, with just a hint of sharp lemon freshness to open up with. The ginger finish is zappy but short. A solid, everyday blend.</td>\n",
       "    </tr>\n",
       "    <tr>\n",
       "      <th>43</th>\n",
       "      <td>Grant’s Signature, 40%</td>\n",
       "      <td>Blended Scotch</td>\n",
       "      <td>84</td>\n",
       "      <td>29.0</td>\n",
       "      <td>40.0</td>\n",
       "      <td>Brian Kinsman’s new creation was inspired by their founder William Grant, with a remit to create a malty blend of character. Digestive biscuits, malt, honeycomb, and confectioner’s chocolate melted over a bain-marie. It’s a satisfyingly rich dram, well-structured with a great mouthfeel that wanes with natural dilution. Banoffee pie, caramel biscuits, and maltiness deepen to flavors of coffee bean and molasses, leaving a teeth-coating finish of black coffee. (UK and France only) £18</td>\n",
       "    </tr>\n",
       "    <tr>\n",
       "      <th>44</th>\n",
       "      <td>Sir Edward’s 12 year old Blended Whisky, 40%</td>\n",
       "      <td>Blended Scotch</td>\n",
       "      <td>84</td>\n",
       "      <td>22.0</td>\n",
       "      <td>40.0</td>\n",
       "      <td>A very different whisky to its unaged namesake, and most unlike any of the other blends tasted for this issue. That’s no bad thing.\\r\\nThis is less sweet than most blends, with tobacco leaf and ashtray to the fore, and a dusty, grainy note with a touch of oak, grape skin, and sweet heather. That said, not a lot of evidence of the 12 years in cask.</td>\n",
       "    </tr>\n",
       "    <tr>\n",
       "      <th>45</th>\n",
       "      <td>Label 5 Gold Heritage, 40%</td>\n",
       "      <td>Blended Scotch</td>\n",
       "      <td>84</td>\n",
       "      <td>45.0</td>\n",
       "      <td>40.0</td>\n",
       "      <td>Master blender Graham Coull hand-selected a variety of aged stock and cask types for this new global addition to the Label 5 range. Vanilla, dark fruit, and gentle spices on the nose, but the appeal lies in the beautiful, clingy mouthfeel. Warm marmalade, nuts, and oak flavors with whispers of cinnamon and clove combine to produce a creamy, smooth dram. It builds and builds but never feels like it fully arrives. The finish is drying with dampened-down spices. €40</td>\n",
       "    </tr>\n",
       "    <tr>\n",
       "      <th>46</th>\n",
       "      <td>Glen Turner Heritage Double Wood, 40%</td>\n",
       "      <td>Blended Scotch</td>\n",
       "      <td>84</td>\n",
       "      <td>20.0</td>\n",
       "      <td>40.0</td>\n",
       "      <td>It’s Double Wood, Jim, but not as we know it. Here, the blend has been given a Madeira finish, presenting an appealing nose of spun sugar, golden raisins, cinnamon, nutmeg, and hazelnut. The blend has a creamy texture, with good weight to carry the flavors of orange peel, mango, and dried pineapple, leading to a zesty spark on swallowing. Wood spices, nuttiness, and lingering toffee make for a satisfying finish. The extra Madeira maturation is understated and perfectly judged.</td>\n",
       "    </tr>\n",
       "    <tr>\n",
       "      <th>47</th>\n",
       "      <td>Jamie Stewart, 40%</td>\n",
       "      <td>Blended Scotch</td>\n",
       "      <td>84</td>\n",
       "      <td>16.0</td>\n",
       "      <td>40.0</td>\n",
       "      <td>With whiskies aged for 5 years in bourbon barrels, this has a pleasant nose of dark toffee, vanilla, toasted whole grain bread, and light spices. The mouthfeel is a bit flabby; chocolate and toasted spices, especially cinnamon and pepper, are quelled by malty caramel, baked orange, and touches of old leather. The finish is dry, malty, and slightly nutty, with a hollow core of spices. A bit dour overall.</td>\n",
       "    </tr>\n",
       "    <tr>\n",
       "      <th>48</th>\n",
       "      <td>John Barr Reserve, 40%</td>\n",
       "      <td>Blended Scotch</td>\n",
       "      <td>84</td>\n",
       "      <td>25.0</td>\n",
       "      <td>40.0</td>\n",
       "      <td>This blend has been a Whyte and MacKay whisky for 25 years. The nose has spice, toffee, wheat biscuits, and smoke, but the combination feels a little benign. The palate is jammy, lightweight, and middle-of-the-road. With a backbone of grain, there are flavors of graham cracker, chocolate ganache, well-baked fruitcake, banoffee pie, smoke, and dried peels, with a burst of spices on the finish.</td>\n",
       "    </tr>\n",
       "    <tr>\n",
       "      <th>49</th>\n",
       "      <td>The Famous Jubilee, 40%</td>\n",
       "      <td>Blended Scotch</td>\n",
       "      <td>83</td>\n",
       "      <td>39.0</td>\n",
       "      <td>40.0</td>\n",
       "      <td>A tribute this time from Edrington Group in the form of this one-off blend of The Famous Grouse. The sherried element seems to have been upped as it shows lavish amounts of dark chocolate, black cherry, and a little treacle, with some orange peel and, with water, raspberry and heather.  The palate shows a hint of smoke and builds through rich flavors to a toffee-accented finish. Subtle and long. £25</td>\n",
       "    </tr>\n",
       "    <tr>\n",
       "      <th>50</th>\n",
       "      <td>Black Bottle, 40%</td>\n",
       "      <td>Blended Scotch</td>\n",
       "      <td>83</td>\n",
       "      <td>25.0</td>\n",
       "      <td>40.0</td>\n",
       "      <td>In terms of bang for your buck this has always been one of the very best blends, punching well above its weight. Whether you feel the same about this revamped version depends on how much you want a peat punch. Previously rough and gutsy, this is softer, with more licorice and treacle but also more younger sappiness. Smoke has the last say but it's like an aging sportsman, replacing energy and attitude with guile and subtlety.</td>\n",
       "    </tr>\n",
       "    <tr>\n",
       "      <th>51</th>\n",
       "      <td>The Antiquary, 12 year old, 40%</td>\n",
       "      <td>Blended Scotch</td>\n",
       "      <td>83</td>\n",
       "      <td>30.0</td>\n",
       "      <td>40.0</td>\n",
       "      <td>Floral aroma with a lively array of orchard fruit and citrus.  Underlying notes of soft honey and vanilla.  Good malt foundation for a blend.  An elegant and breezy \"anytime\" dram.\\r\\n</td>\n",
       "    </tr>\n",
       "    <tr>\n",
       "      <th>52</th>\n",
       "      <td>The Black Grouse Alpha, 40%</td>\n",
       "      <td>Blended Scotch</td>\n",
       "      <td>83</td>\n",
       "      <td>45.0</td>\n",
       "      <td>40.0</td>\n",
       "      <td>The Famous Grouse has been extended in various directions with varying degrees of success but for my money, this is the best and most logical. This is the version where the smoky, oily, spicy, and peaty notes of the original blend are brought more to the fore, but this works because married to it are grape and melon notes that ensure the Grouse lands softly.</td>\n",
       "    </tr>\n",
       "    <tr>\n",
       "      <th>53</th>\n",
       "      <td>Grant's Voyager, 40%</td>\n",
       "      <td>Blended Scotch</td>\n",
       "      <td>83</td>\n",
       "      <td>32.0</td>\n",
       "      <td>40.0</td>\n",
       "      <td>Molten blossom honey, almond milk puddings, and Parma violets interlaced with a fine, drifting chimney smoke compose the nose of this new blend from William Grant &amp; Sons. Smooth, burnished orange and honey cough drops initially, then the flavor develops through more pronounced citrus and gentle spices to achieve a sweeter climax. The grain is quite evident in the harmony of the blend. The finish is long, more beeswax than honey, the sweetness finally depleted. (Travel Retail only) £20</td>\n",
       "    </tr>\n",
       "    <tr>\n",
       "      <th>54</th>\n",
       "      <td>Grand Macnish Six Cask Edition, 40%</td>\n",
       "      <td>Blended Scotch</td>\n",
       "      <td>83</td>\n",
       "      <td>37.0</td>\n",
       "      <td>40.0</td>\n",
       "      <td>Playing on regional styles, this blends six single malts representative of the Speyside, Islay, Lowland, Campbeltown, Islands, and Highland whisky regions. Sun-dried peats greet the nose with aromas of stewed apples, flaky pastries, apricot conserve, vanilla, and cinnamon. Creamy vanilla and coconut flavors develop, with a slow-burn spiciness crackling in the center of the tongue. Seville orange and caramel cookie flavors escort a long finish of dry, tingling spices, though it could use a little more heft in the mouthfeel.</td>\n",
       "    </tr>\n",
       "    <tr>\n",
       "      <th>55</th>\n",
       "      <td>Lord Elcho 15 year old, 40%</td>\n",
       "      <td>Blended Scotch</td>\n",
       "      <td>83</td>\n",
       "      <td>44.0</td>\n",
       "      <td>40.0</td>\n",
       "      <td>The eldest son of the 5th earl of Wemyss, Lord Elcho was supportive to the Young Pretender. Proportionally, more sherry at play here. Plum skin, chunky raisins, blackcurrant, and fainter sweetened cocoa and coffee bean notes. The palate is a little hollow at first, then proffers barley sugar, rich shortbread, baked apple, linseed, and toffee, though the flavor development plateaus. Water picks out sweet clementine notes. Given the choice of expressions, I prefer the vibrancy of the Young(er) Pretender. £26</td>\n",
       "    </tr>\n",
       "    <tr>\n",
       "      <th>56</th>\n",
       "      <td>Johnnie Walker Blenders’ Batch No. 1 Red Rye Finish, 40%</td>\n",
       "      <td>Blended Scotch</td>\n",
       "      <td>82</td>\n",
       "      <td>22.0</td>\n",
       "      <td>40.0</td>\n",
       "      <td>America, Walker wants your cocktails. Emma Walker that is, the blender whose signature adorns the first of these experimental expressions. Toffee Speyside nose, digestive biscuits, cinnamon, cool mint, and a pronounced grain note from Port Dundas. Orange, lime peel, lovely caramel richness, and creamy toffee through dilution. The brand’s second consecutive rye cask finish: you noticed too? Up against its sibling, JW Select Rye Cask, there are certain similarities, but this is fruitier, less intricate, and less rich and spicy.</td>\n",
       "    </tr>\n",
       "    <tr>\n",
       "      <th>57</th>\n",
       "      <td>Wemyss Vintage Malts 'The Peat Chimney,' 8 year old, 40%</td>\n",
       "      <td>Blended Scotch</td>\n",
       "      <td>82</td>\n",
       "      <td>40.0</td>\n",
       "      <td>40.0</td>\n",
       "      <td>Aggressive earthy smoke, tar, fiery pepper, bath soap, and ginger tamed by toffee and ripe malt. Lingering smoldering peat, anise, and tobacco. For those who like smoky whiskies young, aggressive, and unabashed.\\r\\n</td>\n",
       "    </tr>\n",
       "    <tr>\n",
       "      <th>58</th>\n",
       "      <td>Wemyss Vintage Malts 'The Spice King,' 8 year old, 40%</td>\n",
       "      <td>Blended Scotch</td>\n",
       "      <td>82</td>\n",
       "      <td>40.0</td>\n",
       "      <td>40.0</td>\n",
       "      <td>Nectarine, tangerine, toffee, and vanilla on the nose. There’s also teasing smoke, if you look for it. The sweet fruity notes start at the beginning of the palate, then cinnamon, nutmeg, cut hay, and smoke kick in. Lingering cracked pepper, clove, and distant smoke. Good gritty texture. Dynamic stuff for a young whisky.\\r\\n</td>\n",
       "    </tr>\n",
       "    <tr>\n",
       "      <th>59</th>\n",
       "      <td>Shieldaig Classic, 40%</td>\n",
       "      <td>Blended Scotch</td>\n",
       "      <td>82</td>\n",
       "      <td>18.0</td>\n",
       "      <td>40.0</td>\n",
       "      <td>In blended whisky terms, this isn’t for the faint-hearted, and joins a number of recent releases prepared to show off its\\r\\ndarker, grittier side. It’s a big flavored blend, with its heart in the islands, and with oily coastal notes reminiscent of a delicatessen: brine, salty cheese, some crab apple relish, and smoked fish. It’s a rugged bruiser, but it makes its mark with some style.</td>\n",
       "    </tr>\n",
       "    <tr>\n",
       "      <th>60</th>\n",
       "      <td>Monarch of The Glen 8 year old, 40%</td>\n",
       "      <td>Blended Scotch</td>\n",
       "      <td>82</td>\n",
       "      <td>15.0</td>\n",
       "      <td>40.0</td>\n",
       "      <td>Standard blends fall into two categories: those that will behave nicely when mixed to offer almost non-whisky experience, and those that are feistier and want to make sure you know they’re there. This is the former, and with whiskies like this one, it’s possible to blink and miss it. That doesn’t make it bad; just indistinctive and unexceptional. There is little sign of the wood here, but the delicate, sweet apricot notes just do enough.</td>\n",
       "    </tr>\n",
       "    <tr>\n",
       "      <th>61</th>\n",
       "      <td>Grand Macnish Sherry Cask 15 year old, 40%</td>\n",
       "      <td>Blended Scotch</td>\n",
       "      <td>82</td>\n",
       "      <td>35.0</td>\n",
       "      <td>40.0</td>\n",
       "      <td>Naming your blend “Sherry Cask” retains an air of ambiguity to it. Theoretically, it could be the maturation or finishing vessel for all or some of the constituents. The whisky is light-bodied and the sweet sherry is evident, though a nip of bitterness interrupts. Smoother on the palate than the 12 year old, there’s strawberry, raspberry, and background spice, with a blackberry note late in the finish. Overall, there’s less flavor development, but it’s an old-school kind of blend.</td>\n",
       "    </tr>\n",
       "    <tr>\n",
       "      <th>62</th>\n",
       "      <td>The Fat Trout, 40%</td>\n",
       "      <td>Blended Scotch</td>\n",
       "      <td>82</td>\n",
       "      <td>25.0</td>\n",
       "      <td>40.0</td>\n",
       "      <td>Delicate nose of sherbet and melting heather honey layered over pleasant grassy and herbal notes. The texture is sweet, thin, and syrupy, with a slight vegetal note, before salted caramel reels it in, brimming over into a briny finish like a salty kiss. The grain clearly plays a major role. Truth be told, the aromas and flavors work well, but the lack of weight makes it feel like a tiddler rather than catch of the day. (Selected U.S. states, NZ, Switzerland).</td>\n",
       "    </tr>\n",
       "    <tr>\n",
       "      <th>63</th>\n",
       "      <td>Label 5 Classic Black, 40%</td>\n",
       "      <td>Blended Scotch</td>\n",
       "      <td>82</td>\n",
       "      <td>17.0</td>\n",
       "      <td>40.0</td>\n",
       "      <td>This is the foundation stone of the whole Label 5 range and it’s a solid, reputable blend that works neat, with a rock of ice, or in cocktails. The digestive biscuits, dark walnut toffee, and fruit salad aromas concede to a rather inauspicious palate of burnt orange, malt biscuits, charred oak, and ground ginger. It’s lively through to its malt and spice conclusion.</td>\n",
       "    </tr>\n",
       "    <tr>\n",
       "      <th>64</th>\n",
       "      <td>Ballantine’s Finest, 40%</td>\n",
       "      <td>Blended Scotch</td>\n",
       "      <td>81</td>\n",
       "      <td>21.0</td>\n",
       "      <td>40.0</td>\n",
       "      <td>A pleasant nose of light caramel, dried orange rind, butterscotch, sweet grain, and a lick of bonfire smoke, yet it’s like the volume has been dialed down to three. Delicate, to the point of shyness. Sweet barley, concentrated orange, a low rumble of spice, and the grain sings through. Accessible, well structured, and light-textured, leading to a finish of brown sugar around the gums, although it has a stronger grain character than many in its price range.</td>\n",
       "    </tr>\n",
       "    <tr>\n",
       "      <th>65</th>\n",
       "      <td>Sir Edward’s Blended Whisky, 40%</td>\n",
       "      <td>Blended Scotch</td>\n",
       "      <td>81</td>\n",
       "      <td>14.0</td>\n",
       "      <td>40.0</td>\n",
       "      <td>From the perfumed nose to the sweet and short finish, this blend doesn’t really put a foot wrong, but it’s shy and unadventurous.\\r\\nClearly well made, well balanced, and quite acceptable, it has a perfumed black currant sherbet nose, some slight but enjoyable blueberry, grape, and prune notes and a soft sweet conclusion. On its own, all fine: but it gets lost when in company.</td>\n",
       "    </tr>\n",
       "    <tr>\n",
       "      <th>66</th>\n",
       "      <td>Monarch of the Glen, 40%</td>\n",
       "      <td>Blended Scotch</td>\n",
       "      <td>81</td>\n",
       "      <td>12.0</td>\n",
       "      <td>40.0</td>\n",
       "      <td>Aromas of liquid honey, light toffee, dried apple, and satsuma peel. There is an initial citric attack, but when the flare dies down, a residual bitterness cuts through the underlying creaminess and caramel. Sure, its component whiskies lack substance and grip, but there is some flavor progression through to an enjoyable piquancy around the gums. The finish is a nippy buzz of peel and heather honey. Simple, uncomplicated, but for the price there’s plenty to like here.</td>\n",
       "    </tr>\n",
       "    <tr>\n",
       "      <th>67</th>\n",
       "      <td>The Antiquary, 40%</td>\n",
       "      <td>Blended Scotch</td>\n",
       "      <td>80</td>\n",
       "      <td>20.0</td>\n",
       "      <td>40.0</td>\n",
       "      <td>This venerable blend has a nose of mandarin syrup cake, vanilla cream, and cut hay, with chopped cilantro and other herbal top notes. Sweet and fruity, though verging on tasting of artificial sweeteners at times, there are malt notes and a developing butteriness, with sweet mandarin notes and sponge cake. It all hangs on a light structure but it’s less smooth on the finish, with a scratch of wood smoke.</td>\n",
       "    </tr>\n",
       "    <tr>\n",
       "      <th>68</th>\n",
       "      <td>Cutty Sark Blended Malt, 40%</td>\n",
       "      <td>Blended Scotch</td>\n",
       "      <td>80</td>\n",
       "      <td>30.0</td>\n",
       "      <td>40.0</td>\n",
       "      <td>Remarkably light and drinkable for an all-malt product. Malty foundation with citrus (lemon zest, tangerine sherbet) shining through, along with vanilla wafer, white chocolate, coconut, ginger, and cut grass. A worthy “bridge whisky” for blended whisky drinkers curious about malt whisky, but single malt whisky drinkers might want more individuality. A whisky for a warm, lazy afternoon.\\r\\n</td>\n",
       "    </tr>\n",
       "    <tr>\n",
       "      <th>69</th>\n",
       "      <td>MacQueen’s 3 year old, 40%</td>\n",
       "      <td>Blended Scotch</td>\n",
       "      <td>80</td>\n",
       "      <td>13.0</td>\n",
       "      <td>40.0</td>\n",
       "      <td>MacQueen’s has an impressive range of age statement blends, but this is the youngest one. Faint caramel and toast, a mild rub of whole spice, and snuff tobacco. The mouthfeel is meager and lacks any real punch; there is spice and fudge, but little sweetness. More caramel flavors develop alongside chocolate notes before a dry, quick finish. There are better options around, even at this price.</td>\n",
       "    </tr>\n",
       "    <tr>\n",
       "      <th>70</th>\n",
       "      <td>Wemyss Vintage Malts 'The Smooth Gentleman,' 8 year old, 40%</td>\n",
       "      <td>Blended Scotch</td>\n",
       "      <td>79</td>\n",
       "      <td>40.0</td>\n",
       "      <td>40.0</td>\n",
       "      <td>Indeed smooth, and malty, with vanilla, shortbread, golden raisin, and macadamia nuts. Light oak spice emerges on a fairly quick finish. (It is only 8 years old, after all.) Pleasant and easy-going.\\r\\n</td>\n",
       "    </tr>\n",
       "    <tr>\n",
       "      <th>71</th>\n",
       "      <td>Islay Mist, 8 year old, 40%</td>\n",
       "      <td>Blended Scotch</td>\n",
       "      <td>79</td>\n",
       "      <td>24.0</td>\n",
       "      <td>40.0</td>\n",
       "      <td>The nice thing about Islay whiskies is that they often show their true nature better at a younger age. Malty sweet and incredibly herbal (almost gin-like), with emerging tar, smoked seaweed, and olive. Medicinal in nature, with lingering tar and brine on the finish. Fairly straight-forward (what do you expect for 8 years old?) but a pretty decent showing for a whisky this young.</td>\n",
       "    </tr>\n",
       "    <tr>\n",
       "      <th>72</th>\n",
       "      <td>High Commissioner, 40%</td>\n",
       "      <td>Blended Scotch</td>\n",
       "      <td>79</td>\n",
       "      <td>15.0</td>\n",
       "      <td>40.0</td>\n",
       "      <td>You’re familiar with those generic blended Scotch whiskies of debatable origin with an inoffensive flavor profile, right? This isn’t one of those. With aromas of the fruit and foliage of an orange grove, beeswax, and a grassy note, this is a juicy, citrus-led dram that puffs out in the mouth, bringing a tingle of light pepper, ginger, and thick fudge. Despite the thinner mouthfeel, the baked orange and bitter Seville orange on the finish give it some bite. Perfectly serviceable.</td>\n",
       "    </tr>\n",
       "    <tr>\n",
       "      <th>73</th>\n",
       "      <td>Ron Burgundy “Great Odin’s Raven” Special Reserve, 40%</td>\n",
       "      <td>Blended Scotch</td>\n",
       "      <td>78</td>\n",
       "      <td>25.0</td>\n",
       "      <td>40.0</td>\n",
       "      <td>What does this say about how far whisky has come? We live in an era where you can now buy the official whisky from a major motion picture. This has a deep amber color. Really deep. The nose brings warm muffins, caramel, and grassy notes with a good dose of smoke. It’s a sweet concoction with a peppery kick. There’s a tinge of polypropylene before a short, clipped, spicy finish. It just needs to find more of its own identity.</td>\n",
       "    </tr>\n",
       "    <tr>\n",
       "      <th>74</th>\n",
       "      <td>Highland Queen, 40%</td>\n",
       "      <td>Blended Scotch</td>\n",
       "      <td>78</td>\n",
       "      <td>20.0</td>\n",
       "      <td>40.0</td>\n",
       "      <td>The range begins with this entry-level whisky, aged for 3 years. Aromas of pale toffee, vanilla, and scented, herbaceous notes can be found on the nose. It has a light, silky texture and comprises flavors of stewed fruits, with a slight bitterness behind them. Plum and coffee notes expand, though it remains tart through to the buzzy finish, which is lifted by hints of chocolate. A robust and pugnacious dram.</td>\n",
       "    </tr>\n",
       "    <tr>\n",
       "      <th>75</th>\n",
       "      <td>MacNaMara Rum Cask Finish, 40%</td>\n",
       "      <td>Blended Scotch</td>\n",
       "      <td>78</td>\n",
       "      <td>37.0</td>\n",
       "      <td>40.0</td>\n",
       "      <td>Meaning “son of the sea,” this MacNaMara has a lilting sweetness that lifts from the glass, the characteristic orange-peel oil note is present, but less assertive. Nectarine, Murray mints, and antique shop mustiness, but a lot less aromatic than many of its contemporaries. Flavors of sweet melon, golden honey, and tangy orange take off in the mouth, with tastes of white pepper, fennel, and ground ginger in hot pursuit. Pepperiness penetrates an otherwise juicy finish.</td>\n",
       "    </tr>\n",
       "    <tr>\n",
       "      <th>76</th>\n",
       "      <td>Grand Macnish 150th Anniversary Edition, 40%</td>\n",
       "      <td>Blended Scotch</td>\n",
       "      <td>77</td>\n",
       "      <td>18.0</td>\n",
       "      <td>40.0</td>\n",
       "      <td>Robert McNish conceived his recipe for a lighter style of Highland whisky in Glasgow in 1863 (though the brand added an ‘a’ to his surname for easier pronunciation). Whole orange, ground hazelnut, and ground ginger on the nose, though it keeps pretty tight-lipped. Light and sweet in the mouth, with mandarin and more pronounced ginger mid-palate before a medium-length finish of bubblegum and gooseberry. It just seems a little uninspiring given the special occasion.</td>\n",
       "    </tr>\n",
       "    <tr>\n",
       "      <th>77</th>\n",
       "      <td>Clansman, 40%</td>\n",
       "      <td>Blended Scotch</td>\n",
       "      <td>77</td>\n",
       "      <td>14.0</td>\n",
       "      <td>40.0</td>\n",
       "      <td>This Highland blend has a nose of lemon peel, tangerine, and pine-scented kitchen surfaces. The whisky is young, with a sweet mandarin dressing over the grain character, barley sugars, and a gentle rumble of spice. What it lacks at this age is mouthfeel, structure, and wood influence. The finish continues the sugared orange theme, with spice and ground pepper fading to soor plooms. For what can be expected at this age, the Clansman does its job well.</td>\n",
       "    </tr>\n",
       "    <tr>\n",
       "      <th>78</th>\n",
       "      <td>MacNaMara Blended, 40%</td>\n",
       "      <td>Blended Scotch</td>\n",
       "      <td>76</td>\n",
       "      <td>35.0</td>\n",
       "      <td>40.0</td>\n",
       "      <td>This amber-colored blend from the Gaelic Whisky Company has sweet barley notes and gentle spice aromas. The caramels prop up the dominant flavor of cold-pressed orange oil squeezed from the peel. A crescendo of peppery spice marks the late phase and distinguishes the swallow, before a finish of tangy citrus peel with a touch of clove. Perfectly straightforward blend but limited in scope, like a linear dot-to-dot connecting barley, orange peel, and spice.</td>\n",
       "    </tr>\n",
       "  </tbody>\n",
       "</table>\n",
       "</div>"
      ],
      "text/plain": [
       "                                                                  name  \\\n",
       "0   Johnnie Walker Double Black, 40%                                     \n",
       "1   Dewar’s 15 year old The Monarch, 40%                                 \n",
       "2   Shackleton, 40%                                                      \n",
       "3   Johnnie Walker Blenders’ Batch Sherry Cask Finish 12 year old, 40%   \n",
       "4   Dewar’s 12 year old The Ancestor, 40%                                \n",
       "5   Cutty Sark Storm, 40%                                                \n",
       "6   The Naked Grouse, 40%                                                \n",
       "7   Johnnie Walker The Spice Road, 40%                                   \n",
       "8   Johnnie Walker Black Label 12 year old, 40%                          \n",
       "9   Black Grouse Alpha Edition, 40%                                      \n",
       "10  Ballantine's Christmas Reserve 2011, 40%                             \n",
       "11  Te Bheag Blended Whisky, 40%                                         \n",
       "12  Duncan Taylor 12 year old, 40%                                       \n",
       "13  J. Mossman Gold Crown 12 year old, 40%                               \n",
       "14  Johnnie Walker Blenders’ Batch Wine Cask, 40%,                       \n",
       "15  Anchor Bay, 40%                                                      \n",
       "16  Old Masters Freemason Whisky, 40%                                    \n",
       "17  Grand Macnish Black Edition, 40%                                     \n",
       "18  Lord Elcho, 40%                                                      \n",
       "19  The Famous Grouse Malt Whisky, 12 year old, 40%                      \n",
       "20  Chivas Regal 12 year old, 40%                                        \n",
       "21  Islay Mist, 12 year old, 40%                                         \n",
       "22  The Black Grouse, 40%                                                \n",
       "23  Ballantine’s 12 year old, 40%                                        \n",
       "24  Grand Macnish 12 year old, 40%                                       \n",
       "25  Label 5 Extra Premium 12 year old, 40%                               \n",
       "26  Copper Dog, 40%                                                      \n",
       "27  The Famous Grouse Malt Whisky, 10 year old, 40%                      \n",
       "28  Famous Grouse Mellow Gold, 40%                                       \n",
       "29  Chivas Regal Extra, 40%,                                             \n",
       "30  Dewar’s White Label Scratched Cask, 40%                              \n",
       "31   Dewar’s White Label, 40%                                            \n",
       "32  Shieldaig 12 year old, 40%                                           \n",
       "33  James Brookes Blended Whisky, 40%                                    \n",
       "34  Sir Edward’s Smoky, 40%                                              \n",
       "35  Duncan Taylor Five Star, 40%                                         \n",
       "36  Buchanan’s Deluxe 12 year old, 40%                                   \n",
       "37  Buchanan’s Master, 40%                                               \n",
       "38  J&B Rare, 40%                                                        \n",
       "39  Johnnie Walker Red Label, 40%                                        \n",
       "40  The Antiquary 12 year old, 40%                                       \n",
       "41  Lombard Gold Label, 40%                                              \n",
       "42  Master of Malt Secret Bottlings Series 8 year old, 40%               \n",
       "43  Grant’s Signature, 40%                                               \n",
       "44  Sir Edward’s 12 year old Blended Whisky, 40%                         \n",
       "45  Label 5 Gold Heritage, 40%                                           \n",
       "46  Glen Turner Heritage Double Wood, 40%                                \n",
       "47  Jamie Stewart, 40%                                                   \n",
       "48  John Barr Reserve, 40%                                               \n",
       "49  The Famous Jubilee, 40%                                              \n",
       "50  Black Bottle, 40%                                                    \n",
       "51  The Antiquary, 12 year old, 40%                                      \n",
       "52  The Black Grouse Alpha, 40%                                          \n",
       "53  Grant's Voyager, 40%                                                 \n",
       "54  Grand Macnish Six Cask Edition, 40%                                  \n",
       "55  Lord Elcho 15 year old, 40%                                          \n",
       "56  Johnnie Walker Blenders’ Batch No. 1 Red Rye Finish, 40%             \n",
       "57  Wemyss Vintage Malts 'The Peat Chimney,' 8 year old, 40%             \n",
       "58  Wemyss Vintage Malts 'The Spice King,' 8 year old, 40%               \n",
       "59  Shieldaig Classic, 40%                                               \n",
       "60  Monarch of The Glen 8 year old, 40%                                  \n",
       "61  Grand Macnish Sherry Cask 15 year old, 40%                           \n",
       "62  The Fat Trout, 40%                                                   \n",
       "63  Label 5 Classic Black, 40%                                           \n",
       "64  Ballantine’s Finest, 40%                                             \n",
       "65  Sir Edward’s Blended Whisky, 40%                                     \n",
       "66  Monarch of the Glen, 40%                                             \n",
       "67  The Antiquary, 40%                                                   \n",
       "68  Cutty Sark Blended Malt, 40%                                         \n",
       "69  MacQueen’s 3 year old, 40%                                           \n",
       "70  Wemyss Vintage Malts 'The Smooth Gentleman,' 8 year old, 40%         \n",
       "71  Islay Mist, 8 year old, 40%                                          \n",
       "72  High Commissioner, 40%                                               \n",
       "73  Ron Burgundy “Great Odin’s Raven” Special Reserve, 40%               \n",
       "74  Highland Queen, 40%                                                  \n",
       "75  MacNaMara Rum Cask Finish, 40%                                       \n",
       "76  Grand Macnish 150th Anniversary Edition, 40%                         \n",
       "77  Clansman, 40%                                                        \n",
       "78  MacNaMara Blended, 40%                                               \n",
       "\n",
       "          category  points  price   abv  \\\n",
       "0   Blended Scotch  90      40.0   40.0   \n",
       "1   Blended Scotch  90      50.0   40.0   \n",
       "2   Blended Scotch  90      35.0   40.0   \n",
       "3   Blended Scotch  89      44.0   40.0   \n",
       "4   Blended Scotch  89      33.0   40.0   \n",
       "5   Blended Scotch  89      31.0   40.0   \n",
       "6   Blended Scotch  89      35.0   40.0   \n",
       "7   Blended Scotch  88      43.0   40.0   \n",
       "8   Blended Scotch  88      30.0   40.0   \n",
       "9   Blended Scotch  88      41.0   40.0   \n",
       "10  Blended Scotch  88      37.0   40.0   \n",
       "11  Blended Scotch  88      40.0   40.0   \n",
       "12  Blended Scotch  88      25.0   40.0   \n",
       "13  Blended Scotch  88      43.0   40.0   \n",
       "14  Blended Scotch  87      30.0   40.0   \n",
       "15  Blended Scotch  87      48.0   40.0   \n",
       "16  Blended Scotch  87      30.0   40.0   \n",
       "17  Blended Scotch  87      30.0   40.0   \n",
       "18  Blended Scotch  87      43.0   40.0   \n",
       "19  Blended Scotch  86      35.0   40.0   \n",
       "20  Blended Scotch  86      25.0   40.0   \n",
       "21  Blended Scotch  86      50.0   40.0   \n",
       "22  Blended Scotch  86      29.0   40.0   \n",
       "23  Blended Scotch  86      38.0   40.0   \n",
       "24  Blended Scotch  86      25.0   40.0   \n",
       "25  Blended Scotch  86      25.0   40.0   \n",
       "26  Blended Scotch  86      32.0   40.0   \n",
       "27  Blended Scotch  85      30.0   40.0   \n",
       "28  Blended Scotch  85      33.0   40.0   \n",
       "29  Blended Scotch  85      40.0   40.0   \n",
       "30  Blended Scotch  85      26.0   40.0   \n",
       "31  Blended Scotch  85      25.0   40.0   \n",
       "32  Blended Scotch  85      31.0   40.0   \n",
       "33  Blended Scotch  85      18.0   40.0   \n",
       "34  Blended Scotch  85      22.0   40.0   \n",
       "35  Blended Scotch  85      17.0   40.0   \n",
       "36  Blended Scotch  85      30.0   40.0   \n",
       "37  Blended Scotch  85      45.0   40.0   \n",
       "38  Blended Scotch  85      23.0   40.0   \n",
       "39  Blended Scotch  84      25.0   40.0   \n",
       "40  Blended Scotch  84      27.0   40.0   \n",
       "41  Blended Scotch  84      17.0   40.0   \n",
       "42  Blended Scotch  84      35.0   40.0   \n",
       "43  Blended Scotch  84      29.0   40.0   \n",
       "44  Blended Scotch  84      22.0   40.0   \n",
       "45  Blended Scotch  84      45.0   40.0   \n",
       "46  Blended Scotch  84      20.0   40.0   \n",
       "47  Blended Scotch  84      16.0   40.0   \n",
       "48  Blended Scotch  84      25.0   40.0   \n",
       "49  Blended Scotch  83      39.0   40.0   \n",
       "50  Blended Scotch  83      25.0   40.0   \n",
       "51  Blended Scotch  83      30.0   40.0   \n",
       "52  Blended Scotch  83      45.0   40.0   \n",
       "53  Blended Scotch  83      32.0   40.0   \n",
       "54  Blended Scotch  83      37.0   40.0   \n",
       "55  Blended Scotch  83      44.0   40.0   \n",
       "56  Blended Scotch  82      22.0   40.0   \n",
       "57  Blended Scotch  82      40.0   40.0   \n",
       "58  Blended Scotch  82      40.0   40.0   \n",
       "59  Blended Scotch  82      18.0   40.0   \n",
       "60  Blended Scotch  82      15.0   40.0   \n",
       "61  Blended Scotch  82      35.0   40.0   \n",
       "62  Blended Scotch  82      25.0   40.0   \n",
       "63  Blended Scotch  82      17.0   40.0   \n",
       "64  Blended Scotch  81      21.0   40.0   \n",
       "65  Blended Scotch  81      14.0   40.0   \n",
       "66  Blended Scotch  81      12.0   40.0   \n",
       "67  Blended Scotch  80      20.0   40.0   \n",
       "68  Blended Scotch  80      30.0   40.0   \n",
       "69  Blended Scotch  80      13.0   40.0   \n",
       "70  Blended Scotch  79      40.0   40.0   \n",
       "71  Blended Scotch  79      24.0   40.0   \n",
       "72  Blended Scotch  79      15.0   40.0   \n",
       "73  Blended Scotch  78      25.0   40.0   \n",
       "74  Blended Scotch  78      20.0   40.0   \n",
       "75  Blended Scotch  78      37.0   40.0   \n",
       "76  Blended Scotch  77      18.0   40.0   \n",
       "77  Blended Scotch  77      14.0   40.0   \n",
       "78  Blended Scotch  76      35.0   40.0   \n",
       "\n",
       "                                                                                                                                                                                                                                                                                                                                                                                                                                                                                                                                                                                                                                                                                            description  \n",
       "0   So how brave can you be? Would you take one of the world's most iconic blends and risk messing with it? If you've got a whisky maker as good as Jim Beveridge, then why not? This picks up from the regular JW Black and its signature Caol Ila smoke and peat heart and then adds to it, doing exactly what it says on the tin. But the clever part of this is upping the apple, orange, and fruit content too. Great.                                                                                                                                                                                                                                                                              \n",
       "1   The divine stone fruit aromas are the key to unlocking the nose on this one: apricot, honey, vanilla icing, malt bins, Quaker Oats Squares, and lofty floral top notes. Sweet mandarin, brown sugar, vanilla fudge, strands of finely shredded peel, and more spice than the 12 year old can muster. The sweet vanilla aftertaste is softer and more elegant than the younger expressions.                                                                                                                                                                                                                                                                                                           \n",
       "2   One hundred ten years after the Nimrod expedition, blender Richard Paterson’s adventurous marriage of over 20 Highland malts brings fresh green fruits, manuka honey, vanilla, banana muffin, cantaloupe, fresh herbs, spice, and a wisp of smoke. Refreshing palate of green melon, light honey, vanilla, cinnamon, cooked apple, and gooseberry, becoming sour. More complexity on the finish: spice, smoke, cooked fruits, and chalky Sweethearts candies. Pair with mature prosciutto.                                                                                                                                                                                                           \n",
       "3   Blender Aimée Gibson’s experimental batch 7 is designed as a sherry finished Black Label. Beautifully smoky, with dried fruits, charred oak, wood spices, vanilla, cocoa, and bonfire smoke. Toffee flavors, with thick smoke, red fruits, orange, raisin, oak spice, gingerbread, marshmallow, strawberry jam, and dark marmalade. Dry finish with bitter peels, dark chocolate, and some feisty spices. In comparison, regular Black Label is silkier, more integrated, and more peppery. (Global Travel Retail only)                                                                                                                                                                              \n",
       "4   A straightforward proposition of honey, vanilla sponge cake, barley notes, hints of apple, fresh banana, melon, and bundles of dry straw. It’s a sweetheart: soft vanilla fudge, heather honey, banana-topped banoffee pie, fudge, vanilla sandwich cookies, barley sugar, and lemon peel, with hardly any spice in the early phase. The finish has a snag of pepper at the end, but this is gorgeously tasty, with smooth vanilla fudge all the way.                                                                                                                                                                                                                                                \n",
       "5   Cutty Sark master blender Kirsteen Campbell has hit the ground running and is playing a leading role in the revival of this iconic blend. Storm is a very different whisky than Tam o' Shanter. The nose is nuanced and light, with orange jelly and citrus juice; the palate is sophisticated, fruity, perfectly balanced, rounded, and gentle, with a high-percentage malt content evident in the mix. The finish is quite short but very more-ish. An amazing whisky for the price. £20 VALUE PICK                                                                                                                                                                                                \n",
       "6   This is the latest spinoff from core blend The Famous Grouse, so there’s Macallan and Highland Park in here, and from the taste of it, in sizeable quantities. With smart but minimalist packaging and an environmental theme, this is a very ‘now’ whisky. It’s heavily sherried, very rich, and sweet, but there’s enough spice to stop it becoming cloying, and it’s as soft as a down feather blanket on the palate. You can easily drink it straight, too.                                                                                                                                                                                                                                      \n",
       "7   Somebody at Diageo has been taking a lot of interest in the Johnnie Walker range of late, what with the revamp of the core range and now a regular stream of special releases. This is the first of a series for Travel Retail only, but it takes the Johnnie Walker themes — vanilla, spice, and honey, with wispy peat and smoke — and adds savory spice to the earthiness. But there are some very young notes in this.                                                                                                                                                                                                                                                                           \n",
       "8   Need you ask? An unmistakable classic and an exemplar of a blended Scotch whisky, famous around the world. Toffee, swirling caramel, whole almond, and mashed banana amid twisting white smoke. The palate has such poise, balance, and dexterity that it sets the standard for many less accomplished blends to aspire to. Conspicuously iconic, and the closest thing you will find to a complete whisky at this price.                                                                                                                                                                                                                                                                            \n",
       "9   Arguably the most successful of the Famous Grouse extensions (well, the competition includes Snow Grouse, for Pete's sake!), the Black Grouse brought ever-popular peat into the mix, a move that was followed by a peatier version of Johnnie Walker Black Label. The label says this is richer and peatier, and it is. But this scores most for a chicory/coffee and liquid licorice undercarpet that makes it very palatable indeed. Neat over ice. (Travel Retail exclusive)€33                                                                                                                                                                                                                  \n",
       "10  Master blender Sandy Hyslop has deliberately attempted to capture Christmas in the glass, and so it should come as no surprise to find a rich, full, and flavorsome whisky with sherry trifle, red berries, orange fruit, and mince pie filling in the mix. It's put together with grace and style, mixes well, and is that rare beast — a blend that can be enjoyed on its own.                                                                                                                                                                                                                                                                                                                     \n",
       "11  Pronounced “Te Veg,” this has its roots in the Isle of Skye, and as there’s only one distillery there it’s highly likely that the odd\\r\\ndrop of Talisker has found its way into the mix. Whether it has or not, this is stirring stuff, non-chill filtered so that the flavors burst forth. As you might expect, it’s rugged with brine and chili, giving it a distinctive spice edge. But the delivery is a caramel fudge delight, with luxury chocolate praline in there too.                                                                                                                                                                                                                     \n",
       "12  When in doubt, the answer to any question is usually ‘more whisky.’ Here, peat smoke takes an upper hand over the sweet aromas of juicy orange and pear. The whisky begins icing-sugar sweet, settles to bubble gum, pear, apple, and malt, showing its impeccably balanced, finely textured character replete with strands of oak spices, gentle smoke, baked pastry, and vanilla custard. You can’t go wrong at this price.                                                                                                                                                                                                                                                                        \n",
       "13  Aromas of oloroso sherry, strawberry, almond paste, clove, licorice Allsorts, black treacle, and smoke from burning haystacks. Honeyed palate with citrus elements, light lemon, green melon, pear, redcurrant, and pineapple, brightened by some well-rounded spices and root ginger. It glides into a mouthful of chocolate-coated digestive biscuits with a little smoke, then a finish of citrus oils, fruit skins, and active spices. Brilliant and satisfying.                                                                                                                                                                                                                                 \n",
       "14  Blender Aimée Gibson set out to make a sundowner scotch by incorporating whiskies matured in wine casks. The blueberry, blackcurrant, and fresh oak aromas continue on to the palate: fruit compote, raspberry, strawberry, and lingonberry with light spices. A late resurgence of dark toffee, chocolate, and cigar smoke blow into the finish. Sip away by all means, but this fruity sensation calls to be served up in long, cool drinks.                                                                                                                                                                                                                                                       \n",
       "15  Lombard’s blend of Speyside malts pleases with an agreeable nose of orchard blossoms, flower honey, caramel, dry hay, and pears baked in brown granulated sugar. It’s homey and comforting, favoring its floral and fruity side. This is a light, sweet whisky that sweeps around the mouth, radiating maltiness, apple, grapefruit, dried mango strips, and mingling spices. A studiously long finish of sucked caramel candy and beeswax follows. A smart choice for the beginning of the evening. £30                                                                                                                                                                                             \n",
       "16  Originally created by Lombard for the Freemasons, this has a flavorsome nose of dark chocolate chip cookies, light spices, coconut macaroons, malt, and bright, fresh bananas. The palate is light and unobtrusive, with honey and malt reinforced by the spices running underneath. A shift develops to some later cocoa and chocolate notes, and the mocha finish fades gracefully. A finely balanced concoction, and you will rarely find this quality and flavor for the price                                                                                                                                                                                                                   \n",
       "17  I am hopeful this blended whisky has benefited from the alligator char treatment to contribute to the deep, rich color and charred smoke notes on the nose. A thick, velvety mouthfeel, with butter toffee, toasted marshmallows going gooey on a stick, great spices, vanilla, whole nutmeg, chicory, and the crust of a well-fired fruit loaf leaving some sooty cinders on the finish. A mighty fireside companion and my favorite Grand Macnish to date.                                                                                                                                                                                                                                         \n",
       "18  Lord Elcho was an 18th century ancestor of William Wemyss, who fought on Bonnie Prince Charlie’s side at the Battle of Culloden in 1745. With a minimum of 40% malt, this fine blend has a rather perfumed nose of fresh mint, green apple, sliced melon, and tropical fruits. The soft candy sugar and butterscotch palate builds, with layers of malt, cherry laces, gingerbread, and pfeffernüsse leading to a ginger and spice finish of significant length. Highly accomplished. £26                                                                                                                                                                                                            \n",
       "19  Lovely balance on the nose and palate. Soft and gently textured, too. The sweetness of the whisky (honey, fruit gum drops, and malty vanilla), dovetail nicely with light, bright citrus and teasing dried spices. Heather/floral notes enhance the whisky’s complexity. Clean, delicately polished oak finish. A very versatile, inexpensive, easy-drinking whisky. \\r\\n                                                                                                                                                                                                                                                                                                                            \n",
       "20  The assured Scotch whisky that became one of the classic blends. Dry and sweet, with a nose of vanilla sponge, fresh cut flowers, and marzipan over a malty base. Pleasingly oily, with flavors of burning butter, malty toffee, and cake mix, with gentle spices and hints of chocolate appearing the longer you hold off swallowing. The glossy mouthfeel makes this feel like an everyday luxury. A finish of spent spices, cocoa, hazelnut, and a waft of smoke brings it home.                                                                                                                                                                                                                  \n",
       "21  More rounded, with greater depth when compared to the 8 year old offering. Not as medicinal and less sweet, more toffee and less honey, with more dried spice interwoven throughout. The herbs are still there, along with licorice root. Dry, burning-ember finish. Nicely balanced, which makes it my favorite of the three.\\r\\n                                                                                                                                                                                                                                                                                                                                                                   \n",
       "22  One might assume this to be just a smoky version of the standard Famous Grouse (with its honeyed malt, bright fruit, and floral demeanor). But, in addition to the enhanced smoke (which caringly adds a new dimension without smothering the other flavors), there also seems to be more malt body and oak spice in the mix, which I think takes Black Grouse to a higher level than Famous Grouse. The grain whisky contributes a “drinkability” component, making it a great introduction to smoky whiskies.                                                                                                                                                                                      \n",
       "23  Wow! A noticeable step up in quality than Ballantine’s Finest (see below) with a perceptibly higher malt content. After Eight mints, Rolo toffees, spring florals, clean and creamy, plus some wood combine to produce an appealing nose. One sip confirms that this is gorgeously honeyed, layered, thick, and creamy, with heather honey, sweet oak, and ripe fruits, especially orange and mango. The finish is short, drying, sweet, and the only weak spot in an otherwise decent composition.                                                                                                                                                                                                  \n",
       "24  With a bottle shape that makes you want to go bowling, this blend has admirable balance between the fruit and the smoke on the nose. The bonfire smoke is matched with aromas of tarte tartin, pecan nut, red apple, and sultana. Smooth and molten in the mouth, it has more weight and body than its older brother. There is citrus, apples, and the late arrival of baked spices, cookie dough, and mint chocolate on the finish.                                                                                                                                                                                                                                                                 \n",
       "25  This is bursting with barley, sweet oak, and all-butter shortbread. There are charcoal sticks too, which add a cool smoke note. The taste is like a warm hug on a cold morning; flavors of butter toffee, orange, poached pear, and ginger snaps, which combine to keep that deep smoke in balance. The harmony continues into the lengthy finish with flavors of citrus, melon, and ground ginger.                                                                                                                                                                                                                                                                                                  \n",
       "26  Named after the warehouseman’s preferred piece of pilfering paraphernalia, the 125 year old Craigellachie Hotel’s Copper Dog bar now boasts its own whisky. It’s an appealing blend of eight Speyside malts, with honey, warm toast, pecan nut, apple turnover, fudge fingers, and orange peel. Vanilla, orange pith, wood spice, caramel, and fresh apple develop into creamy nougat. Takes a while to come into focus, then concludes with a spicy finish.                                                                                                                                                                                                                                         \n",
       "27  For the past few years, Famous Grouse vintage vatted malt has been produced but not sold here in the U.S. They were in the 10-12 year old age range. This version being introduced to the U.S. is a non-vintage expression, and I don’t think it really matters. What matters is its taste. Major components of The Famous Grouse blended whiskies have included The Macallan and Highland Park, and there’s no doubt these malts are providing some of the richness and flavor complexity in this new expression. The whisky is quite hefty, with notes of juicy fruit, toffee, almonds, heather, and a wisp of vanilla and smoke. It is also very well balanced and quite a bargain for $30. \\r\\n  \n",
       "28  This has enticing flavors that will meet with the approval of the regular Grouse drinker: heady florals with fresh peach, light honey, pecan, and underlying caramel. The palate is soothing with vanilla and tangerine, hallmarks of Grouse, plus rosewater, almond, and whispering spices. Gently does it, that’s the key to this: kick back and relax. This showcases the Midas touch of Gordon Motion’s skills in liquid alchemy. A great value blend to boot. £22                                                                                                                                                                                                                               \n",
       "29  A new oloroso-forward Chivas positioned to split between the 12 and 18 year olds? I got this. Refined and inviting nose of lemon pith, black fruits, and Kola Kubes. The velvety texture is wonderfully smooth, redolent of an apricot custard Danish, lime zest, raisin, currant, mixed peel, and walnut, with a growing bitter-lemon note. Quite unique finish, like sucking on lumpy Spanish lemons speckled with spices. (LA, NY, Miami, Chicago, Northern California, but will go national)                                                                                                                                                                                                     \n",
       "30  What lies beneath the surface of Dewar’s? Here, the blend is finished in virgin and first-fill bourbon casks especially charred, then scratched to enable deeper penetration. Thick wedge of vanilla and fudge with oaky accents, a dusty mouthfeel pulling in vanilla, light lemon, milk chocolate, and sweet toffee, ending on a cocoa powder note. Compared with regular White Label, this is less obviously sweet and creamy, adds complexity, and opens a bourbon connection. Certainly, this is up to scratch.                                                                                                                                                                                 \n",
       "31  Honey, fudge, a little melon and white grape, dry roasted spices, and peppercorn, but noticeably less fruit than the age-statement varieties. The palate has pulpy white melon, lemon, lime, and some grapefruit acidity, before sweetening with honey. Quite tart at times, some peppery spice collaborates before the vanilla cream and green fruits take charge. A clean, juicy finish of lemon zest and mild spices coats the throat.                                                                                                                                                                                                                                                            \n",
       "32  This is a sharp dresser, with a firm, solid mouthfeel and an altogether finer and more focused taste than Shieldaig Classic (see\\r\\nbelow). It’s not coastal or earthy particularly, either. Instead the flavors are softer and built around mocha, smooth creamy toffee, and some soft fruit, including a touch of overripe banana and melon notes. The savoriness this time comes from a touch of pepper rather than salt.                                                                                                                                                                                                                                                                         \n",
       "33  This is like listening to a quiet and understated musician and slowly starting to realize that there are all sorts of clever\\r\\nnuances just beneath the surface. This evolves from a floral and welcoming nose, through a saline note and on to pepper and a Highland earthiness, but wrapped up in a rich, honeyed body. A nice balance between the ruggedness and sweet softness. All rather pleasant.                                                                                                                                                                                                                                                                                            \n",
       "34  This blend delivers just enough peat turf to live up to the name, without alienating the peat phobics. A pleasant nose of chocolate hazelnut, pecan nut, dried tropical fruits, and gentle wood and peat smoke.  Orange, toffee, banoffee pie, Kola Kubes, and a little spiciness. Plenty of flavor even if the mouthfeel is a little thin. A short finish with a spicy flare and a few lingering smoky embers. (Total Wine exclusive) Price per 1.75 liter                                                                                                                                                                                                                                          \n",
       "35  It begins innocently enough. Ripening strawberries, cotton candy, and fudge on the nose, but with an undertow of devil-may-care spiciness. Soft mandarin citrus, vanilla fudge, sponge cupcakes, and a decent wedge of malt form the core of the palate; the spice is disappointingly mild considering the potential of the first sniff. Sweet and syrupy finish. Still, solid enough to make your world better at the end of a hard day.                                                                                                                                                                                                                                                            \n",
       "36  Overlook the fact that this bottle is saddled with one of the most impenetrable closures known to mankind. Unperturbed, this blend flaunts its big toffee aromas, whole almond, and floral top notes. With light fudge and gentle orange influences, it is smooth and rounded, top loaded with spice and hazelnut at the front of the mouth. More grain character and roasted spices show through on the finish.                                                                                                                                                                                                                                                                                     \n",
       "37  This adheres to the rules laid down by blender Keith Law. The nose yields mint toffees, cereal notes, butterscotch, and whole peppercorn. Juicy orange, with elements of burnt orange, dark toffees, and a pleasant balance of sweetness form the palate, followed by a wave of peppery spices and late dashes of dates and sultana. The finish has more peppery spice and peppermint. Obey the Law.                                                                                                                                                                                                                                                                                                 \n",
       "38  Justerini & Brooks sold scotch in the U.S. before Prohibition. This light, Speyside-style blend has grassy notes, with crystalized lemon slices, Bramley apple peel, woodsmoke, and almonds. Light and sweet on the tongue, it unpacks lemon peel, satsuma, juicy watermelon, pepper, and aniseed. Grain whisky and herbal notes creep in late and permeate the finish.                                                                                                                                                                                                                                                                                                                              \n",
       "39  How does this long-established blend shape up on its own without a ginger or soda mixer? Fresh apple juice, a twist of lemon, dried orange peel, peppercorn, cracker bread, and a vegetal spicy note. It gets into its stride with delicious apple, gentle fudge, and good-tempered spices, with cracked black pepper and a little sourness to finish. Mild, agreeably smooth, without any bombast or hullabaloo; it just blends in.                                                                                                                                                                                                                                                                 \n",
       "40  Thick, viscous golden syrup, digestive biscuits, and Almond Joy bars underpin some soft, peaty aromas. It’s rather an appealing combination. Satin smooth on the tongue, with lemon, lime, orange, and dried pineapple, but enough malt to keep things interesting. The finish riffs on a ripe lemon theme accompanied by spicy stardust. For the few extra bucks, the more mature component whiskies make for a richer, fuller, and more satisfying experience than The Antiquary’s red-labeled bottle.                                                                                                                                                                                             \n",
       "41  Good weight to this blend. Creamy and mouth-coating on the palate, with a nice malty, honey-tinged backbone. Bright fruitabounds, with golden raisin, lemon meringue, peach, and a hint of pineapple. Notes of creamy vanilla and gently nutty, through to its soft finish. \\r\\n                                                                                                                                                                                                                                                                                                                                                                                                                     \n",
       "42  Master of Malt has accumulated quite a trophy cabinet for their work on blends. The nose is inviting, with butter toffee, Bramley apples, fennel seeds, cut lawns, and chocolate-covered oat biscuits. It’s a pretty smooth proposition, serving up caramel maltiness, stewed apple, and orange and grapefruit pith, with just a hint of sharp lemon freshness to open up with. The ginger finish is zappy but short. A solid, everyday blend.                                                                                                                                                                                                                                                       \n",
       "43  Brian Kinsman’s new creation was inspired by their founder William Grant, with a remit to create a malty blend of character. Digestive biscuits, malt, honeycomb, and confectioner’s chocolate melted over a bain-marie. It’s a satisfyingly rich dram, well-structured with a great mouthfeel that wanes with natural dilution. Banoffee pie, caramel biscuits, and maltiness deepen to flavors of coffee bean and molasses, leaving a teeth-coating finish of black coffee. (UK and France only) £18                                                                                                                                                                                               \n",
       "44  A very different whisky to its unaged namesake, and most unlike any of the other blends tasted for this issue. That’s no bad thing.\\r\\nThis is less sweet than most blends, with tobacco leaf and ashtray to the fore, and a dusty, grainy note with a touch of oak, grape skin, and sweet heather. That said, not a lot of evidence of the 12 years in cask.                                                                                                                                                                                                                                                                                                                                        \n",
       "45  Master blender Graham Coull hand-selected a variety of aged stock and cask types for this new global addition to the Label 5 range. Vanilla, dark fruit, and gentle spices on the nose, but the appeal lies in the beautiful, clingy mouthfeel. Warm marmalade, nuts, and oak flavors with whispers of cinnamon and clove combine to produce a creamy, smooth dram. It builds and builds but never feels like it fully arrives. The finish is drying with dampened-down spices. €40                                                                                                                                                                                                                  \n",
       "46  It’s Double Wood, Jim, but not as we know it. Here, the blend has been given a Madeira finish, presenting an appealing nose of spun sugar, golden raisins, cinnamon, nutmeg, and hazelnut. The blend has a creamy texture, with good weight to carry the flavors of orange peel, mango, and dried pineapple, leading to a zesty spark on swallowing. Wood spices, nuttiness, and lingering toffee make for a satisfying finish. The extra Madeira maturation is understated and perfectly judged.                                                                                                                                                                                                    \n",
       "47  With whiskies aged for 5 years in bourbon barrels, this has a pleasant nose of dark toffee, vanilla, toasted whole grain bread, and light spices. The mouthfeel is a bit flabby; chocolate and toasted spices, especially cinnamon and pepper, are quelled by malty caramel, baked orange, and touches of old leather. The finish is dry, malty, and slightly nutty, with a hollow core of spices. A bit dour overall.                                                                                                                                                                                                                                                                               \n",
       "48  This blend has been a Whyte and MacKay whisky for 25 years. The nose has spice, toffee, wheat biscuits, and smoke, but the combination feels a little benign. The palate is jammy, lightweight, and middle-of-the-road. With a backbone of grain, there are flavors of graham cracker, chocolate ganache, well-baked fruitcake, banoffee pie, smoke, and dried peels, with a burst of spices on the finish.                                                                                                                                                                                                                                                                                          \n",
       "49  A tribute this time from Edrington Group in the form of this one-off blend of The Famous Grouse. The sherried element seems to have been upped as it shows lavish amounts of dark chocolate, black cherry, and a little treacle, with some orange peel and, with water, raspberry and heather.  The palate shows a hint of smoke and builds through rich flavors to a toffee-accented finish. Subtle and long. £25                                                                                                                                                                                                                                                                                   \n",
       "50  In terms of bang for your buck this has always been one of the very best blends, punching well above its weight. Whether you feel the same about this revamped version depends on how much you want a peat punch. Previously rough and gutsy, this is softer, with more licorice and treacle but also more younger sappiness. Smoke has the last say but it's like an aging sportsman, replacing energy and attitude with guile and subtlety.                                                                                                                                                                                                                                                        \n",
       "51  Floral aroma with a lively array of orchard fruit and citrus.  Underlying notes of soft honey and vanilla.  Good malt foundation for a blend.  An elegant and breezy \"anytime\" dram.\\r\\n                                                                                                                                                                                                                                                                                                                                                                                                                                                                                                             \n",
       "52  The Famous Grouse has been extended in various directions with varying degrees of success but for my money, this is the best and most logical. This is the version where the smoky, oily, spicy, and peaty notes of the original blend are brought more to the fore, but this works because married to it are grape and melon notes that ensure the Grouse lands softly.                                                                                                                                                                                                                                                                                                                             \n",
       "53  Molten blossom honey, almond milk puddings, and Parma violets interlaced with a fine, drifting chimney smoke compose the nose of this new blend from William Grant & Sons. Smooth, burnished orange and honey cough drops initially, then the flavor develops through more pronounced citrus and gentle spices to achieve a sweeter climax. The grain is quite evident in the harmony of the blend. The finish is long, more beeswax than honey, the sweetness finally depleted. (Travel Retail only) £20                                                                                                                                                                                            \n",
       "54  Playing on regional styles, this blends six single malts representative of the Speyside, Islay, Lowland, Campbeltown, Islands, and Highland whisky regions. Sun-dried peats greet the nose with aromas of stewed apples, flaky pastries, apricot conserve, vanilla, and cinnamon. Creamy vanilla and coconut flavors develop, with a slow-burn spiciness crackling in the center of the tongue. Seville orange and caramel cookie flavors escort a long finish of dry, tingling spices, though it could use a little more heft in the mouthfeel.                                                                                                                                                     \n",
       "55  The eldest son of the 5th earl of Wemyss, Lord Elcho was supportive to the Young Pretender. Proportionally, more sherry at play here. Plum skin, chunky raisins, blackcurrant, and fainter sweetened cocoa and coffee bean notes. The palate is a little hollow at first, then proffers barley sugar, rich shortbread, baked apple, linseed, and toffee, though the flavor development plateaus. Water picks out sweet clementine notes. Given the choice of expressions, I prefer the vibrancy of the Young(er) Pretender. £26                                                                                                                                                                      \n",
       "56  America, Walker wants your cocktails. Emma Walker that is, the blender whose signature adorns the first of these experimental expressions. Toffee Speyside nose, digestive biscuits, cinnamon, cool mint, and a pronounced grain note from Port Dundas. Orange, lime peel, lovely caramel richness, and creamy toffee through dilution. The brand’s second consecutive rye cask finish: you noticed too? Up against its sibling, JW Select Rye Cask, there are certain similarities, but this is fruitier, less intricate, and less rich and spicy.                                                                                                                                                  \n",
       "57  Aggressive earthy smoke, tar, fiery pepper, bath soap, and ginger tamed by toffee and ripe malt. Lingering smoldering peat, anise, and tobacco. For those who like smoky whiskies young, aggressive, and unabashed.\\r\\n                                                                                                                                                                                                                                                                                                                                                                                                                                                                              \n",
       "58  Nectarine, tangerine, toffee, and vanilla on the nose. There’s also teasing smoke, if you look for it. The sweet fruity notes start at the beginning of the palate, then cinnamon, nutmeg, cut hay, and smoke kick in. Lingering cracked pepper, clove, and distant smoke. Good gritty texture. Dynamic stuff for a young whisky.\\r\\n                                                                                                                                                                                                                                                                                                                                                                \n",
       "59  In blended whisky terms, this isn’t for the faint-hearted, and joins a number of recent releases prepared to show off its\\r\\ndarker, grittier side. It’s a big flavored blend, with its heart in the islands, and with oily coastal notes reminiscent of a delicatessen: brine, salty cheese, some crab apple relish, and smoked fish. It’s a rugged bruiser, but it makes its mark with some style.                                                                                                                                                                                                                                                                                                 \n",
       "60  Standard blends fall into two categories: those that will behave nicely when mixed to offer almost non-whisky experience, and those that are feistier and want to make sure you know they’re there. This is the former, and with whiskies like this one, it’s possible to blink and miss it. That doesn’t make it bad; just indistinctive and unexceptional. There is little sign of the wood here, but the delicate, sweet apricot notes just do enough.                                                                                                                                                                                                                                            \n",
       "61  Naming your blend “Sherry Cask” retains an air of ambiguity to it. Theoretically, it could be the maturation or finishing vessel for all or some of the constituents. The whisky is light-bodied and the sweet sherry is evident, though a nip of bitterness interrupts. Smoother on the palate than the 12 year old, there’s strawberry, raspberry, and background spice, with a blackberry note late in the finish. Overall, there’s less flavor development, but it’s an old-school kind of blend.                                                                                                                                                                                                \n",
       "62  Delicate nose of sherbet and melting heather honey layered over pleasant grassy and herbal notes. The texture is sweet, thin, and syrupy, with a slight vegetal note, before salted caramel reels it in, brimming over into a briny finish like a salty kiss. The grain clearly plays a major role. Truth be told, the aromas and flavors work well, but the lack of weight makes it feel like a tiddler rather than catch of the day. (Selected U.S. states, NZ, Switzerland).                                                                                                                                                                                                                      \n",
       "63  This is the foundation stone of the whole Label 5 range and it’s a solid, reputable blend that works neat, with a rock of ice, or in cocktails. The digestive biscuits, dark walnut toffee, and fruit salad aromas concede to a rather inauspicious palate of burnt orange, malt biscuits, charred oak, and ground ginger. It’s lively through to its malt and spice conclusion.                                                                                                                                                                                                                                                                                                                     \n",
       "64  A pleasant nose of light caramel, dried orange rind, butterscotch, sweet grain, and a lick of bonfire smoke, yet it’s like the volume has been dialed down to three. Delicate, to the point of shyness. Sweet barley, concentrated orange, a low rumble of spice, and the grain sings through. Accessible, well structured, and light-textured, leading to a finish of brown sugar around the gums, although it has a stronger grain character than many in its price range.                                                                                                                                                                                                                         \n",
       "65  From the perfumed nose to the sweet and short finish, this blend doesn’t really put a foot wrong, but it’s shy and unadventurous.\\r\\nClearly well made, well balanced, and quite acceptable, it has a perfumed black currant sherbet nose, some slight but enjoyable blueberry, grape, and prune notes and a soft sweet conclusion. On its own, all fine: but it gets lost when in company.                                                                                                                                                                                                                                                                                                          \n",
       "66  Aromas of liquid honey, light toffee, dried apple, and satsuma peel. There is an initial citric attack, but when the flare dies down, a residual bitterness cuts through the underlying creaminess and caramel. Sure, its component whiskies lack substance and grip, but there is some flavor progression through to an enjoyable piquancy around the gums. The finish is a nippy buzz of peel and heather honey. Simple, uncomplicated, but for the price there’s plenty to like here.                                                                                                                                                                                                             \n",
       "67  This venerable blend has a nose of mandarin syrup cake, vanilla cream, and cut hay, with chopped cilantro and other herbal top notes. Sweet and fruity, though verging on tasting of artificial sweeteners at times, there are malt notes and a developing butteriness, with sweet mandarin notes and sponge cake. It all hangs on a light structure but it’s less smooth on the finish, with a scratch of wood smoke.                                                                                                                                                                                                                                                                               \n",
       "68  Remarkably light and drinkable for an all-malt product. Malty foundation with citrus (lemon zest, tangerine sherbet) shining through, along with vanilla wafer, white chocolate, coconut, ginger, and cut grass. A worthy “bridge whisky” for blended whisky drinkers curious about malt whisky, but single malt whisky drinkers might want more individuality. A whisky for a warm, lazy afternoon.\\r\\n                                                                                                                                                                                                                                                                                             \n",
       "69  MacQueen’s has an impressive range of age statement blends, but this is the youngest one. Faint caramel and toast, a mild rub of whole spice, and snuff tobacco. The mouthfeel is meager and lacks any real punch; there is spice and fudge, but little sweetness. More caramel flavors develop alongside chocolate notes before a dry, quick finish. There are better options around, even at this price.                                                                                                                                                                                                                                                                                           \n",
       "70  Indeed smooth, and malty, with vanilla, shortbread, golden raisin, and macadamia nuts. Light oak spice emerges on a fairly quick finish. (It is only 8 years old, after all.) Pleasant and easy-going.\\r\\n                                                                                                                                                                                                                                                                                                                                                                                                                                                                                           \n",
       "71  The nice thing about Islay whiskies is that they often show their true nature better at a younger age. Malty sweet and incredibly herbal (almost gin-like), with emerging tar, smoked seaweed, and olive. Medicinal in nature, with lingering tar and brine on the finish. Fairly straight-forward (what do you expect for 8 years old?) but a pretty decent showing for a whisky this young.                                                                                                                                                                                                                                                                                                        \n",
       "72  You’re familiar with those generic blended Scotch whiskies of debatable origin with an inoffensive flavor profile, right? This isn’t one of those. With aromas of the fruit and foliage of an orange grove, beeswax, and a grassy note, this is a juicy, citrus-led dram that puffs out in the mouth, bringing a tingle of light pepper, ginger, and thick fudge. Despite the thinner mouthfeel, the baked orange and bitter Seville orange on the finish give it some bite. Perfectly serviceable.                                                                                                                                                                                                  \n",
       "73  What does this say about how far whisky has come? We live in an era where you can now buy the official whisky from a major motion picture. This has a deep amber color. Really deep. The nose brings warm muffins, caramel, and grassy notes with a good dose of smoke. It’s a sweet concoction with a peppery kick. There’s a tinge of polypropylene before a short, clipped, spicy finish. It just needs to find more of its own identity.                                                                                                                                                                                                                                                         \n",
       "74  The range begins with this entry-level whisky, aged for 3 years. Aromas of pale toffee, vanilla, and scented, herbaceous notes can be found on the nose. It has a light, silky texture and comprises flavors of stewed fruits, with a slight bitterness behind them. Plum and coffee notes expand, though it remains tart through to the buzzy finish, which is lifted by hints of chocolate. A robust and pugnacious dram.                                                                                                                                                                                                                                                                          \n",
       "75  Meaning “son of the sea,” this MacNaMara has a lilting sweetness that lifts from the glass, the characteristic orange-peel oil note is present, but less assertive. Nectarine, Murray mints, and antique shop mustiness, but a lot less aromatic than many of its contemporaries. Flavors of sweet melon, golden honey, and tangy orange take off in the mouth, with tastes of white pepper, fennel, and ground ginger in hot pursuit. Pepperiness penetrates an otherwise juicy finish.                                                                                                                                                                                                             \n",
       "76  Robert McNish conceived his recipe for a lighter style of Highland whisky in Glasgow in 1863 (though the brand added an ‘a’ to his surname for easier pronunciation). Whole orange, ground hazelnut, and ground ginger on the nose, though it keeps pretty tight-lipped. Light and sweet in the mouth, with mandarin and more pronounced ginger mid-palate before a medium-length finish of bubblegum and gooseberry. It just seems a little uninspiring given the special occasion.                                                                                                                                                                                                                 \n",
       "77  This Highland blend has a nose of lemon peel, tangerine, and pine-scented kitchen surfaces. The whisky is young, with a sweet mandarin dressing over the grain character, barley sugars, and a gentle rumble of spice. What it lacks at this age is mouthfeel, structure, and wood influence. The finish continues the sugared orange theme, with spice and ground pepper fading to soor plooms. For what can be expected at this age, the Clansman does its job well.                                                                                                                                                                                                                               \n",
       "78  This amber-colored blend from the Gaelic Whisky Company has sweet barley notes and gentle spice aromas. The caramels prop up the dominant flavor of cold-pressed orange oil squeezed from the peel. A crescendo of peppery spice marks the late phase and distinguishes the swallow, before a finish of tangy citrus peel with a touch of clove. Perfectly straightforward blend but limited in scope, like a linear dot-to-dot connecting barley, orange peel, and spice.                                                                                                                                                                                                                           "
      ]
     },
     "execution_count": 42,
     "metadata": {},
     "output_type": "execute_result"
    }
   ],
   "source": [
    "recommendation = []\n",
    "\n",
    "try:\n",
    "    for _ in range(0, len(basic_pref)):\n",
    "        result = {}\n",
    "        if first_taste_drop1 in basic_pref['description'][\n",
    "                _] and second_taste_drop2 in basic_pref['description'][\n",
    "                    _] and third_taste_drop3 in basic_pref['description'][_]:\n",
    "            result['final_rec'] = basic_pref.iloc[[_]]\n",
    "            pass\n",
    "            if first_taste_drop1 in basic_pref['description'][\n",
    "                    _] and second_taste_drop2 in basic_pref['description'][_]:\n",
    "                result['final_rec'] = basic_pref.iloc[[_]]\n",
    "                pass\n",
    "                if first_taste_drop1 in basic_pref['description'][\n",
    "                        _] and third_taste_drop3 in basic_pref['description'][\n",
    "                            _]:\n",
    "                    result['final_rec'] = basic_pref.iloc[[_]]\n",
    "                    pass\n",
    "                    if second_taste_drop2 in basic_pref['description'][\n",
    "                            _] and third_taste_drop3 in basic_pref[\n",
    "                                'description'][_]:\n",
    "                        result['final_rec'] = basic_pref.iloc[[_]]\n",
    "                        pass\n",
    "                        if first_taste_drop1 in basic_pref['description'][\n",
    "                                _] or second_taste_drop2 in basic_pref[\n",
    "                                    'description'][\n",
    "                                        _] or third_taste_drop3 in basic_pref[\n",
    "                                            'description'][_]:\n",
    "                            result['final_rec'] = basic_pref.iloc[[_]]\n",
    "                            recommendation.append(result['final_rec'])\n",
    "                            pass\n",
    "    recommendation = pd.concat(recommendation)\n",
    "\n",
    "except ValueError:\n",
    "    print('Sorry, there were no recommendations matching your preferences.')\n",
    "\n",
    "print('Showing {} recommendations!'.format(recommendation.shape[0]))\n",
    "\n",
    "recommendation\n"
   ]
  },
  {
   "cell_type": "code",
   "execution_count": null,
   "metadata": {},
   "outputs": [],
   "source": []
  },
  {
   "cell_type": "code",
   "execution_count": null,
   "metadata": {},
   "outputs": [],
   "source": []
  },
  {
   "cell_type": "code",
   "execution_count": null,
   "metadata": {},
   "outputs": [],
   "source": []
  },
  {
   "cell_type": "code",
   "execution_count": 43,
   "metadata": {},
   "outputs": [
    {
     "data": {
      "text/html": [
       "<script>\n",
       "code_show=true; \n",
       "function code_toggle() {\n",
       " if (code_show){\n",
       " $('div.input').hide();\n",
       " } else {\n",
       " $('div.input').show();\n",
       " }\n",
       " code_show = !code_show\n",
       "} \n",
       "$( document ).ready(code_toggle);\n",
       "</script><a href=\"javascript:code_toggle()\">Hide</a> code."
      ],
      "text/plain": [
       "<IPython.core.display.HTML object>"
      ]
     },
     "execution_count": 43,
     "metadata": {},
     "output_type": "execute_result"
    }
   ],
   "source": [
    "HTML('''<script>\n",
    "code_show=true; \n",
    "function code_toggle() {\n",
    " if (code_show){\n",
    " $('div.input').hide();\n",
    " } else {\n",
    " $('div.input').show();\n",
    " }\n",
    " code_show = !code_show\n",
    "} \n",
    "$( document ).ready(code_toggle);\n",
    "</script><a href=\"javascript:code_toggle()\">Hide</a> code.''')"
   ]
  },
  {
   "cell_type": "code",
   "execution_count": null,
   "metadata": {},
   "outputs": [],
   "source": []
  }
 ],
 "metadata": {
  "hide_input": false,
  "kernelspec": {
   "display_name": "Python 3",
   "language": "python",
   "name": "python3"
  },
  "language_info": {
   "codemirror_mode": {
    "name": "ipython",
    "version": 3
   },
   "file_extension": ".py",
   "mimetype": "text/x-python",
   "name": "python",
   "nbconvert_exporter": "python",
   "pygments_lexer": "ipython3",
   "version": "3.6.7"
  },
  "toc": {
   "base_numbering": 1,
   "nav_menu": {
    "height": "106px",
    "width": "326px"
   },
   "number_sections": true,
   "sideBar": true,
   "skip_h1_title": false,
   "title_cell": "Table of Contents",
   "title_sidebar": "Contents",
   "toc_cell": false,
   "toc_position": {
    "height": "329px",
    "left": "1280.64px",
    "top": "66px",
    "width": "212px"
   },
   "toc_section_display": true,
   "toc_window_display": true
  },
  "varInspector": {
   "cols": {
    "lenName": 16,
    "lenType": 16,
    "lenVar": 40
   },
   "kernels_config": {
    "python": {
     "delete_cmd_postfix": "",
     "delete_cmd_prefix": "del ",
     "library": "var_list.py",
     "varRefreshCmd": "print(var_dic_list())"
    },
    "r": {
     "delete_cmd_postfix": ") ",
     "delete_cmd_prefix": "rm(",
     "library": "var_list.r",
     "varRefreshCmd": "cat(var_dic_list()) "
    }
   },
   "position": {
    "height": "360px",
    "left": "1069px",
    "right": "20px",
    "top": "120px",
    "width": "354px"
   },
   "types_to_exclude": [
    "module",
    "function",
    "builtin_function_or_method",
    "instance",
    "_Feature"
   ],
   "window_display": false
  }
 },
 "nbformat": 4,
 "nbformat_minor": 2
}
