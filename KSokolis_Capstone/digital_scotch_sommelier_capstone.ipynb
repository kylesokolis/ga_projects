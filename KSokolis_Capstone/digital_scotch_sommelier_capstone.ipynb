{
 "cells": [
  {
   "cell_type": "markdown",
   "metadata": {
    "toc": true
   },
   "source": [
    "<h1>Table of Contents<span class=\"tocSkip\"></span></h1>\n",
    "<div class=\"toc\"><ul class=\"toc-item\"><li><span><a href=\"#Digital-Scotch-Sommelier-Capstone\" data-toc-modified-id=\"Digital-Scotch-Sommelier-Capstone-1\"><span class=\"toc-item-num\">1&nbsp;&nbsp;</span>Digital Scotch Sommelier Capstone</a></span></li><li><span><a href=\"#Raw-Input-Questions\" data-toc-modified-id=\"Raw-Input-Questions-2\"><span class=\"toc-item-num\">2&nbsp;&nbsp;</span>Raw Input Questions</a></span><ul class=\"toc-item\"><li><span><a href=\"#--What-is-your-price-range?\" data-toc-modified-id=\"--What-is-your-price-range?-2.1\"><span class=\"toc-item-num\">2.1&nbsp;&nbsp;</span>- What is your price range?</a></span></li><li><span><a href=\"#--What-category-would-you-prefer?\" data-toc-modified-id=\"--What-category-would-you-prefer?-2.2\"><span class=\"toc-item-num\">2.2&nbsp;&nbsp;</span>- What category would you prefer?</a></span></li><li><span><a href=\"#--What-ABV-level-would-you-prefer?\" data-toc-modified-id=\"--What-ABV-level-would-you-prefer?-2.3\"><span class=\"toc-item-num\">2.3&nbsp;&nbsp;</span>- What ABV level would you prefer?</a></span></li><li><span><a href=\"#--What-tasting-notes-do-you-prefer?\" data-toc-modified-id=\"--What-tasting-notes-do-you-prefer?-2.4\"><span class=\"toc-item-num\">2.4&nbsp;&nbsp;</span>- What tasting notes do you prefer?</a></span></li></ul></li><li><span><a href=\"#Preference-Selection\" data-toc-modified-id=\"Preference-Selection-3\"><span class=\"toc-item-num\">3&nbsp;&nbsp;</span>Preference Selection</a></span></li><li><span><a href=\"#Recommendations\" data-toc-modified-id=\"Recommendations-4\"><span class=\"toc-item-num\">4&nbsp;&nbsp;</span>Recommendations</a></span></li></ul></div>"
   ]
  },
  {
   "cell_type": "markdown",
   "metadata": {
    "heading_collapsed": true
   },
   "source": [
    "# Digital Scotch Sommelier Capstone"
   ]
  },
  {
   "cell_type": "code",
   "execution_count": 46,
   "metadata": {
    "hidden": true
   },
   "outputs": [],
   "source": [
    "# Imports\n",
    "from __future__ import print_function\n",
    "\n",
    "import pandas as pd\n",
    "import re\n",
    "import numpy as np\n",
    "import seaborn as sns\n",
    "import decimal\n",
    "import ipywidgets as widgets\n",
    "import matplotlib.pyplot as plt\n",
    "import nltk\n",
    "\n",
    "from sklearn.model_selection import train_test_split, KFold, cross_val_score\n",
    "from sklearn.linear_model import LinearRegression\n",
    "from sklearn.metrics import r2_score\n",
    "from sklearn.ensemble import RandomForestRegressor\n",
    "from sklearn.model_selection import GridSearchCV, RandomizedSearchCV\n",
    "from sklearn.feature_extraction.text import CountVectorizer\n",
    "\n",
    "from bs4 import BeautifulSoup\n",
    "\n",
    "from nltk.tokenize import word_tokenize, regexp_tokenize\n",
    "from nltk.corpus import stopwords\n",
    "\n",
    "from ipywidgets import interact, interactive, fixed, interact_manual\n",
    "from ipywidgets import widgets, interact, interact_manual, fixed\n",
    "from IPython.display import display, clear_output, HTML\n",
    "\n",
    "sns.set()\n",
    "pd.options.mode.chained_assignment = None\n",
    "pd.set_option('display.max_colwidth', -1)\n",
    "%matplotlib inline"
   ]
  },
  {
   "cell_type": "code",
   "execution_count": null,
   "metadata": {
    "hidden": true
   },
   "outputs": [],
   "source": []
  },
  {
   "cell_type": "markdown",
   "metadata": {
    "heading_collapsed": true
   },
   "source": [
    "# Raw Input Questions"
   ]
  },
  {
   "cell_type": "markdown",
   "metadata": {
    "hidden": true
   },
   "source": [
    "---\n",
    "## - What is your price range? \n",
    "\n",
    "\n",
    "| Below 50 | 50 to 100 | 150 to 200 | 200 to 500 | Above 500 |\n",
    "|:--------:|:---------:|:----------:|:----------:|:---------:|\n",
    "\n",
    "---"
   ]
  },
  {
   "cell_type": "code",
   "execution_count": 47,
   "metadata": {
    "hidden": true
   },
   "outputs": [],
   "source": [
    "def price_range_f(price_range):\n",
    "    return price_range"
   ]
  },
  {
   "cell_type": "code",
   "execution_count": 48,
   "metadata": {
    "hidden": true
   },
   "outputs": [],
   "source": [
    "price_range = interactive(\n",
    "    price_range_f,\n",
    "    price_range=[\n",
    "        'Below 50', '50 to 100', '150 to 200', '200 to 500', 'Above 500'\n",
    "    ])"
   ]
  },
  {
   "cell_type": "markdown",
   "metadata": {
    "hidden": true
   },
   "source": [
    "---\n",
    "## - What category would you prefer?\n",
    "\n",
    "\n",
    "| Blended Scotch Whisky | Single Malt Scotch | Blended Malt Scotch Whisky | Grain Scotch Whisky | Single Grain Whisky |\n",
    "|:-:|:-:|:-:|:-:|:-:|\n",
    "\n",
    "---"
   ]
  },
  {
   "cell_type": "code",
   "execution_count": 49,
   "metadata": {
    "hidden": true
   },
   "outputs": [],
   "source": [
    "def category_f(category_range):\n",
    "    return category_range"
   ]
  },
  {
   "cell_type": "code",
   "execution_count": 50,
   "metadata": {
    "hidden": true
   },
   "outputs": [],
   "source": [
    "category_range = interactive(\n",
    "    category_f,\n",
    "    category_range=[\n",
    "        'Blended Scotch Whisky', 'Single Malt Scotch',\n",
    "        'Blended Malt Scotch Whisky', 'Grain Scotch Whisky',\n",
    "        'Single Grain Whisky'\n",
    "    ])"
   ]
  },
  {
   "cell_type": "markdown",
   "metadata": {
    "hidden": true
   },
   "source": [
    "\n",
    "---\n",
    "## - What ABV level would you prefer?\n",
    "\n",
    "| Below 40% | 40% | Above 40% |\n",
    "|:--------:|:---------:|:----------:|\n",
    "\n",
    "---\n"
   ]
  },
  {
   "cell_type": "code",
   "execution_count": 51,
   "metadata": {
    "hidden": true
   },
   "outputs": [],
   "source": [
    "def abv_range_f(abv_range):\n",
    "    return abv_range"
   ]
  },
  {
   "cell_type": "code",
   "execution_count": 52,
   "metadata": {
    "hidden": true
   },
   "outputs": [],
   "source": [
    "abv_range = interactive(\n",
    "    abv_range_f, abv_range=['Below 40%', '40%', 'Above 40%'])"
   ]
  },
  {
   "cell_type": "markdown",
   "metadata": {
    "hidden": true
   },
   "source": [
    "\n",
    "---\n",
    "## - What tasting notes do you prefer?\n",
    "\n",
    "| taste |  taste |  taste |   taste  |  taste  |  taste |\n",
    "|:------:|:-------:|:------:|:--------:|:------:|:-------:|\n",
    "| earth |  fruit |  honey |   cream  |  malt  |  herbal |\n",
    "|  wood |  floral |  nutty |  ginger  | citrus | vanilla |\n",
    "|  spicy |  peaty  |   dry  |  toffee  | pepper | caramel |\n",
    "|  malt |  silk  | syrup |   toast  |   oil  |         |\n",
    "|  wine | cereal |  salty | cinnamon |  sweet |         |\n",
    "\n",
    "---\n",
    "---"
   ]
  },
  {
   "cell_type": "code",
   "execution_count": 53,
   "metadata": {
    "hidden": true
   },
   "outputs": [],
   "source": [
    "def taste_notes1(first_taste):\n",
    "    return first_taste"
   ]
  },
  {
   "cell_type": "code",
   "execution_count": 54,
   "metadata": {
    "hidden": true
   },
   "outputs": [],
   "source": [
    "def taste_notes2(second_taste):\n",
    "    return second_taste"
   ]
  },
  {
   "cell_type": "code",
   "execution_count": 55,
   "metadata": {
    "hidden": true
   },
   "outputs": [],
   "source": [
    "def taste_notes3(third_taste):\n",
    "    return third_taste"
   ]
  },
  {
   "cell_type": "code",
   "execution_count": 56,
   "metadata": {
    "hidden": true
   },
   "outputs": [],
   "source": [
    "first_taste = interactive(\n",
    "    taste_notes1,\n",
    "    first_taste=[\n",
    "        'earth', 'wood', 'spicy', 'malt', 'wine', 'fruity', 'floral',\n",
    "        'peaty', 'silk', 'cereals', 'honey', 'nutty', 'dry', 'syrup',\n",
    "        'salty', 'cream', 'ginger', 'toffee', 'toast', 'cinnamon', 'malt',\n",
    "        'citrus', 'pepper', 'oil', 'sweet', 'herbal', 'vanilla', 'caramel'\n",
    "    ])"
   ]
  },
  {
   "cell_type": "code",
   "execution_count": 57,
   "metadata": {
    "hidden": true
   },
   "outputs": [],
   "source": [
    "second_taste = interactive(\n",
    "    taste_notes2,\n",
    "    second_taste=[\n",
    "        'earth', 'wood', 'spicy', 'malt', 'wine', 'fruity', 'floral',\n",
    "        'peaty', 'silk', 'cereals', 'honey', 'nutty', 'dry', 'syrup',\n",
    "        'salty', 'cream', 'ginger', 'toffee', 'toast', 'cinnamon', 'malt',\n",
    "        'citrus', 'pepper', 'oil', 'sweet', 'herbal', 'vanilla', 'caramel'\n",
    "    ])"
   ]
  },
  {
   "cell_type": "code",
   "execution_count": 58,
   "metadata": {
    "hidden": true
   },
   "outputs": [],
   "source": [
    "third_taste = interactive(\n",
    "    taste_notes3,\n",
    "    third_taste=[\n",
    "        'earth', 'wood', 'spicy', 'malt', 'wine', 'fruity', 'floral',\n",
    "        'peaty', 'silk', 'cereals', 'honey', 'nutty', 'dry', 'syrup',\n",
    "        'salty', 'cream', 'ginger', 'toffee', 'toast', 'cinnamon', 'malt',\n",
    "        'citrus', 'pepper', 'oil', 'sweet', 'herbal', 'vanilla', 'caramel'\n",
    "    ])"
   ]
  },
  {
   "cell_type": "code",
   "execution_count": null,
   "metadata": {
    "hidden": true
   },
   "outputs": [],
   "source": []
  },
  {
   "cell_type": "code",
   "execution_count": 59,
   "metadata": {
    "hidden": true
   },
   "outputs": [],
   "source": [
    "# Reading in the scotch reviews data received from Kaggle\n",
    "scotch = pd.read_csv('./dataset/scotch_review.csv')"
   ]
  },
  {
   "cell_type": "code",
   "execution_count": 60,
   "metadata": {
    "hidden": true
   },
   "outputs": [],
   "source": [
    "# scotch.head()"
   ]
  },
  {
   "cell_type": "code",
   "execution_count": 61,
   "metadata": {
    "hidden": true
   },
   "outputs": [],
   "source": [
    "# scotch['price']"
   ]
  },
  {
   "cell_type": "code",
   "execution_count": null,
   "metadata": {
    "hidden": true
   },
   "outputs": [],
   "source": []
  },
  {
   "cell_type": "code",
   "execution_count": null,
   "metadata": {
    "hidden": true
   },
   "outputs": [],
   "source": []
  },
  {
   "cell_type": "code",
   "execution_count": null,
   "metadata": {
    "hidden": true
   },
   "outputs": [],
   "source": []
  },
  {
   "cell_type": "code",
   "execution_count": 62,
   "metadata": {
    "hidden": true
   },
   "outputs": [],
   "source": [
    "# Dropping Unnamed: 0 due to being unneeded\n",
    "# and currency due to all are in USD\n",
    "scotch.drop(['Unnamed: 0', 'currency'], axis=1, inplace=True)"
   ]
  },
  {
   "cell_type": "code",
   "execution_count": 63,
   "metadata": {
    "hidden": true
   },
   "outputs": [],
   "source": [
    "# Verify correct columns have dropped\n",
    "# scotch.head()"
   ]
  },
  {
   "cell_type": "code",
   "execution_count": 64,
   "metadata": {
    "hidden": true
   },
   "outputs": [],
   "source": [
    "# Renaming column for simplicity\n",
    "scotch.rename(index=str, columns={'review.point': 'points'}, inplace=True)"
   ]
  },
  {
   "cell_type": "code",
   "execution_count": 65,
   "metadata": {
    "hidden": true,
    "scrolled": true
   },
   "outputs": [],
   "source": [
    "# Seeing the dtypes of each column\n",
    "# scotch.info()"
   ]
  },
  {
   "cell_type": "code",
   "execution_count": 66,
   "metadata": {
    "hidden": true
   },
   "outputs": [],
   "source": [
    "# Sorting the price\n",
    "# sorted(scotch.price)"
   ]
  },
  {
   "cell_type": "code",
   "execution_count": 67,
   "metadata": {
    "hidden": true
   },
   "outputs": [],
   "source": [
    "# Extracting and just the numbers from the price\n",
    "scotch['price'] = scotch['price'].str.extract('(\\d\\d\\d*|\\d)')\n",
    "# scotch['price']"
   ]
  },
  {
   "cell_type": "code",
   "execution_count": 68,
   "metadata": {
    "hidden": true
   },
   "outputs": [],
   "source": [
    "# Changing all strings to floats\n",
    "scotch['price'] = scotch['price'].astype(str).astype(float)"
   ]
  },
  {
   "cell_type": "code",
   "execution_count": 69,
   "metadata": {
    "hidden": true
   },
   "outputs": [],
   "source": [
    "# scotch.dtypes"
   ]
  },
  {
   "cell_type": "code",
   "execution_count": 70,
   "metadata": {
    "hidden": true
   },
   "outputs": [],
   "source": [
    "# scotch.shape"
   ]
  },
  {
   "cell_type": "code",
   "execution_count": 71,
   "metadata": {
    "hidden": true
   },
   "outputs": [],
   "source": [
    "# Finding all the scotches that have an abv associated\n",
    "# and breaking them into a new column\n",
    "\n",
    "scotch['abv'] = scotch['name'].str.extract('(\\d\\d%|\\d\\d.\\d%)')\n",
    "\n",
    "# print('%.1f%% of the scotches have an abv associated with them.' %((1-(scotch['abv'].isnull().sum()/len(scotch['abv'])))*100))"
   ]
  },
  {
   "cell_type": "code",
   "execution_count": 72,
   "metadata": {
    "hidden": true
   },
   "outputs": [],
   "source": [
    "# Since there are so few nan I will just drop them\n",
    "scotch['abv'].dropna(inplace=True)"
   ]
  },
  {
   "cell_type": "code",
   "execution_count": 73,
   "metadata": {
    "hidden": true
   },
   "outputs": [],
   "source": [
    "# Because abv was with the name column before, it was a string\n",
    "# Converted it to a float\n",
    "scotch['abv'] = scotch['abv'].astype(str).str[:-1].astype(float)"
   ]
  },
  {
   "cell_type": "code",
   "execution_count": 74,
   "metadata": {
    "hidden": true
   },
   "outputs": [],
   "source": [
    "# Finding the nan\n",
    "# scotch['abv'].isnull().sum()"
   ]
  },
  {
   "cell_type": "code",
   "execution_count": 75,
   "metadata": {
    "hidden": true
   },
   "outputs": [],
   "source": [
    "# Dropping the nan\n",
    "scotch['abv'].dropna(inplace=True)"
   ]
  },
  {
   "cell_type": "code",
   "execution_count": 76,
   "metadata": {
    "hidden": true
   },
   "outputs": [],
   "source": [
    "# Verifying nan drop\n",
    "# scotch['abv'].isnull().sum()"
   ]
  },
  {
   "cell_type": "code",
   "execution_count": 77,
   "metadata": {
    "hidden": true
   },
   "outputs": [],
   "source": [
    "# Another verification for fun\n",
    "# print('%.1f%% of the scotches have an abv associated with them.' %((1-(scotch['abv'].isnull().sum()/len(scotch['abv'])))*100))"
   ]
  },
  {
   "cell_type": "code",
   "execution_count": 78,
   "metadata": {
    "hidden": true
   },
   "outputs": [],
   "source": [
    "# scotch.head()"
   ]
  },
  {
   "cell_type": "code",
   "execution_count": null,
   "metadata": {
    "hidden": true
   },
   "outputs": [],
   "source": []
  },
  {
   "cell_type": "code",
   "execution_count": 79,
   "metadata": {
    "hidden": true
   },
   "outputs": [],
   "source": [
    "# Separating prices into 6 understandable bins\n",
    "bins_price = [0, 50, 100, 150, 200, 500, np.inf]\n",
    "price = [\n",
    "    'Below 50', '50 to 100', '100 to 150', '150 to 200', '200 to 500',\n",
    "    'Above 500'\n",
    "]\n",
    "\n",
    "scotch['price_categories'] = pd.cut(scotch['price'], bins_price, labels=price)"
   ]
  },
  {
   "cell_type": "code",
   "execution_count": 80,
   "metadata": {
    "hidden": true
   },
   "outputs": [],
   "source": [
    "# Separating abv into 3 understandable bins\n",
    "bins_abv = [0, 39, 40, np.inf]\n",
    "abv = ['Below 40%', '40%', 'Above 40%']\n",
    "\n",
    "scotch['abv_categories'] = pd.cut(scotch['abv'], bins_abv, labels=abv)"
   ]
  },
  {
   "cell_type": "code",
   "execution_count": 81,
   "metadata": {
    "hidden": true,
    "scrolled": true
   },
   "outputs": [],
   "source": [
    "# scotch.shape"
   ]
  },
  {
   "cell_type": "code",
   "execution_count": null,
   "metadata": {
    "hidden": true
   },
   "outputs": [],
   "source": []
  },
  {
   "cell_type": "markdown",
   "metadata": {},
   "source": [
    "# Preference Selection"
   ]
  },
  {
   "cell_type": "code",
   "execution_count": 100,
   "metadata": {},
   "outputs": [
    {
     "data": {
      "application/vnd.jupyter.widget-view+json": {
       "model_id": "e63dee87c9054a4bb3f86d440f7a1a88",
       "version_major": 2,
       "version_minor": 0
      },
      "text/plain": [
       "interactive(children=(Dropdown(description='price_range', index=3, options=('Below 50', '50 to 100', '150 to 2…"
      ]
     },
     "metadata": {},
     "output_type": "display_data"
    },
    {
     "data": {
      "application/vnd.jupyter.widget-view+json": {
       "model_id": "446857e287144b5fbe9ce95f14fcd7bc",
       "version_major": 2,
       "version_minor": 0
      },
      "text/plain": [
       "interactive(children=(Dropdown(description='category_range', index=1, options=('Blended Scotch Whisky', 'Singl…"
      ]
     },
     "metadata": {},
     "output_type": "display_data"
    },
    {
     "data": {
      "application/vnd.jupyter.widget-view+json": {
       "model_id": "fcaf92ca42a3486a9eaab7593b908d46",
       "version_major": 2,
       "version_minor": 0
      },
      "text/plain": [
       "interactive(children=(Dropdown(description='abv_range', index=2, options=('Below 40%', '40%', 'Above 40%'), va…"
      ]
     },
     "metadata": {},
     "output_type": "display_data"
    },
    {
     "data": {
      "application/vnd.jupyter.widget-view+json": {
       "model_id": "ae4cecde42dd42c096c2a25817e34816",
       "version_major": 2,
       "version_minor": 0
      },
      "text/plain": [
       "interactive(children=(Dropdown(description='first_taste', index=2, options=('earth', 'wood', 'spicy', 'malt', …"
      ]
     },
     "metadata": {},
     "output_type": "display_data"
    },
    {
     "data": {
      "application/vnd.jupyter.widget-view+json": {
       "model_id": "e4ed768a5be9441e8e869fd41e9119f9",
       "version_major": 2,
       "version_minor": 0
      },
      "text/plain": [
       "interactive(children=(Dropdown(description='second_taste', index=26, options=('earth', 'wood', 'spicy', 'malt'…"
      ]
     },
     "metadata": {},
     "output_type": "display_data"
    },
    {
     "data": {
      "application/vnd.jupyter.widget-view+json": {
       "model_id": "4b016f6781f042eb9a5c98b810c1ba1f",
       "version_major": 2,
       "version_minor": 0
      },
      "text/plain": [
       "interactive(children=(Dropdown(description='third_taste', index=27, options=('earth', 'wood', 'spicy', 'malt',…"
      ]
     },
     "metadata": {},
     "output_type": "display_data"
    }
   ],
   "source": [
    "# Select each other categories\n",
    "display(price_range)\n",
    "display(category_range)\n",
    "display(abv_range)\n",
    "display(first_taste)\n",
    "display(second_taste)\n",
    "display(third_taste)"
   ]
  },
  {
   "cell_type": "code",
   "execution_count": 101,
   "metadata": {},
   "outputs": [],
   "source": [
    "price_range_drop = price_range.result\n",
    "category_range_drop = category_range.result\n",
    "abv_range_drop = abv_range.result\n",
    "first_taste_drop1 = first_taste.result\n",
    "second_taste_drop2 = second_taste.result\n",
    "third_taste_drop3 = third_taste.result"
   ]
  },
  {
   "cell_type": "code",
   "execution_count": 102,
   "metadata": {},
   "outputs": [],
   "source": [
    "# # Should change with every change of a drop down\n",
    "# print(price_range_drop)\n",
    "# print(category_range_drop)\n",
    "# print(abv_range_drop)\n",
    "# print(first_taste_drop1)\n",
    "# print(second_taste_drop2)\n",
    "# print(third_taste_drop3)"
   ]
  },
  {
   "cell_type": "code",
   "execution_count": 103,
   "metadata": {},
   "outputs": [],
   "source": [
    "# These should be the inputs your scotch preferances so they\n",
    "# can be made into a dataframe\n",
    "scotch_pref = pd.DataFrame({\n",
    "    'price_range_drop': [price_range_drop],\n",
    "    'category_range_drop': [category_range_drop],\n",
    "    'abv_range_drop': [abv_range_drop],\n",
    "    'first_taste_drop1': [first_taste_drop1],\n",
    "    'second_taste_drop2': [second_taste_drop2],\n",
    "    'third_taste_drop3': [third_taste_drop3]\n",
    "},\n",
    "                           index=[0]).T\n",
    "# scotch_pref"
   ]
  },
  {
   "cell_type": "code",
   "execution_count": 104,
   "metadata": {},
   "outputs": [],
   "source": [
    "price_pref = scotch.loc[scotch['price_categories'] == price_range_drop]"
   ]
  },
  {
   "cell_type": "code",
   "execution_count": 105,
   "metadata": {},
   "outputs": [],
   "source": [
    "category_pref = scotch.loc[scotch['category'] == category_range_drop]"
   ]
  },
  {
   "cell_type": "code",
   "execution_count": 106,
   "metadata": {},
   "outputs": [],
   "source": [
    "abv_pref = scotch.loc[scotch['abv_categories'] == abv_range_drop]"
   ]
  },
  {
   "cell_type": "code",
   "execution_count": 107,
   "metadata": {
    "scrolled": false
   },
   "outputs": [],
   "source": [
    "# price_pref.head()"
   ]
  },
  {
   "cell_type": "code",
   "execution_count": 108,
   "metadata": {},
   "outputs": [],
   "source": [
    "# category_pref.head()"
   ]
  },
  {
   "cell_type": "code",
   "execution_count": 109,
   "metadata": {},
   "outputs": [],
   "source": [
    "# abv_pref.head()"
   ]
  },
  {
   "cell_type": "code",
   "execution_count": 110,
   "metadata": {},
   "outputs": [],
   "source": [
    "abv_price_pref = price_pref.merge(abv_pref, how='inner', on=['name'])"
   ]
  },
  {
   "cell_type": "code",
   "execution_count": 111,
   "metadata": {},
   "outputs": [],
   "source": [
    "abv_price_cat_pref = abv_price_pref.merge(\n",
    "    category_pref, how='inner', on=['name'])"
   ]
  },
  {
   "cell_type": "code",
   "execution_count": 112,
   "metadata": {},
   "outputs": [],
   "source": [
    "# abv_price_cat_pref.head()"
   ]
  },
  {
   "cell_type": "code",
   "execution_count": 113,
   "metadata": {},
   "outputs": [],
   "source": [
    "basic_pref = abv_price_cat_pref[[\n",
    "    'name', 'category', 'points', 'price', 'abv', 'description'\n",
    "]]"
   ]
  },
  {
   "cell_type": "code",
   "execution_count": 114,
   "metadata": {},
   "outputs": [],
   "source": [
    "# basic_pref.shape"
   ]
  },
  {
   "cell_type": "code",
   "execution_count": 115,
   "metadata": {},
   "outputs": [],
   "source": [
    "# len(basic_pref)"
   ]
  },
  {
   "cell_type": "markdown",
   "metadata": {},
   "source": [
    "# Recommendations"
   ]
  },
  {
   "cell_type": "code",
   "execution_count": 116,
   "metadata": {
    "scrolled": false
   },
   "outputs": [
    {
     "data": {
      "text/html": [
       "<div>\n",
       "<style scoped>\n",
       "    .dataframe tbody tr th:only-of-type {\n",
       "        vertical-align: middle;\n",
       "    }\n",
       "\n",
       "    .dataframe tbody tr th {\n",
       "        vertical-align: top;\n",
       "    }\n",
       "\n",
       "    .dataframe thead th {\n",
       "        text-align: right;\n",
       "    }\n",
       "</style>\n",
       "<table border=\"1\" class=\"dataframe\">\n",
       "  <thead>\n",
       "    <tr style=\"text-align: right;\">\n",
       "      <th></th>\n",
       "      <th>name</th>\n",
       "      <th>category</th>\n",
       "      <th>points</th>\n",
       "      <th>price</th>\n",
       "      <th>abv</th>\n",
       "      <th>description</th>\n",
       "    </tr>\n",
       "  </thead>\n",
       "  <tbody>\n",
       "    <tr>\n",
       "      <th>1</th>\n",
       "      <td>Brora, 30 year old (2009 Release), 53.2%</td>\n",
       "      <td>Single Malt Scotch</td>\n",
       "      <td>95</td>\n",
       "      <td>400.0</td>\n",
       "      <td>53.2</td>\n",
       "      <td>This whisky has all the positive aspects of a very mature whisky (depth, complexity) without all the negative ones (excessive oak, one-dimensional). Very clean, but oily in texture, with honeyed vanilla, caramel, citrus (tangerine, orange, lemon), nectarine, olive brine, black pepper, ginger, cut grass, mustard seed, and just the hint of teasing smoke. Briny, spicy finish. Wonderful!</td>\n",
       "    </tr>\n",
       "    <tr>\n",
       "      <th>68</th>\n",
       "      <td>The Dalmore Distillery Exclusive 1991, 59%</td>\n",
       "      <td>Single Malt Scotch</td>\n",
       "      <td>91</td>\n",
       "      <td>236.0</td>\n",
       "      <td>59.0</td>\n",
       "      <td>Staff members at Dalmore selected this distillery-exclusive bottling, which has been drawn from American white oak cask number 446, and bottled at cask strength. The out-turn comprises 450 bottles. Refined, polished oak on the nose. Honey, marzipan, caramel, and vanilla. Fragrant, with old leather and over-ripe oranges when water is added. Warm leather, apricots, orange marmalade, cocoa powder, and developing spice on the palate. A long, spicy, citric finish. Finally, licorice. £150</td>\n",
       "    </tr>\n",
       "  </tbody>\n",
       "</table>\n",
       "</div>"
      ],
      "text/plain": [
       "                                          name            category  points  \\\n",
       "1   Brora, 30 year old (2009 Release), 53.2%    Single Malt Scotch  95       \n",
       "68  The Dalmore Distillery Exclusive 1991, 59%  Single Malt Scotch  91       \n",
       "\n",
       "    price   abv  \\\n",
       "1   400.0  53.2   \n",
       "68  236.0  59.0   \n",
       "\n",
       "                                                                                                                                                                                                                                                                                                                                                                                                                                                                                                description  \n",
       "1   This whisky has all the positive aspects of a very mature whisky (depth, complexity) without all the negative ones (excessive oak, one-dimensional). Very clean, but oily in texture, with honeyed vanilla, caramel, citrus (tangerine, orange, lemon), nectarine, olive brine, black pepper, ginger, cut grass, mustard seed, and just the hint of teasing smoke. Briny, spicy finish. Wonderful!                                                                                                       \n",
       "68  Staff members at Dalmore selected this distillery-exclusive bottling, which has been drawn from American white oak cask number 446, and bottled at cask strength. The out-turn comprises 450 bottles. Refined, polished oak on the nose. Honey, marzipan, caramel, and vanilla. Fragrant, with old leather and over-ripe oranges when water is added. Warm leather, apricots, orange marmalade, cocoa powder, and developing spice on the palate. A long, spicy, citric finish. Finally, licorice. £150  "
      ]
     },
     "execution_count": 116,
     "metadata": {},
     "output_type": "execute_result"
    }
   ],
   "source": [
    "recommendation = []\n",
    "for _ in range(0, len(basic_pref)):\n",
    "    result = {}\n",
    "    if first_taste_drop1 in basic_pref['description'][\n",
    "            _] and second_taste_drop2 in basic_pref['description'][\n",
    "                _] and third_taste_drop3 in basic_pref['description'][_]:\n",
    "        result['final_rec'] = basic_pref.iloc[[_]]\n",
    "\n",
    "        if first_taste_drop1 in basic_pref['description'][\n",
    "                _] and second_taste_drop2 in basic_pref['description'][_]:\n",
    "            result['final_rec'] = basic_pref.iloc[[_]]\n",
    "\n",
    "            if first_taste_drop1 in basic_pref['description'][\n",
    "                    _] and third_taste_drop3 in basic_pref['description'][_]:\n",
    "                result['final_rec'] = basic_pref.iloc[[_]]\n",
    "\n",
    "                if second_taste_drop2 in basic_pref['description'][\n",
    "                        _] and third_taste_drop3 in basic_pref['description'][\n",
    "                            _]:\n",
    "                    result['final_rec'] = basic_pref.iloc[[_]]\n",
    "\n",
    "                    if first_taste_drop1 in basic_pref['description'][\n",
    "                            _] or second_taste_drop2 in basic_pref[\n",
    "                                'description'][\n",
    "                                    _] or third_taste_drop3 in basic_pref[\n",
    "                                        'description'][_]:\n",
    "                        result['final_rec'] = basic_pref.iloc[[_]]\n",
    "\n",
    "                        recommendation.append(result['final_rec'])\n",
    "recommendation = pd.concat(recommendation)\n",
    "recommendation.head()"
   ]
  },
  {
   "cell_type": "code",
   "execution_count": 73,
   "metadata": {},
   "outputs": [
    {
     "data": {
      "text/html": [
       "<script>\n",
       "code_show=true; \n",
       "function code_toggle() {\n",
       " if (code_show){\n",
       " $('div.input').hide();\n",
       " } else {\n",
       " $('div.input').show();\n",
       " }\n",
       " code_show = !code_show\n",
       "} \n",
       "$( document ).ready(code_toggle);\n",
       "</script><a href=\"javascript:code_toggle()\">Hide</a> code."
      ],
      "text/plain": [
       "<IPython.core.display.HTML object>"
      ]
     },
     "execution_count": 73,
     "metadata": {},
     "output_type": "execute_result"
    }
   ],
   "source": [
    "HTML('''<script>\n",
    "code_show=true; \n",
    "function code_toggle() {\n",
    " if (code_show){\n",
    " $('div.input').hide();\n",
    " } else {\n",
    " $('div.input').show();\n",
    " }\n",
    " code_show = !code_show\n",
    "} \n",
    "$( document ).ready(code_toggle);\n",
    "</script><a href=\"javascript:code_toggle()\">Hide</a> code.''')"
   ]
  }
 ],
 "metadata": {
  "hide_input": false,
  "kernelspec": {
   "display_name": "Python 3",
   "language": "python",
   "name": "python3"
  },
  "language_info": {
   "codemirror_mode": {
    "name": "ipython",
    "version": 3
   },
   "file_extension": ".py",
   "mimetype": "text/x-python",
   "name": "python",
   "nbconvert_exporter": "python",
   "pygments_lexer": "ipython3",
   "version": "3.6.7"
  },
  "toc": {
   "base_numbering": 1,
   "nav_menu": {
    "height": "106px",
    "width": "326px"
   },
   "number_sections": true,
   "sideBar": true,
   "skip_h1_title": false,
   "title_cell": "Table of Contents",
   "title_sidebar": "Contents",
   "toc_cell": true,
   "toc_position": {
    "height": "560px",
    "left": "298px",
    "top": "142px",
    "width": "293px"
   },
   "toc_section_display": true,
   "toc_window_display": true
  },
  "varInspector": {
   "cols": {
    "lenName": 16,
    "lenType": 16,
    "lenVar": 40
   },
   "kernels_config": {
    "python": {
     "delete_cmd_postfix": "",
     "delete_cmd_prefix": "del ",
     "library": "var_list.py",
     "varRefreshCmd": "print(var_dic_list())"
    },
    "r": {
     "delete_cmd_postfix": ") ",
     "delete_cmd_prefix": "rm(",
     "library": "var_list.r",
     "varRefreshCmd": "cat(var_dic_list()) "
    }
   },
   "position": {
    "height": "360px",
    "left": "1069px",
    "right": "20px",
    "top": "120px",
    "width": "354px"
   },
   "types_to_exclude": [
    "module",
    "function",
    "builtin_function_or_method",
    "instance",
    "_Feature"
   ],
   "window_display": false
  }
 },
 "nbformat": 4,
 "nbformat_minor": 2
}
