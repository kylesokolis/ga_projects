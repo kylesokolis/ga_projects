{
 "cells": [
  {
   "cell_type": "markdown",
   "metadata": {},
   "source": [
    "# Digital Scotch Sommelier Capstone"
   ]
  },
  {
   "cell_type": "code",
   "execution_count": 1,
   "metadata": {
    "code_folding": []
   },
   "outputs": [],
   "source": [
    "# Imports\n",
    "from __future__ import print_function\n",
    "\n",
    "import pandas as pd\n",
    "import re\n",
    "import numpy as np\n",
    "import seaborn as sns\n",
    "import decimal\n",
    "import ipywidgets as widgets\n",
    "import matplotlib.pyplot as plt\n",
    "import nltk\n",
    "\n",
    "from sklearn.model_selection import train_test_split, KFold, cross_val_score\n",
    "from sklearn.linear_model import LinearRegression\n",
    "from sklearn.metrics import r2_score\n",
    "from sklearn.ensemble import RandomForestRegressor, RandomForestClassifier\n",
    "from sklearn.model_selection import GridSearchCV, RandomizedSearchCV\n",
    "from sklearn.feature_extraction.text import CountVectorizer, TfidfVectorizer\n",
    "\n",
    "from bs4 import BeautifulSoup\n",
    "\n",
    "from nltk.tokenize import word_tokenize, regexp_tokenize\n",
    "from nltk.corpus import stopwords\n",
    "\n",
    "from ipywidgets import interact, interactive, fixed, interact_manual\n",
    "from ipywidgets import widgets, interact, interact_manual, fixed\n",
    "from IPython.display import display, clear_output, HTML, Javascript\n",
    "\n",
    "sns.set()\n",
    "pd.options.mode.chained_assignment = None\n",
    "pd.set_option('display.max_colwidth', -1)\n",
    "pd.set_option('display.max_rows', None)\n",
    "%matplotlib inline"
   ]
  },
  {
   "cell_type": "code",
   "execution_count": null,
   "metadata": {},
   "outputs": [],
   "source": []
  },
  {
   "cell_type": "markdown",
   "metadata": {
    "heading_collapsed": true
   },
   "source": [
    "# Raw Input Questions"
   ]
  },
  {
   "cell_type": "markdown",
   "metadata": {
    "hidden": true
   },
   "source": [
    "---\n",
    "## - What is your price range? \n",
    "\n",
    "\n",
    "| Below 50 | 50 to 100 | 100 to 150 | 150 to 200 | 200 to 500 | Above 500 |\n",
    "|:--------:|:---------:|:----------:|:----------:|:----------:|:---------:|\n",
    "\n",
    "---"
   ]
  },
  {
   "cell_type": "code",
   "execution_count": 2,
   "metadata": {
    "hidden": true
   },
   "outputs": [],
   "source": [
    "def price_range_f(price_range):\n",
    "    return price_range"
   ]
  },
  {
   "cell_type": "code",
   "execution_count": 3,
   "metadata": {
    "hidden": true
   },
   "outputs": [],
   "source": [
    "price_range = interactive(\n",
    "    price_range_f,\n",
    "    price_range=[\n",
    "        'Below 50', '50 to 100', '100 to 150', '150 to 200', '200 to 500', 'Above 500'\n",
    "    ])"
   ]
  },
  {
   "cell_type": "markdown",
   "metadata": {
    "hidden": true
   },
   "source": [
    "---\n",
    "## - What category would you prefer?\n",
    "\n",
    "\n",
    "| Blended Scotch | Single Malt Scotch | Single Grain Scotch |\n",
    "|:--------------:|:------------------:|:-------------------:|\n",
    "\n",
    "---"
   ]
  },
  {
   "cell_type": "code",
   "execution_count": 4,
   "metadata": {
    "hidden": true
   },
   "outputs": [],
   "source": [
    "def category_f(type_range):\n",
    "    return type_range"
   ]
  },
  {
   "cell_type": "code",
   "execution_count": 5,
   "metadata": {
    "hidden": true
   },
   "outputs": [],
   "source": [
    "type_range = interactive(\n",
    "    category_f,\n",
    "    type_range=[\n",
    "        'Blended Scotch', 'Single Malt Scotch', 'Single Grain Scotch'\n",
    "    ])"
   ]
  },
  {
   "cell_type": "markdown",
   "metadata": {
    "hidden": true
   },
   "source": [
    "\n",
    "---\n",
    "## - What ABV level would you prefer?\n",
    "\n",
    "| Below 40% | 40% | Above 40% |\n",
    "|:---------:|:---:|:---------:|\n",
    "\n",
    "---\n"
   ]
  },
  {
   "cell_type": "code",
   "execution_count": 6,
   "metadata": {
    "hidden": true
   },
   "outputs": [],
   "source": [
    "def abv_range_f(abv_range):\n",
    "    return abv_range"
   ]
  },
  {
   "cell_type": "code",
   "execution_count": 7,
   "metadata": {
    "hidden": true
   },
   "outputs": [],
   "source": [
    "abv_range = interactive(\n",
    "    abv_range_f, abv_range=['40%', 'Below 40%', 'Above 40%'])"
   ]
  },
  {
   "cell_type": "markdown",
   "metadata": {
    "hidden": true
   },
   "source": [
    "\n",
    "---\n",
    "## - What tasting notes do you prefer?\n",
    "\n",
    "| taste | taste  | taste | taste    | taste  | taste     |\n",
    "|:-----:|:------:|:-----:|:--------:|:------:|:---------:|\n",
    "| earth | fruit  | honey | cream    | malt   | herbal    |\n",
    "| wood  | floral | nutty | ginger   | citrus | vanilla   |\n",
    "| spicy | peaty  | dry   | toffee   | pepper | caramel   |\n",
    "| malt  | silk   | syrup | toast    | oil    | chocolate |\n",
    "| wine  | cereal | salty | cinnamon | sweet  |           |\n",
    "\n",
    "---\n",
    "---"
   ]
  },
  {
   "cell_type": "code",
   "execution_count": 8,
   "metadata": {
    "hidden": true
   },
   "outputs": [],
   "source": [
    "def taste_notes1(flavor_1):\n",
    "    return flavor_1"
   ]
  },
  {
   "cell_type": "code",
   "execution_count": 9,
   "metadata": {
    "hidden": true
   },
   "outputs": [],
   "source": [
    "def taste_notes2(flavor_2):\n",
    "    return flavor_2"
   ]
  },
  {
   "cell_type": "code",
   "execution_count": 10,
   "metadata": {
    "hidden": true
   },
   "outputs": [],
   "source": [
    "def taste_notes3(flavor_3):\n",
    "    return flavor_3"
   ]
  },
  {
   "cell_type": "code",
   "execution_count": 11,
   "metadata": {
    "hidden": true
   },
   "outputs": [],
   "source": [
    "flavor_1 = interactive(\n",
    "    taste_notes1,\n",
    "    flavor_1=[\n",
    "        '', 'earth', 'wood', 'spice', 'malt', 'wine', 'fruit', 'floral', 'peat',\n",
    "        'silk', 'cereal', 'honey', 'nut', 'dry', 'syrup', 'salt', 'cream',\n",
    "        'ginger', 'toffee', 'toast', 'cinnamon', 'malt', 'citrus', 'pepper',\n",
    "        'oil', 'sweet', 'herbal', 'vanilla', 'caramel', 'chocolate'\n",
    "    ])"
   ]
  },
  {
   "cell_type": "code",
   "execution_count": 12,
   "metadata": {
    "hidden": true
   },
   "outputs": [],
   "source": [
    "flavor_2 = interactive(\n",
    "    taste_notes2,\n",
    "    flavor_2=[\n",
    "        '', 'earth', 'wood', 'spice', 'malt', 'wine', 'fruit', 'floral', 'peat',\n",
    "        'silk', 'cereal', 'honey', 'nut', 'dry', 'syrup', 'salt', 'cream',\n",
    "        'ginger', 'toffee', 'toast', 'cinnamon', 'malt', 'citrus', 'pepper',\n",
    "        'oil', 'sweet', 'herbal', 'vanilla', 'caramel', 'chocolate'\n",
    "    ])"
   ]
  },
  {
   "cell_type": "code",
   "execution_count": 13,
   "metadata": {
    "hidden": true
   },
   "outputs": [],
   "source": [
    "flavor_3 = interactive(\n",
    "    taste_notes3,\n",
    "    flavor_3=[\n",
    "        '', 'earth', 'wood', 'spice', 'malt', 'wine', 'fruit', 'floral', 'peat',\n",
    "        'silk', 'cereal', 'honey', 'nut', 'dry', 'syrup', 'salt', 'cream',\n",
    "        'ginger', 'toffee', 'toast', 'cinnamon', 'malt', 'citrus', 'pepper',\n",
    "        'oil', 'sweet', 'herbal', 'vanilla', 'caramel', 'chocolate'\n",
    "    ])"
   ]
  },
  {
   "cell_type": "code",
   "execution_count": null,
   "metadata": {
    "hidden": true
   },
   "outputs": [],
   "source": []
  },
  {
   "cell_type": "code",
   "execution_count": 14,
   "metadata": {
    "hidden": true
   },
   "outputs": [],
   "source": [
    "# Reading in the scotch reviews data received from Kaggle\n",
    "scotch = pd.read_csv('./dataset/scotch_review.csv')"
   ]
  },
  {
   "cell_type": "code",
   "execution_count": 15,
   "metadata": {
    "hidden": true
   },
   "outputs": [],
   "source": [
    "scotch['category'] = pd.DataFrame(scotch['category']).replace(\n",
    "    {\n",
    "        'Blended Malt Scotch Whisky': 'Blended Scotch',\n",
    "        'Blended Scotch Whisky': 'Blended Scotch',\n",
    "        'Grain Scotch Whisky': 'Single Grain Scotch',\n",
    "        'Single Grain Whisky': 'Single Grain Scotch'\n",
    "    })"
   ]
  },
  {
   "cell_type": "code",
   "execution_count": 16,
   "metadata": {
    "hidden": true
   },
   "outputs": [
    {
     "data": {
      "text/plain": [
       "(2247, 7)"
      ]
     },
     "execution_count": 16,
     "metadata": {},
     "output_type": "execute_result"
    }
   ],
   "source": [
    "scotch.shape"
   ]
  },
  {
   "cell_type": "code",
   "execution_count": 17,
   "metadata": {
    "hidden": true
   },
   "outputs": [],
   "source": [
    "# scotch['price']"
   ]
  },
  {
   "cell_type": "code",
   "execution_count": null,
   "metadata": {
    "hidden": true
   },
   "outputs": [],
   "source": []
  },
  {
   "cell_type": "code",
   "execution_count": 18,
   "metadata": {
    "hidden": true
   },
   "outputs": [],
   "source": [
    "scotch['price'] = scotch['price'].map(lambda x: ''.join(str(x).split(',')))"
   ]
  },
  {
   "cell_type": "code",
   "execution_count": null,
   "metadata": {
    "hidden": true
   },
   "outputs": [],
   "source": []
  },
  {
   "cell_type": "code",
   "execution_count": 19,
   "metadata": {
    "hidden": true
   },
   "outputs": [],
   "source": [
    "# Dropping Unnamed: 0 due to being unneeded\n",
    "# and currency due to all are in USD\n",
    "scotch.drop(['Unnamed: 0', 'currency'], axis=1, inplace=True)"
   ]
  },
  {
   "cell_type": "code",
   "execution_count": 20,
   "metadata": {
    "hidden": true
   },
   "outputs": [],
   "source": [
    "# Verify correct columns have dropped\n",
    "# scotch.head()"
   ]
  },
  {
   "cell_type": "code",
   "execution_count": 21,
   "metadata": {
    "hidden": true
   },
   "outputs": [],
   "source": [
    "# Renaming column for simplicity\n",
    "scotch.rename(index=str, columns={'review.point': 'points'}, inplace=True)"
   ]
  },
  {
   "cell_type": "code",
   "execution_count": 22,
   "metadata": {
    "hidden": true,
    "scrolled": true
   },
   "outputs": [],
   "source": [
    "# Seeing the dtypes of each column\n",
    "# scotch.info()"
   ]
  },
  {
   "cell_type": "code",
   "execution_count": 23,
   "metadata": {
    "hidden": true
   },
   "outputs": [],
   "source": [
    "# Sorting the price\n",
    "# sorted(scotch.price)"
   ]
  },
  {
   "cell_type": "code",
   "execution_count": 24,
   "metadata": {
    "hidden": true
   },
   "outputs": [],
   "source": [
    "# Extracting and just the numbers from the price\n",
    "scotch['price'] = scotch['price'].str.extract('(\\d\\d\\d*|\\d)')\n",
    "# scotch['price']"
   ]
  },
  {
   "cell_type": "code",
   "execution_count": 25,
   "metadata": {
    "hidden": true
   },
   "outputs": [],
   "source": [
    "# Changing all strings to floats\n",
    "scotch['price'] = scotch['price'].astype(str).astype(float)"
   ]
  },
  {
   "cell_type": "code",
   "execution_count": null,
   "metadata": {
    "hidden": true
   },
   "outputs": [],
   "source": []
  },
  {
   "cell_type": "code",
   "execution_count": 26,
   "metadata": {
    "hidden": true
   },
   "outputs": [],
   "source": [
    "# scotch.dtypes"
   ]
  },
  {
   "cell_type": "code",
   "execution_count": 27,
   "metadata": {
    "hidden": true
   },
   "outputs": [],
   "source": [
    "# scotch.shape"
   ]
  },
  {
   "cell_type": "code",
   "execution_count": 28,
   "metadata": {
    "hidden": true
   },
   "outputs": [],
   "source": [
    "# Finding all the scotches that have an abv associated\n",
    "# and breaking them into a new column\n",
    "\n",
    "scotch['abv'] = scotch['name'].str.extract('(\\d\\d%|\\d\\d.\\d%)')\n",
    "\n",
    "# print('%.1f%% of the scotches have an abv associated with them.' %((1-(scotch['abv'].isnull().sum()/len(scotch['abv'])))*100))"
   ]
  },
  {
   "cell_type": "code",
   "execution_count": 29,
   "metadata": {
    "hidden": true
   },
   "outputs": [],
   "source": [
    "# Since there are so few nan I will just drop them\n",
    "scotch['abv'].dropna(inplace=True)"
   ]
  },
  {
   "cell_type": "code",
   "execution_count": 30,
   "metadata": {
    "hidden": true
   },
   "outputs": [],
   "source": [
    "# Because abv was with the name column before, it was a string\n",
    "# Converted it to a float\n",
    "scotch['abv'] = scotch['abv'].astype(str).str[:-1].astype(float)"
   ]
  },
  {
   "cell_type": "code",
   "execution_count": 31,
   "metadata": {
    "hidden": true
   },
   "outputs": [],
   "source": [
    "# Finding the nan\n",
    "# scotch['abv'].isnull().sum()"
   ]
  },
  {
   "cell_type": "code",
   "execution_count": 32,
   "metadata": {
    "hidden": true
   },
   "outputs": [],
   "source": [
    "# Dropping the nan\n",
    "scotch['abv'].dropna(inplace=True)"
   ]
  },
  {
   "cell_type": "code",
   "execution_count": 33,
   "metadata": {
    "hidden": true
   },
   "outputs": [],
   "source": [
    "# Verifying nan drop\n",
    "# scotch['abv'].isnull().sum()"
   ]
  },
  {
   "cell_type": "code",
   "execution_count": 34,
   "metadata": {
    "hidden": true
   },
   "outputs": [],
   "source": [
    "# Another verification for fun\n",
    "# print('%.1f%% of the scotches have an abv associated with them.' %((1-(scotch['abv'].isnull().sum()/len(scotch['abv'])))*100))"
   ]
  },
  {
   "cell_type": "code",
   "execution_count": 35,
   "metadata": {
    "hidden": true
   },
   "outputs": [],
   "source": [
    "# scotch.head()"
   ]
  },
  {
   "cell_type": "code",
   "execution_count": 36,
   "metadata": {
    "hidden": true
   },
   "outputs": [],
   "source": [
    "# Separating prices into 6 understandable bins\n",
    "bins_price = [0, 50, 100, 150, 200, 500, np.inf]\n",
    "price = [\n",
    "    'Below 50', '50 to 100', '100 to 150', '150 to 200', '200 to 500',\n",
    "    'Above 500'\n",
    "]\n",
    "\n",
    "scotch['price_categories'] = pd.cut(scotch['price'], bins_price, labels=price)"
   ]
  },
  {
   "cell_type": "code",
   "execution_count": 37,
   "metadata": {
    "hidden": true
   },
   "outputs": [],
   "source": [
    "# Separating abv into 3 understandable bins\n",
    "bins_abv = [0, 39, 40, np.inf]\n",
    "abv = ['Below 40%', '40%', 'Above 40%']\n",
    "\n",
    "scotch['abv_categories'] = pd.cut(scotch['abv'], bins_abv, labels=abv)"
   ]
  },
  {
   "cell_type": "code",
   "execution_count": 38,
   "metadata": {
    "hidden": true,
    "scrolled": true
   },
   "outputs": [],
   "source": [
    "# scotch.shape"
   ]
  },
  {
   "cell_type": "code",
   "execution_count": 39,
   "metadata": {
    "hidden": true
   },
   "outputs": [],
   "source": [
    "scotch.drop_duplicates(keep='first', inplace=True)"
   ]
  },
  {
   "cell_type": "markdown",
   "metadata": {},
   "source": [
    "# Natural Language Processing and Random Forest"
   ]
  },
  {
   "cell_type": "code",
   "execution_count": 40,
   "metadata": {},
   "outputs": [],
   "source": [
    "# Creating the corpus\n",
    "text_corpus = scotch['description']"
   ]
  },
  {
   "cell_type": "markdown",
   "metadata": {},
   "source": [
    "## CountVectorizer"
   ]
  },
  {
   "cell_type": "code",
   "execution_count": 41,
   "metadata": {},
   "outputs": [],
   "source": [
    "vect = CountVectorizer(stop_words=\"english\")\n",
    "\n",
    "# Fit the vectorizer on our corpus # Transform the corpus\n",
    "X_text = vect.fit_transform(text_corpus)\n",
    "\n",
    "cv_scotch = pd.DataFrame(X_text.toarray(), columns=vect.get_feature_names())\n",
    "# cv_scotch"
   ]
  },
  {
   "cell_type": "code",
   "execution_count": 42,
   "metadata": {},
   "outputs": [],
   "source": [
    "# cv_scotch.iloc[0].sort_values(0, ascending=False)"
   ]
  },
  {
   "cell_type": "code",
   "execution_count": 43,
   "metadata": {},
   "outputs": [],
   "source": [
    "cv_scotch.index = scotch['category']\n",
    "# cv_scotch.head()\n",
    "# cv_scotch.shape"
   ]
  },
  {
   "cell_type": "markdown",
   "metadata": {},
   "source": [
    "### CountVectorizer Bar Graphs"
   ]
  },
  {
   "cell_type": "code",
   "execution_count": 44,
   "metadata": {},
   "outputs": [
    {
     "data": {
      "image/png": "[encoded data removed]",
      "text/plain": [
       "<Figure size 432x288 with 1 Axes>"
      ]
     },
     "metadata": {
      "needs_background": "light"
     },
     "output_type": "display_data"
    }
   ],
   "source": [
    "cv_scotch.loc['Blended Scotch'].sum().sort_values(ascending=False).head(20).plot(kind='barh');"
   ]
  },
  {
   "cell_type": "code",
   "execution_count": 45,
   "metadata": {},
   "outputs": [
    {
     "data": {
      "image/png": "[encoded data removed]",
      "text/plain": [
       "<Figure size 432x288 with 1 Axes>"
      ]
     },
     "metadata": {
      "needs_background": "light"
     },
     "output_type": "display_data"
    }
   ],
   "source": [
    "cv_scotch.loc['Single Malt Scotch'].sum().sort_values(ascending=False).head(20).plot(kind='barh');"
   ]
  },
  {
   "cell_type": "code",
   "execution_count": 46,
   "metadata": {},
   "outputs": [
    {
     "data": {
      "image/png": "[encoded data removed]",
      "text/plain": [
       "<Figure size 432x288 with 1 Axes>"
      ]
     },
     "metadata": {
      "needs_background": "light"
     },
     "output_type": "display_data"
    }
   ],
   "source": [
    "cv_scotch.loc['Single Grain Scotch'].sum().sort_values(ascending=False).head(20).plot(kind='barh');"
   ]
  },
  {
   "cell_type": "markdown",
   "metadata": {},
   "source": [
    "## Term Frequency–Inverse Document Frequency (TFIDF)"
   ]
  },
  {
   "cell_type": "code",
   "execution_count": 47,
   "metadata": {},
   "outputs": [],
   "source": [
    "tfidf_vect = TfidfVectorizer(stop_words='english')\n",
    "tfidf_X_text = vect.fit_transform(text_corpus)\n",
    "tfidf_scotch = pd.DataFrame(X_text.toarray(), columns=vect.get_feature_names())"
   ]
  },
  {
   "cell_type": "code",
   "execution_count": 48,
   "metadata": {},
   "outputs": [
    {
     "data": {
      "text/html": [
       "<div>\n",
       "<style scoped>\n",
       "    .dataframe tbody tr th:only-of-type {\n",
       "        vertical-align: middle;\n",
       "    }\n",
       "\n",
       "    .dataframe tbody tr th {\n",
       "        vertical-align: top;\n",
       "    }\n",
       "\n",
       "    .dataframe thead th {\n",
       "        text-align: right;\n",
       "    }\n",
       "</style>\n",
       "<table border=\"1\" class=\"dataframe\">\n",
       "  <thead>\n",
       "    <tr style=\"text-align: right;\">\n",
       "      <th></th>\n",
       "      <th>00</th>\n",
       "      <th>000</th>\n",
       "      <th>002</th>\n",
       "      <th>011</th>\n",
       "      <th>060</th>\n",
       "      <th>076</th>\n",
       "      <th>08</th>\n",
       "      <th>080</th>\n",
       "      <th>090</th>\n",
       "      <th>10</th>\n",
       "      <th>...</th>\n",
       "      <th>zigzag</th>\n",
       "      <th>zinfandel</th>\n",
       "      <th>zing</th>\n",
       "      <th>zinginess</th>\n",
       "      <th>zinging</th>\n",
       "      <th>zings</th>\n",
       "      <th>zingy</th>\n",
       "      <th>zippy</th>\n",
       "      <th>zone</th>\n",
       "      <th>ìle</th>\n",
       "    </tr>\n",
       "  </thead>\n",
       "  <tbody>\n",
       "    <tr>\n",
       "      <th>0</th>\n",
       "      <td>0</td>\n",
       "      <td>0</td>\n",
       "      <td>0</td>\n",
       "      <td>0</td>\n",
       "      <td>0</td>\n",
       "      <td>0</td>\n",
       "      <td>0</td>\n",
       "      <td>0</td>\n",
       "      <td>0</td>\n",
       "      <td>0</td>\n",
       "      <td>...</td>\n",
       "      <td>0</td>\n",
       "      <td>0</td>\n",
       "      <td>0</td>\n",
       "      <td>0</td>\n",
       "      <td>0</td>\n",
       "      <td>0</td>\n",
       "      <td>0</td>\n",
       "      <td>0</td>\n",
       "      <td>0</td>\n",
       "      <td>0</td>\n",
       "    </tr>\n",
       "    <tr>\n",
       "      <th>1</th>\n",
       "      <td>0</td>\n",
       "      <td>0</td>\n",
       "      <td>0</td>\n",
       "      <td>0</td>\n",
       "      <td>0</td>\n",
       "      <td>0</td>\n",
       "      <td>0</td>\n",
       "      <td>0</td>\n",
       "      <td>0</td>\n",
       "      <td>0</td>\n",
       "      <td>...</td>\n",
       "      <td>0</td>\n",
       "      <td>0</td>\n",
       "      <td>0</td>\n",
       "      <td>0</td>\n",
       "      <td>0</td>\n",
       "      <td>0</td>\n",
       "      <td>0</td>\n",
       "      <td>0</td>\n",
       "      <td>0</td>\n",
       "      <td>0</td>\n",
       "    </tr>\n",
       "    <tr>\n",
       "      <th>2</th>\n",
       "      <td>0</td>\n",
       "      <td>0</td>\n",
       "      <td>0</td>\n",
       "      <td>0</td>\n",
       "      <td>0</td>\n",
       "      <td>0</td>\n",
       "      <td>0</td>\n",
       "      <td>0</td>\n",
       "      <td>0</td>\n",
       "      <td>0</td>\n",
       "      <td>...</td>\n",
       "      <td>0</td>\n",
       "      <td>0</td>\n",
       "      <td>0</td>\n",
       "      <td>0</td>\n",
       "      <td>0</td>\n",
       "      <td>0</td>\n",
       "      <td>0</td>\n",
       "      <td>0</td>\n",
       "      <td>0</td>\n",
       "      <td>0</td>\n",
       "    </tr>\n",
       "    <tr>\n",
       "      <th>3</th>\n",
       "      <td>0</td>\n",
       "      <td>0</td>\n",
       "      <td>0</td>\n",
       "      <td>0</td>\n",
       "      <td>0</td>\n",
       "      <td>0</td>\n",
       "      <td>0</td>\n",
       "      <td>0</td>\n",
       "      <td>0</td>\n",
       "      <td>0</td>\n",
       "      <td>...</td>\n",
       "      <td>0</td>\n",
       "      <td>0</td>\n",
       "      <td>0</td>\n",
       "      <td>0</td>\n",
       "      <td>0</td>\n",
       "      <td>0</td>\n",
       "      <td>0</td>\n",
       "      <td>0</td>\n",
       "      <td>0</td>\n",
       "      <td>0</td>\n",
       "    </tr>\n",
       "    <tr>\n",
       "      <th>4</th>\n",
       "      <td>0</td>\n",
       "      <td>0</td>\n",
       "      <td>0</td>\n",
       "      <td>0</td>\n",
       "      <td>0</td>\n",
       "      <td>0</td>\n",
       "      <td>0</td>\n",
       "      <td>0</td>\n",
       "      <td>0</td>\n",
       "      <td>0</td>\n",
       "      <td>...</td>\n",
       "      <td>0</td>\n",
       "      <td>0</td>\n",
       "      <td>0</td>\n",
       "      <td>0</td>\n",
       "      <td>0</td>\n",
       "      <td>0</td>\n",
       "      <td>0</td>\n",
       "      <td>0</td>\n",
       "      <td>0</td>\n",
       "      <td>0</td>\n",
       "    </tr>\n",
       "  </tbody>\n",
       "</table>\n",
       "<p>5 rows × 8818 columns</p>\n",
       "</div>"
      ],
      "text/plain": [
       "   00  000  002  011  060  076  08  080  090  10 ...   zigzag  zinfandel  \\\n",
       "0  0   0    0    0    0    0    0   0    0    0  ...   0       0           \n",
       "1  0   0    0    0    0    0    0   0    0    0  ...   0       0           \n",
       "2  0   0    0    0    0    0    0   0    0    0  ...   0       0           \n",
       "3  0   0    0    0    0    0    0   0    0    0  ...   0       0           \n",
       "4  0   0    0    0    0    0    0   0    0    0  ...   0       0           \n",
       "\n",
       "   zing  zinginess  zinging  zings  zingy  zippy  zone  ìle  \n",
       "0  0     0          0        0      0      0      0     0    \n",
       "1  0     0          0        0      0      0      0     0    \n",
       "2  0     0          0        0      0      0      0     0    \n",
       "3  0     0          0        0      0      0      0     0    \n",
       "4  0     0          0        0      0      0      0     0    \n",
       "\n",
       "[5 rows x 8818 columns]"
      ]
     },
     "execution_count": 48,
     "metadata": {},
     "output_type": "execute_result"
    }
   ],
   "source": [
    "tfidf_scotch.head()"
   ]
  },
  {
   "cell_type": "code",
   "execution_count": 49,
   "metadata": {},
   "outputs": [],
   "source": [
    "tfidf_scotch.index = scotch['category']"
   ]
  },
  {
   "cell_type": "code",
   "execution_count": 50,
   "metadata": {},
   "outputs": [],
   "source": [
    "# cv_scotch.shape"
   ]
  },
  {
   "cell_type": "markdown",
   "metadata": {},
   "source": [
    "### TFIDF Bar Graphs"
   ]
  },
  {
   "cell_type": "code",
   "execution_count": 51,
   "metadata": {},
   "outputs": [
    {
     "data": {
      "image/png": "[encoded data removed]",
      "text/plain": [
       "<Figure size 432x288 with 1 Axes>"
      ]
     },
     "metadata": {
      "needs_background": "light"
     },
     "output_type": "display_data"
    }
   ],
   "source": [
    "tfidf_scotch.loc['Blended Scotch'].sum().sort_values(ascending=False).head(20).plot(kind='barh');"
   ]
  },
  {
   "cell_type": "code",
   "execution_count": 52,
   "metadata": {},
   "outputs": [
    {
     "data": {
      "image/png": "[encoded data removed]",
      "text/plain": [
       "<Figure size 432x288 with 1 Axes>"
      ]
     },
     "metadata": {
      "needs_background": "light"
     },
     "output_type": "display_data"
    }
   ],
   "source": [
    "tfidf_scotch.loc['Single Malt Scotch'].sum().sort_values(ascending=False).head(20).plot(kind='barh');"
   ]
  },
  {
   "cell_type": "code",
   "execution_count": 53,
   "metadata": {},
   "outputs": [
    {
     "data": {
      "image/png": "[encoded data removed]",
      "text/plain": [
       "<Figure size 432x288 with 1 Axes>"
      ]
     },
     "metadata": {
      "needs_background": "light"
     },
     "output_type": "display_data"
    }
   ],
   "source": [
    "tfidf_scotch.loc['Single Grain Scotch'].sum().sort_values(ascending=False).head(20).plot(kind='barh');"
   ]
  },
  {
   "cell_type": "code",
   "execution_count": 54,
   "metadata": {},
   "outputs": [],
   "source": [
    "# Instantiates the RFC.\n",
    "# rf = RandomForestClassifier(verbose=2, n_jobs=-1) \n",
    "# Fit the model on your training data.\n",
    "# rf.fit(cv_scotch, tfidf_scotch) \n",
    "## And score it on your testing data.\n",
    "# rf.score(X_test, y_test)"
   ]
  },
  {
   "cell_type": "code",
   "execution_count": 55,
   "metadata": {},
   "outputs": [
    {
     "data": {
      "text/plain": [
       "(2245, 8818)"
      ]
     },
     "execution_count": 55,
     "metadata": {},
     "output_type": "execute_result"
    }
   ],
   "source": [
    "cv_scotch.shape"
   ]
  },
  {
   "cell_type": "code",
   "execution_count": 56,
   "metadata": {},
   "outputs": [
    {
     "data": {
      "text/plain": [
       "(2245, 8818)"
      ]
     },
     "execution_count": 56,
     "metadata": {},
     "output_type": "execute_result"
    }
   ],
   "source": [
    "tfidf_scotch.shape"
   ]
  },
  {
   "cell_type": "code",
   "execution_count": null,
   "metadata": {},
   "outputs": [],
   "source": []
  },
  {
   "cell_type": "code",
   "execution_count": 57,
   "metadata": {},
   "outputs": [],
   "source": [
    "tfidf_vect = TfidfVectorizer(sublinear_tf=True, \n",
    "                        min_df=5, \n",
    "                        norm='l2', \n",
    "                        encoding='latin-1', \n",
    "                        ngram_range=(1, 2), \n",
    "                        stop_words='english')\n",
    "features = tfidf_vect.fit_transform(text_corpus).toarray()\n",
    "features.shape\n",
    "\n",
    "tfidf_vect = TfidfVectorizer(stop_words='english')\n",
    "tfidf_X_text = vect.fit_transform(text_corpus)\n",
    "tfidf_scotch = pd.DataFrame(X_text.toarray(), columns=vect.get_feature_names())"
   ]
  },
  {
   "cell_type": "markdown",
   "metadata": {},
   "source": [
    "---\n"
   ]
  },
  {
   "cell_type": "code",
   "execution_count": 58,
   "metadata": {},
   "outputs": [],
   "source": [
    "X = scotch['description']\n",
    "y = scotch['points']\n",
    "X_train, X_test, y_train, y_test = train_test_split(X, \n",
    "                                                    y,\n",
    "                                                    test_size=0.75,\n",
    "                                                    random_state=42)"
   ]
  },
  {
   "cell_type": "code",
   "execution_count": 59,
   "metadata": {},
   "outputs": [
    {
     "data": {
      "text/plain": [
       "0    Magnificently powerful and intense. Caramels, dried peats, elegant cigar smoke, seeds scraped from vanilla beans, brand new pencils, peppercorn, coriander seeds, and star anise make for a deeply satisfying nosing experience. Silky caramels, bountiful fruits of ripe peach, stewed apple, orange pith, and pervasive smoke with elements of burnt tobacco. An abiding finish of smoke, dry spices, and banoffee pie sweetness. Close to perfection. Editor's Choice                                                                        \n",
       "1    What impresses me most is how this whisky evolves; it's incredibly complex. On the nose and palate, this is a thick, viscous, whisky with notes of sticky toffee, earthy oak, fig cake, roasted nuts, fallen fruit, pancake batter, black cherry, ripe peach, dark chocolate-covered espresso bean, polished leather, tobacco, a hint of wild game, and lingering, leafy damp kiln smoke. Flavors continue on the palate long after swallowing. This is what we all hope for (and dream of) in an older whisky!                                 \n",
       "2    There have been some legendary Bowmores from the mid-60s and this is every bit their equal. All of them share a remarkable aroma of tropical fruit, which here moves into hallucinatory intensity: guava, mango, peach, pineapple, grapefruit. There’s a very light touch of peat smoke, more a memory of Islay than the reality. Concentrated; even at low strength the palate is silky, heady, and haunting, and lasts forever in the dry glass. A legend is born. (Eight bottles only for the U.S.) Editor's Choice.                         \n",
       "3    With a name inspired by a 1926 Buster Keaton movie, only 1,698 bottles produced, and the news that one of the two batches is more than 30 years old, the clues were there that this blend was never going to be cheap. It isn't, but it's superb, rich in flavor that screams dusty old oak office, fresh polish, and Sunday church, with spices, oak dried fruits, squiggly raisins, and a surprising melting fruit-and-nut dairy chocolate back story.                                                                                        \n",
       "4    Captivating, enticing, and wonderfully charming, this first blended malt from Chivas Regal contains selections of five Speyside malts: Strathisla, Longmorn, Tormore, Allt-a-Bhainne, and Braeval. Red apple, cherry, raspberry fudge, peach and mango fruit salad, dusting of cinnamon, and dry heather sprigs. In essence, it’s rich and satisfying, with dark vanilla, apricot, Bourneville-covered Brazil nuts, and tangerine, smoothed over by caramel and wood spices, maltiness, and gingersnap biscuits. Quite heavenly. Editor's Choice\n",
       "Name: description, dtype: object"
      ]
     },
     "execution_count": 59,
     "metadata": {},
     "output_type": "execute_result"
    }
   ],
   "source": [
    "X.head()"
   ]
  },
  {
   "cell_type": "code",
   "execution_count": 60,
   "metadata": {},
   "outputs": [
    {
     "data": {
      "text/plain": [
       "0    97\n",
       "1    97\n",
       "2    97\n",
       "3    96\n",
       "4    96\n",
       "Name: points, dtype: int64"
      ]
     },
     "execution_count": 60,
     "metadata": {},
     "output_type": "execute_result"
    }
   ],
   "source": [
    "y.head()"
   ]
  },
  {
   "cell_type": "code",
   "execution_count": 61,
   "metadata": {},
   "outputs": [
    {
     "data": {
      "text/plain": [
       "(561,)"
      ]
     },
     "execution_count": 61,
     "metadata": {},
     "output_type": "execute_result"
    }
   ],
   "source": [
    "X_train.shape"
   ]
  },
  {
   "cell_type": "code",
   "execution_count": 62,
   "metadata": {},
   "outputs": [
    {
     "data": {
      "text/plain": [
       "(561,)"
      ]
     },
     "execution_count": 62,
     "metadata": {},
     "output_type": "execute_result"
    }
   ],
   "source": [
    "y_train.shape"
   ]
  },
  {
   "cell_type": "code",
   "execution_count": 63,
   "metadata": {},
   "outputs": [
    {
     "data": {
      "text/plain": [
       "(1684,)"
      ]
     },
     "execution_count": 63,
     "metadata": {},
     "output_type": "execute_result"
    }
   ],
   "source": [
    "X_test.shape"
   ]
  },
  {
   "cell_type": "code",
   "execution_count": 64,
   "metadata": {},
   "outputs": [
    {
     "data": {
      "text/plain": [
       "(1684,)"
      ]
     },
     "execution_count": 64,
     "metadata": {},
     "output_type": "execute_result"
    }
   ],
   "source": [
    "y_test.shape"
   ]
  },
  {
   "cell_type": "code",
   "execution_count": 65,
   "metadata": {},
   "outputs": [],
   "source": [
    "ini_bs = BeautifulSoup(X_train[0])"
   ]
  },
  {
   "cell_type": "code",
   "execution_count": 66,
   "metadata": {},
   "outputs": [
    {
     "name": "stdout",
     "output_type": "stream",
     "text": [
      "This is finished for 8 months in tawny port pipes and is quite restrained on the early nose, opening up to reveal rose petals, milk chocolate, and double cream.  ",
      "The palate is floral, with raisins  ",
      "and red currants. Drying in the  ",
      "finish, with peppery oak and  ",
      "cinnamon.\n",
      "This is finished for 8 months in tawny port pipes and is quite restrained on the early nose, opening up to reveal rose petals, milk chocolate, and double cream.  ",
      "The palate is floral, with raisins  ",
      "and red currants. Drying in the  ",
      "finish, with peppery oak and  ",
      "cinnamon.\n"
     ]
    }
   ],
   "source": [
    "print(X_train[0])\n",
    "print(ini_bs.get_text())"
   ]
  },
  {
   "cell_type": "code",
   "execution_count": 67,
   "metadata": {},
   "outputs": [],
   "source": [
    "# Use regular expressions to do a find-and-replace\n",
    "letters_only = re.sub(\"[^a-zA-Z]\",           # The pattern to search for\n",
    "                      \" \",                  \n",
    "                      ini_bs.get_text() )    # The text to search"
   ]
  },
  {
   "cell_type": "code",
   "execution_count": 68,
   "metadata": {},
   "outputs": [],
   "source": [
    "lower_case = letters_only.lower()\n",
    "words = lower_case.split()"
   ]
  },
  {
   "cell_type": "code",
   "execution_count": 69,
   "metadata": {},
   "outputs": [
    {
     "name": "stdout",
     "output_type": "stream",
     "text": [
      "this is finished for   months in tawny port pipes and is quite restrained on the early nose  opening up to reveal rose petals  milk chocolate  and double cream   the palate is floral  with raisins  and red currants  drying in the  finish  with peppery oak and  cinnamon \n",
      "['this', 'is', 'finished', 'for', 'months', 'in', 'tawny', 'port', 'pipes', 'and', 'is', 'quite', 'restrained', 'on', 'the', 'early', 'nose', 'opening', 'up', 'to', 'reveal', 'rose', 'petals', 'milk', 'chocolate', 'and', 'double', 'cream', 'the', 'palate', 'is', 'floral', 'with', 'raisins', 'and', 'red', 'currants', 'drying', 'in', 'the', 'finish', 'with', 'peppery', 'oak', 'and', 'cinnamon']\n"
     ]
    }
   ],
   "source": [
    "print(lower_case)\n",
    "print(words)"
   ]
  },
  {
   "cell_type": "code",
   "execution_count": 70,
   "metadata": {},
   "outputs": [
    {
     "name": "stdout",
     "output_type": "stream",
     "text": [
      "['i', 'me', 'my', 'myself', 'we', 'our', 'ours', 'ourselves', 'you', \"you're\", \"you've\", \"you'll\", \"you'd\", 'your', 'yours', 'yourself', 'yourselves', 'he', 'him', 'his', 'himself', 'she', \"she's\", 'her', 'hers', 'herself', 'it', \"it's\", 'its', 'itself', 'they', 'them', 'their', 'theirs', 'themselves', 'what', 'which', 'who', 'whom', 'this', 'that', \"that'll\", 'these', 'those', 'am', 'is', 'are', 'was', 'were', 'be', 'been', 'being', 'have', 'has', 'had', 'having', 'do', 'does', 'did', 'doing', 'a', 'an', 'the', 'and', 'but', 'if', 'or', 'because', 'as', 'until', 'while', 'of', 'at', 'by', 'for', 'with', 'about', 'against', 'between', 'into', 'through', 'during', 'before', 'after', 'above', 'below', 'to', 'from', 'up', 'down', 'in', 'out', 'on', 'off', 'over', 'under', 'again', 'further', 'then', 'once', 'here', 'there', 'when', 'where', 'why', 'how', 'all', 'any', 'both', 'each', 'few', 'more', 'most', 'other', 'some', 'such', 'no', 'nor', 'not', 'only', 'own', 'same', 'so', 'than', 'too', 'very', 's', 't', 'can', 'will', 'just', 'don', \"don't\", 'should', \"should've\", 'now', 'd', 'll', 'm', 'o', 're', 've', 'y', 'ain', 'aren', \"aren't\", 'couldn', \"couldn't\", 'didn', \"didn't\", 'doesn', \"doesn't\", 'hadn', \"hadn't\", 'hasn', \"hasn't\", 'haven', \"haven't\", 'isn', \"isn't\", 'ma', 'mightn', \"mightn't\", 'mustn', \"mustn't\", 'needn', \"needn't\", 'shan', \"shan't\", 'shouldn', \"shouldn't\", 'wasn', \"wasn't\", 'weren', \"weren't\", 'won', \"won't\", 'wouldn', \"wouldn't\"]\n"
     ]
    }
   ],
   "source": [
    "print(stopwords.words(\"english\"))"
   ]
  },
  {
   "cell_type": "code",
   "execution_count": 71,
   "metadata": {},
   "outputs": [],
   "source": [
    "words = [w for w in words if not w in stopwords.words(\"english\")]"
   ]
  },
  {
   "cell_type": "code",
   "execution_count": 72,
   "metadata": {},
   "outputs": [
    {
     "name": "stdout",
     "output_type": "stream",
     "text": [
      "['finished', 'months', 'tawny', 'port', 'pipes', 'quite', 'restrained', 'early', 'nose', 'opening', 'reveal', 'rose', 'petals', 'milk', 'chocolate', 'double', 'cream', 'palate', 'floral', 'raisins', 'red', 'currants', 'drying', 'finish', 'peppery', 'oak', 'cinnamon']\n"
     ]
    }
   ],
   "source": [
    "print(words)"
   ]
  },
  {
   "cell_type": "code",
   "execution_count": 73,
   "metadata": {},
   "outputs": [],
   "source": [
    "def title_to_words(raw_title):\n",
    "    # Function to convert a raw review to a string of words\n",
    "    # The input is a single string (a raw movie review), and \n",
    "    # the output is a single string (a preprocessed movie review)\n",
    "    # 1. Remove HTML\n",
    "    title_text = BeautifulSoup(raw_title).get_text()\n",
    "    #\n",
    "    # 2. Remove non-letters        \n",
    "    letters_only = re.sub(\"[^a-zA-Z]\", \" \", title_text)\n",
    "    link = re.sub('(^https?:\\/\\/.*[\\r\\n]*)[\\W]', '', title_text, flags=re.MULTILINE)\n",
    "    #\n",
    "    # 3. Convert to lower case, split into individual words\n",
    "    words = letters_only.lower().split()\n",
    "    #\n",
    "    # 4. In Python, searching a set is much faster than searching\n",
    "    #   a list, so convert the stop words to a set\n",
    "    stops = set(stopwords.words('english'))\n",
    "    # \n",
    "    # 5. Remove stop words\n",
    "    meaningful_words = [w for w in words if not w in stops]\n",
    "    #\n",
    "    # 6. Join the words back into one string separated by space, \n",
    "    # and return the result.\n",
    "    return(\" \".join(meaningful_words))"
   ]
  },
  {
   "cell_type": "code",
   "execution_count": 74,
   "metadata": {},
   "outputs": [
    {
     "name": "stdout",
     "output_type": "stream",
     "text": [
      "561\n"
     ]
    }
   ],
   "source": [
    "# Get the number of reviews based on the dataframe size.\n",
    "total_title = X_train.shape[0]\n",
    "print(total_title)\n",
    "\n",
    "# Initialize an empty list to hold the clean reviews.\n",
    "clean_train_title = []\n",
    "clean_test_title = []"
   ]
  },
  {
   "cell_type": "code",
   "execution_count": 75,
   "metadata": {},
   "outputs": [
    {
     "name": "stdout",
     "output_type": "stream",
     "text": [
      "Cleaning and parsing the description set of scotch data...\n",
      "Cleaning and parsing the testing set movie reviews...\n",
      "Title 1000 of 561.\n",
      "Title 2000 of 561.\n"
     ]
    }
   ],
   "source": [
    "print(\"Cleaning and parsing the description set of scotch data...\")\n",
    "\n",
    "j = 0\n",
    "for _ in X_train:\n",
    "    # Convert review to words, then append to clean_train_reviews.\n",
    "    clean_train_title.append(title_to_words(_))\n",
    "    \n",
    "    # If the index is divisible by 1000, print a message\n",
    "    if (j+1) % 1000 == 0:\n",
    "        print(f'Title {j+1} of {total_title}.')\n",
    "    \n",
    "    j += 1\n",
    "\n",
    "# Let's do the same for our testing set.\n",
    "\n",
    "print(\"Cleaning and parsing the testing set movie reviews...\")\n",
    "\n",
    "for _ in X_test:\n",
    "    # Convert review to words, then append to clean_train_reviews.\n",
    "    clean_test_title.append(title_to_words(_))\n",
    "    \n",
    "    # If the index is divisible by 1000, print a message\n",
    "    if (j+1) % 1000 == 0:\n",
    "        print(f'Title {j+1} of {total_title}.')\n",
    "        \n",
    "    j += 1"
   ]
  },
  {
   "cell_type": "code",
   "execution_count": 76,
   "metadata": {},
   "outputs": [],
   "source": [
    "vectorizer = CountVectorizer(max_features = 5000) "
   ]
  },
  {
   "cell_type": "code",
   "execution_count": 77,
   "metadata": {},
   "outputs": [],
   "source": [
    "# fit_transform() does two functions: First, it fits the model\n",
    "# and learns the vocabulary; second, it transforms our training data\n",
    "# into feature vectors. The input to fit_transform should be a list of \n",
    "# strings.\n",
    "\n",
    "train_data_features = vectorizer.fit_transform(clean_train_title)\n",
    "\n",
    "test_data_features = vectorizer.transform(clean_test_title)\n",
    "\n",
    "# Numpy arrays are easy to work with, so convert the result to an \n",
    "# array\n",
    "train_data_features = train_data_features.toarray()"
   ]
  },
  {
   "cell_type": "code",
   "execution_count": 78,
   "metadata": {},
   "outputs": [
    {
     "name": "stdout",
     "output_type": "stream",
     "text": [
      "(561, 4361)\n"
     ]
    }
   ],
   "source": [
    "print(train_data_features.shape)"
   ]
  },
  {
   "cell_type": "code",
   "execution_count": 79,
   "metadata": {},
   "outputs": [
    {
     "name": "stdout",
     "output_type": "stream",
     "text": [
      "(1684, 4361)\n"
     ]
    }
   ],
   "source": [
    "print(test_data_features.shape)"
   ]
  },
  {
   "cell_type": "code",
   "execution_count": 80,
   "metadata": {},
   "outputs": [
    {
     "data": {
      "text/plain": [
       "array([[0, 0, 0, ..., 0, 0, 0],\n",
       "       [0, 0, 0, ..., 0, 0, 0],\n",
       "       [0, 0, 0, ..., 0, 0, 0],\n",
       "       [0, 0, 0, ..., 0, 0, 0],\n",
       "       [0, 0, 0, ..., 0, 0, 0],\n",
       "       [0, 0, 0, ..., 0, 0, 0]], dtype=int64)"
      ]
     },
     "execution_count": 80,
     "metadata": {},
     "output_type": "execute_result"
    }
   ],
   "source": [
    "train_data_features[0:6]"
   ]
  },
  {
   "cell_type": "code",
   "execution_count": 81,
   "metadata": {},
   "outputs": [
    {
     "name": "stdout",
     "output_type": "stream",
     "text": [
      "['abdomen', 'aberdeen', 'aberdeenshire', 'able', 'abounds', 'absent', 'absorbed', 'absorbing', 'abv', 'accelerated', 'accent', 'accented', 'accents', 'accentuated', 'accentuates', 'accentuating', 'acceptable', 'accommodates', 'accompanied', 'accompanies', 'accomplished', 'according', 'accustomed', 'ace', 'acetone', 'achieved', 'acidic', 'acidity', 'acquired', 'acrid', 'across', 'act', 'action', 'active', 'activity', 'acts', 'actually', 'add', 'added', 'adding', 'addition', 'additional', 'adds', 'adela', 'adelphi', 'adhesives', 'admirable', 'adopts', 'adore', 'adorns', 'advancement', 'advantage', 'adventure', 'adventurous', 'aerosol', 'affable', 'affair', 'affected', 'afford', 'aficionado', 'african', 'aftermath', 'afternoon', 'agave', 'age', 'aged', 'ages', 'aggressive', 'aggressively', 'aging', 'ago', 'agricole', 'aim', 'aims', 'air', 'akin', 'alasdair', 'albeit', 'alcohol', 'alcohols', 'aldehydes', 'alexander', 'allocation', 'allow', 'allowing', 'allows', 'allspice', 'allt', 'allure', 'almond', 'almonds', 'almost', 'along', 'alongside', 'already', 'also', 'alternate', 'although', 'altogether', 'always', 'amazed', 'amazes', 'amazing', 'amazingly', 'amber', 'ambiguity', 'america', 'american', 'amid', 'amidst', 'among', 'amontillado', 'amoroso', 'amplifying', 'anchored', 'anchors', 'ancient', 'angeles', 'angelica', 'anglaise', 'anise', 'aniseed', 'anniversary', 'annual', 'another', 'answer', 'antacid', 'antique', 'antiseptic', 'anyone', 'anytime', 'anyway', 'aoc', 'apart', 'aperitif', 'aplenty', 'apparent', 'apparently', 'appealing', 'appear', 'appearances', 'appearing', 'appears', 'appetizing', 'apple', 'apples', 'appreciate', 'approach', 'approachable', 'approaches', 'appropriately', 'approx', 'approximately', 'apricot', 'apricots', 'april', 'ardbeg', 'ardmore', 'area', 'argan', 'arid', 'armagnac', 'armchair', 'aroma', 'aromas', 'aromatic', 'aromatics', 'around', 'arran', 'array', 'arrival', 'arrive', 'arrives', 'artichoke', 'artificial', 'ascendancy', 'ash', 'ashy', 'aside', 'ask', 'aspect', 'aspire', 'assam', 'assault', 'assemblage', 'assertive', 'associate', 'assorted', 'assuaged', 'assured', 'astonishingly', 'astor', 'astray', 'astringency', 'asunder', 'athol', 'atlas', 'attempt', 'attempted', 'attention', 'attitude', 'attractive', 'attune', 'atypical', 'au', 'auchentoshan', 'auchentoshans', 'aultmore', 'austere', 'autumn', 'availability', 'available', 'ave', 'avenue', 'aware', 'away', 'awww', 'baba', 'back', 'backbone', 'backdrop', 'backed', 'background', 'bacon', 'bad', 'bagels', 'bags', 'baked', 'baker', 'bakers', 'bakery', 'baking', 'balance', 'balanced', 'balances', 'balancing', 'balblair', 'ball', 'ballechin', 'balled', 'balloons', 'balls', 'balmenach', 'balsa', 'balsamic', 'balvenie', 'banana', 'bananas', 'banner', 'bannister', 'banoffee', 'bar', 'barbecue', 'barbecued', 'barberry', 'barbershop', 'barely', 'bargain', 'bark', 'barley', 'barolo', 'barrel', 'barrels', 'barrie', 'barriques', 'bars', 'base', 'based', 'basement', 'basil', 'bask', 'basket', 'basking', 'bass', 'batch', 'batches', 'bath', 'batter', 'batting', 'battling', 'bay', 'beach', 'beam', 'bean', 'beans', 'bears', 'beast', 'beastie', 'beaten', 'beaty', 'beautiful', 'beautifully', 'beauty', 'became', 'beckon', 'become', 'becomes', 'becoming', 'bed', 'bedding', 'beef', 'beer', 'beeswax', 'beetroot', 'befits', 'begin', 'beginning', 'begins', 'beguiling', 'behaved', 'behind', 'behold', 'believe', 'beloved', 'belt', 'belter', 'beltramo', 'belying', 'ben', 'bench', 'benchmark', 'beneath', 'benefited', 'benefits', 'benevolent', 'benriach', 'benrinnes', 'benromach', 'berried', 'berries', 'berry', 'best', 'better', 'beverage', 'bhainne', 'bicentennial', 'big', 'bigger', 'biggest', 'biltong', 'binny', 'bird', 'birthday', 'biscuit', 'biscuits', 'bit', 'bite', 'bits', 'bitter', 'bitterness', 'bittersweet', 'black', 'blackberry', 'blackcurrants', 'bladnoch', 'blair', 'blanc', 'bland', 'blanket', 'blankets', 'blast', 'bleak', 'blend', 'blended', 'blender', 'blenders', 'blending', 'blends', 'bletted', 'blind', 'blistering', 'blood', 'bloody', 'bloom', 'blooms', 'blossom', 'blossoms', 'blows', 'bludgeoning', 'blue', 'blueberries', 'blueberry', 'blunt', 'bluntness', 'boasts', 'boat', 'bodega', 'bodegas', 'bodied', 'body', 'bog', 'bohea', 'boiled', 'bold', 'boldly', 'bomb', 'bombs', 'bonbons', 'bonfire', 'bonus', 'book', 'books', 'bookshelves', 'boots', 'bordeaux', 'bordering', 'borders', 'botanicals', 'bottle', 'bottled', 'bottler', 'bottlers', 'bottles', 'bottling', 'bottlings', 'bottom', 'bought', 'bouncy', 'bouquet', 'bourbon', 'bourneville', 'boutique', 'bovril', 'bowling', 'bowmore', 'bowmores', 'box', 'boxes', 'boy', 'boysenberry', 'br', 'bracing', 'brackla', 'braeval', 'bramble', 'bramley', 'bran', 'brand', 'branded', 'brands', 'brave', 'brazier', 'brazil', 'bread', 'breakfast', 'breed', 'breeze', 'breezy', 'brethren', 'brewing', 'bridal', 'brief', 'briefly', 'bright', 'brighter', 'brightness', 'brilliant', 'brimming', 'brine', 'bring', 'bringing', 'brings', 'brininess', 'brink', 'briny', 'brioche', 'brisk', 'brisket', 'bristol', 'british', 'brittle', 'broad', 'broadens', 'broader', 'brock', 'brogues', 'bronze', 'brooding', 'brora', 'broras', 'bros', 'brother', 'brothers', 'brought', 'brown', 'browning', 'bruichladdich', 'bruiser', 'brulee', 'brunch', 'brush', 'bubble', 'bucks', 'buffed', 'build', 'building', 'builds', 'built', 'bulging', 'bulked', 'bulky', 'bull', 'bullishly', 'bump', 'bumped', 'bumping', 'bun', 'bunadh', 'bunch', 'bunched', 'bung', 'bunna', 'bunnahabhain', 'burgeoning', 'burlap', 'burn', 'burning', 'burnished', 'burnt', 'burst', 'bursting', 'bursts', 'bush', 'business', 'busy', 'butt', 'butter', 'buttercups', 'butterfly', 'butteriness', 'butterscotch', 'buttery', 'buttons', 'butts', 'buy', 'buzz', 'buzzing', 'buzzy', 'byass', 'cabernet', 'cabinet', 'cacao', 'cadbury', 'cadenhead', 'cairdeas', 'caithness', 'cake', 'cakes', 'california', 'call', 'calming', 'calms', 'calorific', 'cambus', 'came', 'campaign', 'campari', 'campbell', 'campbeltown', 'campfire', 'camphor', 'camphoraceous', 'canada', 'candied', 'candies', 'candle', 'candy', 'canned', 'cantaloupe', 'canters', 'cantillion', 'caol', 'capacity', 'cappuccino', 'captivates', 'captivating', 'capture', 'car', 'caramac', 'caramel', 'caramelized', 'caramels', 'cardamom', 'cardboard', 'cardhu', 'care', 'cares', 'caress', 'caribbean', 'carn', 'carnations', 'carries', 'carry', 'carryover', 'cartoon', 'cartwheels', 'case', 'cashew', 'cask', 'casked', 'casks', 'cassia', 'cassoulet', 'categories', 'category', 'cayenne', 'cedar', 'cedary', 'celebrated', 'celebrates', 'celebrating', 'celebration', 'celebrations', 'celery', 'cellar', 'cellars', 'cemented', 'center', 'centers', 'central', 'century', 'cereal', 'cereals', 'cerealy', 'certain', 'certainly', 'ch', 'chaff', 'chain', 'chalkiness', 'chalky', 'challenge', 'challenging', 'chamomile', 'chance', 'chanel', 'change', 'changes', 'changing', 'chapter', 'char', 'character', 'characterful', 'characteristic', 'characteristics', 'characterize', 'characterized', 'characters', 'charcoal', 'charles', 'charlotte', 'charm', 'charming', 'charred', 'chased', 'chateau', 'checking', 'cheeks', 'cheese', 'cheesecake', 'chef', 'cherries', 'cherry', 'cherryade', 'chestnut', 'chestnuts', 'chews', 'chewy', 'chic', 'chicago', 'chili', 'chilies', 'chill', 'chilled', 'chimney', 'china', 'chinese', 'chips', 'chivas', 'chocolat', 'chocolate', 'chocolates', 'choice', 'chokingly', 'choose', 'chopped', 'chorizo', 'chosen', 'christmas', 'chunks', 'cicely', 'cider', 'cigar', 'cigarette', 'cilantro', 'cinnamon', 'circulation', 'citric', 'citron', 'citrus', 'clackmannanshire', 'clarity', 'class', 'classic', 'classical', 'classy', 'clean', 'cleaner', 'cleaning', 'cleanly', 'clear', 'clementine', 'clinging', 'clods', 'close', 'closed', 'closest', 'closure', 'cloth', 'cloths', 'clotted', 'cloud', 'clouds', 'cloudy', 'clove', 'clover', 'cloves', 'cloying', 'cloyingly', 'club', 'clynelish', 'co', 'coagulates', 'coal', 'coals', 'coast', 'coastal', 'coat', 'coated', 'coating', 'coatingly', 'coats', 'coax', 'coaxing', 'cobbler', 'coca', 'cocktail', 'cocktails', 'cocoa', 'coconut', 'cod', 'coffee', 'coffey', 'cognac', 'coherent', 'cointreau', 'cola', 'cold', 'collaborated', 'collapsed', 'collapsing', 'collection', 'cologne', 'color', 'colored', 'colors', 'colville', 'com', 'combination', 'combine', 'combined', 'combines', 'combining', 'come', 'comes', 'comforting', 'coming', 'commemorate', 'commemorative', 'commendable', 'commendably', 'comments', 'commercial', 'commitment', 'common', 'compacted', 'company', 'comparable', 'comparatively', 'compare', 'compared', 'comparing', 'comparison', 'compass', 'compelling', 'complementary', 'complemented', 'complementing', 'complete', 'completed', 'completely', 'complex', 'complexity', 'component', 'comprise', 'comprises', 'concentrate', 'concentrated', 'concentrates', 'concentration', 'concerted', 'conclude', 'concluding', 'concoction', 'condensed', 'cones', 'confection', 'confectioners', 'confession', 'confident', 'confinement', 'confirms', 'confused', 'connecting', 'connection', 'connotations', 'consecutive', 'consider', 'considerable', 'considerably', 'consideration', 'considered', 'considering', 'consistent', 'consistently', 'consisting', 'consists', 'conspicuously', 'constantly', 'constellation', 'constituents', 'constricted', 'cont', 'contained', 'containing', 'contains', 'contemplate', 'contemplation', 'contemplative', 'contender', 'content', 'contents', 'continue', 'continues', 'continuing', 'continuously', 'contrast', 'contrasting', 'contribute', 'contributions', 'cooked', 'cookie', 'cookies', 'cooking', 'cool', 'coolness', 'copper', 'cordial', 'cordite', 'core', 'coriander', 'corn', 'corner', 'cornerstone', 'cornflakes', 'cost', 'cotta', 'cotton', 'cough', 'could', 'count', 'counterpoint', 'country', 'countryside', 'couple', 'coupled', 'course', 'courses', 'cousins', 'covered', 'coveted', 'cow', 'cowering', 'cozy', 'cr', 'crab', 'cracked', 'crackers', 'crafted', 'cragganmore', 'cranberries', 'cranberry', 'crashing', 'cream', 'creamed', 'creamier', 'creaminess', 'creams', 'creamy', 'create', 'created', 'creative', 'creeps', 'creme', 'cremola', 'creosote', 'crepuscular', 'crescendo', 'crew', 'crimea', 'cringe', 'crisp', 'crisper', 'crisps', 'criticism', 'crumble', 'crunchiness', 'crunching', 'crystallized', 'cuban', 'cubes', 'cucumber', 'cuisine', 'cult', 'cumin', 'cupboards', 'cupcakes', 'curd', 'curiositas', 'currant', 'currants', 'current', 'currently', 'curried', 'custard', 'custodians', 'cut', 'cuts', 'cutty', 'dabs', 'dailuaine', 'dalmore', 'dalwhinnie', 'damaged', 'damn', 'damp', 'damson', 'damsons', 'dance', 'dances', 'dangerously', 'danish', 'darjeeling', 'dark', 'darkens', 'darker', 'darkest', 'darkness', 'dash', 'dashes', 'date', 'dates', 'dating', 'david', 'day', 'daylight', 'days', 'dazzling', 'dealing', 'deanston', 'dearly', 'death', 'debatable', 'debating', 'debut', 'decade', 'decadent', 'decades', 'decanters', 'deceivingly', 'december', 'decent', 'deceptive', 'deceptively', 'decidedly', 'deep', 'deepen', 'deepening', 'deepens', 'deeper', 'deeply', 'defiance', 'defiantly', 'defies', 'define', 'defined', 'defines', 'definite', 'definitely', 'deft', 'degree', 'delayed', 'delectable', 'deliberately', 'delicate', 'delicately', 'delicatessen', 'delicious', 'deliciously', 'delight', 'delighted', 'delightful', 'delilah', 'deliver', 'delivered', 'delivering', 'delivers', 'delivery', 'demands', 'demeanor', 'demerara', 'demolished', 'demonstration', 'denoting', 'dense', 'densely', 'density', 'department', 'departure', 'depends', 'depot', 'depth', 'descending', 'descends', 'describe', 'descriptors', 'deserved', 'deservedly', 'designed', 'desirable', 'despite', 'dessert', 'desserts', 'detectable', 'determined', 'detonate', 'detract', 'devastatingly', 'develop', 'developing', 'development', 'develops', 'device', 'devil', 'devote', 'dewar', 'dewy', 'dexterity', 'diageo', 'dialed', 'diego', 'dies', 'diesely', 'differences', 'different', 'differentiate', 'differs', 'difficult', 'diffusing', 'digestif', 'digestive', 'dill', 'dilute', 'diluted', 'diluting', 'dilution', 'dimension', 'dimensional', 'diminishing', 'dinner', 'dip', 'dipped', 'dips', 'direction', 'disappoint', 'disappointed', 'disappointingly', 'disclose', 'disclosed', 'discombobulating', 'discontinued', 'discouraged', 'discover', 'discovery', 'discreet', 'disease', 'disjointed', 'dispensing', 'displays', 'dissipate', 'dissipates', 'distant', 'distillate', 'distillation', 'distilled', 'distiller', 'distilleries', 'distillers', 'distillery', 'distilling', 'distinct', 'distinctive', 'distinctly', 'distinguishes', 'distracted', 'diverse', 'diversity', 'divisive', 'dock', 'dollop', 'dominant', 'dominate', 'dominated', 'dominates', 'dominating', 'done', 'dose', 'dot', 'double', 'doubt', 'dough', 'doughy', 'douglas', 'dovetail', 'dovetails', 'dr', 'draff', 'dram', 'dramatically', 'drapes', 'drastically', 'draw', 'drawing', 'drawn', 'dream', 'dreams', 'drenched', 'drenching', 'dribbling', 'dried', 'drier', 'dries', 'driest', 'drift', 'drifter', 'drifts', 'drink', 'drinkability', 'drinkable', 'drinkers', 'drinking', 'drinks', 'dripped', 'driven', 'drizzle', 'drizzled', 'drop', 'dropped', 'drops', 'dry', 'drying', 'dryness', 'due', 'duel', 'dufftown', 'dug', 'dulled', 'duller', 'duncansby', 'dundas', 'dunes', 'dunnage', 'dunnet', 'dusky', 'dust', 'dusted', 'dusting', 'dusty', 'duthac', 'dynamic', 'ealanta', 'earl', 'early', 'earth', 'earthiest', 'earthiness', 'earthy', 'eastern', 'easy', 'eating', 'echo', 'echoes', 'economically', 'edge', 'edges', 'edgy', 'edinburgh', 'edition', 'editions', 'editor', 'edradour', 'edrington', 'educational', 'effect', 'effervescent', 'effort', 'efforts', 'effusive', 'effusiveness', 'eggs', 'eight', 'eighteen', 'eighth', 'einar', 'either', 'elder', 'elderflower', 'elegance', 'elegant', 'element', 'elements', 'elevate', 'elevates', 'eleven', 'eleventh', 'elgin', 'eliminate', 'elixir', 'ellen', 'else', 'elusive', 'emanate', 'embers', 'embrace', 'embraces', 'embracing', 'emerge', 'emerged', 'emerges', 'emerging', 'emit', 'emitting', 'emma', 'emphasis', 'emphasizes', 'employed', 'empty', 'enable', 'enables', 'enchanting', 'encounter', 'end', 'ending', 'endive', 'endures', 'enduring', 'energy', 'engine', 'english', 'engulfed', 'engulfs', 'enhance', 'enhanced', 'enhances', 'enjoy', 'enjoyable', 'enjoyably', 'enjoyed', 'enjoying', 'enjoys', 'enliven', 'enlivened', 'enlivening', 'enormous', 'enormously', 'enough', 'ensnares', 'entering', 'entertaining', 'entertainingly', 'enticing', 'entire', 'entirely', 'entrance', 'entry', 'envelope', 'enveloping', 'environment', 'epically', 'epicurean', 'equal', 'equally', 'er', 'erasers', 'erupt', 'eruption', 'escape', 'escapes', 'especially', 'espresso', 'esque', 'essay', 'essence', 'essential', 'established', 'estates', 'estery', 'eucalyptus', 'europe', 'european', 'evaporated', 'even', 'evenly', 'eventually', 'ever', 'evergreen', 'every', 'everybody', 'everyday', 'everyone', 'everything', 'evidence', 'evident', 'evidently', 'evokes', 'evolve', 'evolves', 'evolving', 'ex', 'exactly', 'example', 'examples', 'excellent', 'except', 'exception', 'exceptional', 'excessive', 'excessively', 'exchange', 'exciting', 'excluding', 'exclusive', 'exclusively', 'excursions', 'excuse', 'exemplar', 'exemplary', 'existing', 'exit', 'exotic', 'expanding', 'expands', 'expansive', 'expect', 'expected', 'expedition', 'expensive', 'experience', 'experiment', 'experimental', 'experimenting', 'experiments', 'expertly', 'explodes', 'exploding', 'exploring', 'explosion', 'explosions', 'explosive', 'export', 'express', 'expressed', 'expresses', 'expressing', 'expression', 'expressions', 'expressive', 'extended', 'exterior', 'extra', 'extraordinarily', 'extreme', 'extremely', 'exuberant', 'eye', 'fabulous', 'facet', 'faceted', 'fact', 'factors', 'fade', 'faded', 'fades', 'fading', 'fails', 'faint', 'fainter', 'fair', 'fairground', 'fairly', 'fall', 'fallen', 'familiar', 'family', 'famous', 'fan', 'far', 'farclas', 'farm', 'farmyard', 'fascinating', 'fashion', 'fashioned', 'fasque', 'fat', 'fatale', 'fatty', 'favor', 'favorite', 'feature', 'features', 'featuring', 'february', 'feel', 'feeling', 'feels', 'feint', 'feisty', 'fell', 'felt', 'feminine', 'femme', 'fence', 'fennel', 'feral', 'ferments', 'ferns', 'fettercairn', 'field', 'fiery', 'fifth', 'fig', 'fight', 'fighting', 'figs', 'figure', 'filet', 'fill', 'filled', 'filling', 'fills', 'filtered', 'filtering', 'filtration', 'final', 'finale', 'finally', 'find', 'finding', 'finds', 'fine', 'finely', 'finesse', 'finest', 'finish', 'finished', 'finishes', 'finishing', 'fino', 'fior', 'fire', 'fireball', 'fired', 'fires', 'firm', 'firmly', 'firms', 'first', 'fish', 'fishing', 'fishnets', 'fit', 'fits', 'fitting', 'five', 'fizzles', 'fizzy', 'flakes', 'flamed', 'flapjacks', 'flare', 'flash', 'flashes', 'flat', 'flattens', 'flavor', 'flavored', 'flavorful', 'flavors', 'flavorsome', 'flesh', 'fleshes', 'fleshiness', 'fleshy', 'flexibility', 'flicker', 'flighty', 'flinty', 'flirtatious', 'floats', 'floor', 'floppy', 'floral', 'florals', 'florist', 'floss', 'flour', 'flow', 'flower', 'flowers', 'flowery', 'flowing', 'flows', 'fluxes', 'flying', 'foam', 'focus', 'focused', 'focuses', 'focusing', 'fog', 'fogwatt', 'foliage', 'folk', 'folks', 'follow', 'followed', 'following', 'follows', 'fond', 'fondant', 'food', 'force', 'fore', 'forest', 'forever', 'form', 'forman', 'former', 'formerly', 'formidable', 'forres', 'fortunately', 'forward', 'found', 'foundation', 'four', 'fourteenth', 'fourth', 'fragile', 'fragility', 'fragrance', 'fragrant', 'framing', 'franc', 'france', 'frank', 'freely', 'freesia', 'french', 'fresh', 'fresher', 'freshly', 'freshness', 'fried', 'friends', 'friskier', 'front', 'frothy', 'frozen', 'fruit', 'fruitcake', 'fruitcakes', 'fruitier', 'fruitiness', 'fruits', 'fruity', 'frying', 'fudge', 'full', 'fuller', 'fully', 'fuminess', 'fun', 'fungal', 'funky', 'funny', 'fur', 'furniture', 'future', 'gaelic', 'gaining', 'gains', 'galangal', 'galia', 'game', 'gammon', 'ganache', 'garam', 'garden', 'gardens', 'gargling', 'garioch', 'garnheath', 'gateau', 'gave', 'gem', 'general', 'generates', 'generations', 'generic', 'generous', 'generously', 'genever', 'gentility', 'gentle', 'gentleman', 'gentlemen', 'gentler', 'gently', 'genuine', 'george', 'geraniums', 'get', 'gets', 'getting', 'gherkin', 'giant', 'gin', 'ginger', 'gingerbread', 'gingersnap', 'gingersnaps', 'gingery', 'ginseng', 'give', 'giveaway', 'given', 'gives', 'giving', 'glac', 'glamorous', 'glasgow', 'glass', 'glazed', 'gleefully', 'glen', 'glenallachie', 'glencadam', 'glendronach', 'glenfarclas', 'glenfiddich', 'glenglassaugh', 'glengoyne', 'glengyle', 'glenkeir', 'glenkinchie', 'glenlivet', 'glenmorangie', 'glenrothes', 'glentauchers', 'glenturret', 'glenugie', 'glides', 'glimpse', 'glimpsed', 'global', 'globally', 'gloriously', 'glossy', 'glow', 'glowing', 'go', 'gobs', 'goes', 'going', 'gold', 'golden', 'gone', 'gonzalez', 'good', 'goodness', 'goods', 'gooseberry', 'gordon', 'gorgeous', 'gorse', 'gossamer', 'got', 'grace', 'graceful', 'gracefully', 'gracing', 'grahams', 'grain', 'grains', 'grand', 'grandfather', 'granitic', 'granny', 'granola', 'grant', 'granulated', 'grape', 'grapefruit', 'grapes', 'grass', 'grasses', 'grassiness', 'grassy', 'grated', 'grease', 'great', 'greater', 'greedy', 'greek', 'green', 'greengage', 'greengages', 'greet', 'grenache', 'grey', 'grilled', 'grip', 'gripping', 'grips', 'grist', 'gristy', 'grittier', 'gritty', 'ground', 'grounds', 'group', 'grouse', 'grove', 'grow', 'growing', 'grown', 'grungiest', 'guardians', 'guava', 'guests', 'guise', 'gum', 'gumdrops', 'gummy', 'gums', 'gunkiest', 'gunpowder', 'gunsmoke', 'haddock', 'hailing', 'hails', 'half', 'halfway', 'halibut', 'hallmark', 'ham', 'hand', 'handed', 'handful', 'handle', 'handpicked', 'hanger', 'hangs', 'hankey', 'happens', 'happily', 'hard', 'hardcore', 'hardly', 'harmonious', 'harmoniously', 'harmony', 'harsh', 'harvest', 'haunt', 'hawthorn', 'hay', 'hazelnut', 'hazelnuts', 'head', 'heads', 'heady', 'heard', 'heart', 'hearted', 'heartiest', 'hearts', 'heat', 'heath', 'heather', 'heathery', 'heavenly', 'heavier', 'heavily', 'heaviness', 'heavy', 'heavyweight', 'hedgerows', 'hedonistic', 'heels', 'heft', 'hefty', 'height', 'held', 'help', 'helped', 'helpful', 'helps', 'herb', 'herbaceous', 'herbal', 'herbs', 'herring', 'hesitantly', 'hessian', 'hi', 'hickory', 'hidden', 'hide', 'high', 'highball', 'higher', 'highland', 'highlander', 'highlight', 'highlights', 'highly', 'hint', 'hinted', 'hints', 'hipflask', 'historic', 'history', 'hit', 'hits', 'hive', 'hoggie', 'hoggies', 'hogshead', 'hogsheads', 'hold', 'holding', 'holds', 'hole', 'holiday', 'hollow', 'home', 'honest', 'honey', 'honeybee', 'honeycomb', 'honeycrisp', 'honeydew', 'honeyed', 'honeys', 'honeysuckle', 'hope', 'hopes', 'hoping', 'hopper', 'horchata', 'horlicks', 'horseradish', 'hot', 'hours', 'house', 'however', 'hue', 'hues', 'hug', 'huge', 'hugely', 'hugh', 'humidor', 'humming', 'hundred', 'hungarian', 'hungry', 'hunter', 'hyacinth', 'hyslop', 'ian', 'ice', 'icing', 'iconic', 'idea', 'identifiable', 'idiosyncratic', 'ignites', 'igniting', 'ii', 'iii', 'ila', 'illustrates', 'images', 'imagine', 'imagined', 'immature', 'immediate', 'immediately', 'impact', 'impart', 'imparted', 'impeccable', 'impeccably', 'imperial', 'important', 'imported', 'impresses', 'impression', 'impressive', 'improve', 'improved', 'improvement', 'improving', 'inaugural', 'incense', 'inchmurrin', 'include', 'included', 'includes', 'including', 'incorporates', 'incorporating', 'increase', 'increases', 'increasingly', 'incredible', 'incredibly', 'indeed', 'independent', 'indian', 'indicates', 'individualistic', 'individually', 'indulge', 'indulgent', 'industrial', 'industry', 'inescapable', 'inexplicably', 'influence', 'influenced', 'influences', 'information', 'infused', 'initial', 'initially', 'ink', 'innocence', 'innocently', 'inoffensive', 'insistent', 'inspiring', 'instant', 'instantly', 'instead', 'insubstantial', 'intact', 'integral', 'integrate', 'integrated', 'integration', 'intelligent', 'intended', 'intense', 'intensely', 'intensified', 'intensify', 'intensity', 'intent', 'interest', 'interesting', 'interference', 'interplay', 'interrupts', 'intertwined', 'interwoven', 'intricate', 'intrigue', 'intriguing', 'introduced', 'introduces', 'introducing', 'introduction', 'intrusive', 'invented', 'inver', 'invergordon', 'investigation', 'invigorating', 'inviting', 'involved', 'iodine', 'iris', 'ironically', 'irregular', 'ish', 'island', 'islands', 'islay', 'isle', 'issue', 'issued', 'ivoire', 'jaffa', 'jam', 'jammy', 'january', 'japan', 'japanese', 'jasmine', 'jaune', 'jell', 'jellied', 'jellies', 'jelly', 'job', 'john', 'johnnie', 'join', 'joined', 'joining', 'joins', 'joint', 'jose', 'joseph', 'jubilee', 'juice', 'juices', 'juiciness', 'juicy', 'jujubes', 'julio', 'june', 'juniper', 'jura', 'justify', 'jw', 'kalamata', 'keel', 'keeled', 'keemun', 'keen', 'keenly', 'keep', 'keeping', 'keeps', 'kelp', 'kendal', 'kept', 'kernel', 'key', 'kick', 'kicks', 'kilchoman', 'kilkerran', 'kills', 'kiln', 'kind', 'kings', 'kininvie', 'kipperiness', 'kippers', 'kiss', 'kissed', 'kiwi', 'kiwifruit', 'knock', 'knocks', 'know', 'knowing', 'known', 'knows', 'kola', 'kubes', 'kumquat', 'la', 'label', 'labels', 'laced', 'lack', 'lacking', 'lacks', 'lacy', 'laddie', 'laden', 'lagavulin', 'laid', 'laing', 'lamb', 'lambic', 'lands', 'lange', 'languorous', 'lanolin', 'laphroaig', 'lapping', 'large', 'largely', 'larger', 'last', 'lasting', 'latakia', 'late', 'later', 'latest', 'latour', 'latter', 'laudable', 'launch', 'launched', 'laundry', 'lavender', 'lavishly', 'lawns', 'lay', 'layer', 'layered', 'layering', 'layers', 'lays', 'lazy', 'lead', 'leading', 'leads', 'leaf', 'leafiness', 'leafy', 'league', 'leaky', 'lean', 'leans', 'leap', 'learning', 'least', 'leather', 'leathery', 'leave', 'leaves', 'leaving', 'led', 'ledaig', 'left', 'legacy', 'legend', 'legendary', 'legends', 'lemon', 'lemonade', 'lemongrass', 'lemons', 'lends', 'length', 'lengthening', 'lengthy', 'lent', 'less', 'lesser', 'lesson', 'let', 'lethargy', 'level', 'levels', 'levity', 'libation', 'liberal', 'library', 'lick', 'licorice', 'lid', 'lies', 'life', 'lift', 'lifted', 'lifting', 'light', 'lightens', 'lighter', 'lightly', 'lightness', 'lightweight', 'like', 'likes', 'lilac', 'lily', 'lime', 'limited', 'linctus', 'linden', 'line', 'linear', 'linen', 'lines', 'lineup', 'linger', 'lingering', 'lingers', 'links', 'linkwood', 'linseed', 'lips', 'lipsmacking', 'liqueur', 'liquid', 'liquor', 'liquors', 'list', 'listed', 'listen', 'listening', 'lit', 'liter', 'litre', 'little', 'littlemill', 'livelier', 'lively', 'liver', 'loaded', 'loaf', 'locally', 'located', 'loch', 'lochnagar', 'lochside', 'log', 'logs', 'lomond', 'long', 'longer', 'longmorn', 'longrow', 'look', 'looked', 'looking', 'looks', 'loose', 'loosens', 'los', 'lose', 'losing', 'lost', 'lot', 'lots', 'loudly', 'lovage', 'love', 'lovely', 'lovers', 'low', 'lower', 'lowland', 'lowlander', 'lozenges', 'ltd', 'lucerne', 'lucid', 'lucky', 'lucozade', 'ludicrously', 'lumpy', 'lunchtime', 'lurks', 'luscious', 'lush', 'lushest', 'luxurious', 'luxury', 'lychee', 'lying', 'macadamia', 'macallan', 'macaroon', 'macaroons', 'macho', 'mackay', 'mackerel', 'macleod', 'macphail', 'made', 'madeira', 'magnificent', 'mahogany', 'mail', 'main', 'mainland', 'maintain', 'maintained', 'maintains', 'maize', 'major', 'majority', 'make', 'makes', 'making', 'male', 'mallow', 'malloy', 'malt', 'malted', 'maltesers', 'maltiness', 'maltings', 'malts', 'maltwhiskydistilleries', 'malty', 'man', 'manager', 'manages', 'mandarin', 'mandarins', 'mango', 'manifested', 'mannered', 'manuka', 'many', 'manzanilla', 'maple', 'maraschino', 'marble', 'marine', 'maris', 'maritime', 'mark', 'market', 'marks', 'marmalade', 'marriage', 'married', 'marries', 'marry', 'marrying', 'marsala', 'marshmallow', 'marshmallows', 'martin', 'martinquaise', 'marzipan', 'masala', 'masculine', 'mash', 'mashed', 'mask', 'masked', 'masks', 'mass', 'massandra', 'masses', 'massive', 'massively', 'master', 'masterful', 'mastery', 'match', 'matched', 'materialize', 'matter', 'matters', 'maturation', 'mature', 'matured', 'maturing', 'maturity', 'matusalem', 'max', 'maxwell', 'may', 'maybe', 'mcdavid', 'meadow', 'meadowsweet', 'mealy', 'mean', 'means', 'measure', 'meat', 'meatiness', 'meats', 'meaty', 'medicinal', 'medium', 'medjool', 'medlar', 'medlars', 'medley', 'meet', 'meld', 'melding', 'mellow', 'mellowed', 'mellows', 'melon', 'melons', 'melted', 'melts', 'member', 'memories', 'memorize', 'memory', 'mental', 'menthol', 'mention', 'mentioned', 'merest', 'merge', 'meringue', 'merit', 'merry', 'mescal', 'message', 'miami', 'mice', 'micro', 'mid', 'middle', 'midway', 'mien', 'might', 'mighty', 'miguel', 'mild', 'milder', 'mildly', 'mile', 'miles', 'milk', 'milky', 'million', 'mince', 'mind', 'minded', 'mineral', 'minerality', 'mineraly', 'mingled', 'mingles', 'minimal', 'mink', 'minor', 'mint', 'mints', 'minty', 'minutes', 'miso', 'miss', 'missed', 'missing', 'mission', 'missouri', 'mistake', 'mix', 'mixed', 'mixer', 'mixes', 'mixing', 'mixture', 'mizunara', 'ml', 'moan', 'mocha', 'mode', 'moderately', 'modicum', 'moist', 'mojo', 'molasses', 'molten', 'moment', 'money', 'monkey', 'month', 'months', 'mood', 'moods', 'moot', 'mor', 'moray', 'moreish', 'morning', 'moroccan', 'mortlach', 'moss', 'mostly', 'motes', 'motif', 'motion', 'motor', 'mouth', 'mouthcoating', 'mouthfeel', 'mouthful', 'mouthwatering', 'move', 'moves', 'moving', 'mr', 'much', 'muesli', 'muffin', 'muffins', 'mulch', 'mulled', 'multi', 'multiple', 'multitude', 'murky', 'murray', 'muscat', 'muscatel', 'muscular', 'mushed', 'mushroom', 'muslin', 'must', 'mustard', 'musty', 'mute', 'muted', 'mutton', 'myrtle', 'mysterious', 'mystery', 'nagging', 'nairn', 'naked', 'name', 'named', 'namely', 'naming', 'nas', 'national', 'nationwide', 'natural', 'naturally', 'nature', 'ne', 'near', 'nearly', 'neat', 'neatly', 'necessary', 'nectar', 'nectarine', 'nectarines', 'need', 'needed', 'needles', 'needling', 'needs', 'negates', 'negative', 'neglected', 'neighbor', 'neroli', 'nets', 'nettles', 'never', 'nevertheless', 'nevis', 'new', 'newest', 'newly', 'news', 'newspapers', 'newsprint', 'next', 'nez', 'nibble', 'nibs', 'nice', 'nicely', 'nicer', 'night', 'nightfall', 'nimble', 'nimrod', 'nine', 'nineteen', 'ninth', 'nip', 'nippy', 'nips', 'noble', 'nod', 'nodule', 'noir', 'non', 'noncolored', 'nonetheless', 'nori', 'normal', 'normally', 'north', 'northern', 'northernmost', 'nose', 'noses', 'nosing', 'notable', 'notably', 'notch', 'note', 'noted', 'notes', 'nothing', 'notice', 'noticed', 'nougat', 'november', 'number', 'nut', 'nutmeg', 'nuts', 'nuttier', 'nuttiness', 'nutty', 'ny', 'oak', 'oaked', 'oakiness', 'oaky', 'oat', 'oatcake', 'oatcakes', 'oats', 'observant', 'observe', 'obtrusive', 'obvious', 'obviously', 'occasion', 'occasional', 'occasionally', 'occasions', 'ocean', 'octave', 'october', 'odd', 'odin', 'odor', 'offer', 'offered', 'offering', 'offerings', 'offers', 'official', 'offsets', 'often', 'oil', 'oiled', 'oiliest', 'oiliness', 'oils', 'oily', 'ok', 'old', 'older', 'oldest', 'oldmeldrum', 'olds', 'olive', 'olives', 'oloroso', 'one', 'ones', 'ongoing', 'onionskin', 'online', 'onslaught', 'ontario', 'onto', 'oolong', 'oozing', 'open', 'opened', 'opener', 'opening', 'opens', 'operated', 'operation', 'opinion', 'opportunity', 'optic', 'option', 'opulent', 'orange', 'oranges', 'orchard', 'orchid', 'order', 'ordinary', 'organic', 'origin', 'original', 'originally', 'originary', 'origins', 'orkney', 'orris', 'others', 'otherwise', 'otter', 'outboard', 'outdoors', 'outlets', 'outstanding', 'outturn', 'overall', 'overhaul', 'overlap', 'overlook', 'overlooked', 'overly', 'overpowering', 'overripe', 'overrun', 'overseen', 'overshadowing', 'overstating', 'overt', 'overtly', 'overwhelming', 'owned', 'owner', 'owners', 'ownership', 'oxidized', 'oyster', 'ozone', 'ozonic', 'pace', 'paced', 'pack', 'package', 'packed', 'paid', 'pain', 'pair', 'paired', 'palate', 'pale', 'paled', 'paler', 'palette', 'pallid', 'pan', 'pancake', 'pancakes', 'panna', 'papaya', 'paper', 'papier', 'parchment', 'park', 'parkin', 'parma', 'part', 'participation', 'particular', 'particularly', 'parts', 'party', 'pass', 'passion', 'past', 'paste', 'pastry', 'patch', 'paterson', 'patience', 'patient', 'patties', 'pay', 'pc', 'pea', 'peach', 'peaches', 'peak', 'peanut', 'pear', 'pears', 'peat', 'peated', 'peatheads', 'peatiest', 'peatiness', 'peating', 'peatmas', 'peaty', 'pebbles', 'pecan', 'pecking', 'peculiar', 'pedigree', 'pedro', 'peek', 'peel', 'peeled', 'peelings', 'peels', 'peller', 'pemmican', 'pencil', 'pencils', 'penetrating', 'penetration', 'people', 'pepper', 'peppercorn', 'peppercorns', 'peppered', 'pepperiness', 'peppering', 'peppermint', 'peppery', 'per', 'perceived', 'percent', 'perceptibly', 'perfect', 'perfectly', 'performer', 'perfume', 'perfumed', 'perhaps', 'period', 'perky', 'permanent', 'permeate', 'perpetuum', 'persevered', 'persist', 'persistent', 'persistently', 'persists', 'personalities', 'personality', 'personally', 'personified', 'perthshire', 'petal', 'petals', 'peterhead', 'petroleum', 'petticoat', 'phase', 'phases', 'pheasant', 'phenol', 'phoenix', 'pick', 'picked', 'picking', 'pickled', 'picks', 'pickup', 'picky', 'picnic', 'picnics', 'pie', 'pillow', 'pimento', 'pin', 'pinch', 'pine', 'pineapple', 'pineapples', 'pink', 'pinot', 'pipe', 'pipes', 'piquant', 'pit', 'pitches', 'pith', 'pitlochry', 'pits', 'pizzazz', 'place', 'placed', 'plain', 'plant', 'play', 'played', 'player', 'playing', 'plays', 'pleasant', 'pleasantly', 'please', 'pleased', 'pleasing', 'pleasingly', 'pleasure', 'plenty', 'ploom', 'plum', 'plummy', 'plump', 'plums', 'plus', 'poached', 'pocket', 'pockets', 'pod', 'pods', 'poems', 'point', 'points', 'poise', 'polarize', 'policy', 'polish', 'polished', 'polishing', 'polite', 'pollen', 'pomegranate', 'pony', 'pools', 'poor', 'popcorn', 'popping', 'popular', 'pork', 'porridge', 'port', 'portfolio', 'positioned', 'positive', 'positively', 'possesses', 'post', 'posts', 'pot', 'potato', 'potential', 'potpourri', 'pounding', 'powder', 'powdery', 'power', 'powerful', 'powerhouse', 'ppm', 'practically', 'praline', 'prandial', 'pre', 'preceding', 'precious', 'precocious', 'predates', 'predecessor', 'predominantly', 'predominate', 'predominating', 'prefer', 'preference', 'preferred', 'prefix', 'premium', 'prepared', 'presence', 'present', 'presented', 'presents', 'preserve', 'preserved', 'pressed', 'pretty', 'preventing', 'previous', 'previously', 'price', 'priced', 'pricey', 'pricing', 'prickling', 'prickly', 'principally', 'private', 'probably', 'problem', 'proceedings', 'produce', 'produced', 'producer', 'produces', 'production', 'proffering', 'profile', 'profound', 'program', 'progress', 'progression', 'prolonging', 'prominent', 'promise', 'promises', 'pronounced', 'proof', 'prop', 'properly', 'proportion', 'proposition', 'proprietor', 'prosciutto', 'prosper', 'provenance', 'proves', 'provide', 'provided', 'provides', 'providing', 'proximity', 'prune', 'prunes', 'pruney', 'pruniness', 'puckering', 'pudding', 'puff', 'puffs', 'puffy', 'pull', 'pulled', 'pulling', 'pulls', 'pulsating', 'pulteney', 'pumice', 'pumped', 'pumps', 'punch', 'punctures', 'pungent', 'purchase', 'pure', 'puree', 'purity', 'purpose', 'purposes', 'pursed', 'purview', 'push', 'pushing', 'put', 'putty', 'puzzling', 'px', 'quaker', 'qualities', 'quality', 'quarter', 'quartet', 'quells', 'quench', 'question', 'quick', 'quicker', 'quickly', 'quiet', 'quietly', 'quince', 'quintessential', 'quintet', 'quit', 'quite', 'rachel', 'radical', 'rails', 'rain', 'raisin', 'raisins', 'ramble', 'ramped', 'ramsay', 'rancio', 'range', 'ranging', 'rapidly', 'rare', 'rarely', 'rarer', 'rarity', 'raspberries', 'raspberry', 'rated', 'rather', 'rating', 'ratio', 'raw', 'razor', 'reach', 'reaches', 'ready', 'real', 'really', 'realm', 'reason', 'recall', 'recedes', 'recent', 'recently', 'receptacle', 'recharred', 'recipes', 'recognizing', 'recommend', 'recommended', 'red', 'reddish', 'redeeming', 'rediscover', 'redolent', 'reduced', 'reduces', 'reference', 'referred', 'refers', 'refill', 'refined', 'reflects', 'refreshers', 'refreshing', 'regal', 'regard', 'regarded', 'regardless', 'regime', 'region', 'regional', 'registered', 'regular', 'regularly', 'rehabilitation', 'reined', 'rejoice', 'rejuvenated', 'relative', 'relatively', 'relaxed', 'release', 'released', 'releases', 'relief', 'relish', 'reluctantly', 'remade', 'remainder', 'remaining', 'remains', 'remarkable', 'remarkably', 'remember', 'remind', 'reminds', 'reminiscent', 'remnants', 'rendering', 'reopening', 'repackaged', 'replaced', 'replacement', 'replaces', 'replacing', 'replete', 'representation', 'representative', 'reprise', 'reputation', 'reputedly', 'required', 'requires', 'requisite', 'reserved', 'residual', 'resin', 'resinous', 'resins', 'resonance', 'respectable', 'respects', 'resplendent', 'responsible', 'rest', 'resting', 'restrained', 'result', 'retail', 'retailer', 'retailers', 'retailing', 'retain', 'retaining', 'retains', 'rethink', 'reticent', 'retronasal', 'return', 'returning', 'revamped', 'reveal', 'revealed', 'revealing', 'reveals', 'revelation', 'reviewed', 'revival', 'reviving', 'rewarding', 'rewards', 'rh', 'rhubarb', 'rhum', 'rich', 'richard', 'richer', 'richly', 'richness', 'ricotta', 'ridiculously', 'right', 'rigid', 'rigidity', 'rin', 'rings', 'ripe', 'ripened', 'ripeness', 'ripening', 'rising', 'risks', 'rivals', 'road', 'roast', 'roasted', 'roasting', 'robertson', 'robust', 'rock', 'rocks', 'rockside', 'roiling', 'role', 'rolled', 'rolling', 'roofs', 'room', 'root', 'rooted', 'roots', 'rooty', 'rope', 'rose', 'rosebank', 'rosebanks', 'rosehip', 'rosemary', 'roses', 'rosewater', 'rosin', 'rothes', 'round', 'rounded', 'rounding', 'roundness', 'rounds', 'rous', 'rowan', 'royal', 'rubbed', 'rubber', 'rubbery', 'rubs', 'ruby', 'rugged', 'ruined', 'rules', 'rum', 'rummy', 'run', 'running', 'runny', 'runs', 'rush', 'rustic', 'rye', 'sad', 'saddened', 'saddle', 'sadly', 'said', 'sail', 'sainsbury', 'sakura', 'salad', 'sale', 'saline', 'salmon', 'salt', 'salted', 'saltiness', 'salty', 'samphire', 'sample', 'sampled', 'sampling', 'samsara', 'sand', 'sandalwood', 'sanded', 'sandpaper', 'sandy', 'santo', 'sap', 'sapped', 'sappy', 'sark', 'sashimi', 'satin', 'satiny', 'satisfies', 'satisfy', 'satisfying', 'satsuma', 'sauce', 'sausage', 'sausages', 'sauternes', 'sauvignon', 'savage', 'save', 'saving', 'savory', 'sawdust', 'sawn', 'say', 'saying', 'says', 'scaled', 'scallops', 'scallywag', 'scandinavia', 'scapa', 'scare', 'scent', 'scented', 'scenting', 'scents', 'school', 'scones', 'scooped', 'scope', 'scorched', 'score', 'scot', 'scotch', 'scotia', 'scotland', 'scottish', 'scratch', 'scratched', 'scrumptious', 'sea', 'seafood', 'seamless', 'seashore', 'seasoned', 'seaweed', 'second', 'secondary', 'seconds', 'seductive', 'see', 'seed', 'seedless', 'seeds', 'seeking', 'seem', 'seemingly', 'seems', 'seen', 'seep', 'sees', 'seething', 'segments', 'select', 'selected', 'selecting', 'selection', 'selections', 'semi', 'sending', 'sense', 'september', 'serene', 'series', 'serious', 'service', 'serviceable', 'session', 'set', 'sets', 'settle', 'settles', 'settling', 'seven', 'several', 'seville', 'shack', 'shackleton', 'shade', 'shades', 'shadows', 'shake', 'shakespearean', 'shape', 'sharp', 'sharpened', 'sharper', 'shavings', 'shearing', 'shed', 'sheen', 'sheep', 'sheer', 'shells', 'shelves', 'sherbet', 'sherried', 'sherry', 'shift', 'shifting', 'shifts', 'shine', 'shines', 'shire', 'shoes', 'shop', 'shops', 'shore', 'shoreline', 'short', 'shortage', 'shortbread', 'shortly', 'shouting', 'shovel', 'show', 'showcase', 'showing', 'shown', 'shows', 'shuttered', 'shy', 'sibling', 'siblings', 'side', 'sides', 'sign', 'signature', 'signet', 'significant', 'significantly', 'signs', 'silent', 'silky', 'similar', 'similarities', 'similarly', 'simple', 'simplistic', 'simply', 'sinatra', 'since', 'sing', 'singed', 'single', 'singleton', 'sings', 'sip', 'sipped', 'sipping', 'sit', 'site', 'sits', 'sitting', 'situated', 'situations', 'six', 'sixth', 'sized', 'sizes', 'sizzle', 'sizzling', 'skidding', 'skin', 'skins', 'slab', 'slabs', 'sleekit', 'slender', 'sliced', 'slices', 'slick', 'slight', 'slightly', 'slink', 'slow', 'slowly', 'smack', 'small', 'smarter', 'smartly', 'smell', 'smells', 'smidgen', 'smith', 'smoke', 'smoked', 'smokehouse', 'smokiness', 'smoky', 'smoldering', 'smooth', 'smoothed', 'smoother', 'smoothing', 'smoothness', 'smothered', 'snap', 'snaps', 'snarling', 'sniff', 'snow', 'snuffing', 'soaked', 'soap', 'soaps', 'soapy', 'society', 'socks', 'soda', 'sodden', 'soft', 'softened', 'softens', 'softer', 'softly', 'softness', 'sold', 'solera', 'solid', 'somehow', 'someone', 'somersaulting', 'something', 'sometimes', 'somewhat', 'somewhere', 'soon', 'soor', 'soot', 'soothing', 'soothingly', 'sophisticated', 'sorbet', 'sorry', 'sort', 'souchong', 'sound', 'sounds', 'sour', 'source', 'sourced', 'sourness', 'south', 'southwest', 'soy', 'space', 'spaghetti', 'spangles', 'spanish', 'sparking', 'sparky', 'speaking', 'speared', 'spearmint', 'special', 'specialist', 'specialty', 'specific', 'specifically', 'specimen', 'speckled', 'spectators', 'spell', 'spelt', 'spencerfield', 'spending', 'spent', 'speyburn', 'speyside', 'speysider', 'speysiders', 'spice', 'spiced', 'spices', 'spicier', 'spiciness', 'spicy', 'spirit', 'spirits', 'splash', 'splattered', 'splendor', 'split', 'sponge', 'spooning', 'sport', 'spot', 'spotted', 'spray', 'spread', 'sprightly', 'sprigs', 'spring', 'springbank', 'springbanks', 'springers', 'sprinkled', 'sprinkling', 'spun', 'squares', 'squash', 'squeaky', 'squeezed', 'squeezes', 'squid', 'squished', 'st', 'stablemate', 'stablemates', 'stacks', 'stalks', 'stamina', 'stand', 'standard', 'stands', 'star', 'starburst', 'starch', 'start', 'starting', 'startlingly', 'starts', 'state', 'statement', 'states', 'status', 'steadily', 'steady', 'steal', 'steam', 'stem', 'step', 'stew', 'stewart', 'stewed', 'stewing', 'stick', 'sticking', 'sticks', 'sticky', 'still', 'stillmen', 'stirs', 'stock', 'stocks', 'stole', 'stone', 'stony', 'stops', 'stored', 'storm', 'story', 'straight', 'straightforward', 'strained', 'straining', 'stranded', 'strands', 'strange', 'strap', 'strathisla', 'strathmore', 'strathspey', 'straw', 'strawberries', 'strawberry', 'stray', 'streak', 'stream', 'streams', 'street', 'strength', 'strengths', 'stretching', 'strictly', 'strident', 'strike', 'strolling', 'strong', 'strongly', 'struck', 'structure', 'structured', 'strudel', 'struggle', 'stuck', 'studded', 'stuff', 'stunning', 'style', 'styles', 'stylish', 'stylistically', 'subdued', 'subjected', 'submit', 'subsequently', 'substantial', 'subtle', 'subtler', 'subtleties', 'subtlety', 'subtly', 'subtracts', 'succeeded', 'success', 'successor', 'succulent', 'sucked', 'sucking', 'suffers', 'sufficient', 'sugar', 'sugared', 'sugarplum', 'sugars', 'sugary', 'suggest', 'suggested', 'suggesting', 'suggestion', 'suggestions', 'suggestive', 'suggests', 'suicidal', 'suitably', 'suited', 'suits', 'sulfur', 'sulfury', 'sultana', 'sultanas', 'summer', 'summery', 'sumptuous', 'sun', 'sunlight', 'sunlit', 'sunset', 'sunshine', 'suntory', 'super', 'superb', 'superbly', 'supermarket', 'supernova', 'supple', 'supplies', 'support', 'supporting', 'supportive', 'sure', 'surely', 'surface', 'surfaces', 'surprise', 'surprising', 'surprisingly', 'surrounded', 'surupy', 'surviving', 'susan', 'sushi', 'suspect', 'suspicious', 'sustain', 'swallow', 'swallowing', 'sweeping', 'sweet', 'sweetened', 'sweeteners', 'sweetening', 'sweetens', 'sweeter', 'sweethearts', 'sweeties', 'sweetly', 'sweetness', 'sweets', 'swirl', 'swirling', 'swish', 'swiss', 'symphony', 'syrup', 'syrups', 'syrupy', 'szechuan', 'table', 'tablet', 'tablets', 'tache', 'tactile', 'tad', 'taffy', 'tagine', 'tails', 'take', 'taken', 'takeover', 'takes', 'taking', 'tale', 'talia', 'talisker', 'talk', 'tamdhu', 'tame', 'tamed', 'tames', 'tandem', 'tang', 'tangerine', 'tangerines', 'tanginess', 'tangle', 'tangy', 'tannic', 'tannins', 'tantalizing', 'tar', 'tarmac', 'tarragon', 'tarry', 'tart', 'tarte', 'tartin', 'tarts', 'taste', 'tasted', 'tastes', 'tastier', 'tastiest', 'tasting', 'tasty', 'tawny', 'tea', 'teaberry', 'teacher', 'team', 'teaninich', 'teasing', 'teasingly', 'teaspoon', 'technically', 'teens', 'teeters', 'teeth', 'tell', 'tellicherry', 'tells', 'tempest', 'ten', 'tend', 'tends', 'tense', 'tenth', 'teriyaki', 'terms', 'terrific', 'territory', 'test', 'testosterone', 'tevasa', 'textbook', 'textural', 'texture', 'textured', 'th', 'thai', 'thanks', 'thefamousgrouse', 'theme', 'themes', 'theoretically', 'theory', 'therefore', 'thick', 'thickens', 'thicker', 'thickly', 'thin', 'thing', 'things', 'think', 'thinner', 'third', 'thirds', 'thirties', 'thirty', 'tho', 'though', 'thought', 'thoughtful', 'thread', 'threads', 'three', 'throat', 'throbbing', 'throughout', 'throw', 'thrown', 'throws', 'thrusts', 'thump', 'thumping', 'thyme', 'tickle', 'tide', 'tight', 'tim', 'timber', 'time', 'timer', 'times', 'tinge', 'tinged', 'tingle', 'tingling', 'tinned', 'tins', 'tiny', 'tip', 'tips', 'tire', 'tired', 'tires', 'tld', 'toast', 'toasted', 'tobacco', 'tobermory', 'toffee', 'toffeed', 'toffees', 'together', 'tokaji', 'told', 'tomatin', 'tomato', 'tomintoul', 'tongue', 'took', 'tool', 'tooth', 'top', 'topped', 'tops', 'torchbearer', 'tormore', 'torn', 'total', 'touch', 'touched', 'touches', 'toured', 'toward', 'towards', 'traces', 'track', 'trade', 'trading', 'tradition', 'traditional', 'trajectory', 'transforms', 'transitions', 'translates', 'transparency', 'travel', 'treacle', 'treasures', 'treat', 'treated', 'treatment', 'trend', 'trick', 'tried', 'tries', 'trifle', 'trio', 'trip', 'triple', 'tropical', 'true', 'truffle', 'truly', 'try', 'trying', 'tsar', 'tub', 'tubs', 'tullibardine', 'tun', 'tuned', 'turkish', 'turn', 'turned', 'turning', 'turns', 'tweaked', 'tweed', 'twenties', 'twist', 'twisting', 'twists', 'two', 'types', 'typical', 'typically', 'uber', 'ubiquitous', 'uk', 'ultimately', 'ultra', 'un', 'unabashed', 'unaged', 'unbelievably', 'unchill', 'uncluttered', 'uncommon', 'uncommonly', 'uncomplicated', 'unconventional', 'unctuous', 'undemanding', 'underbelly', 'undercurrent', 'undergrowth', 'underlying', 'underneath', 'underpinned', 'underpinning', 'underpins', 'underplayed', 'understandably', 'understated', 'undertone', 'undertones', 'undertow', 'underwhelming', 'undiminished', 'undisclosed', 'unearth', 'unfamiliar', 'unfiltered', 'unfocused', 'unfolding', 'unfolds', 'unintentional', 'unique', 'unlikely', 'unloved', 'unmistakable', 'unpeated', 'unpleasant', 'unpretentious', 'unravels', 'unreciprocated', 'unripe', 'unrivalled', 'unsalted', 'unspecified', 'unsurprisingly', 'unsweetened', 'untamed', 'untoasted', 'unusual', 'unusually', 'unyielding', 'uplifting', 'upper', 'upping', 'urge', 'us', 'use', 'used', 'uses', 'ushers', 'using', 'usual', 'usually', 'valhalla', 'validates', 'valley', 'valrhona', 'value', 'vanilla', 'variant', 'variants', 'variations', 'variety', 'various', 'varnished', 'varying', 'vast', 'vasyma', 'vats', 'vatting', 'vegetal', 'vein', 'veins', 'velvety', 'venerable', 'verdict', 'verging', 'versatile', 'versatility', 'versed', 'version', 'versions', 'vessel', 'veteran', 'vetiver', 'vibrancy', 'vibrant', 'victoria', 'vigorous', 'village', 'vin', 'vinous', 'vintage', 'vintages', 'violet', 'violets', 'virgin', 'visceral', 'viscosity', 'viscous', 'visitor', 'vital', 'vol', 'volume', 'voluptuous', 'vote', 'voyage', 'wafer', 'wafers', 'waffle', 'waft', 'wafting', 'wait', 'waited', 'walk', 'walker', 'walking', 'wallet', 'wallops', 'wally', 'walnut', 'walnuts', 'want', 'wanted', 'wanting', 'wants', 'warehouse', 'warehouses', 'warm', 'warming', 'warrant', 'warrior', 'wash', 'washed', 'watch', 'watching', 'water', 'watering', 'watery', 'waves', 'wax', 'waxed', 'waxiness', 'waxy', 'way', 'ways', 'web', 'wedge', 'wee', 'weight', 'weighty', 'welcome', 'well', 'wemyss', 'went', 'west', 'westerly', 'wet', 'wheat', 'whereas', 'whether', 'whiff', 'whirl', 'whiskey', 'whiskies', 'whisky', 'whisper', 'white', 'whittled', 'whole', 'wholly', 'whopping', 'whose', 'wick', 'wide', 'widely', 'wider', 'wild', 'william', 'willy', 'windfall', 'window', 'windows', 'wine', 'winery', 'wines', 'winning', 'winter', 'wish', 'wisp', 'wisps', 'within', 'without', 'wk', 'wonder', 'wonderful', 'wonderfully', 'wondering', 'wonka', 'wood', 'wooded', 'woodiness', 'woodland', 'woods', 'woodsmoke', 'woodworker', 'woody', 'woolen', 'word', 'work', 'worked', 'workhorse', 'works', 'workshop', 'world', 'worlds', 'worm', 'wormwood', 'worn', 'worth', 'worthy', 'would', 'wrap', 'wrapped', 'wrappers', 'wraps', 'written', 'wrong', 'www', 'wyoming', 'xim', 'ximenez', 'ximinez', 'year', 'years', 'yeasty', 'yellow', 'yes', 'yet', 'yielded', 'yields', 'yogurt', 'york', 'young', 'younger', 'youngest', 'youngster', 'youth', 'youthful', 'yowser', 'yquem', 'yum', 'zeitgeist', 'zest', 'zestiness', 'zesty', 'zing', 'zinginess', 'zinging', 'zingy', 'zippy']\n"
     ]
    }
   ],
   "source": [
    "vocab = vectorizer.get_feature_names()\n",
    "print(vocab)"
   ]
  },
  {
   "cell_type": "code",
   "execution_count": 82,
   "metadata": {},
   "outputs": [
    {
     "data": {
      "text/plain": [
       "array([[0, 0, 0, ..., 0, 0, 0],\n",
       "       [0, 0, 0, ..., 0, 0, 0],\n",
       "       [0, 0, 0, ..., 0, 0, 0],\n",
       "       ...,\n",
       "       [0, 0, 0, ..., 0, 0, 0],\n",
       "       [0, 0, 0, ..., 0, 0, 0],\n",
       "       [0, 0, 0, ..., 0, 0, 0]], dtype=int64)"
      ]
     },
     "execution_count": 82,
     "metadata": {},
     "output_type": "execute_result"
    }
   ],
   "source": [
    "parameters = {}\n",
    "\n",
    "rfr = RandomForestRegressor(random_state=42)\n",
    "\n",
    "gs_rfr = GridSearchCV(rfr, \n",
    "                      param_grid=parameters, \n",
    "                      verbose=2, \n",
    "                      n_jobs=-1, \n",
    "                      return_train_score=True                     \n",
    "                     )\n",
    "\n",
    "train_data_features"
   ]
  },
  {
   "cell_type": "code",
   "execution_count": 83,
   "metadata": {},
   "outputs": [
    {
     "name": "stderr",
     "output_type": "stream",
     "text": [
      "/anaconda3/envs/dsi/lib/python3.6/site-packages/sklearn/ensemble/forest.py:246: FutureWarning: The default value of n_estimators will change from 10 in version 0.20 to 100 in 0.22.\n",
      "  \"10 in version 0.20 to 100 in 0.22.\", FutureWarning)\n"
     ]
    },
    {
     "name": "stdout",
     "output_type": "stream",
     "text": [
      "0.856762713905847\n",
      "0.09225444461242638\n"
     ]
    }
   ],
   "source": [
    "rfr.fit(train_data_features, y_train)\n",
    "print(rfr.score(train_data_features, y_train))\n",
    "print(rfr.score(test_data_features, y_test))"
   ]
  },
  {
   "cell_type": "code",
   "execution_count": 84,
   "metadata": {},
   "outputs": [
    {
     "name": "stdout",
     "output_type": "stream",
     "text": [
      "Fitting 3 folds for each of 1 candidates, totalling 3 fits\n"
     ]
    },
    {
     "name": "stderr",
     "output_type": "stream",
     "text": [
      "/anaconda3/envs/dsi/lib/python3.6/site-packages/sklearn/model_selection/_split.py:2053: FutureWarning: You should specify a value for 'cv' instead of relying on the default value. The default value will change from 3 to 5 in version 0.22.\n",
      "  warnings.warn(CV_WARNING, FutureWarning)\n",
      "[Parallel(n_jobs=-1)]: Using backend LokyBackend with 4 concurrent workers.\n",
      "[Parallel(n_jobs=-1)]: Done   3 out of   3 | elapsed:    4.1s finished\n"
     ]
    },
    {
     "data": {
      "text/plain": [
       "GridSearchCV(cv='warn', error_score='raise-deprecating',\n",
       "       estimator=RandomForestRegressor(bootstrap=True, criterion='mse', max_depth=None,\n",
       "           max_features='auto', max_leaf_nodes=None,\n",
       "           min_impurity_decrease=0.0, min_impurity_split=None,\n",
       "           min_samples_leaf=1, min_samples_split=2,\n",
       "           min_weight_fraction_leaf=0.0, n_estimators=10, n_jobs=None,\n",
       "           oob_score=False, random_state=42, verbose=0, warm_start=False),\n",
       "       fit_params=None, iid='warn', n_jobs=-1, param_grid={},\n",
       "       pre_dispatch='2*n_jobs', refit=True, return_train_score=True,\n",
       "       scoring=None, verbose=2)"
      ]
     },
     "execution_count": 84,
     "metadata": {},
     "output_type": "execute_result"
    }
   ],
   "source": [
    "gs_rfr.fit(train_data_features, y_train)"
   ]
  },
  {
   "cell_type": "code",
   "execution_count": 85,
   "metadata": {},
   "outputs": [
    {
     "data": {
      "text/plain": [
       "0.09000484523384875"
      ]
     },
     "execution_count": 85,
     "metadata": {},
     "output_type": "execute_result"
    }
   ],
   "source": [
    "gs_rfr.best_score_"
   ]
  },
  {
   "cell_type": "code",
   "execution_count": 86,
   "metadata": {},
   "outputs": [
    {
     "data": {
      "text/plain": [
       "{}"
      ]
     },
     "execution_count": 86,
     "metadata": {},
     "output_type": "execute_result"
    }
   ],
   "source": [
    "gs_rfr.best_params_"
   ]
  },
  {
   "cell_type": "code",
   "execution_count": 87,
   "metadata": {},
   "outputs": [
    {
     "data": {
      "text/plain": [
       "{'mean_fit_time': array([1.35752026]),\n",
       " 'std_fit_time': array([0.07083451]),\n",
       " 'mean_score_time': array([0.00873804]),\n",
       " 'std_score_time': array([0.00493276]),\n",
       " 'params': [{}],\n",
       " 'split0_test_score': array([0.03602243]),\n",
       " 'split1_test_score': array([0.15731012]),\n",
       " 'split2_test_score': array([0.07668198]),\n",
       " 'mean_test_score': array([0.09000485]),\n",
       " 'std_test_score': array([0.0504037]),\n",
       " 'rank_test_score': array([1], dtype=int32),\n",
       " 'split0_train_score': array([0.83509621]),\n",
       " 'split1_train_score': array([0.81764966]),\n",
       " 'split2_train_score': array([0.86785351]),\n",
       " 'mean_train_score': array([0.84019979]),\n",
       " 'std_train_score': array([0.02081092])}"
      ]
     },
     "execution_count": 87,
     "metadata": {},
     "output_type": "execute_result"
    }
   ],
   "source": [
    "gs_rfr.cv_results_"
   ]
  },
  {
   "cell_type": "code",
   "execution_count": 88,
   "metadata": {},
   "outputs": [
    {
     "data": {
      "text/plain": [
       "'raise-deprecating'"
      ]
     },
     "execution_count": 88,
     "metadata": {},
     "output_type": "execute_result"
    }
   ],
   "source": [
    "gs_rfr.error_score"
   ]
  },
  {
   "cell_type": "code",
   "execution_count": 89,
   "metadata": {},
   "outputs": [
    {
     "name": "stderr",
     "output_type": "stream",
     "text": [
      "/anaconda3/envs/dsi/lib/python3.6/site-packages/sklearn/model_selection/_split.py:2053: FutureWarning: You should specify a value for 'cv' instead of relying on the default value. The default value will change from 3 to 5 in version 0.22.\n",
      "  warnings.warn(CV_WARNING, FutureWarning)\n",
      "[Parallel(n_jobs=-1)]: Using backend LokyBackend with 4 concurrent workers.\n"
     ]
    },
    {
     "name": "stdout",
     "output_type": "stream",
     "text": [
      "Fitting 3 folds for each of 1 candidates, totalling 3 fits\n"
     ]
    },
    {
     "name": "stderr",
     "output_type": "stream",
     "text": [
      "[Parallel(n_jobs=-1)]: Done   3 out of   3 | elapsed:    2.4s finished\n"
     ]
    },
    {
     "data": {
      "text/plain": [
       "GridSearchCV(cv='warn', error_score='raise-deprecating',\n",
       "       estimator=RandomForestRegressor(bootstrap=True, criterion='mse', max_depth=None,\n",
       "           max_features='auto', max_leaf_nodes=None,\n",
       "           min_impurity_decrease=0.0, min_impurity_split=None,\n",
       "           min_samples_leaf=1, min_samples_split=2,\n",
       "           min_weight_fraction_leaf=0.0, n_estimators=10, n_jobs=None,\n",
       "           oob_score=False, random_state=42, verbose=0, warm_start=False),\n",
       "       fit_params=None, iid='warn', n_jobs=-1, param_grid={},\n",
       "       pre_dispatch='2*n_jobs', refit=True, return_train_score=True,\n",
       "       scoring=None, verbose=2)"
      ]
     },
     "execution_count": 89,
     "metadata": {},
     "output_type": "execute_result"
    }
   ],
   "source": [
    "gs_rfr.fit(test_data_features, y_test)"
   ]
  },
  {
   "cell_type": "code",
   "execution_count": 90,
   "metadata": {},
   "outputs": [
    {
     "data": {
      "text/plain": [
       "0.12215637790719341"
      ]
     },
     "execution_count": 90,
     "metadata": {},
     "output_type": "execute_result"
    }
   ],
   "source": [
    "gs_rfr.best_score_"
   ]
  },
  {
   "cell_type": "code",
   "execution_count": 91,
   "metadata": {},
   "outputs": [
    {
     "data": {
      "text/plain": [
       "{}"
      ]
     },
     "execution_count": 91,
     "metadata": {},
     "output_type": "execute_result"
    }
   ],
   "source": [
    "gs_rfr.best_params_"
   ]
  },
  {
   "cell_type": "code",
   "execution_count": 92,
   "metadata": {},
   "outputs": [
    {
     "data": {
      "text/plain": [
       "{'mean_fit_time': array([1.4755923]),\n",
       " 'std_fit_time': array([0.1549944]),\n",
       " 'mean_score_time': array([0.00387526]),\n",
       " 'std_score_time': array([0.00069546]),\n",
       " 'params': [{}],\n",
       " 'split0_test_score': array([0.10890504]),\n",
       " 'split1_test_score': array([0.11708322]),\n",
       " 'split2_test_score': array([0.1405045]),\n",
       " 'mean_test_score': array([0.12215638]),\n",
       " 'std_test_score': array([0.01339131]),\n",
       " 'rank_test_score': array([1], dtype=int32),\n",
       " 'split0_train_score': array([0.854187]),\n",
       " 'split1_train_score': array([0.84998886]),\n",
       " 'split2_train_score': array([0.8337192]),\n",
       " 'mean_train_score': array([0.84596502]),\n",
       " 'std_train_score': array([0.00882709])}"
      ]
     },
     "execution_count": 92,
     "metadata": {},
     "output_type": "execute_result"
    }
   ],
   "source": [
    "gs_rfr.cv_results_"
   ]
  },
  {
   "cell_type": "markdown",
   "metadata": {},
   "source": [
    "# Preference Selection"
   ]
  },
  {
   "cell_type": "code",
   "execution_count": 93,
   "metadata": {},
   "outputs": [
    {
     "data": {
      "application/vnd.jupyter.widget-view+json": {
       "model_id": "b07ae04ed265480d8aa936ddc69d0c82",
       "version_major": 2,
       "version_minor": 0
      },
      "text/plain": [
       "interactive(children=(Dropdown(description='price_range', options=('Below 50', '50 to 100', '100 to 150', '150…"
      ]
     },
     "metadata": {},
     "output_type": "display_data"
    },
    {
     "data": {
      "application/vnd.jupyter.widget-view+json": {
       "model_id": "bab9127dc7f243fbb68d69a0bc4d9494",
       "version_major": 2,
       "version_minor": 0
      },
      "text/plain": [
       "interactive(children=(Dropdown(description='type_range', options=('Blended Scotch', 'Single Malt Scotch', 'Sin…"
      ]
     },
     "metadata": {},
     "output_type": "display_data"
    },
    {
     "data": {
      "application/vnd.jupyter.widget-view+json": {
       "model_id": "f07d0faef5b64ed884ee624229acc663",
       "version_major": 2,
       "version_minor": 0
      },
      "text/plain": [
       "interactive(children=(Dropdown(description='abv_range', options=('40%', 'Below 40%', 'Above 40%'), value='40%'…"
      ]
     },
     "metadata": {},
     "output_type": "display_data"
    },
    {
     "data": {
      "application/vnd.jupyter.widget-view+json": {
       "model_id": "ee673c84a3c9417384090f85e50d4823",
       "version_major": 2,
       "version_minor": 0
      },
      "text/plain": [
       "interactive(children=(Dropdown(description='flavor_1', options=('', 'earth', 'wood', 'spice', 'malt', 'wine', …"
      ]
     },
     "metadata": {},
     "output_type": "display_data"
    },
    {
     "data": {
      "application/vnd.jupyter.widget-view+json": {
       "model_id": "94ce1d91b72b46aeab719fb259bc329e",
       "version_major": 2,
       "version_minor": 0
      },
      "text/plain": [
       "interactive(children=(Dropdown(description='flavor_2', options=('', 'earth', 'wood', 'spice', 'malt', 'wine', …"
      ]
     },
     "metadata": {},
     "output_type": "display_data"
    },
    {
     "data": {
      "application/vnd.jupyter.widget-view+json": {
       "model_id": "d937d65c29b8431ab7ce827b36c58a1d",
       "version_major": 2,
       "version_minor": 0
      },
      "text/plain": [
       "interactive(children=(Dropdown(description='flavor_3', options=('', 'earth', 'wood', 'spice', 'malt', 'wine', …"
      ]
     },
     "metadata": {},
     "output_type": "display_data"
    },
    {
     "data": {
      "application/vnd.jupyter.widget-view+json": {
       "model_id": "5431b9ea26124d2ba30f35d135bedb1b",
       "version_major": 2,
       "version_minor": 0
      },
      "text/plain": [
       "Button(description='Recommend', style=ButtonStyle())"
      ]
     },
     "metadata": {},
     "output_type": "display_data"
    }
   ],
   "source": [
    "# Select each other categories\n",
    "display(price_range)\n",
    "display(type_range)\n",
    "display(abv_range)\n",
    "display(flavor_1)\n",
    "display(flavor_2)\n",
    "display(flavor_3)\n",
    "\n",
    "price_range_drop = price_range.result\n",
    "category_range_drop = type_range.result\n",
    "abv_range_drop = abv_range.result\n",
    "first_taste_drop1 = flavor_1.result\n",
    "second_taste_drop2 = flavor_2.result\n",
    "third_taste_drop3 = flavor_3.result\n",
    "\n",
    "# # Should change with every change of a drop down\n",
    "# print(price_range_drop)\n",
    "# print(category_range_drop)\n",
    "# print(abv_range_drop)\n",
    "# print(first_taste_drop1)\n",
    "# print(second_taste_drop2)\n",
    "# print(third_taste_drop3)\n",
    "\n",
    "# These should be the inputs your scotch preferances so they\n",
    "# can be made into a dataframe\n",
    "scotch_pref = pd.DataFrame({\n",
    "    'price_range_drop': [price_range_drop],\n",
    "    'category_range_drop': [category_range_drop],\n",
    "    'abv_range_drop': [abv_range_drop],\n",
    "    'first_taste_drop1': [first_taste_drop1],\n",
    "    'second_taste_drop2': [second_taste_drop2],\n",
    "    'third_taste_drop3': [third_taste_drop3]\n",
    "},\n",
    "                           index=[0]).T\n",
    "# scotch_pref\n",
    "\n",
    "price_pref = scotch.loc[scotch['price_categories'] == price_range_drop]\n",
    "\n",
    "category_pref = scotch.loc[scotch['category'] == category_range_drop]\n",
    "\n",
    "abv_pref = scotch.loc[scotch['abv_categories'] == abv_range_drop]\n",
    "\n",
    "# price_pref.head()\n",
    "\n",
    "# category_pref.head()\n",
    "\n",
    "# abv_pref.head()\n",
    "\n",
    "abv_price_pref = price_pref.merge(abv_pref, how='inner', on=['name'])\n",
    "\n",
    "abv_price_cat_pref = abv_price_pref.merge(\n",
    "    category_pref, how='inner', on=['name'])\n",
    "\n",
    "# abv_price_cat_pref.head()\n",
    "\n",
    "basic_pref = abv_price_cat_pref[[\n",
    "    'name', 'category', 'points', 'price', 'abv', 'description'\n",
    "]]\n",
    "\n",
    "# basic_pref.shape\n",
    "\n",
    "# len(basic_pref)\n",
    "\n",
    "def run_all(ev):\n",
    "    display(Javascript('IPython.notebook.execute_cells_below()'))\n",
    "\n",
    "button = widgets.Button(description=\"Recommend\")\n",
    "button.on_click(run_all)\n",
    "display(button)"
   ]
  },
  {
   "cell_type": "markdown",
   "metadata": {},
   "source": [
    "# Recommendations"
   ]
  },
  {
   "cell_type": "code",
   "execution_count": 94,
   "metadata": {
    "scrolled": false
   },
   "outputs": [
    {
     "name": "stdout",
     "output_type": "stream",
     "text": [
      "Showing 79 recommendations!\n"
     ]
    },
    {
     "data": {
      "text/html": [
       "<div>\n",
       "<style scoped>\n",
       "    .dataframe tbody tr th:only-of-type {\n",
       "        vertical-align: middle;\n",
       "    }\n",
       "\n",
       "    .dataframe tbody tr th {\n",
       "        vertical-align: top;\n",
       "    }\n",
       "\n",
       "    .dataframe thead th {\n",
       "        text-align: right;\n",
       "    }\n",
       "</style>\n",
       "<table border=\"1\" class=\"dataframe\">\n",
       "  <thead>\n",
       "    <tr style=\"text-align: right;\">\n",
       "      <th></th>\n",
       "      <th>name</th>\n",
       "      <th>category</th>\n",
       "      <th>points</th>\n",
       "      <th>price</th>\n",
       "      <th>abv</th>\n",
       "      <th>description</th>\n",
       "    </tr>\n",
       "  </thead>\n",
       "  <tbody>\n",
       "    <tr>\n",
       "      <th>0</th>\n",
       "      <td>Johnnie Walker Double Black, 40%</td>\n",
       "      <td>Blended Scotch</td>\n",
       "      <td>90</td>\n",
       "      <td>40.0</td>\n",
       "      <td>40.0</td>\n",
       "      <td>So how brave can you be? Would you take one of the world's most iconic blends and risk messing with it? If you've got a whisky maker as good as Jim Beveridge, then why not? This picks up from the regular JW Black and its signature Caol Ila smoke and peat heart and then adds to it, doing exactly what it says on the tin. But the clever part of this is upping the apple, orange, and fruit content too. Great.</td>\n",
       "    </tr>\n",
       "    <tr>\n",
       "      <th>1</th>\n",
       "      <td>Dewar’s 15 year old The Monarch, 40%</td>\n",
       "      <td>Blended Scotch</td>\n",
       "      <td>90</td>\n",
       "      <td>50.0</td>\n",
       "      <td>40.0</td>\n",
       "      <td>The divine stone fruit aromas are the key to unlocking the nose on this one: apricot, honey, vanilla icing, malt bins, Quaker Oats Squares, and lofty floral top notes. Sweet mandarin, brown sugar, vanilla fudge, strands of finely shredded peel, and more spice than the 12 year old can muster. The sweet vanilla aftertaste is softer and more elegant than the younger expressions.</td>\n",
       "    </tr>\n",
       "    <tr>\n",
       "      <th>2</th>\n",
       "      <td>Shackleton, 40%</td>\n",
       "      <td>Blended Scotch</td>\n",
       "      <td>90</td>\n",
       "      <td>35.0</td>\n",
       "      <td>40.0</td>\n",
       "      <td>One hundred ten years after the Nimrod expedition, blender Richard Paterson’s adventurous marriage of over 20 Highland malts brings fresh green fruits, manuka honey, vanilla, banana muffin, cantaloupe, fresh herbs, spice, and a wisp of smoke. Refreshing palate of green melon, light honey, vanilla, cinnamon, cooked apple, and gooseberry, becoming sour. More complexity on the finish: spice, smoke, cooked fruits, and chalky Sweethearts candies. Pair with mature prosciutto.</td>\n",
       "    </tr>\n",
       "    <tr>\n",
       "      <th>3</th>\n",
       "      <td>Johnnie Walker Blenders’ Batch Sherry Cask Finish 12 year old, 40%</td>\n",
       "      <td>Blended Scotch</td>\n",
       "      <td>89</td>\n",
       "      <td>44.0</td>\n",
       "      <td>40.0</td>\n",
       "      <td>Blender Aimée Gibson’s experimental batch 7 is designed as a sherry finished Black Label. Beautifully smoky, with dried fruits, charred oak, wood spices, vanilla, cocoa, and bonfire smoke. Toffee flavors, with thick smoke, red fruits, orange, raisin, oak spice, gingerbread, marshmallow, strawberry jam, and dark marmalade. Dry finish with bitter peels, dark chocolate, and some feisty spices. In comparison, regular Black Label is silkier, more integrated, and more peppery. (Global Travel Retail only)</td>\n",
       "    </tr>\n",
       "    <tr>\n",
       "      <th>4</th>\n",
       "      <td>Dewar’s 12 year old The Ancestor, 40%</td>\n",
       "      <td>Blended Scotch</td>\n",
       "      <td>89</td>\n",
       "      <td>33.0</td>\n",
       "      <td>40.0</td>\n",
       "      <td>A straightforward proposition of honey, vanilla sponge cake, barley notes, hints of apple, fresh banana, melon, and bundles of dry straw. It’s a sweetheart: soft vanilla fudge, heather honey, banana-topped banoffee pie, fudge, vanilla sandwich cookies, barley sugar, and lemon peel, with hardly any spice in the early phase. The finish has a snag of pepper at the end, but this is gorgeously tasty, with smooth vanilla fudge all the way.</td>\n",
       "    </tr>\n",
       "    <tr>\n",
       "      <th>5</th>\n",
       "      <td>Cutty Sark Storm, 40%</td>\n",
       "      <td>Blended Scotch</td>\n",
       "      <td>89</td>\n",
       "      <td>31.0</td>\n",
       "      <td>40.0</td>\n",
       "      <td>Cutty Sark master blender Kirsteen Campbell has hit the ground running and is playing a leading role in the revival of this iconic blend. Storm is a very different whisky than Tam o' Shanter. The nose is nuanced and light, with orange jelly and citrus juice; the palate is sophisticated, fruity, perfectly balanced, rounded, and gentle, with a high-percentage malt content evident in the mix. The finish is quite short but very more-ish. An amazing whisky for the price. £20 VALUE PICK</td>\n",
       "    </tr>\n",
       "    <tr>\n",
       "      <th>6</th>\n",
       "      <td>The Naked Grouse, 40%</td>\n",
       "      <td>Blended Scotch</td>\n",
       "      <td>89</td>\n",
       "      <td>35.0</td>\n",
       "      <td>40.0</td>\n",
       "      <td>This is the latest spinoff from core blend The Famous Grouse, so there’s Macallan and Highland Park in here, and from the taste of it, in sizeable quantities. With smart but minimalist packaging and an environmental theme, this is a very ‘now’ whisky. It’s heavily sherried, very rich, and sweet, but there’s enough spice to stop it becoming cloying, and it’s as soft as a down feather blanket on the palate. You can easily drink it straight, too.</td>\n",
       "    </tr>\n",
       "    <tr>\n",
       "      <th>7</th>\n",
       "      <td>Johnnie Walker The Spice Road, 40%</td>\n",
       "      <td>Blended Scotch</td>\n",
       "      <td>88</td>\n",
       "      <td>43.0</td>\n",
       "      <td>40.0</td>\n",
       "      <td>Somebody at Diageo has been taking a lot of interest in the Johnnie Walker range of late, what with the revamp of the core range and now a regular stream of special releases. This is the first of a series for Travel Retail only, but it takes the Johnnie Walker themes — vanilla, spice, and honey, with wispy peat and smoke — and adds savory spice to the earthiness. But there are some very young notes in this.</td>\n",
       "    </tr>\n",
       "    <tr>\n",
       "      <th>8</th>\n",
       "      <td>Johnnie Walker Black Label 12 year old, 40%</td>\n",
       "      <td>Blended Scotch</td>\n",
       "      <td>88</td>\n",
       "      <td>30.0</td>\n",
       "      <td>40.0</td>\n",
       "      <td>Need you ask? An unmistakable classic and an exemplar of a blended Scotch whisky, famous around the world. Toffee, swirling caramel, whole almond, and mashed banana amid twisting white smoke. The palate has such poise, balance, and dexterity that it sets the standard for many less accomplished blends to aspire to. Conspicuously iconic, and the closest thing you will find to a complete whisky at this price.</td>\n",
       "    </tr>\n",
       "    <tr>\n",
       "      <th>9</th>\n",
       "      <td>Black Grouse Alpha Edition, 40%</td>\n",
       "      <td>Blended Scotch</td>\n",
       "      <td>88</td>\n",
       "      <td>41.0</td>\n",
       "      <td>40.0</td>\n",
       "      <td>Arguably the most successful of the Famous Grouse extensions (well, the competition includes Snow Grouse, for Pete's sake!), the Black Grouse brought ever-popular peat into the mix, a move that was followed by a peatier version of Johnnie Walker Black Label. The label says this is richer and peatier, and it is. But this scores most for a chicory/coffee and liquid licorice undercarpet that makes it very palatable indeed. Neat over ice. (Travel Retail exclusive)€33</td>\n",
       "    </tr>\n",
       "    <tr>\n",
       "      <th>10</th>\n",
       "      <td>Ballantine's Christmas Reserve 2011, 40%</td>\n",
       "      <td>Blended Scotch</td>\n",
       "      <td>88</td>\n",
       "      <td>37.0</td>\n",
       "      <td>40.0</td>\n",
       "      <td>Master blender Sandy Hyslop has deliberately attempted to capture Christmas in the glass, and so it should come as no surprise to find a rich, full, and flavorsome whisky with sherry trifle, red berries, orange fruit, and mince pie filling in the mix. It's put together with grace and style, mixes well, and is that rare beast — a blend that can be enjoyed on its own.</td>\n",
       "    </tr>\n",
       "    <tr>\n",
       "      <th>11</th>\n",
       "      <td>Te Bheag Blended Whisky, 40%</td>\n",
       "      <td>Blended Scotch</td>\n",
       "      <td>88</td>\n",
       "      <td>40.0</td>\n",
       "      <td>40.0</td>\n",
       "      <td>Pronounced “Te Veg,” this has its roots in the Isle of Skye, and as there’s only one distillery there it’s highly likely that the odd\\r\\ndrop of Talisker has found its way into the mix. Whether it has or not, this is stirring stuff, non-chill filtered so that the flavors burst forth. As you might expect, it’s rugged with brine and chili, giving it a distinctive spice edge. But the delivery is a caramel fudge delight, with luxury chocolate praline in there too.</td>\n",
       "    </tr>\n",
       "    <tr>\n",
       "      <th>12</th>\n",
       "      <td>Duncan Taylor 12 year old, 40%</td>\n",
       "      <td>Blended Scotch</td>\n",
       "      <td>88</td>\n",
       "      <td>25.0</td>\n",
       "      <td>40.0</td>\n",
       "      <td>When in doubt, the answer to any question is usually ‘more whisky.’ Here, peat smoke takes an upper hand over the sweet aromas of juicy orange and pear. The whisky begins icing-sugar sweet, settles to bubble gum, pear, apple, and malt, showing its impeccably balanced, finely textured character replete with strands of oak spices, gentle smoke, baked pastry, and vanilla custard. You can’t go wrong at this price.</td>\n",
       "    </tr>\n",
       "    <tr>\n",
       "      <th>13</th>\n",
       "      <td>J. Mossman Gold Crown 12 year old, 40%</td>\n",
       "      <td>Blended Scotch</td>\n",
       "      <td>88</td>\n",
       "      <td>43.0</td>\n",
       "      <td>40.0</td>\n",
       "      <td>Aromas of oloroso sherry, strawberry, almond paste, clove, licorice Allsorts, black treacle, and smoke from burning haystacks. Honeyed palate with citrus elements, light lemon, green melon, pear, redcurrant, and pineapple, brightened by some well-rounded spices and root ginger. It glides into a mouthful of chocolate-coated digestive biscuits with a little smoke, then a finish of citrus oils, fruit skins, and active spices. Brilliant and satisfying.</td>\n",
       "    </tr>\n",
       "    <tr>\n",
       "      <th>14</th>\n",
       "      <td>Johnnie Walker Blenders’ Batch Wine Cask, 40%,</td>\n",
       "      <td>Blended Scotch</td>\n",
       "      <td>87</td>\n",
       "      <td>30.0</td>\n",
       "      <td>40.0</td>\n",
       "      <td>Blender Aimée Gibson set out to make a sundowner scotch by incorporating whiskies matured in wine casks. The blueberry, blackcurrant, and fresh oak aromas continue on to the palate: fruit compote, raspberry, strawberry, and lingonberry with light spices. A late resurgence of dark toffee, chocolate, and cigar smoke blow into the finish. Sip away by all means, but this fruity sensation calls to be served up in long, cool drinks.</td>\n",
       "    </tr>\n",
       "    <tr>\n",
       "      <th>15</th>\n",
       "      <td>Anchor Bay, 40%</td>\n",
       "      <td>Blended Scotch</td>\n",
       "      <td>87</td>\n",
       "      <td>48.0</td>\n",
       "      <td>40.0</td>\n",
       "      <td>Lombard’s blend of Speyside malts pleases with an agreeable nose of orchard blossoms, flower honey, caramel, dry hay, and pears baked in brown granulated sugar. It’s homey and comforting, favoring its floral and fruity side. This is a light, sweet whisky that sweeps around the mouth, radiating maltiness, apple, grapefruit, dried mango strips, and mingling spices. A studiously long finish of sucked caramel candy and beeswax follows. A smart choice for the beginning of the evening. £30</td>\n",
       "    </tr>\n",
       "    <tr>\n",
       "      <th>16</th>\n",
       "      <td>Old Masters Freemason Whisky, 40%</td>\n",
       "      <td>Blended Scotch</td>\n",
       "      <td>87</td>\n",
       "      <td>30.0</td>\n",
       "      <td>40.0</td>\n",
       "      <td>Originally created by Lombard for the Freemasons, this has a flavorsome nose of dark chocolate chip cookies, light spices, coconut macaroons, malt, and bright, fresh bananas. The palate is light and unobtrusive, with honey and malt reinforced by the spices running underneath. A shift develops to some later cocoa and chocolate notes, and the mocha finish fades gracefully. A finely balanced concoction, and you will rarely find this quality and flavor for the price</td>\n",
       "    </tr>\n",
       "    <tr>\n",
       "      <th>17</th>\n",
       "      <td>Grand Macnish Black Edition, 40%</td>\n",
       "      <td>Blended Scotch</td>\n",
       "      <td>87</td>\n",
       "      <td>30.0</td>\n",
       "      <td>40.0</td>\n",
       "      <td>I am hopeful this blended whisky has benefited from the alligator char treatment to contribute to the deep, rich color and charred smoke notes on the nose. A thick, velvety mouthfeel, with butter toffee, toasted marshmallows going gooey on a stick, great spices, vanilla, whole nutmeg, chicory, and the crust of a well-fired fruit loaf leaving some sooty cinders on the finish. A mighty fireside companion and my favorite Grand Macnish to date.</td>\n",
       "    </tr>\n",
       "    <tr>\n",
       "      <th>18</th>\n",
       "      <td>Lord Elcho, 40%</td>\n",
       "      <td>Blended Scotch</td>\n",
       "      <td>87</td>\n",
       "      <td>43.0</td>\n",
       "      <td>40.0</td>\n",
       "      <td>Lord Elcho was an 18th century ancestor of William Wemyss, who fought on Bonnie Prince Charlie’s side at the Battle of Culloden in 1745. With a minimum of 40% malt, this fine blend has a rather perfumed nose of fresh mint, green apple, sliced melon, and tropical fruits. The soft candy sugar and butterscotch palate builds, with layers of malt, cherry laces, gingerbread, and pfeffernüsse leading to a ginger and spice finish of significant length. Highly accomplished. £26</td>\n",
       "    </tr>\n",
       "    <tr>\n",
       "      <th>19</th>\n",
       "      <td>The Famous Grouse Malt Whisky, 12 year old, 40%</td>\n",
       "      <td>Blended Scotch</td>\n",
       "      <td>86</td>\n",
       "      <td>35.0</td>\n",
       "      <td>40.0</td>\n",
       "      <td>Lovely balance on the nose and palate. Soft and gently textured, too. The sweetness of the whisky (honey, fruit gum drops, and malty vanilla), dovetail nicely with light, bright citrus and teasing dried spices. Heather/floral notes enhance the whisky’s complexity. Clean, delicately polished oak finish. A very versatile, inexpensive, easy-drinking whisky. \\r\\n</td>\n",
       "    </tr>\n",
       "    <tr>\n",
       "      <th>20</th>\n",
       "      <td>Chivas Regal 12 year old, 40%</td>\n",
       "      <td>Blended Scotch</td>\n",
       "      <td>86</td>\n",
       "      <td>25.0</td>\n",
       "      <td>40.0</td>\n",
       "      <td>The assured Scotch whisky that became one of the classic blends. Dry and sweet, with a nose of vanilla sponge, fresh cut flowers, and marzipan over a malty base. Pleasingly oily, with flavors of burning butter, malty toffee, and cake mix, with gentle spices and hints of chocolate appearing the longer you hold off swallowing. The glossy mouthfeel makes this feel like an everyday luxury. A finish of spent spices, cocoa, hazelnut, and a waft of smoke brings it home.</td>\n",
       "    </tr>\n",
       "    <tr>\n",
       "      <th>21</th>\n",
       "      <td>Islay Mist, 12 year old, 40%</td>\n",
       "      <td>Blended Scotch</td>\n",
       "      <td>86</td>\n",
       "      <td>50.0</td>\n",
       "      <td>40.0</td>\n",
       "      <td>More rounded, with greater depth when compared to the 8 year old offering. Not as medicinal and less sweet, more toffee and less honey, with more dried spice interwoven throughout. The herbs are still there, along with licorice root. Dry, burning-ember finish. Nicely balanced, which makes it my favorite of the three.\\r\\n</td>\n",
       "    </tr>\n",
       "    <tr>\n",
       "      <th>22</th>\n",
       "      <td>The Black Grouse, 40%</td>\n",
       "      <td>Blended Scotch</td>\n",
       "      <td>86</td>\n",
       "      <td>29.0</td>\n",
       "      <td>40.0</td>\n",
       "      <td>One might assume this to be just a smoky version of the standard Famous Grouse (with its honeyed malt, bright fruit, and floral demeanor). But, in addition to the enhanced smoke (which caringly adds a new dimension without smothering the other flavors), there also seems to be more malt body and oak spice in the mix, which I think takes Black Grouse to a higher level than Famous Grouse. The grain whisky contributes a “drinkability” component, making it a great introduction to smoky whiskies.</td>\n",
       "    </tr>\n",
       "    <tr>\n",
       "      <th>23</th>\n",
       "      <td>Ballantine’s 12 year old, 40%</td>\n",
       "      <td>Blended Scotch</td>\n",
       "      <td>86</td>\n",
       "      <td>38.0</td>\n",
       "      <td>40.0</td>\n",
       "      <td>Wow! A noticeable step up in quality than Ballantine’s Finest (see below) with a perceptibly higher malt content. After Eight mints, Rolo toffees, spring florals, clean and creamy, plus some wood combine to produce an appealing nose. One sip confirms that this is gorgeously honeyed, layered, thick, and creamy, with heather honey, sweet oak, and ripe fruits, especially orange and mango. The finish is short, drying, sweet, and the only weak spot in an otherwise decent composition.</td>\n",
       "    </tr>\n",
       "    <tr>\n",
       "      <th>24</th>\n",
       "      <td>Grand Macnish 12 year old, 40%</td>\n",
       "      <td>Blended Scotch</td>\n",
       "      <td>86</td>\n",
       "      <td>25.0</td>\n",
       "      <td>40.0</td>\n",
       "      <td>With a bottle shape that makes you want to go bowling, this blend has admirable balance between the fruit and the smoke on the nose. The bonfire smoke is matched with aromas of tarte tartin, pecan nut, red apple, and sultana. Smooth and molten in the mouth, it has more weight and body than its older brother. There is citrus, apples, and the late arrival of baked spices, cookie dough, and mint chocolate on the finish.</td>\n",
       "    </tr>\n",
       "    <tr>\n",
       "      <th>25</th>\n",
       "      <td>Label 5 Extra Premium 12 year old, 40%</td>\n",
       "      <td>Blended Scotch</td>\n",
       "      <td>86</td>\n",
       "      <td>25.0</td>\n",
       "      <td>40.0</td>\n",
       "      <td>This is bursting with barley, sweet oak, and all-butter shortbread. There are charcoal sticks too, which add a cool smoke note. The taste is like a warm hug on a cold morning; flavors of butter toffee, orange, poached pear, and ginger snaps, which combine to keep that deep smoke in balance. The harmony continues into the lengthy finish with flavors of citrus, melon, and ground ginger.</td>\n",
       "    </tr>\n",
       "    <tr>\n",
       "      <th>26</th>\n",
       "      <td>Copper Dog, 40%</td>\n",
       "      <td>Blended Scotch</td>\n",
       "      <td>86</td>\n",
       "      <td>32.0</td>\n",
       "      <td>40.0</td>\n",
       "      <td>Named after the warehouseman’s preferred piece of pilfering paraphernalia, the 125 year old Craigellachie Hotel’s Copper Dog bar now boasts its own whisky. It’s an appealing blend of eight Speyside malts, with honey, warm toast, pecan nut, apple turnover, fudge fingers, and orange peel. Vanilla, orange pith, wood spice, caramel, and fresh apple develop into creamy nougat. Takes a while to come into focus, then concludes with a spicy finish.</td>\n",
       "    </tr>\n",
       "    <tr>\n",
       "      <th>27</th>\n",
       "      <td>The Famous Grouse Malt Whisky, 10 year old, 40%</td>\n",
       "      <td>Blended Scotch</td>\n",
       "      <td>85</td>\n",
       "      <td>30.0</td>\n",
       "      <td>40.0</td>\n",
       "      <td>For the past few years, Famous Grouse vintage vatted malt has been produced but not sold here in the U.S. They were in the 10-12 year old age range. This version being introduced to the U.S. is a non-vintage expression, and I don’t think it really matters. What matters is its taste. Major components of The Famous Grouse blended whiskies have included The Macallan and Highland Park, and there’s no doubt these malts are providing some of the richness and flavor complexity in this new expression. The whisky is quite hefty, with notes of juicy fruit, toffee, almonds, heather, and a wisp of vanilla and smoke. It is also very well balanced and quite a bargain for $30. \\r\\n</td>\n",
       "    </tr>\n",
       "    <tr>\n",
       "      <th>28</th>\n",
       "      <td>Famous Grouse Mellow Gold, 40%</td>\n",
       "      <td>Blended Scotch</td>\n",
       "      <td>85</td>\n",
       "      <td>33.0</td>\n",
       "      <td>40.0</td>\n",
       "      <td>This has enticing flavors that will meet with the approval of the regular Grouse drinker: heady florals with fresh peach, light honey, pecan, and underlying caramel. The palate is soothing with vanilla and tangerine, hallmarks of Grouse, plus rosewater, almond, and whispering spices. Gently does it, that’s the key to this: kick back and relax. This showcases the Midas touch of Gordon Motion’s skills in liquid alchemy. A great value blend to boot. £22</td>\n",
       "    </tr>\n",
       "    <tr>\n",
       "      <th>29</th>\n",
       "      <td>Chivas Regal Extra, 40%,</td>\n",
       "      <td>Blended Scotch</td>\n",
       "      <td>85</td>\n",
       "      <td>40.0</td>\n",
       "      <td>40.0</td>\n",
       "      <td>A new oloroso-forward Chivas positioned to split between the 12 and 18 year olds? I got this. Refined and inviting nose of lemon pith, black fruits, and Kola Kubes. The velvety texture is wonderfully smooth, redolent of an apricot custard Danish, lime zest, raisin, currant, mixed peel, and walnut, with a growing bitter-lemon note. Quite unique finish, like sucking on lumpy Spanish lemons speckled with spices. (LA, NY, Miami, Chicago, Northern California, but will go national)</td>\n",
       "    </tr>\n",
       "    <tr>\n",
       "      <th>30</th>\n",
       "      <td>Dewar’s White Label Scratched Cask, 40%</td>\n",
       "      <td>Blended Scotch</td>\n",
       "      <td>85</td>\n",
       "      <td>26.0</td>\n",
       "      <td>40.0</td>\n",
       "      <td>What lies beneath the surface of Dewar’s? Here, the blend is finished in virgin and first-fill bourbon casks especially charred, then scratched to enable deeper penetration. Thick wedge of vanilla and fudge with oaky accents, a dusty mouthfeel pulling in vanilla, light lemon, milk chocolate, and sweet toffee, ending on a cocoa powder note. Compared with regular White Label, this is less obviously sweet and creamy, adds complexity, and opens a bourbon connection. Certainly, this is up to scratch.</td>\n",
       "    </tr>\n",
       "    <tr>\n",
       "      <th>31</th>\n",
       "      <td>Dewar’s White Label, 40%</td>\n",
       "      <td>Blended Scotch</td>\n",
       "      <td>85</td>\n",
       "      <td>25.0</td>\n",
       "      <td>40.0</td>\n",
       "      <td>Honey, fudge, a little melon and white grape, dry roasted spices, and peppercorn, but noticeably less fruit than the age-statement varieties. The palate has pulpy white melon, lemon, lime, and some grapefruit acidity, before sweetening with honey. Quite tart at times, some peppery spice collaborates before the vanilla cream and green fruits take charge. A clean, juicy finish of lemon zest and mild spices coats the throat.</td>\n",
       "    </tr>\n",
       "    <tr>\n",
       "      <th>32</th>\n",
       "      <td>Shieldaig 12 year old, 40%</td>\n",
       "      <td>Blended Scotch</td>\n",
       "      <td>85</td>\n",
       "      <td>31.0</td>\n",
       "      <td>40.0</td>\n",
       "      <td>This is a sharp dresser, with a firm, solid mouthfeel and an altogether finer and more focused taste than Shieldaig Classic (see\\r\\nbelow). It’s not coastal or earthy particularly, either. Instead the flavors are softer and built around mocha, smooth creamy toffee, and some soft fruit, including a touch of overripe banana and melon notes. The savoriness this time comes from a touch of pepper rather than salt.</td>\n",
       "    </tr>\n",
       "    <tr>\n",
       "      <th>33</th>\n",
       "      <td>James Brookes Blended Whisky, 40%</td>\n",
       "      <td>Blended Scotch</td>\n",
       "      <td>85</td>\n",
       "      <td>18.0</td>\n",
       "      <td>40.0</td>\n",
       "      <td>This is like listening to a quiet and understated musician and slowly starting to realize that there are all sorts of clever\\r\\nnuances just beneath the surface. This evolves from a floral and welcoming nose, through a saline note and on to pepper and a Highland earthiness, but wrapped up in a rich, honeyed body. A nice balance between the ruggedness and sweet softness. All rather pleasant.</td>\n",
       "    </tr>\n",
       "    <tr>\n",
       "      <th>34</th>\n",
       "      <td>Sir Edward’s Smoky, 40%</td>\n",
       "      <td>Blended Scotch</td>\n",
       "      <td>85</td>\n",
       "      <td>22.0</td>\n",
       "      <td>40.0</td>\n",
       "      <td>This blend delivers just enough peat turf to live up to the name, without alienating the peat phobics. A pleasant nose of chocolate hazelnut, pecan nut, dried tropical fruits, and gentle wood and peat smoke.  Orange, toffee, banoffee pie, Kola Kubes, and a little spiciness. Plenty of flavor even if the mouthfeel is a little thin. A short finish with a spicy flare and a few lingering smoky embers. (Total Wine exclusive) Price per 1.75 liter</td>\n",
       "    </tr>\n",
       "    <tr>\n",
       "      <th>35</th>\n",
       "      <td>Duncan Taylor Five Star, 40%</td>\n",
       "      <td>Blended Scotch</td>\n",
       "      <td>85</td>\n",
       "      <td>17.0</td>\n",
       "      <td>40.0</td>\n",
       "      <td>It begins innocently enough. Ripening strawberries, cotton candy, and fudge on the nose, but with an undertow of devil-may-care spiciness. Soft mandarin citrus, vanilla fudge, sponge cupcakes, and a decent wedge of malt form the core of the palate; the spice is disappointingly mild considering the potential of the first sniff. Sweet and syrupy finish. Still, solid enough to make your world better at the end of a hard day.</td>\n",
       "    </tr>\n",
       "    <tr>\n",
       "      <th>36</th>\n",
       "      <td>Buchanan’s Deluxe 12 year old, 40%</td>\n",
       "      <td>Blended Scotch</td>\n",
       "      <td>85</td>\n",
       "      <td>30.0</td>\n",
       "      <td>40.0</td>\n",
       "      <td>Overlook the fact that this bottle is saddled with one of the most impenetrable closures known to mankind. Unperturbed, this blend flaunts its big toffee aromas, whole almond, and floral top notes. With light fudge and gentle orange influences, it is smooth and rounded, top loaded with spice and hazelnut at the front of the mouth. More grain character and roasted spices show through on the finish.</td>\n",
       "    </tr>\n",
       "    <tr>\n",
       "      <th>37</th>\n",
       "      <td>Buchanan’s Master, 40%</td>\n",
       "      <td>Blended Scotch</td>\n",
       "      <td>85</td>\n",
       "      <td>45.0</td>\n",
       "      <td>40.0</td>\n",
       "      <td>This adheres to the rules laid down by blender Keith Law. The nose yields mint toffees, cereal notes, butterscotch, and whole peppercorn. Juicy orange, with elements of burnt orange, dark toffees, and a pleasant balance of sweetness form the palate, followed by a wave of peppery spices and late dashes of dates and sultana. The finish has more peppery spice and peppermint. Obey the Law.</td>\n",
       "    </tr>\n",
       "    <tr>\n",
       "      <th>38</th>\n",
       "      <td>J&amp;B Rare, 40%</td>\n",
       "      <td>Blended Scotch</td>\n",
       "      <td>85</td>\n",
       "      <td>23.0</td>\n",
       "      <td>40.0</td>\n",
       "      <td>Justerini &amp; Brooks sold scotch in the U.S. before Prohibition. This light, Speyside-style blend has grassy notes, with crystalized lemon slices, Bramley apple peel, woodsmoke, and almonds. Light and sweet on the tongue, it unpacks lemon peel, satsuma, juicy watermelon, pepper, and aniseed. Grain whisky and herbal notes creep in late and permeate the finish.</td>\n",
       "    </tr>\n",
       "    <tr>\n",
       "      <th>39</th>\n",
       "      <td>Johnnie Walker Red Label, 40%</td>\n",
       "      <td>Blended Scotch</td>\n",
       "      <td>84</td>\n",
       "      <td>25.0</td>\n",
       "      <td>40.0</td>\n",
       "      <td>How does this long-established blend shape up on its own without a ginger or soda mixer? Fresh apple juice, a twist of lemon, dried orange peel, peppercorn, cracker bread, and a vegetal spicy note. It gets into its stride with delicious apple, gentle fudge, and good-tempered spices, with cracked black pepper and a little sourness to finish. Mild, agreeably smooth, without any bombast or hullabaloo; it just blends in.</td>\n",
       "    </tr>\n",
       "    <tr>\n",
       "      <th>40</th>\n",
       "      <td>The Antiquary 12 year old, 40%</td>\n",
       "      <td>Blended Scotch</td>\n",
       "      <td>84</td>\n",
       "      <td>27.0</td>\n",
       "      <td>40.0</td>\n",
       "      <td>Thick, viscous golden syrup, digestive biscuits, and Almond Joy bars underpin some soft, peaty aromas. It’s rather an appealing combination. Satin smooth on the tongue, with lemon, lime, orange, and dried pineapple, but enough malt to keep things interesting. The finish riffs on a ripe lemon theme accompanied by spicy stardust. For the few extra bucks, the more mature component whiskies make for a richer, fuller, and more satisfying experience than The Antiquary’s red-labeled bottle.</td>\n",
       "    </tr>\n",
       "    <tr>\n",
       "      <th>41</th>\n",
       "      <td>Lombard Gold Label, 40%</td>\n",
       "      <td>Blended Scotch</td>\n",
       "      <td>84</td>\n",
       "      <td>17.0</td>\n",
       "      <td>40.0</td>\n",
       "      <td>Good weight to this blend. Creamy and mouth-coating on the palate, with a nice malty, honey-tinged backbone. Bright fruitabounds, with golden raisin, lemon meringue, peach, and a hint of pineapple. Notes of creamy vanilla and gently nutty, through to its soft finish. \\r\\n</td>\n",
       "    </tr>\n",
       "    <tr>\n",
       "      <th>42</th>\n",
       "      <td>Master of Malt Secret Bottlings Series 8 year old, 40%</td>\n",
       "      <td>Blended Scotch</td>\n",
       "      <td>84</td>\n",
       "      <td>35.0</td>\n",
       "      <td>40.0</td>\n",
       "      <td>Master of Malt has accumulated quite a trophy cabinet for their work on blends. The nose is inviting, with butter toffee, Bramley apples, fennel seeds, cut lawns, and chocolate-covered oat biscuits. It’s a pretty smooth proposition, serving up caramel maltiness, stewed apple, and orange and grapefruit pith, with just a hint of sharp lemon freshness to open up with. The ginger finish is zappy but short. A solid, everyday blend.</td>\n",
       "    </tr>\n",
       "    <tr>\n",
       "      <th>43</th>\n",
       "      <td>Grant’s Signature, 40%</td>\n",
       "      <td>Blended Scotch</td>\n",
       "      <td>84</td>\n",
       "      <td>29.0</td>\n",
       "      <td>40.0</td>\n",
       "      <td>Brian Kinsman’s new creation was inspired by their founder William Grant, with a remit to create a malty blend of character. Digestive biscuits, malt, honeycomb, and confectioner’s chocolate melted over a bain-marie. It’s a satisfyingly rich dram, well-structured with a great mouthfeel that wanes with natural dilution. Banoffee pie, caramel biscuits, and maltiness deepen to flavors of coffee bean and molasses, leaving a teeth-coating finish of black coffee. (UK and France only) £18</td>\n",
       "    </tr>\n",
       "    <tr>\n",
       "      <th>44</th>\n",
       "      <td>Sir Edward’s 12 year old Blended Whisky, 40%</td>\n",
       "      <td>Blended Scotch</td>\n",
       "      <td>84</td>\n",
       "      <td>22.0</td>\n",
       "      <td>40.0</td>\n",
       "      <td>A very different whisky to its unaged namesake, and most unlike any of the other blends tasted for this issue. That’s no bad thing.\\r\\nThis is less sweet than most blends, with tobacco leaf and ashtray to the fore, and a dusty, grainy note with a touch of oak, grape skin, and sweet heather. That said, not a lot of evidence of the 12 years in cask.</td>\n",
       "    </tr>\n",
       "    <tr>\n",
       "      <th>45</th>\n",
       "      <td>Label 5 Gold Heritage, 40%</td>\n",
       "      <td>Blended Scotch</td>\n",
       "      <td>84</td>\n",
       "      <td>45.0</td>\n",
       "      <td>40.0</td>\n",
       "      <td>Master blender Graham Coull hand-selected a variety of aged stock and cask types for this new global addition to the Label 5 range. Vanilla, dark fruit, and gentle spices on the nose, but the appeal lies in the beautiful, clingy mouthfeel. Warm marmalade, nuts, and oak flavors with whispers of cinnamon and clove combine to produce a creamy, smooth dram. It builds and builds but never feels like it fully arrives. The finish is drying with dampened-down spices. €40</td>\n",
       "    </tr>\n",
       "    <tr>\n",
       "      <th>46</th>\n",
       "      <td>Glen Turner Heritage Double Wood, 40%</td>\n",
       "      <td>Blended Scotch</td>\n",
       "      <td>84</td>\n",
       "      <td>20.0</td>\n",
       "      <td>40.0</td>\n",
       "      <td>It’s Double Wood, Jim, but not as we know it. Here, the blend has been given a Madeira finish, presenting an appealing nose of spun sugar, golden raisins, cinnamon, nutmeg, and hazelnut. The blend has a creamy texture, with good weight to carry the flavors of orange peel, mango, and dried pineapple, leading to a zesty spark on swallowing. Wood spices, nuttiness, and lingering toffee make for a satisfying finish. The extra Madeira maturation is understated and perfectly judged.</td>\n",
       "    </tr>\n",
       "    <tr>\n",
       "      <th>47</th>\n",
       "      <td>Jamie Stewart, 40%</td>\n",
       "      <td>Blended Scotch</td>\n",
       "      <td>84</td>\n",
       "      <td>16.0</td>\n",
       "      <td>40.0</td>\n",
       "      <td>With whiskies aged for 5 years in bourbon barrels, this has a pleasant nose of dark toffee, vanilla, toasted whole grain bread, and light spices. The mouthfeel is a bit flabby; chocolate and toasted spices, especially cinnamon and pepper, are quelled by malty caramel, baked orange, and touches of old leather. The finish is dry, malty, and slightly nutty, with a hollow core of spices. A bit dour overall.</td>\n",
       "    </tr>\n",
       "    <tr>\n",
       "      <th>48</th>\n",
       "      <td>John Barr Reserve, 40%</td>\n",
       "      <td>Blended Scotch</td>\n",
       "      <td>84</td>\n",
       "      <td>25.0</td>\n",
       "      <td>40.0</td>\n",
       "      <td>This blend has been a Whyte and MacKay whisky for 25 years. The nose has spice, toffee, wheat biscuits, and smoke, but the combination feels a little benign. The palate is jammy, lightweight, and middle-of-the-road. With a backbone of grain, there are flavors of graham cracker, chocolate ganache, well-baked fruitcake, banoffee pie, smoke, and dried peels, with a burst of spices on the finish.</td>\n",
       "    </tr>\n",
       "    <tr>\n",
       "      <th>49</th>\n",
       "      <td>The Famous Jubilee, 40%</td>\n",
       "      <td>Blended Scotch</td>\n",
       "      <td>83</td>\n",
       "      <td>39.0</td>\n",
       "      <td>40.0</td>\n",
       "      <td>A tribute this time from Edrington Group in the form of this one-off blend of The Famous Grouse. The sherried element seems to have been upped as it shows lavish amounts of dark chocolate, black cherry, and a little treacle, with some orange peel and, with water, raspberry and heather.  The palate shows a hint of smoke and builds through rich flavors to a toffee-accented finish. Subtle and long. £25</td>\n",
       "    </tr>\n",
       "    <tr>\n",
       "      <th>50</th>\n",
       "      <td>Black Bottle, 40%</td>\n",
       "      <td>Blended Scotch</td>\n",
       "      <td>83</td>\n",
       "      <td>25.0</td>\n",
       "      <td>40.0</td>\n",
       "      <td>In terms of bang for your buck this has always been one of the very best blends, punching well above its weight. Whether you feel the same about this revamped version depends on how much you want a peat punch. Previously rough and gutsy, this is softer, with more licorice and treacle but also more younger sappiness. Smoke has the last say but it's like an aging sportsman, replacing energy and attitude with guile and subtlety.</td>\n",
       "    </tr>\n",
       "    <tr>\n",
       "      <th>51</th>\n",
       "      <td>The Antiquary, 12 year old, 40%</td>\n",
       "      <td>Blended Scotch</td>\n",
       "      <td>83</td>\n",
       "      <td>30.0</td>\n",
       "      <td>40.0</td>\n",
       "      <td>Floral aroma with a lively array of orchard fruit and citrus.  Underlying notes of soft honey and vanilla.  Good malt foundation for a blend.  An elegant and breezy \"anytime\" dram.\\r\\n</td>\n",
       "    </tr>\n",
       "    <tr>\n",
       "      <th>52</th>\n",
       "      <td>The Black Grouse Alpha, 40%</td>\n",
       "      <td>Blended Scotch</td>\n",
       "      <td>83</td>\n",
       "      <td>45.0</td>\n",
       "      <td>40.0</td>\n",
       "      <td>The Famous Grouse has been extended in various directions with varying degrees of success but for my money, this is the best and most logical. This is the version where the smoky, oily, spicy, and peaty notes of the original blend are brought more to the fore, but this works because married to it are grape and melon notes that ensure the Grouse lands softly.</td>\n",
       "    </tr>\n",
       "    <tr>\n",
       "      <th>53</th>\n",
       "      <td>Grant's Voyager, 40%</td>\n",
       "      <td>Blended Scotch</td>\n",
       "      <td>83</td>\n",
       "      <td>32.0</td>\n",
       "      <td>40.0</td>\n",
       "      <td>Molten blossom honey, almond milk puddings, and Parma violets interlaced with a fine, drifting chimney smoke compose the nose of this new blend from William Grant &amp; Sons. Smooth, burnished orange and honey cough drops initially, then the flavor develops through more pronounced citrus and gentle spices to achieve a sweeter climax. The grain is quite evident in the harmony of the blend. The finish is long, more beeswax than honey, the sweetness finally depleted. (Travel Retail only) £20</td>\n",
       "    </tr>\n",
       "    <tr>\n",
       "      <th>54</th>\n",
       "      <td>Grand Macnish Six Cask Edition, 40%</td>\n",
       "      <td>Blended Scotch</td>\n",
       "      <td>83</td>\n",
       "      <td>37.0</td>\n",
       "      <td>40.0</td>\n",
       "      <td>Playing on regional styles, this blends six single malts representative of the Speyside, Islay, Lowland, Campbeltown, Islands, and Highland whisky regions. Sun-dried peats greet the nose with aromas of stewed apples, flaky pastries, apricot conserve, vanilla, and cinnamon. Creamy vanilla and coconut flavors develop, with a slow-burn spiciness crackling in the center of the tongue. Seville orange and caramel cookie flavors escort a long finish of dry, tingling spices, though it could use a little more heft in the mouthfeel.</td>\n",
       "    </tr>\n",
       "    <tr>\n",
       "      <th>55</th>\n",
       "      <td>Lord Elcho 15 year old, 40%</td>\n",
       "      <td>Blended Scotch</td>\n",
       "      <td>83</td>\n",
       "      <td>44.0</td>\n",
       "      <td>40.0</td>\n",
       "      <td>The eldest son of the 5th earl of Wemyss, Lord Elcho was supportive to the Young Pretender. Proportionally, more sherry at play here. Plum skin, chunky raisins, blackcurrant, and fainter sweetened cocoa and coffee bean notes. The palate is a little hollow at first, then proffers barley sugar, rich shortbread, baked apple, linseed, and toffee, though the flavor development plateaus. Water picks out sweet clementine notes. Given the choice of expressions, I prefer the vibrancy of the Young(er) Pretender. £26</td>\n",
       "    </tr>\n",
       "    <tr>\n",
       "      <th>56</th>\n",
       "      <td>Johnnie Walker Blenders’ Batch No. 1 Red Rye Finish, 40%</td>\n",
       "      <td>Blended Scotch</td>\n",
       "      <td>82</td>\n",
       "      <td>22.0</td>\n",
       "      <td>40.0</td>\n",
       "      <td>America, Walker wants your cocktails. Emma Walker that is, the blender whose signature adorns the first of these experimental expressions. Toffee Speyside nose, digestive biscuits, cinnamon, cool mint, and a pronounced grain note from Port Dundas. Orange, lime peel, lovely caramel richness, and creamy toffee through dilution. The brand’s second consecutive rye cask finish: you noticed too? Up against its sibling, JW Select Rye Cask, there are certain similarities, but this is fruitier, less intricate, and less rich and spicy.</td>\n",
       "    </tr>\n",
       "    <tr>\n",
       "      <th>57</th>\n",
       "      <td>Wemyss Vintage Malts 'The Peat Chimney,' 8 year old, 40%</td>\n",
       "      <td>Blended Scotch</td>\n",
       "      <td>82</td>\n",
       "      <td>40.0</td>\n",
       "      <td>40.0</td>\n",
       "      <td>Aggressive earthy smoke, tar, fiery pepper, bath soap, and ginger tamed by toffee and ripe malt. Lingering smoldering peat, anise, and tobacco. For those who like smoky whiskies young, aggressive, and unabashed.\\r\\n</td>\n",
       "    </tr>\n",
       "    <tr>\n",
       "      <th>58</th>\n",
       "      <td>Wemyss Vintage Malts 'The Spice King,' 8 year old, 40%</td>\n",
       "      <td>Blended Scotch</td>\n",
       "      <td>82</td>\n",
       "      <td>40.0</td>\n",
       "      <td>40.0</td>\n",
       "      <td>Nectarine, tangerine, toffee, and vanilla on the nose. There’s also teasing smoke, if you look for it. The sweet fruity notes start at the beginning of the palate, then cinnamon, nutmeg, cut hay, and smoke kick in. Lingering cracked pepper, clove, and distant smoke. Good gritty texture. Dynamic stuff for a young whisky.\\r\\n</td>\n",
       "    </tr>\n",
       "    <tr>\n",
       "      <th>59</th>\n",
       "      <td>Shieldaig Classic, 40%</td>\n",
       "      <td>Blended Scotch</td>\n",
       "      <td>82</td>\n",
       "      <td>18.0</td>\n",
       "      <td>40.0</td>\n",
       "      <td>In blended whisky terms, this isn’t for the faint-hearted, and joins a number of recent releases prepared to show off its\\r\\ndarker, grittier side. It’s a big flavored blend, with its heart in the islands, and with oily coastal notes reminiscent of a delicatessen: brine, salty cheese, some crab apple relish, and smoked fish. It’s a rugged bruiser, but it makes its mark with some style.</td>\n",
       "    </tr>\n",
       "    <tr>\n",
       "      <th>60</th>\n",
       "      <td>Monarch of The Glen 8 year old, 40%</td>\n",
       "      <td>Blended Scotch</td>\n",
       "      <td>82</td>\n",
       "      <td>15.0</td>\n",
       "      <td>40.0</td>\n",
       "      <td>Standard blends fall into two categories: those that will behave nicely when mixed to offer almost non-whisky experience, and those that are feistier and want to make sure you know they’re there. This is the former, and with whiskies like this one, it’s possible to blink and miss it. That doesn’t make it bad; just indistinctive and unexceptional. There is little sign of the wood here, but the delicate, sweet apricot notes just do enough.</td>\n",
       "    </tr>\n",
       "    <tr>\n",
       "      <th>61</th>\n",
       "      <td>Grand Macnish Sherry Cask 15 year old, 40%</td>\n",
       "      <td>Blended Scotch</td>\n",
       "      <td>82</td>\n",
       "      <td>35.0</td>\n",
       "      <td>40.0</td>\n",
       "      <td>Naming your blend “Sherry Cask” retains an air of ambiguity to it. Theoretically, it could be the maturation or finishing vessel for all or some of the constituents. The whisky is light-bodied and the sweet sherry is evident, though a nip of bitterness interrupts. Smoother on the palate than the 12 year old, there’s strawberry, raspberry, and background spice, with a blackberry note late in the finish. Overall, there’s less flavor development, but it’s an old-school kind of blend.</td>\n",
       "    </tr>\n",
       "    <tr>\n",
       "      <th>62</th>\n",
       "      <td>The Fat Trout, 40%</td>\n",
       "      <td>Blended Scotch</td>\n",
       "      <td>82</td>\n",
       "      <td>25.0</td>\n",
       "      <td>40.0</td>\n",
       "      <td>Delicate nose of sherbet and melting heather honey layered over pleasant grassy and herbal notes. The texture is sweet, thin, and syrupy, with a slight vegetal note, before salted caramel reels it in, brimming over into a briny finish like a salty kiss. The grain clearly plays a major role. Truth be told, the aromas and flavors work well, but the lack of weight makes it feel like a tiddler rather than catch of the day. (Selected U.S. states, NZ, Switzerland).</td>\n",
       "    </tr>\n",
       "    <tr>\n",
       "      <th>63</th>\n",
       "      <td>Label 5 Classic Black, 40%</td>\n",
       "      <td>Blended Scotch</td>\n",
       "      <td>82</td>\n",
       "      <td>17.0</td>\n",
       "      <td>40.0</td>\n",
       "      <td>This is the foundation stone of the whole Label 5 range and it’s a solid, reputable blend that works neat, with a rock of ice, or in cocktails. The digestive biscuits, dark walnut toffee, and fruit salad aromas concede to a rather inauspicious palate of burnt orange, malt biscuits, charred oak, and ground ginger. It’s lively through to its malt and spice conclusion.</td>\n",
       "    </tr>\n",
       "    <tr>\n",
       "      <th>64</th>\n",
       "      <td>Ballantine’s Finest, 40%</td>\n",
       "      <td>Blended Scotch</td>\n",
       "      <td>81</td>\n",
       "      <td>21.0</td>\n",
       "      <td>40.0</td>\n",
       "      <td>A pleasant nose of light caramel, dried orange rind, butterscotch, sweet grain, and a lick of bonfire smoke, yet it’s like the volume has been dialed down to three. Delicate, to the point of shyness. Sweet barley, concentrated orange, a low rumble of spice, and the grain sings through. Accessible, well structured, and light-textured, leading to a finish of brown sugar around the gums, although it has a stronger grain character than many in its price range.</td>\n",
       "    </tr>\n",
       "    <tr>\n",
       "      <th>65</th>\n",
       "      <td>Sir Edward’s Blended Whisky, 40%</td>\n",
       "      <td>Blended Scotch</td>\n",
       "      <td>81</td>\n",
       "      <td>14.0</td>\n",
       "      <td>40.0</td>\n",
       "      <td>From the perfumed nose to the sweet and short finish, this blend doesn’t really put a foot wrong, but it’s shy and unadventurous.\\r\\nClearly well made, well balanced, and quite acceptable, it has a perfumed black currant sherbet nose, some slight but enjoyable blueberry, grape, and prune notes and a soft sweet conclusion. On its own, all fine: but it gets lost when in company.</td>\n",
       "    </tr>\n",
       "    <tr>\n",
       "      <th>66</th>\n",
       "      <td>Monarch of the Glen, 40%</td>\n",
       "      <td>Blended Scotch</td>\n",
       "      <td>81</td>\n",
       "      <td>12.0</td>\n",
       "      <td>40.0</td>\n",
       "      <td>Aromas of liquid honey, light toffee, dried apple, and satsuma peel. There is an initial citric attack, but when the flare dies down, a residual bitterness cuts through the underlying creaminess and caramel. Sure, its component whiskies lack substance and grip, but there is some flavor progression through to an enjoyable piquancy around the gums. The finish is a nippy buzz of peel and heather honey. Simple, uncomplicated, but for the price there’s plenty to like here.</td>\n",
       "    </tr>\n",
       "    <tr>\n",
       "      <th>67</th>\n",
       "      <td>The Antiquary, 40%</td>\n",
       "      <td>Blended Scotch</td>\n",
       "      <td>80</td>\n",
       "      <td>20.0</td>\n",
       "      <td>40.0</td>\n",
       "      <td>This venerable blend has a nose of mandarin syrup cake, vanilla cream, and cut hay, with chopped cilantro and other herbal top notes. Sweet and fruity, though verging on tasting of artificial sweeteners at times, there are malt notes and a developing butteriness, with sweet mandarin notes and sponge cake. It all hangs on a light structure but it’s less smooth on the finish, with a scratch of wood smoke.</td>\n",
       "    </tr>\n",
       "    <tr>\n",
       "      <th>68</th>\n",
       "      <td>Cutty Sark Blended Malt, 40%</td>\n",
       "      <td>Blended Scotch</td>\n",
       "      <td>80</td>\n",
       "      <td>30.0</td>\n",
       "      <td>40.0</td>\n",
       "      <td>Remarkably light and drinkable for an all-malt product. Malty foundation with citrus (lemon zest, tangerine sherbet) shining through, along with vanilla wafer, white chocolate, coconut, ginger, and cut grass. A worthy “bridge whisky” for blended whisky drinkers curious about malt whisky, but single malt whisky drinkers might want more individuality. A whisky for a warm, lazy afternoon.\\r\\n</td>\n",
       "    </tr>\n",
       "    <tr>\n",
       "      <th>69</th>\n",
       "      <td>MacQueen’s 3 year old, 40%</td>\n",
       "      <td>Blended Scotch</td>\n",
       "      <td>80</td>\n",
       "      <td>13.0</td>\n",
       "      <td>40.0</td>\n",
       "      <td>MacQueen’s has an impressive range of age statement blends, but this is the youngest one. Faint caramel and toast, a mild rub of whole spice, and snuff tobacco. The mouthfeel is meager and lacks any real punch; there is spice and fudge, but little sweetness. More caramel flavors develop alongside chocolate notes before a dry, quick finish. There are better options around, even at this price.</td>\n",
       "    </tr>\n",
       "    <tr>\n",
       "      <th>70</th>\n",
       "      <td>Wemyss Vintage Malts 'The Smooth Gentleman,' 8 year old, 40%</td>\n",
       "      <td>Blended Scotch</td>\n",
       "      <td>79</td>\n",
       "      <td>40.0</td>\n",
       "      <td>40.0</td>\n",
       "      <td>Indeed smooth, and malty, with vanilla, shortbread, golden raisin, and macadamia nuts. Light oak spice emerges on a fairly quick finish. (It is only 8 years old, after all.) Pleasant and easy-going.\\r\\n</td>\n",
       "    </tr>\n",
       "    <tr>\n",
       "      <th>71</th>\n",
       "      <td>Islay Mist, 8 year old, 40%</td>\n",
       "      <td>Blended Scotch</td>\n",
       "      <td>79</td>\n",
       "      <td>24.0</td>\n",
       "      <td>40.0</td>\n",
       "      <td>The nice thing about Islay whiskies is that they often show their true nature better at a younger age. Malty sweet and incredibly herbal (almost gin-like), with emerging tar, smoked seaweed, and olive. Medicinal in nature, with lingering tar and brine on the finish. Fairly straight-forward (what do you expect for 8 years old?) but a pretty decent showing for a whisky this young.</td>\n",
       "    </tr>\n",
       "    <tr>\n",
       "      <th>72</th>\n",
       "      <td>High Commissioner, 40%</td>\n",
       "      <td>Blended Scotch</td>\n",
       "      <td>79</td>\n",
       "      <td>15.0</td>\n",
       "      <td>40.0</td>\n",
       "      <td>You’re familiar with those generic blended Scotch whiskies of debatable origin with an inoffensive flavor profile, right? This isn’t one of those. With aromas of the fruit and foliage of an orange grove, beeswax, and a grassy note, this is a juicy, citrus-led dram that puffs out in the mouth, bringing a tingle of light pepper, ginger, and thick fudge. Despite the thinner mouthfeel, the baked orange and bitter Seville orange on the finish give it some bite. Perfectly serviceable.</td>\n",
       "    </tr>\n",
       "    <tr>\n",
       "      <th>73</th>\n",
       "      <td>Ron Burgundy “Great Odin’s Raven” Special Reserve, 40%</td>\n",
       "      <td>Blended Scotch</td>\n",
       "      <td>78</td>\n",
       "      <td>25.0</td>\n",
       "      <td>40.0</td>\n",
       "      <td>What does this say about how far whisky has come? We live in an era where you can now buy the official whisky from a major motion picture. This has a deep amber color. Really deep. The nose brings warm muffins, caramel, and grassy notes with a good dose of smoke. It’s a sweet concoction with a peppery kick. There’s a tinge of polypropylene before a short, clipped, spicy finish. It just needs to find more of its own identity.</td>\n",
       "    </tr>\n",
       "    <tr>\n",
       "      <th>74</th>\n",
       "      <td>Highland Queen, 40%</td>\n",
       "      <td>Blended Scotch</td>\n",
       "      <td>78</td>\n",
       "      <td>20.0</td>\n",
       "      <td>40.0</td>\n",
       "      <td>The range begins with this entry-level whisky, aged for 3 years. Aromas of pale toffee, vanilla, and scented, herbaceous notes can be found on the nose. It has a light, silky texture and comprises flavors of stewed fruits, with a slight bitterness behind them. Plum and coffee notes expand, though it remains tart through to the buzzy finish, which is lifted by hints of chocolate. A robust and pugnacious dram.</td>\n",
       "    </tr>\n",
       "    <tr>\n",
       "      <th>75</th>\n",
       "      <td>MacNaMara Rum Cask Finish, 40%</td>\n",
       "      <td>Blended Scotch</td>\n",
       "      <td>78</td>\n",
       "      <td>37.0</td>\n",
       "      <td>40.0</td>\n",
       "      <td>Meaning “son of the sea,” this MacNaMara has a lilting sweetness that lifts from the glass, the characteristic orange-peel oil note is present, but less assertive. Nectarine, Murray mints, and antique shop mustiness, but a lot less aromatic than many of its contemporaries. Flavors of sweet melon, golden honey, and tangy orange take off in the mouth, with tastes of white pepper, fennel, and ground ginger in hot pursuit. Pepperiness penetrates an otherwise juicy finish.</td>\n",
       "    </tr>\n",
       "    <tr>\n",
       "      <th>76</th>\n",
       "      <td>Grand Macnish 150th Anniversary Edition, 40%</td>\n",
       "      <td>Blended Scotch</td>\n",
       "      <td>77</td>\n",
       "      <td>18.0</td>\n",
       "      <td>40.0</td>\n",
       "      <td>Robert McNish conceived his recipe for a lighter style of Highland whisky in Glasgow in 1863 (though the brand added an ‘a’ to his surname for easier pronunciation). Whole orange, ground hazelnut, and ground ginger on the nose, though it keeps pretty tight-lipped. Light and sweet in the mouth, with mandarin and more pronounced ginger mid-palate before a medium-length finish of bubblegum and gooseberry. It just seems a little uninspiring given the special occasion.</td>\n",
       "    </tr>\n",
       "    <tr>\n",
       "      <th>77</th>\n",
       "      <td>Clansman, 40%</td>\n",
       "      <td>Blended Scotch</td>\n",
       "      <td>77</td>\n",
       "      <td>14.0</td>\n",
       "      <td>40.0</td>\n",
       "      <td>This Highland blend has a nose of lemon peel, tangerine, and pine-scented kitchen surfaces. The whisky is young, with a sweet mandarin dressing over the grain character, barley sugars, and a gentle rumble of spice. What it lacks at this age is mouthfeel, structure, and wood influence. The finish continues the sugared orange theme, with spice and ground pepper fading to soor plooms. For what can be expected at this age, the Clansman does its job well.</td>\n",
       "    </tr>\n",
       "    <tr>\n",
       "      <th>78</th>\n",
       "      <td>MacNaMara Blended, 40%</td>\n",
       "      <td>Blended Scotch</td>\n",
       "      <td>76</td>\n",
       "      <td>35.0</td>\n",
       "      <td>40.0</td>\n",
       "      <td>This amber-colored blend from the Gaelic Whisky Company has sweet barley notes and gentle spice aromas. The caramels prop up the dominant flavor of cold-pressed orange oil squeezed from the peel. A crescendo of peppery spice marks the late phase and distinguishes the swallow, before a finish of tangy citrus peel with a touch of clove. Perfectly straightforward blend but limited in scope, like a linear dot-to-dot connecting barley, orange peel, and spice.</td>\n",
       "    </tr>\n",
       "  </tbody>\n",
       "</table>\n",
       "</div>"
      ],
      "text/plain": [
       "                                                                  name  \\\n",
       "0   Johnnie Walker Double Black, 40%                                     \n",
       "1   Dewar’s 15 year old The Monarch, 40%                                 \n",
       "2   Shackleton, 40%                                                      \n",
       "3   Johnnie Walker Blenders’ Batch Sherry Cask Finish 12 year old, 40%   \n",
       "4   Dewar’s 12 year old The Ancestor, 40%                                \n",
       "5   Cutty Sark Storm, 40%                                                \n",
       "6   The Naked Grouse, 40%                                                \n",
       "7   Johnnie Walker The Spice Road, 40%                                   \n",
       "8   Johnnie Walker Black Label 12 year old, 40%                          \n",
       "9   Black Grouse Alpha Edition, 40%                                      \n",
       "10  Ballantine's Christmas Reserve 2011, 40%                             \n",
       "11  Te Bheag Blended Whisky, 40%                                         \n",
       "12  Duncan Taylor 12 year old, 40%                                       \n",
       "13  J. Mossman Gold Crown 12 year old, 40%                               \n",
       "14  Johnnie Walker Blenders’ Batch Wine Cask, 40%,                       \n",
       "15  Anchor Bay, 40%                                                      \n",
       "16  Old Masters Freemason Whisky, 40%                                    \n",
       "17  Grand Macnish Black Edition, 40%                                     \n",
       "18  Lord Elcho, 40%                                                      \n",
       "19  The Famous Grouse Malt Whisky, 12 year old, 40%                      \n",
       "20  Chivas Regal 12 year old, 40%                                        \n",
       "21  Islay Mist, 12 year old, 40%                                         \n",
       "22  The Black Grouse, 40%                                                \n",
       "23  Ballantine’s 12 year old, 40%                                        \n",
       "24  Grand Macnish 12 year old, 40%                                       \n",
       "25  Label 5 Extra Premium 12 year old, 40%                               \n",
       "26  Copper Dog, 40%                                                      \n",
       "27  The Famous Grouse Malt Whisky, 10 year old, 40%                      \n",
       "28  Famous Grouse Mellow Gold, 40%                                       \n",
       "29  Chivas Regal Extra, 40%,                                             \n",
       "30  Dewar’s White Label Scratched Cask, 40%                              \n",
       "31   Dewar’s White Label, 40%                                            \n",
       "32  Shieldaig 12 year old, 40%                                           \n",
       "33  James Brookes Blended Whisky, 40%                                    \n",
       "34  Sir Edward’s Smoky, 40%                                              \n",
       "35  Duncan Taylor Five Star, 40%                                         \n",
       "36  Buchanan’s Deluxe 12 year old, 40%                                   \n",
       "37  Buchanan’s Master, 40%                                               \n",
       "38  J&B Rare, 40%                                                        \n",
       "39  Johnnie Walker Red Label, 40%                                        \n",
       "40  The Antiquary 12 year old, 40%                                       \n",
       "41  Lombard Gold Label, 40%                                              \n",
       "42  Master of Malt Secret Bottlings Series 8 year old, 40%               \n",
       "43  Grant’s Signature, 40%                                               \n",
       "44  Sir Edward’s 12 year old Blended Whisky, 40%                         \n",
       "45  Label 5 Gold Heritage, 40%                                           \n",
       "46  Glen Turner Heritage Double Wood, 40%                                \n",
       "47  Jamie Stewart, 40%                                                   \n",
       "48  John Barr Reserve, 40%                                               \n",
       "49  The Famous Jubilee, 40%                                              \n",
       "50  Black Bottle, 40%                                                    \n",
       "51  The Antiquary, 12 year old, 40%                                      \n",
       "52  The Black Grouse Alpha, 40%                                          \n",
       "53  Grant's Voyager, 40%                                                 \n",
       "54  Grand Macnish Six Cask Edition, 40%                                  \n",
       "55  Lord Elcho 15 year old, 40%                                          \n",
       "56  Johnnie Walker Blenders’ Batch No. 1 Red Rye Finish, 40%             \n",
       "57  Wemyss Vintage Malts 'The Peat Chimney,' 8 year old, 40%             \n",
       "58  Wemyss Vintage Malts 'The Spice King,' 8 year old, 40%               \n",
       "59  Shieldaig Classic, 40%                                               \n",
       "60  Monarch of The Glen 8 year old, 40%                                  \n",
       "61  Grand Macnish Sherry Cask 15 year old, 40%                           \n",
       "62  The Fat Trout, 40%                                                   \n",
       "63  Label 5 Classic Black, 40%                                           \n",
       "64  Ballantine’s Finest, 40%                                             \n",
       "65  Sir Edward’s Blended Whisky, 40%                                     \n",
       "66  Monarch of the Glen, 40%                                             \n",
       "67  The Antiquary, 40%                                                   \n",
       "68  Cutty Sark Blended Malt, 40%                                         \n",
       "69  MacQueen’s 3 year old, 40%                                           \n",
       "70  Wemyss Vintage Malts 'The Smooth Gentleman,' 8 year old, 40%         \n",
       "71  Islay Mist, 8 year old, 40%                                          \n",
       "72  High Commissioner, 40%                                               \n",
       "73  Ron Burgundy “Great Odin’s Raven” Special Reserve, 40%               \n",
       "74  Highland Queen, 40%                                                  \n",
       "75  MacNaMara Rum Cask Finish, 40%                                       \n",
       "76  Grand Macnish 150th Anniversary Edition, 40%                         \n",
       "77  Clansman, 40%                                                        \n",
       "78  MacNaMara Blended, 40%                                               \n",
       "\n",
       "          category  points  price   abv  \\\n",
       "0   Blended Scotch  90      40.0   40.0   \n",
       "1   Blended Scotch  90      50.0   40.0   \n",
       "2   Blended Scotch  90      35.0   40.0   \n",
       "3   Blended Scotch  89      44.0   40.0   \n",
       "4   Blended Scotch  89      33.0   40.0   \n",
       "5   Blended Scotch  89      31.0   40.0   \n",
       "6   Blended Scotch  89      35.0   40.0   \n",
       "7   Blended Scotch  88      43.0   40.0   \n",
       "8   Blended Scotch  88      30.0   40.0   \n",
       "9   Blended Scotch  88      41.0   40.0   \n",
       "10  Blended Scotch  88      37.0   40.0   \n",
       "11  Blended Scotch  88      40.0   40.0   \n",
       "12  Blended Scotch  88      25.0   40.0   \n",
       "13  Blended Scotch  88      43.0   40.0   \n",
       "14  Blended Scotch  87      30.0   40.0   \n",
       "15  Blended Scotch  87      48.0   40.0   \n",
       "16  Blended Scotch  87      30.0   40.0   \n",
       "17  Blended Scotch  87      30.0   40.0   \n",
       "18  Blended Scotch  87      43.0   40.0   \n",
       "19  Blended Scotch  86      35.0   40.0   \n",
       "20  Blended Scotch  86      25.0   40.0   \n",
       "21  Blended Scotch  86      50.0   40.0   \n",
       "22  Blended Scotch  86      29.0   40.0   \n",
       "23  Blended Scotch  86      38.0   40.0   \n",
       "24  Blended Scotch  86      25.0   40.0   \n",
       "25  Blended Scotch  86      25.0   40.0   \n",
       "26  Blended Scotch  86      32.0   40.0   \n",
       "27  Blended Scotch  85      30.0   40.0   \n",
       "28  Blended Scotch  85      33.0   40.0   \n",
       "29  Blended Scotch  85      40.0   40.0   \n",
       "30  Blended Scotch  85      26.0   40.0   \n",
       "31  Blended Scotch  85      25.0   40.0   \n",
       "32  Blended Scotch  85      31.0   40.0   \n",
       "33  Blended Scotch  85      18.0   40.0   \n",
       "34  Blended Scotch  85      22.0   40.0   \n",
       "35  Blended Scotch  85      17.0   40.0   \n",
       "36  Blended Scotch  85      30.0   40.0   \n",
       "37  Blended Scotch  85      45.0   40.0   \n",
       "38  Blended Scotch  85      23.0   40.0   \n",
       "39  Blended Scotch  84      25.0   40.0   \n",
       "40  Blended Scotch  84      27.0   40.0   \n",
       "41  Blended Scotch  84      17.0   40.0   \n",
       "42  Blended Scotch  84      35.0   40.0   \n",
       "43  Blended Scotch  84      29.0   40.0   \n",
       "44  Blended Scotch  84      22.0   40.0   \n",
       "45  Blended Scotch  84      45.0   40.0   \n",
       "46  Blended Scotch  84      20.0   40.0   \n",
       "47  Blended Scotch  84      16.0   40.0   \n",
       "48  Blended Scotch  84      25.0   40.0   \n",
       "49  Blended Scotch  83      39.0   40.0   \n",
       "50  Blended Scotch  83      25.0   40.0   \n",
       "51  Blended Scotch  83      30.0   40.0   \n",
       "52  Blended Scotch  83      45.0   40.0   \n",
       "53  Blended Scotch  83      32.0   40.0   \n",
       "54  Blended Scotch  83      37.0   40.0   \n",
       "55  Blended Scotch  83      44.0   40.0   \n",
       "56  Blended Scotch  82      22.0   40.0   \n",
       "57  Blended Scotch  82      40.0   40.0   \n",
       "58  Blended Scotch  82      40.0   40.0   \n",
       "59  Blended Scotch  82      18.0   40.0   \n",
       "60  Blended Scotch  82      15.0   40.0   \n",
       "61  Blended Scotch  82      35.0   40.0   \n",
       "62  Blended Scotch  82      25.0   40.0   \n",
       "63  Blended Scotch  82      17.0   40.0   \n",
       "64  Blended Scotch  81      21.0   40.0   \n",
       "65  Blended Scotch  81      14.0   40.0   \n",
       "66  Blended Scotch  81      12.0   40.0   \n",
       "67  Blended Scotch  80      20.0   40.0   \n",
       "68  Blended Scotch  80      30.0   40.0   \n",
       "69  Blended Scotch  80      13.0   40.0   \n",
       "70  Blended Scotch  79      40.0   40.0   \n",
       "71  Blended Scotch  79      24.0   40.0   \n",
       "72  Blended Scotch  79      15.0   40.0   \n",
       "73  Blended Scotch  78      25.0   40.0   \n",
       "74  Blended Scotch  78      20.0   40.0   \n",
       "75  Blended Scotch  78      37.0   40.0   \n",
       "76  Blended Scotch  77      18.0   40.0   \n",
       "77  Blended Scotch  77      14.0   40.0   \n",
       "78  Blended Scotch  76      35.0   40.0   \n",
       "\n",
       "                                                                                                                                                                                                                                                                                                                                                                                                                                                                                                                                                                                                                                                                                            description  \n",
       "0   So how brave can you be? Would you take one of the world's most iconic blends and risk messing with it? If you've got a whisky maker as good as Jim Beveridge, then why not? This picks up from the regular JW Black and its signature Caol Ila smoke and peat heart and then adds to it, doing exactly what it says on the tin. But the clever part of this is upping the apple, orange, and fruit content too. Great.                                                                                                                                                                                                                                                                              \n",
       "1   The divine stone fruit aromas are the key to unlocking the nose on this one: apricot, honey, vanilla icing, malt bins, Quaker Oats Squares, and lofty floral top notes. Sweet mandarin, brown sugar, vanilla fudge, strands of finely shredded peel, and more spice than the 12 year old can muster. The sweet vanilla aftertaste is softer and more elegant than the younger expressions.                                                                                                                                                                                                                                                                                                           \n",
       "2   One hundred ten years after the Nimrod expedition, blender Richard Paterson’s adventurous marriage of over 20 Highland malts brings fresh green fruits, manuka honey, vanilla, banana muffin, cantaloupe, fresh herbs, spice, and a wisp of smoke. Refreshing palate of green melon, light honey, vanilla, cinnamon, cooked apple, and gooseberry, becoming sour. More complexity on the finish: spice, smoke, cooked fruits, and chalky Sweethearts candies. Pair with mature prosciutto.                                                                                                                                                                                                           \n",
       "3   Blender Aimée Gibson’s experimental batch 7 is designed as a sherry finished Black Label. Beautifully smoky, with dried fruits, charred oak, wood spices, vanilla, cocoa, and bonfire smoke. Toffee flavors, with thick smoke, red fruits, orange, raisin, oak spice, gingerbread, marshmallow, strawberry jam, and dark marmalade. Dry finish with bitter peels, dark chocolate, and some feisty spices. In comparison, regular Black Label is silkier, more integrated, and more peppery. (Global Travel Retail only)                                                                                                                                                                              \n",
       "4   A straightforward proposition of honey, vanilla sponge cake, barley notes, hints of apple, fresh banana, melon, and bundles of dry straw. It’s a sweetheart: soft vanilla fudge, heather honey, banana-topped banoffee pie, fudge, vanilla sandwich cookies, barley sugar, and lemon peel, with hardly any spice in the early phase. The finish has a snag of pepper at the end, but this is gorgeously tasty, with smooth vanilla fudge all the way.                                                                                                                                                                                                                                                \n",
       "5   Cutty Sark master blender Kirsteen Campbell has hit the ground running and is playing a leading role in the revival of this iconic blend. Storm is a very different whisky than Tam o' Shanter. The nose is nuanced and light, with orange jelly and citrus juice; the palate is sophisticated, fruity, perfectly balanced, rounded, and gentle, with a high-percentage malt content evident in the mix. The finish is quite short but very more-ish. An amazing whisky for the price. £20 VALUE PICK                                                                                                                                                                                                \n",
       "6   This is the latest spinoff from core blend The Famous Grouse, so there’s Macallan and Highland Park in here, and from the taste of it, in sizeable quantities. With smart but minimalist packaging and an environmental theme, this is a very ‘now’ whisky. It’s heavily sherried, very rich, and sweet, but there’s enough spice to stop it becoming cloying, and it’s as soft as a down feather blanket on the palate. You can easily drink it straight, too.                                                                                                                                                                                                                                      \n",
       "7   Somebody at Diageo has been taking a lot of interest in the Johnnie Walker range of late, what with the revamp of the core range and now a regular stream of special releases. This is the first of a series for Travel Retail only, but it takes the Johnnie Walker themes — vanilla, spice, and honey, with wispy peat and smoke — and adds savory spice to the earthiness. But there are some very young notes in this.                                                                                                                                                                                                                                                                           \n",
       "8   Need you ask? An unmistakable classic and an exemplar of a blended Scotch whisky, famous around the world. Toffee, swirling caramel, whole almond, and mashed banana amid twisting white smoke. The palate has such poise, balance, and dexterity that it sets the standard for many less accomplished blends to aspire to. Conspicuously iconic, and the closest thing you will find to a complete whisky at this price.                                                                                                                                                                                                                                                                            \n",
       "9   Arguably the most successful of the Famous Grouse extensions (well, the competition includes Snow Grouse, for Pete's sake!), the Black Grouse brought ever-popular peat into the mix, a move that was followed by a peatier version of Johnnie Walker Black Label. The label says this is richer and peatier, and it is. But this scores most for a chicory/coffee and liquid licorice undercarpet that makes it very palatable indeed. Neat over ice. (Travel Retail exclusive)€33                                                                                                                                                                                                                  \n",
       "10  Master blender Sandy Hyslop has deliberately attempted to capture Christmas in the glass, and so it should come as no surprise to find a rich, full, and flavorsome whisky with sherry trifle, red berries, orange fruit, and mince pie filling in the mix. It's put together with grace and style, mixes well, and is that rare beast — a blend that can be enjoyed on its own.                                                                                                                                                                                                                                                                                                                     \n",
       "11  Pronounced “Te Veg,” this has its roots in the Isle of Skye, and as there’s only one distillery there it’s highly likely that the odd\\r\\ndrop of Talisker has found its way into the mix. Whether it has or not, this is stirring stuff, non-chill filtered so that the flavors burst forth. As you might expect, it’s rugged with brine and chili, giving it a distinctive spice edge. But the delivery is a caramel fudge delight, with luxury chocolate praline in there too.                                                                                                                                                                                                                     \n",
       "12  When in doubt, the answer to any question is usually ‘more whisky.’ Here, peat smoke takes an upper hand over the sweet aromas of juicy orange and pear. The whisky begins icing-sugar sweet, settles to bubble gum, pear, apple, and malt, showing its impeccably balanced, finely textured character replete with strands of oak spices, gentle smoke, baked pastry, and vanilla custard. You can’t go wrong at this price.                                                                                                                                                                                                                                                                        \n",
       "13  Aromas of oloroso sherry, strawberry, almond paste, clove, licorice Allsorts, black treacle, and smoke from burning haystacks. Honeyed palate with citrus elements, light lemon, green melon, pear, redcurrant, and pineapple, brightened by some well-rounded spices and root ginger. It glides into a mouthful of chocolate-coated digestive biscuits with a little smoke, then a finish of citrus oils, fruit skins, and active spices. Brilliant and satisfying.                                                                                                                                                                                                                                 \n",
       "14  Blender Aimée Gibson set out to make a sundowner scotch by incorporating whiskies matured in wine casks. The blueberry, blackcurrant, and fresh oak aromas continue on to the palate: fruit compote, raspberry, strawberry, and lingonberry with light spices. A late resurgence of dark toffee, chocolate, and cigar smoke blow into the finish. Sip away by all means, but this fruity sensation calls to be served up in long, cool drinks.                                                                                                                                                                                                                                                       \n",
       "15  Lombard’s blend of Speyside malts pleases with an agreeable nose of orchard blossoms, flower honey, caramel, dry hay, and pears baked in brown granulated sugar. It’s homey and comforting, favoring its floral and fruity side. This is a light, sweet whisky that sweeps around the mouth, radiating maltiness, apple, grapefruit, dried mango strips, and mingling spices. A studiously long finish of sucked caramel candy and beeswax follows. A smart choice for the beginning of the evening. £30                                                                                                                                                                                             \n",
       "16  Originally created by Lombard for the Freemasons, this has a flavorsome nose of dark chocolate chip cookies, light spices, coconut macaroons, malt, and bright, fresh bananas. The palate is light and unobtrusive, with honey and malt reinforced by the spices running underneath. A shift develops to some later cocoa and chocolate notes, and the mocha finish fades gracefully. A finely balanced concoction, and you will rarely find this quality and flavor for the price                                                                                                                                                                                                                   \n",
       "17  I am hopeful this blended whisky has benefited from the alligator char treatment to contribute to the deep, rich color and charred smoke notes on the nose. A thick, velvety mouthfeel, with butter toffee, toasted marshmallows going gooey on a stick, great spices, vanilla, whole nutmeg, chicory, and the crust of a well-fired fruit loaf leaving some sooty cinders on the finish. A mighty fireside companion and my favorite Grand Macnish to date.                                                                                                                                                                                                                                         \n",
       "18  Lord Elcho was an 18th century ancestor of William Wemyss, who fought on Bonnie Prince Charlie’s side at the Battle of Culloden in 1745. With a minimum of 40% malt, this fine blend has a rather perfumed nose of fresh mint, green apple, sliced melon, and tropical fruits. The soft candy sugar and butterscotch palate builds, with layers of malt, cherry laces, gingerbread, and pfeffernüsse leading to a ginger and spice finish of significant length. Highly accomplished. £26                                                                                                                                                                                                            \n",
       "19  Lovely balance on the nose and palate. Soft and gently textured, too. The sweetness of the whisky (honey, fruit gum drops, and malty vanilla), dovetail nicely with light, bright citrus and teasing dried spices. Heather/floral notes enhance the whisky’s complexity. Clean, delicately polished oak finish. A very versatile, inexpensive, easy-drinking whisky. \\r\\n                                                                                                                                                                                                                                                                                                                            \n",
       "20  The assured Scotch whisky that became one of the classic blends. Dry and sweet, with a nose of vanilla sponge, fresh cut flowers, and marzipan over a malty base. Pleasingly oily, with flavors of burning butter, malty toffee, and cake mix, with gentle spices and hints of chocolate appearing the longer you hold off swallowing. The glossy mouthfeel makes this feel like an everyday luxury. A finish of spent spices, cocoa, hazelnut, and a waft of smoke brings it home.                                                                                                                                                                                                                  \n",
       "21  More rounded, with greater depth when compared to the 8 year old offering. Not as medicinal and less sweet, more toffee and less honey, with more dried spice interwoven throughout. The herbs are still there, along with licorice root. Dry, burning-ember finish. Nicely balanced, which makes it my favorite of the three.\\r\\n                                                                                                                                                                                                                                                                                                                                                                   \n",
       "22  One might assume this to be just a smoky version of the standard Famous Grouse (with its honeyed malt, bright fruit, and floral demeanor). But, in addition to the enhanced smoke (which caringly adds a new dimension without smothering the other flavors), there also seems to be more malt body and oak spice in the mix, which I think takes Black Grouse to a higher level than Famous Grouse. The grain whisky contributes a “drinkability” component, making it a great introduction to smoky whiskies.                                                                                                                                                                                      \n",
       "23  Wow! A noticeable step up in quality than Ballantine’s Finest (see below) with a perceptibly higher malt content. After Eight mints, Rolo toffees, spring florals, clean and creamy, plus some wood combine to produce an appealing nose. One sip confirms that this is gorgeously honeyed, layered, thick, and creamy, with heather honey, sweet oak, and ripe fruits, especially orange and mango. The finish is short, drying, sweet, and the only weak spot in an otherwise decent composition.                                                                                                                                                                                                  \n",
       "24  With a bottle shape that makes you want to go bowling, this blend has admirable balance between the fruit and the smoke on the nose. The bonfire smoke is matched with aromas of tarte tartin, pecan nut, red apple, and sultana. Smooth and molten in the mouth, it has more weight and body than its older brother. There is citrus, apples, and the late arrival of baked spices, cookie dough, and mint chocolate on the finish.                                                                                                                                                                                                                                                                 \n",
       "25  This is bursting with barley, sweet oak, and all-butter shortbread. There are charcoal sticks too, which add a cool smoke note. The taste is like a warm hug on a cold morning; flavors of butter toffee, orange, poached pear, and ginger snaps, which combine to keep that deep smoke in balance. The harmony continues into the lengthy finish with flavors of citrus, melon, and ground ginger.                                                                                                                                                                                                                                                                                                  \n",
       "26  Named after the warehouseman’s preferred piece of pilfering paraphernalia, the 125 year old Craigellachie Hotel’s Copper Dog bar now boasts its own whisky. It’s an appealing blend of eight Speyside malts, with honey, warm toast, pecan nut, apple turnover, fudge fingers, and orange peel. Vanilla, orange pith, wood spice, caramel, and fresh apple develop into creamy nougat. Takes a while to come into focus, then concludes with a spicy finish.                                                                                                                                                                                                                                         \n",
       "27  For the past few years, Famous Grouse vintage vatted malt has been produced but not sold here in the U.S. They were in the 10-12 year old age range. This version being introduced to the U.S. is a non-vintage expression, and I don’t think it really matters. What matters is its taste. Major components of The Famous Grouse blended whiskies have included The Macallan and Highland Park, and there’s no doubt these malts are providing some of the richness and flavor complexity in this new expression. The whisky is quite hefty, with notes of juicy fruit, toffee, almonds, heather, and a wisp of vanilla and smoke. It is also very well balanced and quite a bargain for $30. \\r\\n  \n",
       "28  This has enticing flavors that will meet with the approval of the regular Grouse drinker: heady florals with fresh peach, light honey, pecan, and underlying caramel. The palate is soothing with vanilla and tangerine, hallmarks of Grouse, plus rosewater, almond, and whispering spices. Gently does it, that’s the key to this: kick back and relax. This showcases the Midas touch of Gordon Motion’s skills in liquid alchemy. A great value blend to boot. £22                                                                                                                                                                                                                               \n",
       "29  A new oloroso-forward Chivas positioned to split between the 12 and 18 year olds? I got this. Refined and inviting nose of lemon pith, black fruits, and Kola Kubes. The velvety texture is wonderfully smooth, redolent of an apricot custard Danish, lime zest, raisin, currant, mixed peel, and walnut, with a growing bitter-lemon note. Quite unique finish, like sucking on lumpy Spanish lemons speckled with spices. (LA, NY, Miami, Chicago, Northern California, but will go national)                                                                                                                                                                                                     \n",
       "30  What lies beneath the surface of Dewar’s? Here, the blend is finished in virgin and first-fill bourbon casks especially charred, then scratched to enable deeper penetration. Thick wedge of vanilla and fudge with oaky accents, a dusty mouthfeel pulling in vanilla, light lemon, milk chocolate, and sweet toffee, ending on a cocoa powder note. Compared with regular White Label, this is less obviously sweet and creamy, adds complexity, and opens a bourbon connection. Certainly, this is up to scratch.                                                                                                                                                                                 \n",
       "31  Honey, fudge, a little melon and white grape, dry roasted spices, and peppercorn, but noticeably less fruit than the age-statement varieties. The palate has pulpy white melon, lemon, lime, and some grapefruit acidity, before sweetening with honey. Quite tart at times, some peppery spice collaborates before the vanilla cream and green fruits take charge. A clean, juicy finish of lemon zest and mild spices coats the throat.                                                                                                                                                                                                                                                            \n",
       "32  This is a sharp dresser, with a firm, solid mouthfeel and an altogether finer and more focused taste than Shieldaig Classic (see\\r\\nbelow). It’s not coastal or earthy particularly, either. Instead the flavors are softer and built around mocha, smooth creamy toffee, and some soft fruit, including a touch of overripe banana and melon notes. The savoriness this time comes from a touch of pepper rather than salt.                                                                                                                                                                                                                                                                         \n",
       "33  This is like listening to a quiet and understated musician and slowly starting to realize that there are all sorts of clever\\r\\nnuances just beneath the surface. This evolves from a floral and welcoming nose, through a saline note and on to pepper and a Highland earthiness, but wrapped up in a rich, honeyed body. A nice balance between the ruggedness and sweet softness. All rather pleasant.                                                                                                                                                                                                                                                                                            \n",
       "34  This blend delivers just enough peat turf to live up to the name, without alienating the peat phobics. A pleasant nose of chocolate hazelnut, pecan nut, dried tropical fruits, and gentle wood and peat smoke.  Orange, toffee, banoffee pie, Kola Kubes, and a little spiciness. Plenty of flavor even if the mouthfeel is a little thin. A short finish with a spicy flare and a few lingering smoky embers. (Total Wine exclusive) Price per 1.75 liter                                                                                                                                                                                                                                          \n",
       "35  It begins innocently enough. Ripening strawberries, cotton candy, and fudge on the nose, but with an undertow of devil-may-care spiciness. Soft mandarin citrus, vanilla fudge, sponge cupcakes, and a decent wedge of malt form the core of the palate; the spice is disappointingly mild considering the potential of the first sniff. Sweet and syrupy finish. Still, solid enough to make your world better at the end of a hard day.                                                                                                                                                                                                                                                            \n",
       "36  Overlook the fact that this bottle is saddled with one of the most impenetrable closures known to mankind. Unperturbed, this blend flaunts its big toffee aromas, whole almond, and floral top notes. With light fudge and gentle orange influences, it is smooth and rounded, top loaded with spice and hazelnut at the front of the mouth. More grain character and roasted spices show through on the finish.                                                                                                                                                                                                                                                                                     \n",
       "37  This adheres to the rules laid down by blender Keith Law. The nose yields mint toffees, cereal notes, butterscotch, and whole peppercorn. Juicy orange, with elements of burnt orange, dark toffees, and a pleasant balance of sweetness form the palate, followed by a wave of peppery spices and late dashes of dates and sultana. The finish has more peppery spice and peppermint. Obey the Law.                                                                                                                                                                                                                                                                                                 \n",
       "38  Justerini & Brooks sold scotch in the U.S. before Prohibition. This light, Speyside-style blend has grassy notes, with crystalized lemon slices, Bramley apple peel, woodsmoke, and almonds. Light and sweet on the tongue, it unpacks lemon peel, satsuma, juicy watermelon, pepper, and aniseed. Grain whisky and herbal notes creep in late and permeate the finish.                                                                                                                                                                                                                                                                                                                              \n",
       "39  How does this long-established blend shape up on its own without a ginger or soda mixer? Fresh apple juice, a twist of lemon, dried orange peel, peppercorn, cracker bread, and a vegetal spicy note. It gets into its stride with delicious apple, gentle fudge, and good-tempered spices, with cracked black pepper and a little sourness to finish. Mild, agreeably smooth, without any bombast or hullabaloo; it just blends in.                                                                                                                                                                                                                                                                 \n",
       "40  Thick, viscous golden syrup, digestive biscuits, and Almond Joy bars underpin some soft, peaty aromas. It’s rather an appealing combination. Satin smooth on the tongue, with lemon, lime, orange, and dried pineapple, but enough malt to keep things interesting. The finish riffs on a ripe lemon theme accompanied by spicy stardust. For the few extra bucks, the more mature component whiskies make for a richer, fuller, and more satisfying experience than The Antiquary’s red-labeled bottle.                                                                                                                                                                                             \n",
       "41  Good weight to this blend. Creamy and mouth-coating on the palate, with a nice malty, honey-tinged backbone. Bright fruitabounds, with golden raisin, lemon meringue, peach, and a hint of pineapple. Notes of creamy vanilla and gently nutty, through to its soft finish. \\r\\n                                                                                                                                                                                                                                                                                                                                                                                                                     \n",
       "42  Master of Malt has accumulated quite a trophy cabinet for their work on blends. The nose is inviting, with butter toffee, Bramley apples, fennel seeds, cut lawns, and chocolate-covered oat biscuits. It’s a pretty smooth proposition, serving up caramel maltiness, stewed apple, and orange and grapefruit pith, with just a hint of sharp lemon freshness to open up with. The ginger finish is zappy but short. A solid, everyday blend.                                                                                                                                                                                                                                                       \n",
       "43  Brian Kinsman’s new creation was inspired by their founder William Grant, with a remit to create a malty blend of character. Digestive biscuits, malt, honeycomb, and confectioner’s chocolate melted over a bain-marie. It’s a satisfyingly rich dram, well-structured with a great mouthfeel that wanes with natural dilution. Banoffee pie, caramel biscuits, and maltiness deepen to flavors of coffee bean and molasses, leaving a teeth-coating finish of black coffee. (UK and France only) £18                                                                                                                                                                                               \n",
       "44  A very different whisky to its unaged namesake, and most unlike any of the other blends tasted for this issue. That’s no bad thing.\\r\\nThis is less sweet than most blends, with tobacco leaf and ashtray to the fore, and a dusty, grainy note with a touch of oak, grape skin, and sweet heather. That said, not a lot of evidence of the 12 years in cask.                                                                                                                                                                                                                                                                                                                                        \n",
       "45  Master blender Graham Coull hand-selected a variety of aged stock and cask types for this new global addition to the Label 5 range. Vanilla, dark fruit, and gentle spices on the nose, but the appeal lies in the beautiful, clingy mouthfeel. Warm marmalade, nuts, and oak flavors with whispers of cinnamon and clove combine to produce a creamy, smooth dram. It builds and builds but never feels like it fully arrives. The finish is drying with dampened-down spices. €40                                                                                                                                                                                                                  \n",
       "46  It’s Double Wood, Jim, but not as we know it. Here, the blend has been given a Madeira finish, presenting an appealing nose of spun sugar, golden raisins, cinnamon, nutmeg, and hazelnut. The blend has a creamy texture, with good weight to carry the flavors of orange peel, mango, and dried pineapple, leading to a zesty spark on swallowing. Wood spices, nuttiness, and lingering toffee make for a satisfying finish. The extra Madeira maturation is understated and perfectly judged.                                                                                                                                                                                                    \n",
       "47  With whiskies aged for 5 years in bourbon barrels, this has a pleasant nose of dark toffee, vanilla, toasted whole grain bread, and light spices. The mouthfeel is a bit flabby; chocolate and toasted spices, especially cinnamon and pepper, are quelled by malty caramel, baked orange, and touches of old leather. The finish is dry, malty, and slightly nutty, with a hollow core of spices. A bit dour overall.                                                                                                                                                                                                                                                                               \n",
       "48  This blend has been a Whyte and MacKay whisky for 25 years. The nose has spice, toffee, wheat biscuits, and smoke, but the combination feels a little benign. The palate is jammy, lightweight, and middle-of-the-road. With a backbone of grain, there are flavors of graham cracker, chocolate ganache, well-baked fruitcake, banoffee pie, smoke, and dried peels, with a burst of spices on the finish.                                                                                                                                                                                                                                                                                          \n",
       "49  A tribute this time from Edrington Group in the form of this one-off blend of The Famous Grouse. The sherried element seems to have been upped as it shows lavish amounts of dark chocolate, black cherry, and a little treacle, with some orange peel and, with water, raspberry and heather.  The palate shows a hint of smoke and builds through rich flavors to a toffee-accented finish. Subtle and long. £25                                                                                                                                                                                                                                                                                   \n",
       "50  In terms of bang for your buck this has always been one of the very best blends, punching well above its weight. Whether you feel the same about this revamped version depends on how much you want a peat punch. Previously rough and gutsy, this is softer, with more licorice and treacle but also more younger sappiness. Smoke has the last say but it's like an aging sportsman, replacing energy and attitude with guile and subtlety.                                                                                                                                                                                                                                                        \n",
       "51  Floral aroma with a lively array of orchard fruit and citrus.  Underlying notes of soft honey and vanilla.  Good malt foundation for a blend.  An elegant and breezy \"anytime\" dram.\\r\\n                                                                                                                                                                                                                                                                                                                                                                                                                                                                                                             \n",
       "52  The Famous Grouse has been extended in various directions with varying degrees of success but for my money, this is the best and most logical. This is the version where the smoky, oily, spicy, and peaty notes of the original blend are brought more to the fore, but this works because married to it are grape and melon notes that ensure the Grouse lands softly.                                                                                                                                                                                                                                                                                                                             \n",
       "53  Molten blossom honey, almond milk puddings, and Parma violets interlaced with a fine, drifting chimney smoke compose the nose of this new blend from William Grant & Sons. Smooth, burnished orange and honey cough drops initially, then the flavor develops through more pronounced citrus and gentle spices to achieve a sweeter climax. The grain is quite evident in the harmony of the blend. The finish is long, more beeswax than honey, the sweetness finally depleted. (Travel Retail only) £20                                                                                                                                                                                            \n",
       "54  Playing on regional styles, this blends six single malts representative of the Speyside, Islay, Lowland, Campbeltown, Islands, and Highland whisky regions. Sun-dried peats greet the nose with aromas of stewed apples, flaky pastries, apricot conserve, vanilla, and cinnamon. Creamy vanilla and coconut flavors develop, with a slow-burn spiciness crackling in the center of the tongue. Seville orange and caramel cookie flavors escort a long finish of dry, tingling spices, though it could use a little more heft in the mouthfeel.                                                                                                                                                     \n",
       "55  The eldest son of the 5th earl of Wemyss, Lord Elcho was supportive to the Young Pretender. Proportionally, more sherry at play here. Plum skin, chunky raisins, blackcurrant, and fainter sweetened cocoa and coffee bean notes. The palate is a little hollow at first, then proffers barley sugar, rich shortbread, baked apple, linseed, and toffee, though the flavor development plateaus. Water picks out sweet clementine notes. Given the choice of expressions, I prefer the vibrancy of the Young(er) Pretender. £26                                                                                                                                                                      \n",
       "56  America, Walker wants your cocktails. Emma Walker that is, the blender whose signature adorns the first of these experimental expressions. Toffee Speyside nose, digestive biscuits, cinnamon, cool mint, and a pronounced grain note from Port Dundas. Orange, lime peel, lovely caramel richness, and creamy toffee through dilution. The brand’s second consecutive rye cask finish: you noticed too? Up against its sibling, JW Select Rye Cask, there are certain similarities, but this is fruitier, less intricate, and less rich and spicy.                                                                                                                                                  \n",
       "57  Aggressive earthy smoke, tar, fiery pepper, bath soap, and ginger tamed by toffee and ripe malt. Lingering smoldering peat, anise, and tobacco. For those who like smoky whiskies young, aggressive, and unabashed.\\r\\n                                                                                                                                                                                                                                                                                                                                                                                                                                                                              \n",
       "58  Nectarine, tangerine, toffee, and vanilla on the nose. There’s also teasing smoke, if you look for it. The sweet fruity notes start at the beginning of the palate, then cinnamon, nutmeg, cut hay, and smoke kick in. Lingering cracked pepper, clove, and distant smoke. Good gritty texture. Dynamic stuff for a young whisky.\\r\\n                                                                                                                                                                                                                                                                                                                                                                \n",
       "59  In blended whisky terms, this isn’t for the faint-hearted, and joins a number of recent releases prepared to show off its\\r\\ndarker, grittier side. It’s a big flavored blend, with its heart in the islands, and with oily coastal notes reminiscent of a delicatessen: brine, salty cheese, some crab apple relish, and smoked fish. It’s a rugged bruiser, but it makes its mark with some style.                                                                                                                                                                                                                                                                                                 \n",
       "60  Standard blends fall into two categories: those that will behave nicely when mixed to offer almost non-whisky experience, and those that are feistier and want to make sure you know they’re there. This is the former, and with whiskies like this one, it’s possible to blink and miss it. That doesn’t make it bad; just indistinctive and unexceptional. There is little sign of the wood here, but the delicate, sweet apricot notes just do enough.                                                                                                                                                                                                                                            \n",
       "61  Naming your blend “Sherry Cask” retains an air of ambiguity to it. Theoretically, it could be the maturation or finishing vessel for all or some of the constituents. The whisky is light-bodied and the sweet sherry is evident, though a nip of bitterness interrupts. Smoother on the palate than the 12 year old, there’s strawberry, raspberry, and background spice, with a blackberry note late in the finish. Overall, there’s less flavor development, but it’s an old-school kind of blend.                                                                                                                                                                                                \n",
       "62  Delicate nose of sherbet and melting heather honey layered over pleasant grassy and herbal notes. The texture is sweet, thin, and syrupy, with a slight vegetal note, before salted caramel reels it in, brimming over into a briny finish like a salty kiss. The grain clearly plays a major role. Truth be told, the aromas and flavors work well, but the lack of weight makes it feel like a tiddler rather than catch of the day. (Selected U.S. states, NZ, Switzerland).                                                                                                                                                                                                                      \n",
       "63  This is the foundation stone of the whole Label 5 range and it’s a solid, reputable blend that works neat, with a rock of ice, or in cocktails. The digestive biscuits, dark walnut toffee, and fruit salad aromas concede to a rather inauspicious palate of burnt orange, malt biscuits, charred oak, and ground ginger. It’s lively through to its malt and spice conclusion.                                                                                                                                                                                                                                                                                                                     \n",
       "64  A pleasant nose of light caramel, dried orange rind, butterscotch, sweet grain, and a lick of bonfire smoke, yet it’s like the volume has been dialed down to three. Delicate, to the point of shyness. Sweet barley, concentrated orange, a low rumble of spice, and the grain sings through. Accessible, well structured, and light-textured, leading to a finish of brown sugar around the gums, although it has a stronger grain character than many in its price range.                                                                                                                                                                                                                         \n",
       "65  From the perfumed nose to the sweet and short finish, this blend doesn’t really put a foot wrong, but it’s shy and unadventurous.\\r\\nClearly well made, well balanced, and quite acceptable, it has a perfumed black currant sherbet nose, some slight but enjoyable blueberry, grape, and prune notes and a soft sweet conclusion. On its own, all fine: but it gets lost when in company.                                                                                                                                                                                                                                                                                                          \n",
       "66  Aromas of liquid honey, light toffee, dried apple, and satsuma peel. There is an initial citric attack, but when the flare dies down, a residual bitterness cuts through the underlying creaminess and caramel. Sure, its component whiskies lack substance and grip, but there is some flavor progression through to an enjoyable piquancy around the gums. The finish is a nippy buzz of peel and heather honey. Simple, uncomplicated, but for the price there’s plenty to like here.                                                                                                                                                                                                             \n",
       "67  This venerable blend has a nose of mandarin syrup cake, vanilla cream, and cut hay, with chopped cilantro and other herbal top notes. Sweet and fruity, though verging on tasting of artificial sweeteners at times, there are malt notes and a developing butteriness, with sweet mandarin notes and sponge cake. It all hangs on a light structure but it’s less smooth on the finish, with a scratch of wood smoke.                                                                                                                                                                                                                                                                               \n",
       "68  Remarkably light and drinkable for an all-malt product. Malty foundation with citrus (lemon zest, tangerine sherbet) shining through, along with vanilla wafer, white chocolate, coconut, ginger, and cut grass. A worthy “bridge whisky” for blended whisky drinkers curious about malt whisky, but single malt whisky drinkers might want more individuality. A whisky for a warm, lazy afternoon.\\r\\n                                                                                                                                                                                                                                                                                             \n",
       "69  MacQueen’s has an impressive range of age statement blends, but this is the youngest one. Faint caramel and toast, a mild rub of whole spice, and snuff tobacco. The mouthfeel is meager and lacks any real punch; there is spice and fudge, but little sweetness. More caramel flavors develop alongside chocolate notes before a dry, quick finish. There are better options around, even at this price.                                                                                                                                                                                                                                                                                           \n",
       "70  Indeed smooth, and malty, with vanilla, shortbread, golden raisin, and macadamia nuts. Light oak spice emerges on a fairly quick finish. (It is only 8 years old, after all.) Pleasant and easy-going.\\r\\n                                                                                                                                                                                                                                                                                                                                                                                                                                                                                           \n",
       "71  The nice thing about Islay whiskies is that they often show their true nature better at a younger age. Malty sweet and incredibly herbal (almost gin-like), with emerging tar, smoked seaweed, and olive. Medicinal in nature, with lingering tar and brine on the finish. Fairly straight-forward (what do you expect for 8 years old?) but a pretty decent showing for a whisky this young.                                                                                                                                                                                                                                                                                                        \n",
       "72  You’re familiar with those generic blended Scotch whiskies of debatable origin with an inoffensive flavor profile, right? This isn’t one of those. With aromas of the fruit and foliage of an orange grove, beeswax, and a grassy note, this is a juicy, citrus-led dram that puffs out in the mouth, bringing a tingle of light pepper, ginger, and thick fudge. Despite the thinner mouthfeel, the baked orange and bitter Seville orange on the finish give it some bite. Perfectly serviceable.                                                                                                                                                                                                  \n",
       "73  What does this say about how far whisky has come? We live in an era where you can now buy the official whisky from a major motion picture. This has a deep amber color. Really deep. The nose brings warm muffins, caramel, and grassy notes with a good dose of smoke. It’s a sweet concoction with a peppery kick. There’s a tinge of polypropylene before a short, clipped, spicy finish. It just needs to find more of its own identity.                                                                                                                                                                                                                                                         \n",
       "74  The range begins with this entry-level whisky, aged for 3 years. Aromas of pale toffee, vanilla, and scented, herbaceous notes can be found on the nose. It has a light, silky texture and comprises flavors of stewed fruits, with a slight bitterness behind them. Plum and coffee notes expand, though it remains tart through to the buzzy finish, which is lifted by hints of chocolate. A robust and pugnacious dram.                                                                                                                                                                                                                                                                          \n",
       "75  Meaning “son of the sea,” this MacNaMara has a lilting sweetness that lifts from the glass, the characteristic orange-peel oil note is present, but less assertive. Nectarine, Murray mints, and antique shop mustiness, but a lot less aromatic than many of its contemporaries. Flavors of sweet melon, golden honey, and tangy orange take off in the mouth, with tastes of white pepper, fennel, and ground ginger in hot pursuit. Pepperiness penetrates an otherwise juicy finish.                                                                                                                                                                                                             \n",
       "76  Robert McNish conceived his recipe for a lighter style of Highland whisky in Glasgow in 1863 (though the brand added an ‘a’ to his surname for easier pronunciation). Whole orange, ground hazelnut, and ground ginger on the nose, though it keeps pretty tight-lipped. Light and sweet in the mouth, with mandarin and more pronounced ginger mid-palate before a medium-length finish of bubblegum and gooseberry. It just seems a little uninspiring given the special occasion.                                                                                                                                                                                                                 \n",
       "77  This Highland blend has a nose of lemon peel, tangerine, and pine-scented kitchen surfaces. The whisky is young, with a sweet mandarin dressing over the grain character, barley sugars, and a gentle rumble of spice. What it lacks at this age is mouthfeel, structure, and wood influence. The finish continues the sugared orange theme, with spice and ground pepper fading to soor plooms. For what can be expected at this age, the Clansman does its job well.                                                                                                                                                                                                                               \n",
       "78  This amber-colored blend from the Gaelic Whisky Company has sweet barley notes and gentle spice aromas. The caramels prop up the dominant flavor of cold-pressed orange oil squeezed from the peel. A crescendo of peppery spice marks the late phase and distinguishes the swallow, before a finish of tangy citrus peel with a touch of clove. Perfectly straightforward blend but limited in scope, like a linear dot-to-dot connecting barley, orange peel, and spice.                                                                                                                                                                                                                           "
      ]
     },
     "execution_count": 94,
     "metadata": {},
     "output_type": "execute_result"
    }
   ],
   "source": [
    "recommendation = []\n",
    "\n",
    "try:\n",
    "    for _ in range(0, len(basic_pref)):\n",
    "        result = {}\n",
    "        if first_taste_drop1 in basic_pref['description'][\n",
    "                _] and second_taste_drop2 in basic_pref['description'][\n",
    "                    _] and third_taste_drop3 in basic_pref['description'][_]:\n",
    "            result['final_rec'] = basic_pref.iloc[[_]]\n",
    "            pass\n",
    "            if first_taste_drop1 in basic_pref['description'][\n",
    "                    _] and second_taste_drop2 in basic_pref['description'][_]:\n",
    "                result['final_rec'] = basic_pref.iloc[[_]]\n",
    "                pass\n",
    "                if first_taste_drop1 in basic_pref['description'][\n",
    "                        _] and third_taste_drop3 in basic_pref['description'][\n",
    "                            _]:\n",
    "                    result['final_rec'] = basic_pref.iloc[[_]]\n",
    "                    pass\n",
    "                    if second_taste_drop2 in basic_pref['description'][\n",
    "                            _] and third_taste_drop3 in basic_pref[\n",
    "                                'description'][_]:\n",
    "                        result['final_rec'] = basic_pref.iloc[[_]]\n",
    "                        pass\n",
    "                        if first_taste_drop1 in basic_pref['description'][\n",
    "                                _] or second_taste_drop2 in basic_pref[\n",
    "                                    'description'][\n",
    "                                        _] or third_taste_drop3 in basic_pref[\n",
    "                                            'description'][_]:\n",
    "                            result['final_rec'] = basic_pref.iloc[[_]]\n",
    "                            recommendation.append(result['final_rec'])\n",
    "                            pass\n",
    "    recommendation = pd.concat(recommendation)\n",
    "\n",
    "except ValueError:\n",
    "    print('Sorry, there were no recommendations matching your preferences.')\n",
    "\n",
    "print('Showing {} recommendations!'.format(recommendation.shape[0]))\n",
    "\n",
    "recommendation\n"
   ]
  },
  {
   "cell_type": "code",
   "execution_count": null,
   "metadata": {},
   "outputs": [],
   "source": []
  },
  {
   "cell_type": "code",
   "execution_count": null,
   "metadata": {},
   "outputs": [],
   "source": []
  },
  {
   "cell_type": "code",
   "execution_count": null,
   "metadata": {},
   "outputs": [],
   "source": []
  },
  {
   "cell_type": "code",
   "execution_count": 95,
   "metadata": {},
   "outputs": [
    {
     "data": {
      "text/html": [
       "<script>\n",
       "code_show=true; \n",
       "function code_toggle() {\n",
       " if (code_show){\n",
       " $('div.input').hide();\n",
       " } else {\n",
       " $('div.input').show();\n",
       " }\n",
       " code_show = !code_show\n",
       "} \n",
       "$( document ).ready(code_toggle);\n",
       "</script><a href=\"javascript:code_toggle()\">Hide</a> code."
      ],
      "text/plain": [
       "<IPython.core.display.HTML object>"
      ]
     },
     "execution_count": 95,
     "metadata": {},
     "output_type": "execute_result"
    }
   ],
   "source": [
    "HTML('''<script>\n",
    "code_show=true; \n",
    "function code_toggle() {\n",
    " if (code_show){\n",
    " $('div.input').hide();\n",
    " } else {\n",
    " $('div.input').show();\n",
    " }\n",
    " code_show = !code_show\n",
    "} \n",
    "$( document ).ready(code_toggle);\n",
    "</script><a href=\"javascript:code_toggle()\">Hide</a> code.''')"
   ]
  },
  {
   "cell_type": "code",
   "execution_count": null,
   "metadata": {},
   "outputs": [],
   "source": []
  }
 ],
 "metadata": {
  "hide_input": false,
  "kernelspec": {
   "display_name": "Python 3",
   "language": "python",
   "name": "python3"
  },
  "language_info": {
   "codemirror_mode": {
    "name": "ipython",
    "version": 3
   },
   "file_extension": ".py",
   "mimetype": "text/x-python",
   "name": "python",
   "nbconvert_exporter": "python",
   "pygments_lexer": "ipython3",
   "version": "3.6.7"
  },
  "toc": {
   "base_numbering": 1,
   "nav_menu": {
    "height": "106px",
    "width": "326px"
   },
   "number_sections": true,
   "sideBar": true,
   "skip_h1_title": false,
   "title_cell": "Table of Contents",
   "title_sidebar": "Contents",
   "toc_cell": false,
   "toc_position": {
    "height": "329px",
    "left": "1280.64px",
    "top": "66px",
    "width": "212px"
   },
   "toc_section_display": true,
   "toc_window_display": true
  },
  "varInspector": {
   "cols": {
    "lenName": 16,
    "lenType": 16,
    "lenVar": 40
   },
   "kernels_config": {
    "python": {
     "delete_cmd_postfix": "",
     "delete_cmd_prefix": "del ",
     "library": "var_list.py",
     "varRefreshCmd": "print(var_dic_list())"
    },
    "r": {
     "delete_cmd_postfix": ") ",
     "delete_cmd_prefix": "rm(",
     "library": "var_list.r",
     "varRefreshCmd": "cat(var_dic_list()) "
    }
   },
   "position": {
    "height": "360px",
    "left": "1069px",
    "right": "20px",
    "top": "120px",
    "width": "354px"
   },
   "types_to_exclude": [
    "module",
    "function",
    "builtin_function_or_method",
    "instance",
    "_Feature"
   ],
   "window_display": false
  }
 },
 "nbformat": 4,
 "nbformat_minor": 2
}
