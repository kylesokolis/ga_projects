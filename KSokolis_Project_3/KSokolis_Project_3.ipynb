{
 "cells": [
  {
   "cell_type": "markdown",
   "metadata": {},
   "source": [
    "## Project Statement\n",
    "\n",
    "\n",
    "\n"
   ]
  },
  {
   "cell_type": "markdown",
   "metadata": {},
   "source": [
    "## Problem Statement\n",
    " Current house pricing metrics within Zillow are outdated. The predictions are made primarily on bed and bath and square footage. With the movement to a more micro style of living, we should be evaluating more on the overall quality instead of the overall quantity.\n",
    "\n",
    "\n",
    "## Executive Summary\n",
    "### Contents\n",
    "- [Data Import & Cleaning](#Data-Import-and-Cleaning)\n",
    "- [Numerical Features](#Numerical-Features)\n",
    "- [Categorical Features](#Categorical-Features)\n",
    "- [Parameters](#Parameters)\n",
    "- [Score](#Score)\n",
    "- [Prediction](#Prediction)\n",
    "- [Save to file](#Save-to-file)"
   ]
  },
  {
   "cell_type": "code",
   "execution_count": null,
   "metadata": {},
   "outputs": [],
   "source": []
  }
 ],
 "metadata": {
  "kernelspec": {
   "display_name": "Python 3",
   "language": "python",
   "name": "python3"
  },
  "language_info": {
   "codemirror_mode": {
    "name": "ipython",
    "version": 3
   },
   "file_extension": ".py",
   "mimetype": "text/x-python",
   "name": "python",
   "nbconvert_exporter": "python",
   "pygments_lexer": "ipython3",
   "version": "3.6.6"
  }
 },
 "nbformat": 4,
 "nbformat_minor": 2
}
