{
 "cells": [
  {
   "cell_type": "code",
   "execution_count": 1,
   "metadata": {
    "scrolled": true
   },
   "outputs": [
    {
     "name": "stdout",
     "output_type": "stream",
     "text": [
      "Copy in file path for St. Lucia tif file\n",
      "Copy in file path for St. Lucia buildings shapefile\n",
      "Copy in file path for St. Lucia buildings csv\n"
     ]
    }
   ],
   "source": [
    "# setting paths\n",
    "source_image_path = input('Copy in file path for St. Lucia tif file')\n",
    "buildings_shapefile_path = input('Copy in file path for St. Lucia buildings shapefile')\n",
    "buildings_csv_path = input('Copy in file path for St. Lucia buildings csv')"
   ]
  },
  {
   "cell_type": "code",
   "execution_count": null,
   "metadata": {},
   "outputs": [],
   "source": [
    "import numpy as np\n",
    "import pandas as pd\n",
    "import json\n",
    "\n",
    "import rasterio as rio\n",
    "from rasterio.plot import show\n",
    "from rasterio.mask import mask\n",
    "import geopandas as gpd\n",
    "import pysal as ps\n",
    "import shapely\n",
    "from shapely.geometry import *\n",
    "import pyproj\n",
    "from fiona.crs import from_epsg\n",
    "\n",
    "from keras.models import Sequential\n",
    "from keras.layers import Convolution2D, MaxPooling2D, Flatten, Dense, Dropout\n",
    "from keras.preprocessing.image import ImageDataGenerator\n",
    "from keras.callbacks import EarlyStopping\n",
    "from keras.models import load_model\n",
    "from sklearn.metrics import confusion_matrix, classification_report, accuracy_score"
   ]
  },
  {
   "cell_type": "code",
   "execution_count": null,
   "metadata": {},
   "outputs": [],
   "source": []
  },
  {
   "cell_type": "code",
   "execution_count": 4,
   "metadata": {},
   "outputs": [],
   "source": [
    "img = rio.open(source_image_path)"
   ]
  },
  {
   "cell_type": "code",
   "execution_count": 5,
   "metadata": {},
   "outputs": [],
   "source": [
    "img_bbox = box(img.bounds.left, img.bounds.bottom, img.bounds.right, img.bounds.top)"
   ]
  },
  {
   "cell_type": "code",
   "execution_count": 6,
   "metadata": {},
   "outputs": [],
   "source": [
    "# loading in building data as a shapefile\n",
    "buildings_shp = ps.open(buildings_shapefile_path)\n",
    "buildings_df = pd.read_csv(buildings_csv_path)"
   ]
  },
  {
   "cell_type": "code",
   "execution_count": 7,
   "metadata": {},
   "outputs": [],
   "source": [
    "# p converts lat long coordinates to UTM 20 xy coordinates (meters)\n",
    "p = pyproj.Proj(proj='utm', zone=20)"
   ]
  },
  {
   "cell_type": "code",
   "execution_count": 8,
   "metadata": {
    "scrolled": true
   },
   "outputs": [
    {
     "name": "stderr",
     "output_type": "stream",
     "text": [
      "/anaconda3/lib/python3.6/site-packages/pysal/core/IOHandlers/pyShpIO.py:172: RuntimeWarning: SHAPEFILE WARNING: Polygon 3682 topology has been fixed. (ccw -> cw)\n",
      "  warn(\"SHAPEFILE WARNING: Polygon %d topology has been fixed. (ccw -> cw)\" % (self.pos), RuntimeWarning)\n",
      "/anaconda3/lib/python3.6/site-packages/pysal/core/IOHandlers/pyShpIO.py:172: RuntimeWarning: SHAPEFILE WARNING: Polygon 4464 topology has been fixed. (ccw -> cw)\n",
      "  warn(\"SHAPEFILE WARNING: Polygon %d topology has been fixed. (ccw -> cw)\" % (self.pos), RuntimeWarning)\n",
      "/anaconda3/lib/python3.6/site-packages/pysal/core/IOHandlers/pyShpIO.py:172: RuntimeWarning: SHAPEFILE WARNING: Polygon 4946 topology has been fixed. (ccw -> cw)\n",
      "  warn(\"SHAPEFILE WARNING: Polygon %d topology has been fixed. (ccw -> cw)\" % (self.pos), RuntimeWarning)\n"
     ]
    },
    {
     "name": "stdout",
     "output_type": "stream",
     "text": [
      "SHAPEFILE WARNING: Polygon 3682 topology has been fixed. (ccw -> cw)\n",
      "SHAPEFILE WARNING: Polygon 4464 topology has been fixed. (ccw -> cw)\n",
      "SHAPEFILE WARNING: Polygon 4946 topology has been fixed. (ccw -> cw)\n"
     ]
    },
    {
     "name": "stderr",
     "output_type": "stream",
     "text": [
      "/anaconda3/lib/python3.6/site-packages/pysal/core/IOHandlers/pyShpIO.py:172: RuntimeWarning: SHAPEFILE WARNING: Polygon 11197 topology has been fixed. (ccw -> cw)\n",
      "  warn(\"SHAPEFILE WARNING: Polygon %d topology has been fixed. (ccw -> cw)\" % (self.pos), RuntimeWarning)\n",
      "/anaconda3/lib/python3.6/site-packages/pysal/core/IOHandlers/pyShpIO.py:172: RuntimeWarning: SHAPEFILE WARNING: Polygon 11506 topology has been fixed. (ccw -> cw)\n",
      "  warn(\"SHAPEFILE WARNING: Polygon %d topology has been fixed. (ccw -> cw)\" % (self.pos), RuntimeWarning)\n"
     ]
    },
    {
     "name": "stdout",
     "output_type": "stream",
     "text": [
      "SHAPEFILE WARNING: Polygon 11197 topology has been fixed. (ccw -> cw)\n",
      "SHAPEFILE WARNING: Polygon 11506 topology has been fixed. (ccw -> cw)\n"
     ]
    },
    {
     "name": "stderr",
     "output_type": "stream",
     "text": [
      "/anaconda3/lib/python3.6/site-packages/pysal/core/IOHandlers/pyShpIO.py:172: RuntimeWarning: SHAPEFILE WARNING: Polygon 14285 topology has been fixed. (ccw -> cw)\n",
      "  warn(\"SHAPEFILE WARNING: Polygon %d topology has been fixed. (ccw -> cw)\" % (self.pos), RuntimeWarning)\n",
      "/anaconda3/lib/python3.6/site-packages/pysal/core/IOHandlers/pyShpIO.py:172: RuntimeWarning: SHAPEFILE WARNING: Polygon 14305 topology has been fixed. (ccw -> cw)\n",
      "  warn(\"SHAPEFILE WARNING: Polygon %d topology has been fixed. (ccw -> cw)\" % (self.pos), RuntimeWarning)\n",
      "/anaconda3/lib/python3.6/site-packages/pysal/core/IOHandlers/pyShpIO.py:172: RuntimeWarning: SHAPEFILE WARNING: Polygon 15027 topology has been fixed. (ccw -> cw)\n",
      "  warn(\"SHAPEFILE WARNING: Polygon %d topology has been fixed. (ccw -> cw)\" % (self.pos), RuntimeWarning)\n"
     ]
    },
    {
     "name": "stdout",
     "output_type": "stream",
     "text": [
      "SHAPEFILE WARNING: Polygon 14285 topology has been fixed. (ccw -> cw)\n",
      "SHAPEFILE WARNING: Polygon 14305 topology has been fixed. (ccw -> cw)\n",
      "SHAPEFILE WARNING: Polygon 15027 topology has been fixed. (ccw -> cw)\n"
     ]
    },
    {
     "name": "stderr",
     "output_type": "stream",
     "text": [
      "/anaconda3/lib/python3.6/site-packages/pysal/core/IOHandlers/pyShpIO.py:172: RuntimeWarning: SHAPEFILE WARNING: Polygon 23001 topology has been fixed. (ccw -> cw)\n",
      "  warn(\"SHAPEFILE WARNING: Polygon %d topology has been fixed. (ccw -> cw)\" % (self.pos), RuntimeWarning)\n",
      "/anaconda3/lib/python3.6/site-packages/pysal/core/IOHandlers/pyShpIO.py:172: RuntimeWarning: SHAPEFILE WARNING: Polygon 23544 topology has been fixed. (ccw -> cw)\n",
      "  warn(\"SHAPEFILE WARNING: Polygon %d topology has been fixed. (ccw -> cw)\" % (self.pos), RuntimeWarning)\n"
     ]
    },
    {
     "name": "stdout",
     "output_type": "stream",
     "text": [
      "SHAPEFILE WARNING: Polygon 23001 topology has been fixed. (ccw -> cw)\n",
      "SHAPEFILE WARNING: Polygon 23544 topology has been fixed. (ccw -> cw)\n"
     ]
    },
    {
     "name": "stderr",
     "output_type": "stream",
     "text": [
      "/anaconda3/lib/python3.6/site-packages/pysal/core/IOHandlers/pyShpIO.py:172: RuntimeWarning: SHAPEFILE WARNING: Polygon 26670 topology has been fixed. (ccw -> cw)\n",
      "  warn(\"SHAPEFILE WARNING: Polygon %d topology has been fixed. (ccw -> cw)\" % (self.pos), RuntimeWarning)\n"
     ]
    },
    {
     "name": "stdout",
     "output_type": "stream",
     "text": [
      "SHAPEFILE WARNING: Polygon 26670 topology has been fixed. (ccw -> cw)\n"
     ]
    },
    {
     "name": "stderr",
     "output_type": "stream",
     "text": [
      "/anaconda3/lib/python3.6/site-packages/pysal/core/IOHandlers/pyShpIO.py:172: RuntimeWarning: SHAPEFILE WARNING: Polygon 29100 topology has been fixed. (ccw -> cw)\n",
      "  warn(\"SHAPEFILE WARNING: Polygon %d topology has been fixed. (ccw -> cw)\" % (self.pos), RuntimeWarning)\n"
     ]
    },
    {
     "name": "stdout",
     "output_type": "stream",
     "text": [
      "SHAPEFILE WARNING: Polygon 29100 topology has been fixed. (ccw -> cw)\n"
     ]
    },
    {
     "name": "stderr",
     "output_type": "stream",
     "text": [
      "/anaconda3/lib/python3.6/site-packages/pysal/core/IOHandlers/pyShpIO.py:172: RuntimeWarning: SHAPEFILE WARNING: Polygon 33487 topology has been fixed. (ccw -> cw)\n",
      "  warn(\"SHAPEFILE WARNING: Polygon %d topology has been fixed. (ccw -> cw)\" % (self.pos), RuntimeWarning)\n",
      "/anaconda3/lib/python3.6/site-packages/pysal/core/IOHandlers/pyShpIO.py:172: RuntimeWarning: SHAPEFILE WARNING: Polygon 33497 topology has been fixed. (ccw -> cw)\n",
      "  warn(\"SHAPEFILE WARNING: Polygon %d topology has been fixed. (ccw -> cw)\" % (self.pos), RuntimeWarning)\n",
      "/anaconda3/lib/python3.6/site-packages/pysal/core/IOHandlers/pyShpIO.py:172: RuntimeWarning: SHAPEFILE WARNING: Polygon 34243 topology has been fixed. (ccw -> cw)\n",
      "  warn(\"SHAPEFILE WARNING: Polygon %d topology has been fixed. (ccw -> cw)\" % (self.pos), RuntimeWarning)\n"
     ]
    },
    {
     "name": "stdout",
     "output_type": "stream",
     "text": [
      "SHAPEFILE WARNING: Polygon 33487 topology has been fixed. (ccw -> cw)\n",
      "SHAPEFILE WARNING: Polygon 33497 topology has been fixed. (ccw -> cw)\n",
      "SHAPEFILE WARNING: Polygon 34243 topology has been fixed. (ccw -> cw)\n"
     ]
    },
    {
     "name": "stderr",
     "output_type": "stream",
     "text": [
      "/anaconda3/lib/python3.6/site-packages/pysal/core/IOHandlers/pyShpIO.py:172: RuntimeWarning: SHAPEFILE WARNING: Polygon 57477 topology has been fixed. (ccw -> cw)\n",
      "  warn(\"SHAPEFILE WARNING: Polygon %d topology has been fixed. (ccw -> cw)\" % (self.pos), RuntimeWarning)\n"
     ]
    },
    {
     "name": "stdout",
     "output_type": "stream",
     "text": [
      "SHAPEFILE WARNING: Polygon 57477 topology has been fixed. (ccw -> cw)\n"
     ]
    },
    {
     "name": "stderr",
     "output_type": "stream",
     "text": [
      "/anaconda3/lib/python3.6/site-packages/pysal/core/IOHandlers/pyShpIO.py:172: RuntimeWarning: SHAPEFILE WARNING: Polygon 65030 topology has been fixed. (ccw -> cw)\n",
      "  warn(\"SHAPEFILE WARNING: Polygon %d topology has been fixed. (ccw -> cw)\" % (self.pos), RuntimeWarning)\n",
      "/anaconda3/lib/python3.6/site-packages/pysal/core/IOHandlers/pyShpIO.py:172: RuntimeWarning: SHAPEFILE WARNING: Polygon 65041 topology has been fixed. (ccw -> cw)\n",
      "  warn(\"SHAPEFILE WARNING: Polygon %d topology has been fixed. (ccw -> cw)\" % (self.pos), RuntimeWarning)\n"
     ]
    },
    {
     "name": "stdout",
     "output_type": "stream",
     "text": [
      "SHAPEFILE WARNING: Polygon 65030 topology has been fixed. (ccw -> cw)\n",
      "SHAPEFILE WARNING: Polygon 65041 topology has been fixed. (ccw -> cw)\n"
     ]
    }
   ],
   "source": [
    "# converting all building bounding boxes in the Dennery district into a format that can\n",
    "# be by rasterio to cut out buildings (). The result is an iterable list\n",
    "\n",
    "# initalizing the building list\n",
    "bbox_list = []\n",
    "OID_list = []\n",
    "\n",
    "for i in range(len(buildings_shp)):\n",
    "    #setting coords equal to the bounding box of each building\n",
    "    coords = buildings_shp[i].bbox\n",
    "    \n",
    "    # converting the corrdinates of the bounding box to UTM 20 xy coordinates\n",
    "    bbox = box(p(coords[0], coords[1])[0],\n",
    "               p(coords[0], coords[1])[1],\n",
    "               p(coords[2], coords[3])[0],\n",
    "               p(coords[2], coords[3])[1])\n",
    "    \n",
    "    # using images bounding box as a filter\n",
    "    if img_bbox.contains(bbox.centroid):\n",
    "        # coverting the bounding box to a dataframe with the bounding box as the geometry\n",
    "        gdf = gpd.GeoDataFrame({'geometry': bbox},\n",
    "                                index = [0],\n",
    "                                crs=from_epsg(32620))\n",
    "        \n",
    "        OID_list.append(buildings_df.iloc[i].OID_)\n",
    "        \n",
    "    \n",
    "        # appending the bounding box in a json format that can be easily used by rasterio\n",
    "        bbox_list.append([json.loads(gdf.to_json())['features'][0]['geometry']])"
   ]
  },
  {
   "cell_type": "code",
   "execution_count": 9,
   "metadata": {},
   "outputs": [],
   "source": [
    "# making a new directory folder for image cuts or overwriting the existing one\n",
    "!rm -r roof_dump; mkdir roof_dump"
   ]
  },
  {
   "cell_type": "code",
   "execution_count": 10,
   "metadata": {
    "scrolled": true
   },
   "outputs": [],
   "source": [
    "# iterating through all the bounding boxes for buildings within the filter and cropping\n",
    "# the drone data with those bounding boxes and saving the images to a specified folder\n",
    "\n",
    "for i in range(len(bbox_list)):\n",
    "    # using try accept in case the centroid of a building is in the specified filter but \n",
    "    # at least one vertice is out of bounds \n",
    "    try:\n",
    "        # this will error if part of the bounding box is out of bounds\n",
    "        out_img, out_transform = mask(dataset=img, shapes=bbox_list[i], crop=True)\n",
    "        # copying meta data from original raster and seting epsg code\n",
    "        out_meta = img.meta.copy()\n",
    "        epsg_code = int(img.crs.data['init'][5:])\n",
    "        # updating the meta data\n",
    "        out_meta.update({\"driver\": \"jpeg\",\n",
    "                     \"height\": out_img.shape[1],\n",
    "                     \"width\": out_img.shape[2],\n",
    "                     \"transform\": out_transform}\n",
    "                   )\n",
    "        # writing images to file path with the OIR in the image name\n",
    "        with rio.open(f\"roof_dump/building_{OID_list[i]}.jpeg\", \"w\", **out_meta) as dest:\n",
    "            dest.write(out_img)  \n",
    "            \n",
    "    except:\n",
    "        # prints the OID for any image that errors\n",
    "        print(f\"bounding box {OID_list[i]} produced an error\")\n",
    "        # skipping over the bounding box\n",
    "        pass"
   ]
  },
  {
   "cell_type": "code",
   "execution_count": 11,
   "metadata": {},
   "outputs": [],
   "source": [
    "# deleting all unnecessary .xml files\n",
    "!rm ./roof_dump/*.xml"
   ]
  },
  {
   "cell_type": "code",
   "execution_count": 13,
   "metadata": {},
   "outputs": [],
   "source": [
    "cnn = load_model('./pickled_models/categorical_model.h5')"
   ]
  },
  {
   "cell_type": "code",
   "execution_count": 14,
   "metadata": {},
   "outputs": [
    {
     "name": "stdout",
     "output_type": "stream",
     "text": [
      "Found 1477 images belonging to 1 classes.\n"
     ]
    }
   ],
   "source": [
    "trial_generator = ImageDataGenerator(rescale=1/255)\n",
    "\n",
    "trial_set =  trial_generator.flow_from_directory('./roof_images_unsorted/',\n",
    "                                                 target_size=(150, 150),\n",
    "                                                 shuffle = False)"
   ]
  },
  {
   "cell_type": "code",
   "execution_count": 15,
   "metadata": {},
   "outputs": [],
   "source": [
    "y_pred = cnn.predict_generator(trial_set, len(trial_set)) > .5\n",
    "y_pred = [1 if i[0] else 0 for i in y_pred]"
   ]
  },
  {
   "cell_type": "code",
   "execution_count": 16,
   "metadata": {},
   "outputs": [],
   "source": [
    "oid_filters = []\n",
    "\n",
    "for i in range(len(y_pred)):\n",
    "    if y_pred[i] == 0:\n",
    "        oid_filters.append(trial_set.filenames[i].split('_')[2].split('.')[0])"
   ]
  },
  {
   "cell_type": "code",
   "execution_count": 17,
   "metadata": {},
   "outputs": [],
   "source": [
    "index_lst = []\n",
    "\n",
    "for i in range(len(buildings_df.OID_)):\n",
    "    if str(buildings_df.OID_[i]) in oid_filters:\n",
    "        index_lst.append(i)"
   ]
  },
  {
   "cell_type": "code",
   "execution_count": 18,
   "metadata": {},
   "outputs": [],
   "source": [
    "poor_buildings = buildings_df.iloc[index_lst, :]"
   ]
  },
  {
   "cell_type": "code",
   "execution_count": 19,
   "metadata": {},
   "outputs": [],
   "source": [
    "poor_buildings.to_csv('./poor_quality_roofs.csv')"
   ]
  }
 ],
 "metadata": {
  "kernelspec": {
   "display_name": "Python 3",
   "language": "python",
   "name": "python3"
  },
  "language_info": {
   "codemirror_mode": {
    "name": "ipython",
    "version": 3
   },
   "file_extension": ".py",
   "mimetype": "text/x-python",
   "name": "python",
   "nbconvert_exporter": "python",
   "pygments_lexer": "ipython3",
   "version": "3.6.7"
  }
 },
 "nbformat": 4,
 "nbformat_minor": 2
}
