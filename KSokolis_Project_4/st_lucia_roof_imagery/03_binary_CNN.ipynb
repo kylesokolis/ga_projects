{
 "cells": [
  {
   "cell_type": "code",
   "execution_count": 12,
   "metadata": {},
   "outputs": [],
   "source": [
    "import numpy as np\n",
    "from keras.models import Sequential\n",
    "from keras.layers import Convolution2D, MaxPooling2D, Flatten, Dense, Dropout\n",
    "from keras.preprocessing.image import ImageDataGenerator\n",
    "from keras.callbacks import EarlyStopping\n",
    "from sklearn.metrics import confusion_matrix, classification_report, accuracy_score"
   ]
  },
  {
   "cell_type": "code",
   "execution_count": 3,
   "metadata": {},
   "outputs": [],
   "source": [
    "# Initilzing the CNN\n",
    "cnn = Sequential()\n",
    "\n",
    "# Step 1 - create the convolution layer\n",
    "cnn.add(Convolution2D(filters = 64, \n",
    "                      kernel_size = (5, 5), \n",
    "                      activation = 'relu', \n",
    "                      input_shape = (150, 150, 3)))\n",
    "cnn.add(MaxPooling2D(pool_size = (2, 2)))\n",
    "\n",
    "cnn.add(Convolution2D(64, (3, 3), activation='relu'))\n",
    "cnn.add(MaxPooling2D(pool_size=(2, 2)))\n",
    "\n",
    "cnn.add(Convolution2D(128, (3, 3), activation='relu'))\n",
    "cnn.add(MaxPooling2D(pool_size=(2, 2)))\n",
    "\n",
    " # Step 3 - Flatten to create the input vector\n",
    "cnn.add(Flatten())\n",
    "\n",
    "# Step 4 - add the fully connected layer\n",
    "cnn.add(Dense(units = 128, activation = 'relu'))\n",
    "cnn.add(Dropout(0.5))\n",
    "cnn.add(Dense(units = 3, activation = 'softmax', ))"
   ]
  },
  {
   "cell_type": "code",
   "execution_count": 4,
   "metadata": {},
   "outputs": [],
   "source": [
    "# Compiling the CNN\n",
    "cnn.compile(optimizer = 'adam', loss = 'binary_crossentropy', metrics = ['accuracy'])"
   ]
  },
  {
   "cell_type": "code",
   "execution_count": 5,
   "metadata": {},
   "outputs": [],
   "source": [
    "# Part 2 - fitting CNN to the images\n",
    "train_datagen = ImageDataGenerator(rescale=1./255,\n",
    "                                   shear_range=0.2,\n",
    "                                   zoom_range=0.2,\n",
    "                                   rotation_range=45,\n",
    "                                   horizontal_flip=True,\n",
    "                                   vertical_flip=True,\n",
    "                                   validation_split = .2)\n",
    "\n",
    "test_datagen = ImageDataGenerator(rescale=1./255,\n",
    "                                  validation_split = .2)"
   ]
  },
  {
   "cell_type": "code",
   "execution_count": 29,
   "metadata": {
    "scrolled": true
   },
   "outputs": [
    {
     "name": "stdout",
     "output_type": "stream",
     "text": [
      "Found 968 images belonging to 3 classes.\n",
      "Found 241 images belonging to 3 classes.\n"
     ]
    }
   ],
   "source": [
    "training_set = train_datagen.flow_from_directory('./re-sorted_roof_images/',\n",
    "                                                 target_size=(150, 150),\n",
    "                                                 batch_size=32,\n",
    "                                                 class_mode='categorical',\n",
    "                                                 subset='training')\n",
    "\n",
    "validation_set = test_datagen.flow_from_directory('./re-sorted_roof_images/',\n",
    "                                                   target_size=(150, 150),\n",
    "                                                   batch_size=32,\n",
    "                                                   class_mode='categorical',\n",
    "                                                   shuffle = False,\n",
    "                                                   subset='validation')"
   ]
  },
  {
   "cell_type": "code",
   "execution_count": 7,
   "metadata": {
    "scrolled": true
   },
   "outputs": [
    {
     "name": "stdout",
     "output_type": "stream",
     "text": [
      "Epoch 1/150\n",
      "31/31 [==============================] - 40s 1s/step - loss: 0.5853 - acc: 0.6902 - val_loss: 0.5209 - val_acc: 0.7109\n",
      "Epoch 2/150\n",
      "31/31 [==============================] - 40s 1s/step - loss: 0.5044 - acc: 0.7191 - val_loss: 0.5132 - val_acc: 0.7289\n",
      "Epoch 3/150\n",
      "31/31 [==============================] - 39s 1s/step - loss: 0.5007 - acc: 0.7214 - val_loss: 0.5120 - val_acc: 0.7234\n",
      "Epoch 4/150\n",
      "31/31 [==============================] - 39s 1s/step - loss: 0.4909 - acc: 0.7255 - val_loss: 0.6492 - val_acc: 0.6584\n",
      "Epoch 5/150\n",
      "31/31 [==============================] - 40s 1s/step - loss: 0.5108 - acc: 0.7161 - val_loss: 0.5128 - val_acc: 0.7303\n",
      "Epoch 6/150\n",
      "31/31 [==============================] - 41s 1s/step - loss: 0.4874 - acc: 0.7314 - val_loss: 0.5173 - val_acc: 0.7123\n",
      "Epoch 7/150\n",
      "31/31 [==============================] - 39s 1s/step - loss: 0.4874 - acc: 0.7269 - val_loss: 0.5042 - val_acc: 0.7234\n",
      "Epoch 8/150\n",
      "31/31 [==============================] - 39s 1s/step - loss: 0.4732 - acc: 0.7345 - val_loss: 0.4859 - val_acc: 0.7261\n",
      "Epoch 9/150\n",
      "31/31 [==============================] - 39s 1s/step - loss: 0.4721 - acc: 0.7423 - val_loss: 0.4686 - val_acc: 0.7414\n",
      "Epoch 10/150\n",
      "31/31 [==============================] - 39s 1s/step - loss: 0.4851 - acc: 0.7366 - val_loss: 0.4790 - val_acc: 0.7386\n",
      "Epoch 11/150\n",
      "31/31 [==============================] - 40s 1s/step - loss: 0.4572 - acc: 0.7547 - val_loss: 0.4647 - val_acc: 0.7414\n",
      "Epoch 12/150\n",
      "31/31 [==============================] - 43s 1s/step - loss: 0.4529 - acc: 0.7587 - val_loss: 0.4651 - val_acc: 0.7400\n",
      "Epoch 13/150\n",
      "31/31 [==============================] - 42s 1s/step - loss: 0.4610 - acc: 0.7469 - val_loss: 0.4661 - val_acc: 0.7663\n",
      "Epoch 14/150\n",
      "31/31 [==============================] - 43s 1s/step - loss: 0.4459 - acc: 0.7520 - val_loss: 0.4700 - val_acc: 0.7331\n",
      "Epoch 15/150\n",
      "31/31 [==============================] - 43s 1s/step - loss: 0.4480 - acc: 0.7595 - val_loss: 0.4603 - val_acc: 0.7621\n",
      "Epoch 16/150\n",
      "31/31 [==============================] - 44s 1s/step - loss: 0.4530 - acc: 0.7609 - val_loss: 0.4735 - val_acc: 0.7344\n",
      "Epoch 17/150\n",
      "31/31 [==============================] - 41s 1s/step - loss: 0.4483 - acc: 0.7557 - val_loss: 0.4424 - val_acc: 0.7635\n",
      "Epoch 18/150\n",
      "31/31 [==============================] - 43s 1s/step - loss: 0.4259 - acc: 0.7767 - val_loss: 0.4500 - val_acc: 0.7510\n",
      "Epoch 19/150\n",
      "31/31 [==============================] - 41s 1s/step - loss: 0.4433 - acc: 0.7674 - val_loss: 0.4697 - val_acc: 0.7663\n",
      "Epoch 20/150\n",
      "31/31 [==============================] - 43s 1s/step - loss: 0.4585 - acc: 0.7543 - val_loss: 0.5096 - val_acc: 0.7151\n",
      "Epoch 21/150\n",
      "31/31 [==============================] - 42s 1s/step - loss: 0.4722 - acc: 0.7362 - val_loss: 0.4830 - val_acc: 0.7690\n",
      "Epoch 22/150\n",
      "31/31 [==============================] - 42s 1s/step - loss: 0.4486 - acc: 0.7718 - val_loss: 0.4383 - val_acc: 0.7787\n",
      "Epoch 23/150\n",
      "31/31 [==============================] - 41s 1s/step - loss: 0.4383 - acc: 0.7762 - val_loss: 0.4464 - val_acc: 0.7593\n",
      "Epoch 24/150\n",
      "31/31 [==============================] - 41s 1s/step - loss: 0.4369 - acc: 0.7691 - val_loss: 0.4594 - val_acc: 0.7759\n",
      "Epoch 25/150\n",
      "31/31 [==============================] - 43s 1s/step - loss: 0.4417 - acc: 0.7718 - val_loss: 0.4655 - val_acc: 0.7414\n",
      "Epoch 26/150\n",
      "31/31 [==============================] - 42s 1s/step - loss: 0.4249 - acc: 0.7786 - val_loss: 0.4431 - val_acc: 0.7801\n",
      "Epoch 27/150\n",
      "31/31 [==============================] - 41s 1s/step - loss: 0.4313 - acc: 0.7849 - val_loss: 0.4832 - val_acc: 0.7331\n",
      "Epoch 28/150\n",
      "31/31 [==============================] - 41s 1s/step - loss: 0.4292 - acc: 0.7845 - val_loss: 0.4483 - val_acc: 0.7759\n",
      "Epoch 29/150\n",
      "31/31 [==============================] - 42s 1s/step - loss: 0.4203 - acc: 0.7974 - val_loss: 0.4674 - val_acc: 0.7524\n",
      "Epoch 30/150\n",
      "31/31 [==============================] - 41s 1s/step - loss: 0.4222 - acc: 0.7799 - val_loss: 0.5060 - val_acc: 0.7331\n",
      "Epoch 31/150\n",
      "31/31 [==============================] - 42s 1s/step - loss: 0.4504 - acc: 0.7762 - val_loss: 0.4500 - val_acc: 0.7580\n",
      "Epoch 32/150\n",
      "31/31 [==============================] - 42s 1s/step - loss: 0.4285 - acc: 0.7814 - val_loss: 0.4416 - val_acc: 0.7815\n",
      "Epoch 33/150\n",
      "31/31 [==============================] - 41s 1s/step - loss: 0.4009 - acc: 0.8165 - val_loss: 0.4138 - val_acc: 0.8008\n",
      "Epoch 34/150\n",
      "31/31 [==============================] - 43s 1s/step - loss: 0.3890 - acc: 0.8124 - val_loss: 0.4403 - val_acc: 0.7815\n",
      "Epoch 35/150\n",
      "31/31 [==============================] - 43s 1s/step - loss: 0.3960 - acc: 0.8106 - val_loss: 0.4936 - val_acc: 0.7718\n",
      "Epoch 36/150\n",
      "31/31 [==============================] - 43s 1s/step - loss: 0.4095 - acc: 0.8078 - val_loss: 0.4533 - val_acc: 0.7704\n",
      "Epoch 37/150\n",
      "31/31 [==============================] - 43s 1s/step - loss: 0.4384 - acc: 0.7702 - val_loss: 0.4336 - val_acc: 0.7898\n",
      "Epoch 38/150\n",
      "31/31 [==============================] - 41s 1s/step - loss: 0.3974 - acc: 0.8181 - val_loss: 0.4253 - val_acc: 0.7884\n",
      "Epoch 39/150\n",
      "31/31 [==============================] - 41s 1s/step - loss: 0.3943 - acc: 0.8196 - val_loss: 0.4304 - val_acc: 0.7939\n",
      "Epoch 40/150\n",
      "31/31 [==============================] - 41s 1s/step - loss: 0.3863 - acc: 0.8189 - val_loss: 0.4196 - val_acc: 0.7981\n",
      "Epoch 41/150\n",
      "31/31 [==============================] - 41s 1s/step - loss: 0.3938 - acc: 0.8191 - val_loss: 0.4093 - val_acc: 0.7911\n",
      "Epoch 42/150\n",
      "31/31 [==============================] - 41s 1s/step - loss: 0.3769 - acc: 0.8297 - val_loss: 0.4459 - val_acc: 0.7759\n",
      "Epoch 43/150\n",
      "31/31 [==============================] - 41s 1s/step - loss: 0.3964 - acc: 0.8180 - val_loss: 0.4053 - val_acc: 0.7967\n",
      "Epoch 44/150\n",
      "31/31 [==============================] - 41s 1s/step - loss: 0.3798 - acc: 0.8240 - val_loss: 0.4472 - val_acc: 0.8008\n",
      "Epoch 45/150\n",
      "31/31 [==============================] - 41s 1s/step - loss: 0.3796 - acc: 0.8249 - val_loss: 0.4389 - val_acc: 0.7746\n",
      "Epoch 46/150\n",
      "31/31 [==============================] - 41s 1s/step - loss: 0.3490 - acc: 0.8437 - val_loss: 0.4065 - val_acc: 0.7856\n",
      "Epoch 47/150\n",
      "31/31 [==============================] - 43s 1s/step - loss: 0.3636 - acc: 0.8254 - val_loss: 0.4300 - val_acc: 0.7870\n",
      "Epoch 48/150\n",
      "31/31 [==============================] - 42s 1s/step - loss: 0.3742 - acc: 0.8277 - val_loss: 0.4146 - val_acc: 0.7939\n",
      "Epoch 49/150\n",
      "31/31 [==============================] - 41s 1s/step - loss: 0.3678 - acc: 0.8287 - val_loss: 0.4525 - val_acc: 0.7787\n",
      "Epoch 50/150\n",
      "31/31 [==============================] - 41s 1s/step - loss: 0.3776 - acc: 0.8337 - val_loss: 0.4170 - val_acc: 0.7939\n",
      "Epoch 51/150\n",
      "31/31 [==============================] - 42s 1s/step - loss: 0.3518 - acc: 0.8494 - val_loss: 0.4350 - val_acc: 0.8022\n",
      "Epoch 52/150\n",
      "31/31 [==============================] - 41s 1s/step - loss: 0.3558 - acc: 0.8429 - val_loss: 0.4217 - val_acc: 0.7967\n",
      "Epoch 53/150\n",
      "31/31 [==============================] - 43s 1s/step - loss: 0.3480 - acc: 0.8473 - val_loss: 0.4185 - val_acc: 0.8077\n",
      "Epoch 54/150\n",
      "31/31 [==============================] - 41s 1s/step - loss: 0.3439 - acc: 0.8555 - val_loss: 0.4269 - val_acc: 0.7981\n",
      "Epoch 55/150\n",
      "31/31 [==============================] - 41s 1s/step - loss: 0.3521 - acc: 0.8441 - val_loss: 0.4113 - val_acc: 0.8119\n",
      "Epoch 56/150\n",
      "31/31 [==============================] - 42s 1s/step - loss: 0.3648 - acc: 0.8468 - val_loss: 0.4174 - val_acc: 0.8105\n",
      "Epoch 57/150\n",
      "31/31 [==============================] - 40s 1s/step - loss: 0.3589 - acc: 0.8454 - val_loss: 0.4435 - val_acc: 0.7925\n",
      "Epoch 58/150\n",
      "31/31 [==============================] - 42s 1s/step - loss: 0.3459 - acc: 0.8467 - val_loss: 0.4294 - val_acc: 0.8064\n",
      "Epoch 59/150\n",
      "31/31 [==============================] - 42s 1s/step - loss: 0.3449 - acc: 0.8545 - val_loss: 0.4453 - val_acc: 0.8022\n",
      "Epoch 60/150\n",
      "31/31 [==============================] - 41s 1s/step - loss: 0.3273 - acc: 0.8541 - val_loss: 0.6022 - val_acc: 0.7718\n",
      "Epoch 61/150\n",
      "31/31 [==============================] - 40s 1s/step - loss: 0.3882 - acc: 0.8201 - val_loss: 0.4352 - val_acc: 0.7994\n",
      "Epoch 62/150\n",
      "31/31 [==============================] - 41s 1s/step - loss: 0.3514 - acc: 0.8438 - val_loss: 0.4136 - val_acc: 0.8160\n",
      "Epoch 63/150\n"
     ]
    },
    {
     "name": "stdout",
     "output_type": "stream",
     "text": [
      "31/31 [==============================] - 42s 1s/step - loss: 0.3451 - acc: 0.8485 - val_loss: 0.4459 - val_acc: 0.7704\n",
      "Epoch 64/150\n",
      "31/31 [==============================] - 41s 1s/step - loss: 0.3456 - acc: 0.8384 - val_loss: 0.4322 - val_acc: 0.7953\n",
      "Epoch 65/150\n",
      "31/31 [==============================] - 40s 1s/step - loss: 0.3454 - acc: 0.8478 - val_loss: 0.4273 - val_acc: 0.7981\n",
      "Epoch 66/150\n",
      "31/31 [==============================] - 42s 1s/step - loss: 0.3277 - acc: 0.8565 - val_loss: 0.4474 - val_acc: 0.8008\n",
      "Epoch 67/150\n",
      "31/31 [==============================] - 40s 1s/step - loss: 0.3616 - acc: 0.8351 - val_loss: 0.4357 - val_acc: 0.8077\n",
      "Epoch 68/150\n",
      "31/31 [==============================] - 40s 1s/step - loss: 0.3425 - acc: 0.8450 - val_loss: 0.4210 - val_acc: 0.8036\n",
      "Epoch 69/150\n",
      "31/31 [==============================] - 42s 1s/step - loss: 0.3216 - acc: 0.8519 - val_loss: 0.4300 - val_acc: 0.7828\n",
      "Epoch 70/150\n",
      "31/31 [==============================] - 41s 1s/step - loss: 0.3104 - acc: 0.8733 - val_loss: 0.4268 - val_acc: 0.8133\n",
      "Epoch 71/150\n",
      "31/31 [==============================] - 40s 1s/step - loss: 0.3276 - acc: 0.8702 - val_loss: 0.4274 - val_acc: 0.7981\n",
      "Epoch 72/150\n",
      "31/31 [==============================] - 40s 1s/step - loss: 0.3305 - acc: 0.8425 - val_loss: 0.4218 - val_acc: 0.7953\n",
      "Epoch 73/150\n",
      "31/31 [==============================] - 44s 1s/step - loss: 0.3174 - acc: 0.8672 - val_loss: 0.4196 - val_acc: 0.8105\n"
     ]
    },
    {
     "data": {
      "text/plain": [
       "<keras.callbacks.History at 0x134618b00>"
      ]
     },
     "execution_count": 7,
     "metadata": {},
     "output_type": "execute_result"
    }
   ],
   "source": [
    "cnn.fit_generator(training_set,\n",
    "                        steps_per_epoch= len(training_set),\n",
    "                        epochs=150,\n",
    "                        validation_data=validation_set,\n",
    "                        validation_steps = len(validation_set),\n",
    "                        callbacks = [EarlyStopping(monitor='val_loss', \n",
    "                                     patience=30, \n",
    "                                     mode='auto', \n",
    "                                     restore_best_weights=True)]\n",
    "                        )"
   ]
  },
  {
   "cell_type": "code",
   "execution_count": 101,
   "metadata": {},
   "outputs": [],
   "source": [
    "#cnn.save('./pickled_models/categorical_model.h5')"
   ]
  },
  {
   "cell_type": "code",
   "execution_count": 25,
   "metadata": {},
   "outputs": [],
   "source": [
    "from keras.models import load_model"
   ]
  },
  {
   "cell_type": "code",
   "execution_count": 26,
   "metadata": {},
   "outputs": [],
   "source": [
    "n_cnn = load_model('./pickled_models/categorical_model.h5')"
   ]
  },
  {
   "cell_type": "code",
   "execution_count": 35,
   "metadata": {},
   "outputs": [],
   "source": [
    "y = validation_set.classes"
   ]
  },
  {
   "cell_type": "code",
   "execution_count": 30,
   "metadata": {},
   "outputs": [],
   "source": [
    "y_pred = np.argmax(n_cnn.predict_generator(validation_set, len(validation_set)), axis=1)"
   ]
  },
  {
   "cell_type": "code",
   "execution_count": 36,
   "metadata": {},
   "outputs": [
    {
     "data": {
      "text/plain": [
       "array([[  6,   3,   7],\n",
       "       [  3, 101,  30],\n",
       "       [  2,  23,  66]])"
      ]
     },
     "execution_count": 36,
     "metadata": {},
     "output_type": "execute_result"
    }
   ],
   "source": [
    "cm = confusion_matrix(validation_set.classes, y_pred)\n",
    "cm"
   ]
  },
  {
   "cell_type": "code",
   "execution_count": 39,
   "metadata": {},
   "outputs": [
    {
     "name": "stdout",
     "output_type": "stream",
     "text": [
      "Model Accuracy:\n",
      "0.7178\n",
      "\n",
      "Confusion Matrix:\n",
      "[[  6   3   7]\n",
      " [  3 101  30]\n",
      " [  2  23  66]]\n",
      "\n",
      "Classification Report:\n",
      "             precision    recall  f1-score   support\n",
      "\n",
      "       None       0.55      0.38      0.44        16\n",
      "       Good       0.80      0.75      0.77       134\n",
      "       Poor       0.64      0.73      0.68        91\n",
      "\n",
      "avg / total       0.72      0.72      0.72       241\n",
      "\n"
     ]
    }
   ],
   "source": [
    "print('Model Accuracy:')\n",
    "print(round(accuracy_score(y, y_pred), 4))\n",
    "print()\n",
    "print('Confusion Matrix:')\n",
    "print(confusion_matrix(validation_set.classes, y_pred))\n",
    "print()\n",
    "target_names = ['None', 'Good', 'Poor']\n",
    "print('Classification Report:')\n",
    "print(classification_report(validation_set.classes, y_pred, target_names=target_names))"
   ]
  },
  {
   "cell_type": "code",
   "execution_count": 416,
   "metadata": {},
   "outputs": [],
   "source": [
    "oid_filters = []\n",
    "\n",
    "for i in range(len(y_pred)):\n",
    "    if y_pred[i] == 0:\n",
    "        oid_filters.append(validation_set.filenames[i].split('_')[1].split('.')[0])"
   ]
  },
  {
   "cell_type": "code",
   "execution_count": 418,
   "metadata": {},
   "outputs": [],
   "source": [
    "import pandas as pd"
   ]
  },
  {
   "cell_type": "code",
   "execution_count": 420,
   "metadata": {},
   "outputs": [],
   "source": [
    "buildings = pd.read_csv('./CHARIM_Data/Buildings/buildings_1.csv')"
   ]
  },
  {
   "cell_type": "code",
   "execution_count": 429,
   "metadata": {},
   "outputs": [],
   "source": [
    "index_lst = []\n",
    "\n",
    "for i in range(len(buildings.OID_)):\n",
    "    if str(buildings.OID_[i]) in oid_filters:\n",
    "        index_lst.append(i)"
   ]
  },
  {
   "cell_type": "code",
   "execution_count": 431,
   "metadata": {},
   "outputs": [],
   "source": [
    "poor_buildings = buildings.iloc[index_lst, :]"
   ]
  },
  {
   "cell_type": "code",
   "execution_count": 37,
   "metadata": {},
   "outputs": [],
   "source": [
    "def print_cm(cm, labels, hide_zeroes=False, hide_diagonal=False, hide_threshold=None):\n",
    "    \"\"\"pretty print for confusion matrixes\"\"\"\n",
    "    columnwidth = max([len(x) for x in labels] + [5])  # 5 is value length\n",
    "    empty_cell = \" \" * columnwidth\n",
    "    # Print header\n",
    "    print(\"    \" + empty_cell, end=\" \")\n",
    "    for label in labels:\n",
    "        print(\"%{0}s\".format(columnwidth) % label, end=\" \")\n",
    "    print()\n",
    "    # Print rows\n",
    "    for i, label1 in enumerate(labels):\n",
    "        print(\"    %{0}s\".format(columnwidth) % label1, end=\" \")\n",
    "        for j in range(len(labels)):\n",
    "            cell = \"%{0}.1f\".format(columnwidth) % cm[i, j]\n",
    "            if hide_zeroes:\n",
    "                cell = cell if float(cm[i, j]) != 0 else empty_cell\n",
    "            if hide_diagonal:\n",
    "                cell = cell if i != j else empty_cell\n",
    "            if hide_threshold:\n",
    "                cell = cell if cm[i, j] > hide_threshold else empty_cell\n",
    "            print(cell, end=\" \")\n",
    "        print()"
   ]
  },
  {
   "cell_type": "code",
   "execution_count": 40,
   "metadata": {},
   "outputs": [
    {
     "name": "stdout",
     "output_type": "stream",
     "text": [
      "           None  Good  Poor \n",
      "     None   6.0   3.0   7.0 \n",
      "     Good   3.0 101.0  30.0 \n",
      "     Poor   2.0  23.0  66.0 \n"
     ]
    }
   ],
   "source": [
    "print_cm(cm, labels=target_names)"
   ]
  },
  {
   "cell_type": "code",
   "execution_count": 66,
   "metadata": {},
   "outputs": [],
   "source": [
    "# Plot a Confusion Matrix\n",
    "# I find it helpful to see how well a classifier is doing by plotting a confusion matrix. This function produces both 'regular' and normalized confusion matrices.\n",
    "\n",
    "import numpy as np\n",
    "\n",
    "\n",
    "\n",
    "def plot_confusion_matrix(cm,\n",
    "                          target_names,\n",
    "                          title='Confusion Matrix (%)',\n",
    "                          cmap=None,\n",
    "                          normalize=True):\n",
    "    \"\"\"\n",
    "    given a sklearn confusion matrix (cm), make a nice plot\n",
    "\n",
    "    Arguments\n",
    "    ---------\n",
    "    cm:           confusion matrix from sklearn.metrics.confusion_matrix\n",
    "\n",
    "    target_names: given classification classes such as [0, 1, 2]\n",
    "                  the class names, for example: ['high', 'medium', 'low']\n",
    "\n",
    "    title:        the text to display at the top of the matrix\n",
    "\n",
    "    cmap:         the gradient of the values displayed from matplotlib.pyplot.cm\n",
    "                  see http://matplotlib.org/examples/color/colormaps_reference.html\n",
    "                  plt.get_cmap('jet') or plt.cm.Blues\n",
    "\n",
    "    normalize:    If False, plot the raw numbers\n",
    "                  If True, plot the proportions\n",
    "\n",
    "    Usage\n",
    "    -----\n",
    "    plot_confusion_matrix(cm           = cm,                  # confusion matrix created by\n",
    "                                                              # sklearn.metrics.confusion_matrix\n",
    "                          normalize    = True,                # show proportions\n",
    "                          target_names = y_labels_vals,       # list of names of the classes\n",
    "                          title        = best_estimator_name) # title of graph\n",
    "\n",
    "    Citiation\n",
    "    ---------\n",
    "    http://scikit-learn.org/stable/auto_examples/model_selection/plot_confusion_matrix.html\n",
    "\n",
    "    \"\"\"\n",
    "    import matplotlib.pyplot as plt\n",
    "    import numpy as np\n",
    "    import itertools\n",
    "    \n",
    "    plt.rcParams.update({'font.size': 20})\n",
    "    accuracy = np.trace(cm) / float(np.sum(cm))\n",
    "    misclass = 1 - accuracy\n",
    "\n",
    "    if cmap is None:\n",
    "        cmap = plt.get_cmap('Blues')\n",
    "\n",
    "    plt.figure(figsize=(8, 6))\n",
    "    plt.imshow(cm, interpolation='nearest', cmap=cmap)\n",
    "    plt.title(title)\n",
    "    plt.colorbar()\n",
    "\n",
    "    if target_names is not None:\n",
    "        tick_marks = np.arange(len(target_names))\n",
    "        plt.xticks(tick_marks, target_names, rotation=45)\n",
    "        plt.yticks(tick_marks, target_names)\n",
    "\n",
    "    if normalize:\n",
    "        cm = cm.astype('float') / cm.sum(axis=1)[:, np.newaxis]\n",
    "\n",
    "\n",
    "    thresh = cm.max() / 1.5 if normalize else cm.max() / 2\n",
    "    for i, j in itertools.product(range(cm.shape[0]), range(cm.shape[1])):\n",
    "        if normalize:\n",
    "            plt.text(j, i, \"{:0.2f}\".format(round(cm[i, j], 2)),\n",
    "                     horizontalalignment=\"center\",\n",
    "                     color=\"white\" if cm[i, j] > thresh else \"black\")\n",
    "        else:\n",
    "            plt.text(j, i, \"{:,}\".format(round(cm[i, j], 2)),\n",
    "                     horizontalalignment=\"center\",\n",
    "                     color=\"white\" if cm[i, j] > thresh else \"black\")\n",
    "\n",
    "\n",
    "    plt.tight_layout()\n",
    "    plt.ylabel('True Label')\n",
    "    plt.xlabel('Predicted Label\\naccuracy={:0.2f}; misclass={:0.2f}'.format(accuracy, misclass))\n",
    "    plt.show()"
   ]
  },
  {
   "cell_type": "code",
   "execution_count": 67,
   "metadata": {},
   "outputs": [
    {
     "data": {
      "image/png": "[encoded data removed]",
      "text/plain": [
       "<Figure size 576x432 with 2 Axes>"
      ]
     },
     "metadata": {},
     "output_type": "display_data"
    }
   ],
   "source": [
    "plot_confusion_matrix(cm, target_names, normalize=True)"
   ]
  },
  {
   "cell_type": "code",
   "execution_count": null,
   "metadata": {},
   "outputs": [],
   "source": []
  }
 ],
 "metadata": {
  "kernelspec": {
   "display_name": "Python 3",
   "language": "python",
   "name": "python3"
  },
  "language_info": {
   "codemirror_mode": {
    "name": "ipython",
    "version": 3
   },
   "file_extension": ".py",
   "mimetype": "text/x-python",
   "name": "python",
   "nbconvert_exporter": "python",
   "pygments_lexer": "ipython3",
   "version": "3.6.6"
  }
 },
 "nbformat": 4,
 "nbformat_minor": 2
}
