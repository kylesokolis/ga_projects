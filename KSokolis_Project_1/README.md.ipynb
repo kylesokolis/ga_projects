{
 "cells": [
  {
   "cell_type": "markdown",
   "metadata": {},
   "source": [
    "## Problem Statement¶\n",
    "Like Illinois, all states should be required to offer at least one of the two standard college entrance exams so all students upon exiting high school have nothing test-wise standing in their way in their pursuit of a secondary education.\n",
    "\n",
    "---\n",
    "---\n",
    "\n",
    "## Executive Summary\n",
    "### Contents:\n",
    "- [2017 Data Import & Cleaning](#Data-Import-and-Cleaning)\n",
    "- [2018 Data Import and Cleaning](#2018-Data-Import-and-Cleaning)\n",
    "- [Exploratory Data Analysis](#Exploratory-Data-Analysis)\n",
    "- [Data Visualization](#Visualize-the-data)\n",
    "- [Descriptive and Inferential Statistics](#Descriptive-and-Inferential-Statistics)\n",
    "- [Outside Research](#Outside-Research)\n",
    "- [Conclusions and Recommendations](#Conclusions-and-Recommendations)\n",
    "\n",
    "---\n",
    "---\n",
    "\n",
    "|**Feature**|**Type**|**Dataset**|**Description**|\n",
    "|---|---|---|---|\n",
    "|act      | dictionary |act_2017 | ACT averages from all 50 states.|\n",
    "|state_2017_act|object|act_2017|The state reporting ACT scores|\n",
    "|participation_percent_2017_act|integer|act_2017|Percentage of participation in the ACT from schools in the state listed.|\n",
    "|english_2017_act|float|act_2017|Average scores from the English portion of the ACT.|\n",
    "|math__2017_act|float|act_2017|Average scores from the Math portion of the ACT.|\n",
    "|reading_2017_act|float|act_2017|Average scores from the Reading portion of the ACT.|\n",
    "|science_2017_act|float|act_2017|Average scores from the Science portion of the ACT.|\n",
    "|composite_2017_act|float|act_2017|Average composite score for the ACT.|\n",
    "\n",
    "---\n",
    "---\n",
    "\n",
    "|**Feature**|**Type**|**Dataset**|**Description**|\n",
    "|---|---|---|---|\n",
    "|sat      | dictionary |sat_2017 | SAT averages from all 50 states.|\n",
    "|state_2017_sat|object|sat_2017|The state reporting SAT scores|\n",
    "|participation_percent_2017_sat|integer|sat_2017|Percentage of participation in the SAT from schools in the state listed.|\n",
    "|reading_and_writing_2017_sat|integer|sat_2017|Average scores from the Evidence-Based Reading and Writing portion of the SAT.|\n",
    "|math__2017_sat|integer|sat_2017|Average scores from the Math portion of the SAT.|\n",
    "|total_2017_sat|integer|sat_2017|Average Total score for the SAT.|"
   ]
  },
  {
   "cell_type": "code",
   "execution_count": null,
   "metadata": {},
   "outputs": [],
   "source": []
  }
 ],
 "metadata": {
  "kernelspec": {
   "display_name": "Python 3",
   "language": "python",
   "name": "python3"
  },
  "language_info": {
   "codemirror_mode": {
    "name": "ipython",
    "version": 3
   },
   "file_extension": ".py",
   "mimetype": "text/x-python",
   "name": "python",
   "nbconvert_exporter": "python",
   "pygments_lexer": "ipython3",
   "version": "3.6.5"
  }
 },
 "nbformat": 4,
 "nbformat_minor": 2
}
